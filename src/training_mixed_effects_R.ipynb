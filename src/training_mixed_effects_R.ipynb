{
 "cells": [
  {
   "cell_type": "markdown",
   "metadata": {},
   "source": [
    "## Instructions \n",
    "- Run **Data_prepare_for_lmer_R.ipynb** to create `train_processed_lmer.zip` and `valid_processed_lmer.zip` for this notebook\n",
    "- Install required packages from below if necessary\n",
    "- This Notebook will either run with one of the 2 cases mentioned below:\n",
    "    - `Categorical variables` within the data:\n",
    "        - State, Income_class, Density_class, Climate\n",
    "    - `Kmeans categories` created:\n",
    "        - 2 classes, 4 classes"
   ]
  },
  {
   "cell_type": "code",
   "execution_count": 228,
   "metadata": {},
   "outputs": [],
   "source": [
    "# install.packages('plm')\n",
    "# install.packages('nlme')\n",
    "# install.packages('tidyverse')\n",
    "# install.packages('lme4') # this is most imp\n",
    "# install.packages('repr')\n",
    "# install.packages('Metrics')\n",
    "# install.packages('purrr')"
   ]
  },
  {
   "cell_type": "code",
   "execution_count": 1,
   "metadata": {},
   "outputs": [
    {
     "name": "stderr",
     "output_type": "stream",
     "text": [
      "Warning message:\n",
      "\"package 'plm' was built under R version 3.6.2\"\n",
      "Warning message:\n",
      "\"package 'Metrics' was built under R version 3.6.3\"\n"
     ]
    }
   ],
   "source": [
    "suppressPackageStartupMessages(library(plm))\n",
    "suppressPackageStartupMessages(library(nlme))\n",
    "suppressPackageStartupMessages(library(tidyverse))\n",
    "suppressPackageStartupMessages(library(lme4))\n",
    "suppressPackageStartupMessages(library(repr))\n",
    "suppressPackageStartupMessages(library(dplyr))\n",
    "suppressPackageStartupMessages(library(Metrics))\n",
    "suppressPackageStartupMessages(library(purrr))\n"
   ]
  },
  {
   "cell_type": "markdown",
   "metadata": {},
   "source": [
    "### Run only if the below exists after running the `Data_prepare_for_lmer_R.ipynb` notebook"
   ]
  },
  {
   "cell_type": "code",
   "execution_count": 2,
   "metadata": {},
   "outputs": [
    {
     "name": "stderr",
     "output_type": "stream",
     "text": [
      "Parsed with column specification:\n",
      "cols(\n",
      "  .default = col_double(),\n",
      "  state = \u001b[31mcol_character()\u001b[39m\n",
      ")\n",
      "\n",
      "See spec(...) for full column specifications.\n",
      "\n",
      "Parsed with column specification:\n",
      "cols(\n",
      "  .default = col_double(),\n",
      "  state = \u001b[31mcol_character()\u001b[39m\n",
      ")\n",
      "\n",
      "See spec(...) for full column specifications.\n",
      "\n"
     ]
    }
   ],
   "source": [
    "data_train <- read_csv('../data/train_processed_lmer.zip')\n",
    "data_valid <- read_csv('../data/valid_processed_lmer.zip')"
   ]
  },
  {
   "cell_type": "code",
   "execution_count": 3,
   "metadata": {},
   "outputs": [
    {
     "data": {
      "text/html": [
       "<table>\n",
       "<caption>A tibble: 6 × 634</caption>\n",
       "<thead>\n",
       "\t<tr><th scope=col>month</th><th scope=col>year</th><th scope=col>monthly_number_of_sessions</th><th scope=col>monthly_unique_sessions</th><th scope=col>monthly_repeated_sessions</th><th scope=col>monthly_avg_length_of_session</th><th scope=col>monthly_avg_light_activity</th><th scope=col>monthly_avg_moderate_activity</th><th scope=col>monthly_avg_vigorous_activity</th><th scope=col>monthly_count_ramp</th><th scope=col>...</th><th scope=col>HI</th><th scope=col>LI</th><th scope=col>MI</th><th scope=col>HD</th><th scope=col>LD</th><th scope=col>MD</th><th scope=col>A</th><th scope=col>C</th><th scope=col>D</th><th scope=col>unacast_session_count</th></tr>\n",
       "\t<tr><th scope=col>&lt;dbl&gt;</th><th scope=col>&lt;dbl&gt;</th><th scope=col>&lt;dbl&gt;</th><th scope=col>&lt;dbl&gt;</th><th scope=col>&lt;dbl&gt;</th><th scope=col>&lt;dbl&gt;</th><th scope=col>&lt;dbl&gt;</th><th scope=col>&lt;dbl&gt;</th><th scope=col>&lt;dbl&gt;</th><th scope=col>&lt;dbl&gt;</th><th scope=col>...</th><th scope=col>&lt;dbl&gt;</th><th scope=col>&lt;dbl&gt;</th><th scope=col>&lt;dbl&gt;</th><th scope=col>&lt;dbl&gt;</th><th scope=col>&lt;dbl&gt;</th><th scope=col>&lt;dbl&gt;</th><th scope=col>&lt;dbl&gt;</th><th scope=col>&lt;dbl&gt;</th><th scope=col>&lt;dbl&gt;</th><th scope=col>&lt;dbl&gt;</th></tr>\n",
       "</thead>\n",
       "<tbody>\n",
       "\t<tr><td> 9</td><td>2019</td><td>17</td><td>2</td><td>15</td><td>662117.6</td><td>109941.2</td><td>223000</td><td>0</td><td>0</td><td>...</td><td>0</td><td>1</td><td>0</td><td>0</td><td>1</td><td>0</td><td>0</td><td>1</td><td>0</td><td> 82</td></tr>\n",
       "\t<tr><td> 5</td><td>2018</td><td> 0</td><td>0</td><td> 0</td><td>     0.0</td><td>     0.0</td><td>     0</td><td>0</td><td>0</td><td>...</td><td>0</td><td>1</td><td>0</td><td>0</td><td>0</td><td>1</td><td>0</td><td>1</td><td>0</td><td> 69</td></tr>\n",
       "\t<tr><td> 5</td><td>2019</td><td> 0</td><td>0</td><td> 0</td><td>     0.0</td><td>     0.0</td><td>     0</td><td>0</td><td>0</td><td>...</td><td>0</td><td>0</td><td>1</td><td>0</td><td>0</td><td>1</td><td>0</td><td>1</td><td>0</td><td>333</td></tr>\n",
       "\t<tr><td> 4</td><td>2019</td><td> 0</td><td>0</td><td> 0</td><td>     0.0</td><td>     0.0</td><td>     0</td><td>0</td><td>0</td><td>...</td><td>0</td><td>0</td><td>1</td><td>1</td><td>0</td><td>0</td><td>0</td><td>0</td><td>1</td><td>159</td></tr>\n",
       "\t<tr><td>11</td><td>2018</td><td> 0</td><td>0</td><td> 0</td><td>     0.0</td><td>     0.0</td><td>     0</td><td>0</td><td>0</td><td>...</td><td>1</td><td>0</td><td>0</td><td>1</td><td>0</td><td>0</td><td>0</td><td>1</td><td>0</td><td>151</td></tr>\n",
       "\t<tr><td> 6</td><td>2018</td><td> 0</td><td>0</td><td> 0</td><td>     0.0</td><td>     0.0</td><td>     0</td><td>0</td><td>0</td><td>...</td><td>1</td><td>0</td><td>0</td><td>1</td><td>0</td><td>0</td><td>1</td><td>0</td><td>0</td><td> 94</td></tr>\n",
       "</tbody>\n",
       "</table>\n"
      ],
      "text/latex": [
       "A tibble: 6 × 634\n",
       "\\begin{tabular}{r|llllllllllllllllllllllllllllllllllllllllllllllllllllllllllllllllllllllllllllllllllllllllllllllllllllllllllllllllllllllllllllllllllllllllllllllllllllllllllllllllllllllllllllllllllllllllllllllllllllllllllllllllllllllllllllllllllllllllllllllllllllllllllllllllllllllllllllllllllllllllllllllllllllllllllllllllllllllllllllllllllllllllllllllllllllllllllllllllllllllllllllllllllllllllllllllllllllllllllllllllllllllllllllllllllllllllllllllllllllllllllllllllllllllllllllllllllllllllllllllllllllllllllllllllllllllllllllllllllllllllllllllllllllllllllllllllllllllllllllllllllllllllllllllllllllllllllllllllllllllllllllllllllllllllllllllllllllllllll}\n",
       " month & year & monthly\\_number\\_of\\_sessions & monthly\\_unique\\_sessions & monthly\\_repeated\\_sessions & monthly\\_avg\\_length\\_of\\_session & monthly\\_avg\\_light\\_activity & monthly\\_avg\\_moderate\\_activity & monthly\\_avg\\_vigorous\\_activity & monthly\\_count\\_ramp & monthly\\_count\\_zipline & monthly\\_count\\_spinner & monthly\\_count\\_pull\\_under & monthly\\_under\\_40 & monthly\\_temp\\_40\\_to\\_50 & monthly\\_temp\\_50\\_to\\_60 & monthly\\_temp\\_60\\_to\\_70 & monthly\\_temp\\_70\\_to\\_80 & monthly\\_temp\\_80\\_to\\_90 & monthly\\_over\\_90 & monthly\\_avg\\_length\\_under\\_40 & monthly\\_avg\\_length\\_temp\\_40\\_to\\_50 & monthly\\_avg\\_length\\_temp\\_50\\_to\\_60 & monthly\\_avg\\_length\\_temp\\_60\\_to\\_70 & monthly\\_avg\\_length\\_temp\\_70\\_to\\_80 & monthly\\_avg\\_length\\_temp\\_80\\_to\\_90 & monthly\\_avg\\_length\\_over\\_90 & monthly\\_cloudy & monthly\\_clear & monthly\\_foggy & monthly\\_rain & monthly\\_snow & monthly\\_avg\\_cloudy\\_length & monthly\\_avg\\_clear\\_length & monthly\\_avg\\_foggy\\_length & monthly\\_avg\\_rain\\_length & monthly\\_avg\\_snow\\_length & monthly\\_hour\\_7 & monthly\\_hour\\_8 & monthly\\_hour\\_9 & monthly\\_hour\\_10 & monthly\\_hour\\_11 & monthly\\_hour\\_12 & monthly\\_hour\\_13 & monthly\\_hour\\_14 & monthly\\_hour\\_15 & monthly\\_hour\\_16 & monthly\\_hour\\_17 & monthly\\_hour\\_18 & monthly\\_hour\\_19 & monthly\\_hour\\_20 & monthly\\_hour\\_21 & distance\\_to\\_nearest\\_bus\\_stop & B20004e10 & B11016e1 & B12001e12 & B20004e11 & B19125e1 & B12001e13 & B23008e22 & B11005e12 & B19101e10 & B23008e25 & B19055e2 & B19101e14 & B12001e10 & B23008e24 & B17020e13 & B12001e14 & B12001e19 & B11005e13 & B08301e21 & B20004e15 & B01001e26 & B20004e17 & B20004e18 & B12001e17 & B23008e21 & B23008e20 & B12001e18 & B23008e17 & B23008e23 & B08303e11 & B11005e19 & B20004e16 & B20004e13 & B08301e10 & B11005e18 & B11005e16 & B12001e11 & B20004e14 & B19055e3 & B23008e26 & B11005e14 & B17020e14 & B13014e15 & B25012e13 & B11005e2 & B11005e11 & B17020e12 & B11005e17 & B20004e9 & B19101e7 & B19101e4 & B23008e15 & B12001e15 & B09002e19 & B23008e27 & B20004e7 & B17012e8 & B11016e10 & B17012e31 & B11005e15 & B09002e20 & B19101e8 & C18108e5 & B25012e8 & B25012e15 & B17020e4 & B25012e16 & B25012e10 & B25012e6 & B09002e17 & B25012e12 & B25012e11 & B08301e6 & B17012e6 & B19101e6 & B25012e4 & B19101e12 & B17020e5 & B23008e18 & B17012e3 & B19101e5 & B12001e16 & B08303e12 & B17012e19 & B13012e1 & B17020e11 & B10010e1 & B19101e11 & B08303e13 & B16007e5 & B19101e16 & B25012e7 & B11016e12 & B17020e3 & B19101e3 & B25012e14 & B09002e18 & B17012e2 & B19101e9 & B19101e2 & B25071e1 & B25012e5 & B25012e17 & B17012e5 & B10010e2 & B11005e4 & B19101e15 & B11005e5 & B19101e17 & B17012e4 & B17012e7 & B20004e8 & B17020e10 & B09018e8 & B20004e6 & B23008e14 & B17020e6 & B10002e2 & B10002e5 & B11016e11 & B23008e16 & B10002e3 & B17012e26 & B25012e3 & B11005e10 & B08301e5 & B17012e25 & B17012e20 & B08301e4 & B19101e13 & B10002e4 & B23008e13 & C18108e3 & B09018e7 & B11001e9 & B10002e1 & C18108e4 & B23008e19 & B17020e2 & B10010e3 & B16007e7 & B23008e12 & B15003e23 & B15003e25 & B11005e6 & B11003e7 & B27003e1 & B11003e9 & B15003e20 & B09018e1 & B16007e1 & B11016e3 & B01001e4 & B11016e2 & B15003e21 & B15003e22 & B16007e2 & B09018e6 & B23008e11 & B19083e1 & B15003e24 & B23020e1 & B09018e3 & B11016e4 & B09018e5 & B19125e2 & B16007e3 & B01001e28 & B23020e3 & B23020e2 & B12001e6 & B27001e30 & B01001e29 & B25103e2 & B01002e1 & B16007e4 & B12001e9 & B15003e19 & B23008e10 & B09018e4 & B25010e1 & B01001e30 & B20004e4 & B11003e5 & B25010e2 & B23008e2 & B23008e5 & B23008e8 & B09002e16 & B25012e9 & B01002e3 & B11003e6 & B20004e5 & B25012e2 & B08303e1 & B23025e4 & B23008e4 & B10001e1 & B10001e2 & B23025e7 & B01001e1 & B12001e1 & B15003e17 & B11005e7 & B01001e3 & B12001e4 & B25103e3 & B23025e1 & B11003e4 & B25010e3 & B20004e3 & B23025e2 & B13012e2 & B09002e15 & B19059e2 & B09001e3 & B09002e3 & B09001e8 & B09002e8 & B25002e3 & B19059e3 & B09002e2 & B22003e5 & B22003e7 & B09002e4 & B09002e6 & B08301e1 & B09001e7 & B25105e1 & B09002e1 & B22003e6 & B09001e9 & B09001e4 & B09001e6 & B09002e7 & B13012e9 & B22003e4 & B22003e3 & B09001e1 & B09002e9 & B08301e3 & B14002e1 & B09002e5 & B09002e11 & B27001e2 & B25064e1 & B25001e1 & B19058e2 & B09001e5 & B09002e10 & B08301e2 & B09002e13 & B09002e12 & B23008e3 & B12001e8 & B01001e6 & B01002e2 & B25119e1 & B19301e1 & B25119e2 & B19125e3 & B11003e3 & B13016e4 & B23025e5 & B11001e5 & B25119e3 & B12001e3 & B15003e18 & B01001e27 & B17020e1 & B13016e1 & B11001e3 & B23025e6 & B13016e5 & B11005e9 & B20004e2 & B12001e2 & B01001e2 & B10001e3 & B01001e5 & B15003e1 & B15003e2 & B10001e4 & B20004e1 & B23008e1 & B11001e6 & B12001e5 & B13016e7 & B12001e7 & B23008e9 & B13016e6 & B23008e7 & B23008e6 & B09002e14 & B09001e10 & B11005e8 & B13016e3 & B13016e8 & B13016e9 & male\\_18\\_21 & male\\_22\\_29 & male\\_30\\_39 & male\\_40\\_49 & male\\_50\\_59 & male\\_60\\_69 & male\\_70\\_79 & male\\_80\\_over & female\\_18\\_21 & female\\_22\\_29 & female\\_30\\_39 & female\\_40\\_49 & female\\_50\\_59 & female\\_60\\_69 & female\\_70\\_79 & female\\_80\\_over & total\\_enrolled & not\\_enrolled & enrolled\\_nursery\\_pre\\_public & enrolled\\_nursery\\_pre\\_private & enrolled\\_kinder\\_public & enrolled\\_kinder\\_private & enrolled\\_grades\\_1\\_4\\_public & enrolled\\_grades\\_1\\_4\\_private & enrolled\\_grades\\_5\\_8\\_public & enrolled\\_grades\\_5\\_8\\_private & enrolled\\_grades\\_9\\_12\\_public & enrolled\\_grades\\_9\\_12\\_private & enrolled\\_undergrad\\_public & enrolled\\_undergrad\\_private & enrolled\\_graduate\\_public & enrolled\\_graduate\\_private & less\\_than\\_12\\_no\\_diploma & carpool\\_4\\_more & travel\\_15\\_minutes\\_less & travel\\_15\\_29\\_minutes & travel\\_30\\_44\\_minutes & single\\_under\\_6 & single\\_0\\_to\\_17 & single\\_6\\_to\\_17 & single\\_no\\_kids & four\\_or\\_more\\_in\\_family\\_household & four\\_or\\_more\\_in\\_nonfamily\\_household & men\\_with\\_health\\_insurance & men\\_without\\_health\\_insurance & women\\_with\\_health\\_insurnace & women\\_without\\_health\\_insurance & avg\\_birth\\_weight & avg\\_age\\_of\\_mother & state & longitude & latitude & num\\_places\\_within\\_800m & alcohol & amenity & bakery & bank & bar & cafe & camp\\_site & car\\_repair & childcare & clothes\\_store & community\\_centre & convenience\\_store & fast\\_food & fire\\_station & fitness\\_or\\_sports\\_centre & fuel & hairdresser\\_or\\_beauty & healthcare & hotel & ice\\_cream & laundry\\_or\\_dry\\_cleaning & leisure & library & museum\\_or\\_gallery & office & park & parking & pharmacy & picnic\\_site & place\\_of\\_worship & police & post\\_office & restaurant & shop & supermarket & swimming\\_pool & tourism & distance\\_to\\_C & distance\\_to\\_I & distance\\_to\\_M & distance\\_to\\_O & distance\\_to\\_S & distance\\_to\\_U & distance\\_to\\_nearest\\_school & walk\\_score & bike\\_score & n & m & k\\_avg & intersection\\_count & streets\\_per\\_node\\_avg & edge\\_length\\_total & edge\\_length\\_avg & street\\_length\\_total & street\\_length\\_avg & street\\_segments\\_count & streets\\_per\\_node\\_counts\\_1 & streets\\_per\\_node\\_counts\\_2 & streets\\_per\\_node\\_counts\\_3 & streets\\_per\\_node\\_counts\\_4 & streets\\_per\\_node\\_counts\\_5 & n\\_osdw & m\\_osdw & k\\_avg\\_osdw & intersection\\_count\\_osdw & streets\\_per\\_node\\_avg\\_osdw & edge\\_length\\_total\\_osdw & edge\\_length\\_avg\\_osdw & street\\_length\\_total\\_osdw & street\\_length\\_avg\\_osdw & street\\_segments\\_count\\_osdw & streets\\_per\\_node\\_counts\\_1\\_osdw & streets\\_per\\_node\\_counts\\_2\\_osdw & streets\\_per\\_node\\_counts\\_3\\_osdw & streets\\_per\\_node\\_counts\\_4\\_osdw & streets\\_per\\_node\\_counts\\_5\\_osdw & n\\_osid & m\\_osid & k\\_avg\\_osid & intersection\\_count\\_osid & streets\\_per\\_node\\_avg\\_osid & edge\\_length\\_total\\_osid & edge\\_length\\_avg\\_osid & street\\_length\\_total\\_osid & street\\_length\\_avg\\_osid & street\\_segments\\_count\\_osid & streets\\_per\\_node\\_counts\\_1\\_osid & streets\\_per\\_node\\_counts\\_2\\_osid & streets\\_per\\_node\\_counts\\_3\\_osid & streets\\_per\\_node\\_counts\\_4\\_osid & streets\\_per\\_node\\_counts\\_5\\_osid & violent\\_crime & criminal\\_homicide & rape & robbery & aggravated\\_assault & property\\_crime & burglary & larceny\\_theft & motor\\_vehicle\\_theft & houses\\_per\\_sq\\_km & days\\_since\\_first\\_sess & historic\\_number\\_of\\_sessions & historic\\_sessions\\_per\\_day & historic\\_unique\\_sessions & historic\\_unique\\_sessions\\_per\\_day & historic\\_repeat\\_sessions & historic\\_repeat\\_sessions\\_per\\_day & historic\\_total\\_session\\_length & historic\\_avg\\_session\\_length & historic\\_avg\\_light\\_activity & historic\\_avg\\_moderate\\_activity & historic\\_avg\\_vigorous\\_activity & historic\\_avg\\_mod\\_plus\\_vig & historic\\_hour\\_7 & historic\\_hour\\_8 & historic\\_hour\\_9 & historic\\_hour\\_10 & historic\\_hour\\_11 & historic\\_hour\\_12 & historic\\_hour\\_13 & historic\\_hour\\_14 & historic\\_hour\\_15 & historic\\_hour\\_16 & historic\\_hour\\_17 & historic\\_hour\\_18 & historic\\_hour\\_19 & historic\\_hour\\_20 & historic\\_hour\\_21 & historic\\_cloudy & historic\\_temp\\_under\\_40 & historic\\_temp\\_40\\_to\\_50 & historic\\_temp\\_50\\_to\\_60 & historic\\_temp\\_60\\_to\\_70 & historic\\_temp\\_70\\_to\\_80 & historic\\_temp\\_80\\_to\\_90 & historic\\_temp\\_over\\_90 & historic\\_rain & historic\\_clear & historic\\_foggy & historic\\_snow & Democrats\\_08\\_Votes & Democrats\\_12\\_Votes & Republican\\_08\\_Votes & Republican\\_12\\_Votes & Republicans\\_2016 & Democrats\\_2016 & Green\\_2016 & Libertarians\\_2016 & Poor\\_physical\\_health\\_days & Poor\\_mental\\_health\\_days & Adult\\_smoking & Adult\\_obesity & Diabetes & Number\\_of\\_holidays & weather\\_clear & weather\\_rain & weather\\_fog & weather\\_snow & weather\\_thunder & weather\\_cloudy & weather\\_other & temp\\_avg\\_35\\_below & temp\\_avg\\_35\\_45 & temp\\_avg\\_45\\_55 & temp\\_avg\\_55\\_65 & temp\\_avg\\_65\\_75 & temp\\_avg\\_75\\_85 & temp\\_avg\\_85\\_95 & temp\\_avg\\_95\\_above & temp\\_max\\_35\\_below & temp\\_max\\_35\\_45 & temp\\_max\\_45\\_55 & temp\\_max\\_55\\_65 & temp\\_max\\_65\\_75 & temp\\_max\\_75\\_85 & temp\\_max\\_85\\_95 & temp\\_max\\_95\\_above & precip\\_mm\\_none & precip\\_mm\\_0\\_1 & precip\\_mm\\_1\\_10 & precip\\_mm\\_10\\_above & perfect\\_days & hpi & state\\_and\\_local\\_amount\\_per\\_capita & state\\_amount\\_per\\_capita & local\\_amount\\_per\\_capita & monthly\\_slide\\_count\\_comb & historic\\_slide\\_count\\_comb & monthly\\_climb\\_count\\_comb & historic\\_climb\\_count\\_comb & monthly\\_tube\\_count\\_comb & historic\\_tube\\_count\\_comb & monthly\\_overhang\\_count\\_comb & historic\\_overhang\\_count\\_comb & monthly\\_bridge\\_count\\_comb & historic\\_bridge\\_count\\_comb & monthly\\_swing\\_count\\_comb & historic\\_swing\\_count\\_comb & historic\\_obsta\\_count\\_comb & historic\\_crawls\\_count\\_comb & monthly\\_hour\\_night & historic\\_hour\\_night & avg\\_wind\\_calm & avg\\_wind\\_light\\_air & avg\\_wind\\_light\\_br & avg\\_wind\\_gentle\\_br & avg\\_wind\\_moderate\\_br & monthly\\_ws\\_calm & monthly\\_ws\\_light\\_air & monthly\\_ws\\_light\\_br & monthly\\_ws\\_gentle\\_br & monthly\\_ws\\_moderate\\_br & historic\\_ws\\_calm & historic\\_ws\\_light\\_air & historic\\_ws\\_light\\_br & historic\\_ws\\_gentle\\_br & historic\\_ws\\_moderate\\_br & avg\\_fertility\\_rate & HI & LI & MI & HD & LD & MD & A & C & D & unacast\\_session\\_count\\\\\n",
       " <dbl> & <dbl> & <dbl> & <dbl> & <dbl> & <dbl> & <dbl> & <dbl> & <dbl> & <dbl> & <dbl> & <dbl> & <dbl> & <dbl> & <dbl> & <dbl> & <dbl> & <dbl> & <dbl> & <dbl> & <dbl> & <dbl> & <dbl> & <dbl> & <dbl> & <dbl> & <dbl> & <dbl> & <dbl> & <dbl> & <dbl> & <dbl> & <dbl> & <dbl> & <dbl> & <dbl> & <dbl> & <dbl> & <dbl> & <dbl> & <dbl> & <dbl> & <dbl> & <dbl> & <dbl> & <dbl> & <dbl> & <dbl> & <dbl> & <dbl> & <dbl> & <dbl> & <dbl> & <dbl> & <dbl> & <dbl> & <dbl> & <dbl> & <dbl> & <dbl> & <dbl> & <dbl> & <dbl> & <dbl> & <dbl> & <dbl> & <dbl> & <dbl> & <dbl> & <dbl> & <dbl> & <dbl> & <dbl> & <dbl> & <dbl> & <dbl> & <dbl> & <dbl> & <dbl> & <dbl> & <dbl> & <dbl> & <dbl> & <dbl> & <dbl> & <dbl> & <dbl> & <dbl> & <dbl> & <dbl> & <dbl> & <dbl> & <dbl> & <dbl> & <dbl> & <dbl> & <dbl> & <dbl> & <dbl> & <dbl> & <dbl> & <dbl> & <dbl> & <dbl> & <dbl> & <dbl> & <dbl> & <dbl> & <dbl> & <dbl> & <dbl> & <dbl> & <dbl> & <dbl> & <dbl> & <dbl> & <dbl> & <dbl> & <dbl> & <dbl> & <dbl> & <dbl> & <dbl> & <dbl> & <dbl> & <dbl> & <dbl> & <dbl> & <dbl> & <dbl> & <dbl> & <dbl> & <dbl> & <dbl> & <dbl> & <dbl> & <dbl> & <dbl> & <dbl> & <dbl> & <dbl> & <dbl> & <dbl> & <dbl> & <dbl> & <dbl> & <dbl> & <dbl> & <dbl> & <dbl> & <dbl> & <dbl> & <dbl> & <dbl> & <dbl> & <dbl> & <dbl> & <dbl> & <dbl> & <dbl> & <dbl> & <dbl> & <dbl> & <dbl> & <dbl> & <dbl> & <dbl> & <dbl> & <dbl> & <dbl> & <dbl> & <dbl> & <dbl> & <dbl> & <dbl> & <dbl> & <dbl> & <dbl> & <dbl> & <dbl> & <dbl> & <dbl> & <dbl> & <dbl> & <dbl> & <dbl> & <dbl> & <dbl> & <dbl> & <dbl> & <dbl> & <dbl> & <dbl> & <dbl> & <dbl> & <dbl> & <dbl> & <dbl> & <dbl> & <dbl> & <dbl> & <dbl> & <dbl> & <dbl> & <dbl> & <dbl> & <dbl> & <dbl> & <dbl> & <dbl> & <dbl> & <dbl> & <dbl> & <dbl> & <dbl> & <dbl> & <dbl> & <dbl> & <dbl> & <dbl> & <dbl> & <dbl> & <dbl> & <dbl> & <dbl> & <dbl> & <dbl> & <dbl> & <dbl> & <dbl> & <dbl> & <dbl> & <dbl> & <dbl> & <dbl> & <dbl> & <dbl> & <dbl> & <dbl> & <dbl> & <dbl> & <dbl> & <dbl> & <dbl> & <dbl> & <dbl> & <dbl> & <dbl> & <dbl> & <dbl> & <dbl> & <dbl> & <dbl> & <dbl> & <dbl> & <dbl> & <dbl> & <dbl> & <dbl> & <dbl> & <dbl> & <dbl> & <dbl> & <dbl> & <dbl> & <dbl> & <dbl> & <dbl> & <dbl> & <dbl> & <dbl> & <dbl> & <dbl> & <dbl> & <dbl> & <dbl> & <dbl> & <dbl> & <dbl> & <dbl> & <dbl> & <dbl> & <dbl> & <dbl> & <dbl> & <dbl> & <dbl> & <dbl> & <dbl> & <dbl> & <dbl> & <dbl> & <dbl> & <dbl> & <dbl> & <dbl> & <dbl> & <dbl> & <dbl> & <dbl> & <dbl> & <dbl> & <dbl> & <dbl> & <dbl> & <dbl> & <dbl> & <dbl> & <dbl> & <dbl> & <dbl> & <dbl> & <dbl> & <dbl> & <dbl> & <dbl> & <dbl> & <dbl> & <dbl> & <dbl> & <dbl> & <dbl> & <dbl> & <dbl> & <dbl> & <dbl> & <dbl> & <dbl> & <dbl> & <dbl> & <dbl> & <dbl> & <dbl> & <dbl> & <dbl> & <dbl> & <dbl> & <dbl> & <dbl> & <dbl> & <dbl> & <dbl> & <dbl> & <dbl> & <dbl> & <dbl> & <dbl> & <dbl> & <dbl> & <dbl> & <dbl> & <dbl> & <dbl> & <dbl> & <dbl> & <dbl> & <dbl> & <dbl> & <dbl> & <dbl> & <dbl> & <dbl> & <dbl> & <dbl> & <dbl> & <dbl> & <dbl> & <dbl> & <dbl> & <dbl> & <dbl> & <dbl> & <dbl> & <dbl> & <dbl> & <dbl> & <dbl> & <dbl> & <dbl> & <dbl> & <dbl> & <dbl> & <dbl> & <dbl> & <dbl> & <dbl> & <dbl> & <dbl> & <dbl> & <dbl> & <dbl> & <dbl> & <dbl> & <dbl> & <dbl> & <dbl> & <dbl> & <dbl> & <dbl> & <dbl> & <dbl> & <chr> & <dbl> & <dbl> & <dbl> & <dbl> & <dbl> & <dbl> & <dbl> & <dbl> & <dbl> & <dbl> & <dbl> & <dbl> & <dbl> & <dbl> & <dbl> & <dbl> & <dbl> & <dbl> & <dbl> & <dbl> & <dbl> & <dbl> & <dbl> & <dbl> & <dbl> & <dbl> & <dbl> & <dbl> & <dbl> & <dbl> & <dbl> & <dbl> & <dbl> & <dbl> & <dbl> & <dbl> & <dbl> & <dbl> & <dbl> & <dbl> & <dbl> & <dbl> & <dbl> & <dbl> & <dbl> & <dbl> & <dbl> & <dbl> & <dbl> & <dbl> & <dbl> & <dbl> & <dbl> & <dbl> & <dbl> & <dbl> & <dbl> & <dbl> & <dbl> & <dbl> & <dbl> & <dbl> & <dbl> & <dbl> & <dbl> & <dbl> & <dbl> & <dbl> & <dbl> & <dbl> & <dbl> & <dbl> & <dbl> & <dbl> & <dbl> & <dbl> & <dbl> & <dbl> & <dbl> & <dbl> & <dbl> & <dbl> & <dbl> & <dbl> & <dbl> & <dbl> & <dbl> & <dbl> & <dbl> & <dbl> & <dbl> & <dbl> & <dbl> & <dbl> & <dbl> & <dbl> & <dbl> & <dbl> & <dbl> & <dbl> & <dbl> & <dbl> & <dbl> & <dbl> & <dbl> & <dbl> & <dbl> & <dbl> & <dbl> & <dbl> & <dbl> & <dbl> & <dbl> & <dbl> & <dbl> & <dbl> & <dbl> & <dbl> & <dbl> & <dbl> & <dbl> & <dbl> & <dbl> & <dbl> & <dbl> & <dbl> & <dbl> & <dbl> & <dbl> & <dbl> & <dbl> & <dbl> & <dbl> & <dbl> & <dbl> & <dbl> & <dbl> & <dbl> & <dbl> & <dbl> & <dbl> & <dbl> & <dbl> & <dbl> & <dbl> & <dbl> & <dbl> & <dbl> & <dbl> & <dbl> & <dbl> & <dbl> & <dbl> & <dbl> & <dbl> & <dbl> & <dbl> & <dbl> & <dbl> & <dbl> & <dbl> & <dbl> & <dbl> & <dbl> & <dbl> & <dbl> & <dbl> & <dbl> & <dbl> & <dbl> & <dbl> & <dbl> & <dbl> & <dbl> & <dbl> & <dbl> & <dbl> & <dbl> & <dbl> & <dbl> & <dbl> & <dbl> & <dbl> & <dbl> & <dbl> & <dbl> & <dbl> & <dbl> & <dbl> & <dbl> & <dbl> & <dbl> & <dbl> & <dbl> & <dbl> & <dbl> & <dbl> & <dbl> & <dbl> & <dbl> & <dbl> & <dbl> & <dbl> & <dbl> & <dbl> & <dbl> & <dbl> & <dbl> & <dbl> & <dbl> & <dbl> & <dbl> & <dbl> & <dbl> & <dbl> & <dbl> & <dbl> & <dbl> & <dbl> & <dbl> & <dbl> & <dbl> & <dbl> & <dbl> & <dbl> & <dbl> & <dbl> & <dbl> & <dbl> & <dbl> & <dbl> & <dbl>\\\\\n",
       "\\hline\n",
       "\t  9 & 2019 & 17 & 2 & 15 & 662117.6 & 109941.2 & 223000 & 0 & 0 & 0 & 0 & 0 & 0 & 0 & 0 & 0 & 0 & 8 & 0 & 0 & 0 & 0 & 0 & 0 & 14.75 & 0 & 0 & 8 & 0 & 0 & 0 & 0 & 14.75 & 0 & 0 & 0 & 0 & 0 & 0 & 0 & 0 & 0 & 0 & 0 & 0 & 0 & 9 & 0 & 0 & 0 & 8 &  48652.59 & 43462 & 2437 &  529 &     0 &  43750 &  998 &  41 & 647 &  48 &  208 & 641 & 127 & 272 &  0 & 338 &  938 & 505 & 495 &  42 & 30043 & 2922 & 40526 & 48816 &  32 &  249 & 12 & 325 & 490 &  41 & 111 & 538 & 20908 & 24615 &   0 & 471 & 135 & 2357 &     0 & 1796 & 175 & 152 & 2633 & 1365 & 181 &  781 & 1656 & 420 & 1009 & 36755 &   0 &  70 &  893 &  60 &  42 &  33 & 39855 & 167 &  812 & 221 & 17 &  96 & 85 & 1540 & 40 & 215 &  77 &  21 & 1273 & 79 & 34 & 465 & 486 & 19 & 49 & 64 & 255 & 173 & 157 & 142 &  90 & 154 &  28 & 151 & 1171 & 1409 & 332 &     0 & 129 & 19 &  0 &  34 & 176 & 39 & 184 & 108 &  69 &  5 & 257 & 136 & 104 & 24.8 &   0 &  787 &  9 & 0 & 451 &  53 & 330 &   0 & 32 & 0 & 12153 & 4577 & 122 & 49342 &  46 &  885 &  14 & 56 & 158 & 644 &  14 &  94 & 295 &  0 & 131 & 315 &  856 & 150 & 143 &  0 &  69 &  68 & 115 & 197 &  70 & 22 &  0 & 1407 & 0 &  0 & 115 & 298 &  53 & 115 & 511 & 6106 & 132 &  488 & 1630 & 5858 & 624 & 403 & 1428 & 263 &  664 & 1191 &  70 &  0 & 0.3936 &  57 & 38.8 & 1261 & 390 &  42 &  41543 & 1106 & 191 & 36.9 & 40.2 & 126 & 2811 & 137 & 1126 & 34.6 &  85 &  80 & 177 & 41 & 20 & 2.50 & 119 & 26473 & 142 & 2.55 & 500 & 211 & 156 &  76 &  869 & 38.9 & 235 & 32200 & 1164 & 2655 & 2779 & 133 &  70 &   0 & 1880 & 6297 & 4965 & 1147 & 215 & 202 & 1125 & 1126 & 4797 &  58 & 2.45 & 31667 & 2917 & 100 &  253 & 367 & 230 & 154 & 211 &  335 & 279 & 2070 &  988 & 2063 & 1838 & 104 & 441 & 2697 & 243 &  651 & 1323 & 225 & 298 & 209 & 301 & 203 & 1309 &  71 & 303 & 1630 &  82 & 2250 & 6067 & 86 & 41 & 3295 &  645 & 2716 &  467 & 138 &  0 & 2400 &  0 &  0 & 344 &  40 & 179 & 29.6 & 40261 & 18815 &  55179 &  48636 & 435 & 54 & 138 & 132 & 36516 & 1131 & 241 & 237 & 5984 & 1465 &  946 &  0 &  0 & 0 & 12813 & 2608 & 3375 & 14 & 162 & 3960 & 31 & 56 & 31555 & 1393 &  350 &  999 & 35 &  86 &  41 &  0 &  0 &  0 & 41 &  0 &  0 & 11 &  0 & 0 & 387 & 392 & 319 & 628 & 313 & 193 & 137 &  60 & 126 & 367 & 331 & 453 & 235 & 285 & 340 & 101 & 1748 & 4319 &  39 &  0 & 75 & 27 & 405 & 49 & 327 &  0 & 274 & 58 & 195 & 253 & 25 & 21 & 541 &   0 & 1395 &  706 & 273 & 123 &   6 & 156 & 197 & 414 &  0 & 2824 & 471 & 2589 & 222 & 3268.36 & 27.41 & Kentucky   &  -84.29560 & 37.57719 & 0 & 0 & 0 & 0 & 0 & 0 & 0 & 0 & 0 & 0 & 0 & 0 & 0 & 0 & 0 & 0 & 0 & 0 & 0 & 0 & 0 & 0 & 0 & 0 & 0 & 0 & 0 & 0 & 0 & 0 & 0 & 0 & 0 & 0 & 0 & 0 & 0 & 0 & 21904.28 & 1565.29 & 157.24 & 35788.65 &  366.69 &   785.11 &  769.36 & 22 & 65 & 184 &  446 & 4.847826 & 138 & 2.548913 &  55639.34 & 124.75189 & 28216.97 & 124.30384 & 227 &  46 & 1 & 127 & 10 & 0 &  374 & 1088 & 5.818182 &  310 & 2.965241 &  72885.51 &  66.99036 &  36827.55 &  67.32641 &  547 &  64 & 0 & 214 &  82 & 10 & 112 & 265 & 4.732143 &  84 & 2.562500 & 36865.38 & 139.1146 & 18774.69 & 138.0492 & 136 & 28 & 1 &  75 &  8 & 0 & 125.8 & 6.3 & 37.8 &  37.8 &  44.0 & 2051.2 & 421.6 & 1346.5 & 283.1 &   87.14285 & 469 & 68 & 0.144989339 & 57 & 0.121535181 & 11 & 0.02345416 & 30770000 & 452500.0 &  83529.41 & 61441.18 & 18705.88 & 80147.06 & 0 & 2 &  2 & 10 & 4 & 2 & 10 & 18 & 14 & 20 & 24 & 16 & 6 & 8 & 0 & 1 & 1 & 3 & 9 & 9 & 7 & 6 & 0 & 4 & 29 & 1 & 0 &  12392 &  11512 &  19694 &  21128 & 62.75712 & 31.58614 & 0.9454682 & 3.184594 & 4.2 & 3.7 & 0.219 & 0.296 & 0.106 & 1 & 30 &  0 & 0 & 0 & 0 &  0 & 0 & 0 &  0 &  0 & 0 & 10 & 20 & 0 & 0 & 0 & 0 &  0 &  0 & 0 &  5 & 21 & 4 & 23 &  2 & 5 &  0 & 9 & 193.52 & 0.08431366 & 0.02799000 & 0.05632365 & 7 & 194 & 6 & 164 & 0 & 76 & 1 & 10 & 1 & 30 & 2 & 98 & 0 & 0 & 0 & 0 &  6 & 24 & 0 & 0 & 0 & 0 & 0 & 8 & 0 & 0 & 0 & 8 & 15 & 12 & 2 & 65.95750 & 0 & 1 & 0 & 0 & 1 & 0 & 0 & 1 & 0 &  82\\\\\n",
       "\t  5 & 2018 &  0 & 0 &  0 &      0.0 &      0.0 &      0 & 0 & 0 & 0 & 0 & 0 & 0 & 0 & 0 & 0 & 0 & 0 & 0 & 0 & 0 & 0 & 0 & 0 &  0.00 & 0 & 0 & 0 & 0 & 0 & 0 & 0 &  0.00 & 0 & 0 & 0 & 0 & 0 & 0 & 0 & 0 & 0 & 0 & 0 & 0 & 0 & 0 & 0 & 0 & 0 & 0 & 120650.97 & 26017 & 2115 & 1286 &     0 &  16312 &  751 &  68 & 547 &  31 & 1170 & 608 &   0 & 135 & 16 & 315 &  425 & 261 & 154 &   0 & 12853 & 3877 &     0 &     0 & 115 & 1238 & 13 & 151 & 118 &  52 & 113 & 390 & 17379 & 14442 &   0 & 116 & 338 & 2449 & 13098 & 1507 & 287 & 393 & 1798 & 1414 &  87 & 1062 & 1053 & 678 &  506 & 25250 & 100 & 419 & 1454 & 326 & 823 & 883 & 24339 & 613 &  494 & 470 & 55 & 292 & 75 & 2172 & 54 & 479 & 284 &  58 & 1490 &  0 & 79 & 699 & 757 &  0 & 18 & 56 & 220 &  46 & 305 &  61 & 116 &  27 & 211 &  33 &  849 & 1480 & 214 &     0 &  92 &  0 &  0 &   0 & 175 &  0 & 509 & 304 & 133 & 58 & 729 &   0 & 316 & 37.6 &  45 &  733 & 21 & 0 & 239 &  16 & 792 &  15 & 77 & 0 &  8413 & 3414 &  52 &     0 & 200 & 1516 & 184 & 91 &  43 & 216 & 125 & 102 & 274 & 31 & 191 & 572 &  277 & 316 &  81 & 59 & 303 & 162 &  44 &  43 & 275 & 11 & 24 & 2965 & 0 &  0 & 503 &  58 &   0 &  71 & 212 & 6419 & 126 &  254 & 2335 & 5840 & 788 & 141 & 1578 & 200 &   87 & 1766 & 275 & 82 & 0.5109 &   0 & 36.9 & 1905 & 334 &  27 &  16709 & 1210 & 760 & 36.5 & 37.6 & 117 & 3877 & 308 &  848 & 25.7 & 556 &  10 & 113 & 62 & 32 & 3.01 & 189 & 22222 &  24 & 3.18 & 723 &   0 & 647 & 208 &  351 & 21.7 & 125 &     0 &  625 & 1580 & 1580 &  53 & 275 & 145 & 2612 & 6419 & 4447 & 1381 & 721 & 219 &  505 &  478 & 4326 &  32 & 2.94 & 19688 & 1714 & 110 & 1460 & 110 & 409 &  23 & 247 & 1672 & 288 & 2005 &  292 & 1020 &  720 &   0 &  68 & 1580 & 252 &  573 & 1964 & 300 & 373 & 170 & 740 & 148 & 1370 & 464 & 631 & 2345 & 212 & 1096 & 6010 & 53 & 62 & 2542 &  566 & 2403 & 1095 & 144 & 64 & 1412 & 26 & 18 &  76 &  53 & 184 & 29.6 & 16273 &  9378 &  30799 &  12869 & 181 & 21 & 134 & 126 & 15487 & 1348 &  83 & 360 & 6379 & 1524 &  393 &  0 & 15 & 0 & 10230 & 1998 & 2542 & 45 & 184 & 3231 & 56 & 85 & 18297 & 2177 & 1059 &  388 &  0 &  64 & 144 & 13 & 23 &  0 & 42 & 10 & 31 & 24 & 37 & 0 & 249 & 380 & 393 & 210 & 335 & 129 &  52 &  66 & 404 & 293 & 184 & 438 & 428 & 371 &  98 &  44 & 2097 & 3913 & 149 &  0 & 69 &  0 & 906 &  0 & 265 & 20 & 520 &  0 & 168 &   0 &  0 &  0 & 999 & 125 &  714 &  587 & 133 & 100 & 109 & 529 & 447 & 456 &  0 & 1874 & 668 & 2915 & 962 & 3218.13 & 27.65 & Georgia    &  -83.51081 & 31.43712 & 1 & 0 & 0 & 0 & 0 & 0 & 0 & 0 & 0 & 0 & 0 & 0 & 0 & 0 & 0 & 0 & 0 & 0 & 0 & 0 & 0 & 0 & 0 & 0 & 0 & 0 & 0 & 0 & 0 & 0 & 1 & 0 & 0 & 0 & 0 & 0 & 0 & 0 &  1618.99 &  891.28 &  87.06 & 65447.00 &  623.13 &   623.13 &   60.91 & 22 & 38 & 288 &  834 & 5.791667 & 262 & 3.045139 &  91814.40 & 110.08921 & 46172.31 & 110.19645 & 419 &  26 & 0 & 197 & 65 & 0 &  288 &  838 & 5.819444 &  262 & 3.045139 &  92344.62 & 110.19645 &  46172.31 & 110.19645 &  419 &  26 & 0 & 197 &  65 &  0 & 252 & 719 & 5.706349 & 230 & 3.067460 & 85614.13 & 119.0739 & 44658.25 & 121.6846 & 367 & 22 & 0 & 169 & 61 & 0 & 326.6 & 6.1 & 25.2 &  78.7 & 216.6 & 2573.7 & 431.3 & 1907.0 & 235.4 &  167.85192 & 429 & 28 & 0.065268065 &  3 & 0.006993007 & 25 & 0.05827506 & 12035000 & 429821.4 & 148107.14 & 61750.00 & 14750.00 & 76500.00 & 0 & 0 & 12 & 30 & 0 & 0 &  2 &  8 &  4 &  0 &  0 &  0 & 0 & 0 & 0 & 0 & 0 & 0 & 2 & 5 & 6 & 0 & 1 & 0 & 12 & 2 & 0 &   4749 &   4660 &   9431 &   9185 & 67.83370 & 30.41575 & 0.0000000 & 1.750547 & 3.6 & 3.6 & 0.166 & 0.320 & 0.134 & 1 & 17 & 14 & 0 & 0 & 5 & 13 & 0 & 0 &  0 &  0 & 0 &  7 & 24 & 0 & 0 & 0 & 0 &  0 &  0 & 0 & 13 & 18 & 0 & 12 &  2 & 1 & 16 & 7 & 201.86 & 0.13293508 & 0.02529785 & 0.10763722 & 0 &  70 & 0 &  72 & 0 & 42 & 0 &  6 & 0 & 38 & 0 & 48 & 0 & 0 & 0 & 0 & 10 & 21 & 0 & 0 & 0 & 0 & 0 & 0 & 0 & 0 & 2 & 1 & 10 &  1 & 0 & 65.95812 & 0 & 1 & 0 & 0 & 0 & 1 & 0 & 1 & 0 &  69\\\\\n",
       "\t  5 & 2019 &  0 & 0 &  0 &      0.0 &      0.0 &      0 & 0 & 0 & 0 & 0 & 0 & 0 & 0 & 0 & 0 & 0 & 0 & 0 & 0 & 0 & 0 & 0 & 0 &  0.00 & 0 & 0 & 0 & 0 & 0 & 0 & 0 &  0.00 & 0 & 0 & 0 & 0 & 0 & 0 & 0 & 0 & 0 & 0 & 0 & 0 & 0 & 0 & 0 & 0 & 0 & 0 &   6015.07 & 49082 & 2178 &  834 & 32357 &  62702 &  771 & 116 & 477 & 104 &  286 & 350 & 134 & 230 &  0 & 313 &  723 & 448 & 360 & 120 & 20083 & 2581 & 31103 & 41536 &   0 &  402 &  0 &  34 & 245 & 116 & 253 & 389 & 27512 & 27069 &  15 & 598 &  64 & 2087 &     0 & 1828 & 182 & 117 & 2806 & 1397 & 147 &  714 & 1464 & 292 &  987 & 33590 &  66 &  87 &  695 &  48 & 150 & 104 & 40857 & 125 &  747 & 245 & 53 &  46 & 34 & 1141 & 11 & 256 &  70 & 121 & 1181 & 35 &  0 & 403 & 524 & 32 & 31 & 61 & 179 & 119 & 115 &  48 &  46 &  47 &  48 & 162 & 1020 & 1460 & 219 & 46750 &  36 & 34 & 47 &  43 & 106 &  0 & 176 &  16 &   0 & 47 & 171 & 102 &  34 & 31.3 &  38 &  657 & 15 & 0 & 355 & 115 & 359 &  45 &  0 & 0 & 26576 & 4141 &  19 & 41068 &  18 &  510 & 108 & 30 & 240 & 293 & 108 & 106 & 190 &  0 &   0 & 351 &  669 &  32 & 148 &  0 &  87 &  17 &  66 & 240 & 138 & 46 &  0 &  888 & 0 & 39 & 105 & 243 &  35 &  77 & 426 & 5058 & 130 &  650 & 1175 & 4760 & 541 & 135 & 1191 & 461 &  810 &  906 & 138 &  0 & 0.3847 &  14 & 39.3 &  760 & 309 & 172 &  41216 &  740 & 232 & 36.9 & 41.9 &  94 & 2581 & 172 & 1308 & 32.7 &  80 &  10 & 133 & 18 & 20 & 2.32 &  83 & 36793 &  35 & 2.20 & 395 & 155 & 123 &  40 &  807 & 32.9 & 150 & 31947 &  997 & 2895 & 3015 & 117 & 138 &  23 &  744 & 5058 & 4035 &  738 & 282 & 208 &  813 & 1372 & 3997 & 104 & 2.41 & 26823 & 3253 &  86 &  283 & 145 & 234 & 176 & 266 &  387 & 218 & 2033 &  565 & 1979 & 1828 &  59 & 177 & 3015 & 126 &  904 &  952 & 151 & 181 &  64 & 236 & 116 & 1374 &  92 & 107 & 1204 & 104 & 2804 & 4824 & 37 &  0 & 2477 &  905 & 2396 &  238 &  97 &  0 & 2836 & 19 & 13 & 272 &  42 &  98 & 32.5 & 50217 & 28125 &  72292 &  90605 & 289 & 10 & 238 & 130 & 41294 &  895 & 129 &  90 & 5029 & 1483 &  715 &  0 & 34 & 0 & 26141 & 1948 & 2477 & 16 & 186 & 3413 & 16 & 99 & 31488 & 1090 &  346 &  719 & 13 &  52 &  18 &  0 &  0 &  0 & 72 &  0 &  0 & 29 &  0 & 0 &  70 & 420 & 407 & 464 & 190 & 242 &  45 &  12 &  64 & 444 & 488 & 404 & 375 & 182 &  31 &  16 & 1285 & 3539 &  47 & 32 & 57 &  0 & 194 & 65 & 251 &  0 & 250 &  0 & 256 &  48 & 41 & 44 & 184 &   0 &  680 & 1257 & 509 &  81 &   0 & 212 & 183 & 341 &  0 & 2293 & 184 & 2379 & 202 & 3242.69 & 27.91 & Tennessee  &  -86.62306 & 36.14225 & 0 & 0 & 0 & 0 & 0 & 0 & 0 & 0 & 0 & 0 & 0 & 0 & 0 & 0 & 0 & 0 & 0 & 0 & 0 & 0 & 0 & 0 & 0 & 0 & 0 & 0 & 0 & 0 & 0 & 0 & 0 & 0 & 0 & 0 & 0 & 0 & 0 & 0 & 42462.37 & 1517.96 &  61.49 &  4227.78 & 3670.07 &  4121.63 & 2655.01 &  9 & 21 &  76 &  168 & 4.421053 &  54 & 2.552632 &  21873.11 & 130.19705 & 11221.90 & 128.98739 &  87 &  22 & 0 &  44 & 10 & 0 &   76 &  172 & 4.526316 &   54 & 2.552632 &  22131.28 & 128.67024 &  11221.90 & 128.98739 &   87 &  22 & 0 &  44 &  10 &  0 &  59 & 126 & 4.271186 &  38 & 2.423729 & 19722.10 & 156.5246 & 10045.38 & 154.5443 &  65 & 21 & 0 &  30 &  8 & 0 & 623.7 & 7.4 & 41.7 & 106.2 & 468.5 & 2825.4 & 489.4 & 2034.1 & 301.9 &  652.29903 &   0 &  0 & 0.000000000 &  0 & 0.000000000 &  0 & 0.00000000 &        0 &      0.0 &      0.00 &     0.00 &     0.00 &     0.00 & 0 & 0 &  0 &  0 & 0 & 0 &  0 &  0 &  0 &  0 &  0 &  0 & 0 & 0 & 0 & 0 & 0 & 0 & 0 & 0 & 0 & 0 & 0 & 0 &  0 & 0 & 0 & 158423 & 143120 & 102915 &  97622 & 34.26700 & 60.30609 & 0.9951300 & 3.890349 & 3.0 & 2.7 & 0.172 & 0.303 & 0.093 & 1 & 25 &  0 & 0 & 0 & 0 &  4 & 0 & 0 &  0 &  0 & 7 & 11 & 13 & 0 & 0 & 0 & 0 &  0 &  0 & 7 &  6 & 18 & 0 & 11 & 11 & 9 &  0 & 4 & 272.48 & 0.09796582 & 0.01354460 & 0.08442122 & 0 &   0 & 0 &   0 & 0 &  0 & 0 &  0 & 0 &  0 & 0 &  0 & 0 & 0 & 0 & 0 &  6 & 25 & 0 & 0 & 0 & 0 & 0 & 0 & 0 & 0 & 0 & 0 &  0 &  0 & 0 & 65.30938 & 0 & 0 & 1 & 0 & 0 & 1 & 0 & 1 & 0 & 333\\\\\n",
       "\t  4 & 2019 &  0 & 0 &  0 &      0.0 &      0.0 &      0 & 0 & 0 & 0 & 0 & 0 & 0 & 0 & 0 & 0 & 0 & 0 & 0 & 0 & 0 & 0 & 0 & 0 &  0.00 & 0 & 0 & 0 & 0 & 0 & 0 & 0 &  0.00 & 0 & 0 & 0 & 0 & 0 & 0 & 0 & 0 & 0 & 0 & 0 & 0 & 0 & 0 & 0 & 0 & 0 & 0 &    808.06 & 45326 & 2632 &  489 & 71923 & 115128 & 1144 &  88 & 776 &   0 &   30 & 783 & 241 & 229 &  0 & 190 & 1066 & 444 & 720 &  94 & 28750 & 2730 & 60024 & 69250 &   2 &  118 &  0 & 273 & 332 &  88 & 225 & 844 & 30089 & 46604 &  40 & 489 &  56 & 2350 &     0 & 1849 &  30 &  56 & 2852 &  960 &   0 &  523 & 2109 & 301 & 1333 & 42833 &  45 &  16 &  519 &  78 &   0 &   0 & 58886 &  44 & 1040 &  54 &  0 &  30 & 46 &  805 & 29 &  65 &  14 &   0 &  662 & 99 &  0 &  65 &  65 &  0 &  0 & 32 & 429 &  57 &  32 &  69 &  45 &   0 &  76 &  12 & 1210 &  956 & 282 &     0 &  27 & 28 &  0 & 284 & 187 & 14 &  14 &  60 &   0 &  0 &  89 &  55 &  13 & 22.3 & 143 &  597 & 29 & 0 & 388 & 139 & 135 & 141 & 16 & 0 &     0 & 4968 &   0 & 70167 &   0 &  322 &   0 & 11 & 265 & 401 &   0 &  93 & 458 &  0 & 166 & 147 & 1063 & 166 & 143 &  0 &   0 &  28 &  18 & 293 &  11 &  0 &  0 &  440 & 0 & 28 &   0 & 660 &  90 &  93 & 720 & 5408 &  93 &  640 &  833 & 5139 & 677 & 135 & 1299 & 361 & 1317 &  564 &  11 &  0 & 0.4258 & 178 & 39.4 &  713 & 293 &  36 & 147750 &  512 & 106 & 38.1 & 40.5 &  59 & 2730 & 101 & 3299 & 41.1 &  24 &  59 & 117 & 28 & 55 & 2.05 &  79 & 37643 &  73 & 2.21 & 296 &  66 &  28 &   0 & 1512 & 48.4 & 172 & 62218 & 1970 & 3043 & 3149 & 148 &  11 &   0 & 1281 & 5408 & 4715 &  530 &  42 &  96 & 1198 & 3014 & 4653 & 143 & 1.59 & 29219 & 3372 &  46 &   30 & 499 & 163 & 135 &  82 &  135 & 168 & 2133 &  669 & 2518 & 2420 & 106 & 277 & 3137 & 125 & 1092 &  804 &  98 & 140 & 106 & 190 & 124 &  910 &  12 & 102 &  833 & 105 & 2791 & 5245 & 27 &  0 & 2678 &  979 & 2800 &  114 &  27 & 28 & 2957 & 27 &  0 & 268 &  33 &  61 & 36.7 & 77823 & 44372 &  90306 & 104258 & 388 &  0 & 223 &  93 & 46934 &  879 & 107 & 173 & 5408 & 1006 & 1108 &  0 & 13 & 0 &     0 & 2365 & 2678 & 11 &  82 & 4124 &  0 &  0 & 52366 &  815 &   98 & 1139 & 33 &  26 &  28 &  0 &  0 & 54 & 50 &  0 &  0 &  0 &  0 & 0 & 203 & 403 & 448 & 230 & 415 & 394 &  93 & 118 &  37 & 310 & 434 & 133 & 561 & 411 & 201 & 184 & 1146 & 4099 &   0 & 79 & 55 & 27 & 156 & 52 &  19 & 76 & 196 & 17 & 304 &  31 & 65 & 69 & 124 &   0 &  866 & 1182 & 730 &   0 &  26 &  80 &  85 & 329 & 14 & 2556 & 122 & 2607 & 123 & 3292.42 & 29.91 & Michigan   &  -83.15477 & 42.50514 & 0 & 0 & 0 & 0 & 0 & 0 & 0 & 0 & 0 & 0 & 0 & 0 & 0 & 0 & 0 & 0 & 0 & 0 & 0 & 0 & 0 & 0 & 0 & 0 & 0 & 0 & 0 & 0 & 0 & 0 & 0 & 0 & 0 & 0 & 0 & 0 & 0 & 0 & 42527.94 & 3131.81 &  39.82 &  3199.38 & 1263.80 & 10681.33 & 1291.28 & 48 & 53 & 439 & 1143 & 5.207289 & 387 & 3.009112 & 106306.43 &  93.00650 & 57725.41 &  92.50868 & 624 &  52 & 1 & 284 & 95 & 7 & 1434 & 4554 & 6.351464 & 1295 & 3.288006 & 270686.66 &  59.43932 & 136237.62 &  59.77956 & 2279 & 139 & 0 & 615 & 671 &  7 & 277 & 742 & 5.357401 & 255 & 3.187726 & 89927.48 & 121.1961 & 49076.40 & 118.8291 & 413 & 22 & 0 & 165 & 84 & 6 &  94.3 & 0.0 & 18.5 &   6.7 &  69.0 &  810.0 & 107.8 &  639.9 &  62.3 & 1035.91863 &   0 &  0 & 0.000000000 &  0 & 0.000000000 &  0 & 0.00000000 &        0 &      0.0 &      0.00 &     0.00 &     0.00 &     0.00 & 0 & 0 &  0 &  0 & 0 & 0 &  0 &  0 &  0 &  0 &  0 &  0 & 0 & 0 & 0 & 0 & 0 & 0 & 0 & 0 & 0 & 0 & 0 & 0 &  0 & 0 & 0 & 372566 & 349002 & 276956 & 296514 & 43.59213 & 51.71103 & 0.9644858 & 3.489307 & 3.1 & 3.4 & 0.148 & 0.269 & 0.091 & 0 & 17 &  0 & 0 & 1 & 0 & 13 & 0 & 1 & 11 & 13 & 5 &  0 &  0 & 0 & 0 & 0 & 2 & 10 & 11 & 7 &  0 &  0 & 0 &  7 &  2 & 0 & 21 & 0 & 547.87 & 0.14020475 & 0.01321904 & 0.12698571 & 0 &   0 & 0 &   0 & 0 &  0 & 0 &  0 & 0 &  0 & 0 &  0 & 0 & 0 & 0 & 0 &  1 & 21 & 8 & 0 & 0 & 0 & 0 & 0 & 0 & 0 & 0 & 0 &  0 &  0 & 0 & 58.47000 & 0 & 0 & 1 & 1 & 0 & 0 & 0 & 0 & 1 & 159\\\\\n",
       "\t 11 & 2018 &  0 & 0 &  0 &      0.0 &      0.0 &      0 & 0 & 0 & 0 & 0 & 0 & 0 & 0 & 0 & 0 & 0 & 0 & 0 & 0 & 0 & 0 & 0 & 0 &  0.00 & 0 & 0 & 0 & 0 & 0 & 0 & 0 &  0.00 & 0 & 0 & 0 & 0 & 0 & 0 & 0 & 0 & 0 & 0 & 0 & 0 & 0 & 0 & 0 & 0 & 0 & 0 &    866.56 & 62647 & 1593 &  574 &     0 &  92321 &  818 &   9 & 406 &  61 &  211 & 306 & 107 &  81 &  0 & 231 &  704 & 192 & 309 & 173 & 24423 & 2098 & 66875 & 93333 &  51 &  220 &  0 &  94 & 373 &   9 & 303 & 327 & 23325 & 37321 & 620 & 265 &  80 & 1678 &     0 & 1287 & 174 &  97 & 1941 &  982 &  73 &  595 &  998 & 255 &  592 &     0 &  66 &  47 &  639 & 114 & 133 &  37 & 56053 & 125 &  501 & 111 & 17 &  78 & 12 & 1025 &  0 & 134 &  82 &  20 &  646 & 20 &  0 & 306 & 326 & 25 &  5 & 14 & 269 &  65 &  71 &  42 &  32 &  30 &  63 & 299 &  844 &  998 & 336 &     0 &  22 & 72 & 99 & 119 & 175 &  7 &  77 &  19 &  99 & 19 & 157 &  23 &  86 & 31.3 &  74 &  320 & 16 & 0 & 410 &  68 & 185 & 196 & 11 & 0 & 35022 & 3389 &   0 & 88125 &   0 &  303 &   0 & 36 &  84 & 419 &   0 &  46 & 269 &  0 & 104 & 157 &  687 & 130 &  66 &  0 &  81 &  27 &  23 &  91 &  36 &  0 &  4 &  598 & 0 & 39 &  81 & 517 & 212 &  29 & 309 & 3981 &  46 &  275 & 1052 & 3661 & 392 & 130 & 1001 & 150 &  668 &  726 &  36 &  0 & 0.4740 & 192 & 36.1 &  976 & 259 &  13 &  61563 &  480 & 178 & 34.9 & 37.6 & 149 & 2098 & 117 & 3680 & 36.2 &  98 &   0 &  80 &  0 &  4 & 2.50 &  71 & 26750 &  94 & 2.29 & 390 &  28 &  81 &  26 &  678 & 36.4 & 188 & 67031 &  947 & 2031 & 2257 & 265 &  36 &  36 &  632 & 3987 & 3080 &  268 & 156 & 201 &  892 & 3673 & 3004 & 128 & 2.81 & 24500 & 2372 &  38 &  256 & 284 & 185 & 159 & 157 &  265 &  75 & 1309 &  728 & 1415 & 1320 &  82 & 204 & 2204 & 213 & 1436 &  993 &  95 & 145 & 141 & 124 & 215 &  960 &  89 &  89 & 1052 &   9 & 1206 & 3802 & 68 &  0 & 1883 & 1259 & 1668 &  185 &  87 &  0 & 1336 &  0 &  0 & 309 & 107 &  74 & 35.8 & 79263 & 45824 & 131042 & 115481 & 410 &  0 & 109 &  46 & 43468 &  429 &  19 & 125 & 3987 & 1020 &  719 &  6 &  0 & 0 & 35224 & 1402 & 1889 &  0 & 156 & 2684 &  9 &  0 & 42813 & 1029 &  236 &  743 & 18 &  42 &   0 & 20 &  0 & 16 &  9 &  0 &  0 &  0 &  0 & 0 &  70 &  95 & 383 & 204 & 242 & 241 &  93 &   0 & 108 & 177 & 403 & 218 & 344 & 206 & 117 &  34 & 1082 & 2720 &  21 & 33 & 91 & 11 & 247 &  5 & 165 & 38 & 186 & 28 & 185 &  24 & 18 & 30 & 294 &   1 &  191 &  467 & 699 &  19 &  25 & 121 & 117 & 350 &  0 & 1735 & 148 & 1947 & 151 & 3274.12 & 30.95 & Maryland   &  -77.02353 & 39.01155 & 3 & 0 & 1 & 0 & 0 & 0 & 0 & 0 & 0 & 0 & 0 & 0 & 0 & 0 & 0 & 0 & 0 & 0 & 0 & 0 & 0 & 0 & 1 & 0 & 0 & 0 & 1 & 0 & 0 & 0 & 0 & 0 & 0 & 0 & 0 & 0 & 0 & 0 & 15400.82 &  554.61 &  82.66 &  6771.13 & 1270.41 &   512.13 &   76.31 & 29 & 50 & 527 & 1298 & 4.925996 & 415 & 2.728653 & 103306.18 &  79.58874 & 55113.50 &  80.22344 & 687 & 112 & 3 & 331 & 79 & 1 &  809 & 2240 & 5.537701 &  659 & 2.899876 & 134455.89 &  60.02495 &  68222.16 &  60.53430 & 1127 & 150 & 0 & 443 & 214 &  1 & 250 & 608 & 4.864000 & 203 & 2.860000 & 75389.20 & 123.9954 & 42063.80 & 127.8535 & 329 & 47 & 0 & 147 & 54 & 1 & 139.1 & 1.8 & 27.4 &  49.7 &  60.2 & 1247.5 & 128.0 & 1048.0 &  71.5 & 1078.70470 & 320 &  1 & 0.003125000 &  1 & 0.003125000 &  0 & 0.00000000 &   675000 & 675000.0 &      0.00 &     0.00 &     0.00 &     0.00 & 0 & 0 &  0 &  0 & 2 & 0 &  0 &  0 &  0 &  0 &  0 &  0 & 0 & 0 & 0 & 0 & 0 & 0 & 0 & 0 & 0 & 0 & 0 & 0 &  0 & 0 & 0 & 314444 & 323400 & 118608 & 123353 & 20.32452 & 75.86603 & 1.3806025 & 2.428851 & 2.5 & 2.6 & 0.079 & 0.184 & 0.070 & 2 & 19 &  0 & 0 & 1 & 0 & 10 & 0 & 3 & 16 &  8 & 2 &  1 &  0 & 0 & 0 & 1 & 5 & 14 &  7 & 3 &  0 &  0 & 0 & 11 &  4 & 9 &  6 & 0 & 412.03 & 0.21779694 & 0.03302413 & 0.18477281 & 0 &   2 & 0 &   2 & 0 &  0 & 0 &  0 & 0 &  2 & 0 &  2 & 0 & 0 & 0 & 0 & 13 & 17 & 0 & 0 & 0 & 0 & 0 & 0 & 0 & 0 & 0 & 0 &  0 &  0 & 0 & 66.95000 & 1 & 0 & 0 & 1 & 0 & 0 & 0 & 1 & 0 & 151\\\\\n",
       "\t  6 & 2018 &  0 & 0 &  0 &      0.0 &      0.0 &      0 & 0 & 0 & 0 & 0 & 0 & 0 & 0 & 0 & 0 & 0 & 0 & 0 & 0 & 0 & 0 & 0 & 0 &  0.00 & 0 & 0 & 0 & 0 & 0 & 0 & 0 &  0.00 & 0 & 0 & 0 & 0 & 0 & 0 & 0 & 0 & 0 & 0 & 0 & 0 & 0 & 0 & 0 & 0 & 0 & 0 &    320.31 & 51372 & 2821 &  866 & 44709 &  76734 & 1276 & 154 & 839 &  22 &  214 & 886 & 186 & 427 &  0 & 551 & 1106 & 540 & 600 & 139 &     0 & 3834 & 42344 & 74643 & 117 &  368 &  0 & 568 & 499 & 154 & 201 & 736 & 30907 & 40462 &  98 & 416 & 169 & 3250 &     0 & 1935 & 214 & 239 & 3082 & 1736 &  34 &  830 & 1991 & 337 & 1152 &     0 &  43 & 158 & 1102 & 170 &   0 &   0 & 44913 & 102 & 1044 & 282 & 70 & 194 &  4 & 1479 & 19 & 415 & 108 &   0 & 1720 & 57 & 17 & 557 & 557 & 28 & 80 &  0 & 254 & 117 & 106 & 191 & 117 &  90 &  53 & 175 & 1450 & 1719 & 216 &     0 & 231 &  0 & 14 &  78 & 136 &  0 & 155 &  38 & 108 &  0 & 219 &  67 &  43 & 34.6 &  61 & 1163 &  0 & 0 & 524 &  85 & 306 &  56 & 37 & 0 & 41853 & 5650 &  33 & 73304 &   0 &  671 &   0 &  0 & 108 & 734 &   0 & 161 & 273 &  0 & 233 & 443 & 1007 & 284 & 451 &  0 &  17 &  20 &  20 & 108 &   0 &  7 & 44 & 1288 & 0 & 26 &  17 & 349 &  62 & 153 & 600 & 6938 & 223 & 1001 & 1506 & 6609 & 683 & 121 & 1669 & 506 & 1244 & 1144 &   0 &  0 & 0.3927 &  79 & 38.6 & 1373 & 330 &  70 &  56996 &  781 & 142 & 34.8 & 42.2 & 221 & 3834 & 279 & 3132 & 42.5 & 255 & 123 & 302 & 75 & 10 & 2.47 & 181 & 35192 & 165 & 2.57 & 371 & 125 &  92 &   0 &  828 & 45.0 & 342 & 43402 & 1101 & 3150 & 3356 & 154 &   0 &   0 & 2069 & 6971 & 5713 &  800 & 153 & 199 & 1341 & 3369 & 5690 &  17 & 2.40 &     0 & 3621 &   0 &  211 & 722 & 125 &  92 & 442 &  440 &  38 & 2099 & 1013 & 2508 & 2287 & 187 & 347 & 3289 & 228 & 1779 & 1453 & 221 & 248 & 237 & 217 & 387 & 1719 & 180 & 133 & 1506 & 229 & 2590 & 6846 &  0 & 33 & 3104 & 1667 & 2859 &  337 &   9 & 33 & 2874 & 98 &  9 & 279 &  72 &  67 & 40.4 & 71127 & 31665 &  78125 &  78684 & 524 &  0 & 232 & 223 & 57458 &  572 &  78 & 163 & 6938 & 1736 & 1124 & 33 &  0 & 0 & 41767 & 2463 & 3137 &  0 & 354 & 4878 & 99 &  0 & 42052 & 1473 &  322 & 1120 &  0 & 149 &  75 &  0 &  0 &  0 & 56 &  0 &  0 &  0 &  0 & 0 &  99 & 359 & 347 & 564 & 337 & 285 & 206 & 199 & 210 & 338 & 393 & 576 & 530 & 279 & 301 & 442 & 1921 & 4925 &  77 & 73 & 43 &  0 & 224 & 12 & 575 & 18 & 292 &  6 & 496 &  40 & 48 & 17 & 358 &  23 &  512 & 1634 & 628 &  78 &   0 & 209 & 258 & 656 &  0 & 2655 & 449 & 3671 & 163 & 3320.62 & 28.89 & California & -116.95985 & 32.75101 & 4 & 0 & 1 & 0 & 0 & 0 & 0 & 0 & 0 & 0 & 0 & 0 & 0 & 0 & 0 & 0 & 0 & 0 & 0 & 0 & 0 & 0 & 0 & 0 & 0 & 1 & 0 & 0 & 0 & 0 & 2 & 0 & 0 & 0 & 0 & 0 & 0 & 0 &  1446.43 & 3870.05 &  35.09 & 11581.49 &  585.44 & 77641.31 &  211.79 & 57 & 32 & 437 & 1027 & 4.700229 & 307 & 2.443936 &  83345.36 &  81.15420 & 42333.59 &  81.09882 & 522 & 130 & 4 & 282 & 21 & 0 &  436 & 1042 & 4.779817 &  306 & 2.454128 &  84412.54 &  81.01012 &  42578.53 &  81.25674 &  524 & 130 & 0 & 284 &  22 &  0 & 157 & 338 & 4.305732 & 107 & 2.426752 & 53089.71 & 157.0702 & 28307.77 & 160.8396 & 176 & 50 & 0 &  97 & 10 & 0 &  45.7 & 0.4 &  3.4 &   6.7 &  35.1 &  136.0 &  28.5 &   83.0 &  24.4 &  758.13564 & 529 &  2 & 0.003780718 &  2 & 0.003780718 &  0 & 0.00000000 &   641000 & 320500.0 &      0.00 &     0.00 &     0.00 &     0.00 & 0 & 0 &  0 &  0 & 0 & 0 &  0 &  2 &  2 &  0 &  0 &  0 & 0 & 0 & 0 & 0 & 0 & 0 & 0 & 0 & 1 & 1 & 0 & 0 &  2 & 0 & 0 & 666581 & 626957 & 541032 & 536726 & 38.23522 & 56.07102 & 1.5886902 & 3.868132 & 3.5 & 3.7 & 0.121 & 0.231 & 0.075 & 0 & 30 &  0 & 0 & 0 & 0 &  0 & 0 & 0 &  0 &  0 & 2 & 28 &  0 & 0 & 0 & 0 & 0 &  0 &  0 & 8 & 21 &  1 & 0 & 30 &  0 & 0 &  0 & 0 & 554.57 & 0.16430345 & 0.01295265 & 0.15135080 & 0 &   6 & 0 &   2 & 0 &  0 & 0 &  2 & 0 &  4 & 0 &  2 & 0 & 0 & 0 & 0 &  0 & 30 & 0 & 0 & 0 & 0 & 0 & 0 & 0 & 0 & 0 & 0 &  1 &  1 & 0 & 66.63000 & 1 & 0 & 0 & 1 & 0 & 0 & 1 & 0 & 0 &  94\\\\\n",
       "\\end{tabular}\n"
      ],
      "text/markdown": [
       "\n",
       "A tibble: 6 × 634\n",
       "\n",
       "| month &lt;dbl&gt; | year &lt;dbl&gt; | monthly_number_of_sessions &lt;dbl&gt; | monthly_unique_sessions &lt;dbl&gt; | monthly_repeated_sessions &lt;dbl&gt; | monthly_avg_length_of_session &lt;dbl&gt; | monthly_avg_light_activity &lt;dbl&gt; | monthly_avg_moderate_activity &lt;dbl&gt; | monthly_avg_vigorous_activity &lt;dbl&gt; | monthly_count_ramp &lt;dbl&gt; | ... ... | HI &lt;dbl&gt; | LI &lt;dbl&gt; | MI &lt;dbl&gt; | HD &lt;dbl&gt; | LD &lt;dbl&gt; | MD &lt;dbl&gt; | A &lt;dbl&gt; | C &lt;dbl&gt; | D &lt;dbl&gt; | unacast_session_count &lt;dbl&gt; |\n",
       "|---|---|---|---|---|---|---|---|---|---|---|---|---|---|---|---|---|---|---|---|---|\n",
       "|  9 | 2019 | 17 | 2 | 15 | 662117.6 | 109941.2 | 223000 | 0 | 0 | ... | 0 | 1 | 0 | 0 | 1 | 0 | 0 | 1 | 0 |  82 |\n",
       "|  5 | 2018 |  0 | 0 |  0 |      0.0 |      0.0 |      0 | 0 | 0 | ... | 0 | 1 | 0 | 0 | 0 | 1 | 0 | 1 | 0 |  69 |\n",
       "|  5 | 2019 |  0 | 0 |  0 |      0.0 |      0.0 |      0 | 0 | 0 | ... | 0 | 0 | 1 | 0 | 0 | 1 | 0 | 1 | 0 | 333 |\n",
       "|  4 | 2019 |  0 | 0 |  0 |      0.0 |      0.0 |      0 | 0 | 0 | ... | 0 | 0 | 1 | 1 | 0 | 0 | 0 | 0 | 1 | 159 |\n",
       "| 11 | 2018 |  0 | 0 |  0 |      0.0 |      0.0 |      0 | 0 | 0 | ... | 1 | 0 | 0 | 1 | 0 | 0 | 0 | 1 | 0 | 151 |\n",
       "|  6 | 2018 |  0 | 0 |  0 |      0.0 |      0.0 |      0 | 0 | 0 | ... | 1 | 0 | 0 | 1 | 0 | 0 | 1 | 0 | 0 |  94 |\n",
       "\n"
      ],
      "text/plain": [
       "  month year monthly_number_of_sessions monthly_unique_sessions\n",
       "1  9    2019 17                         2                      \n",
       "2  5    2018  0                         0                      \n",
       "3  5    2019  0                         0                      \n",
       "4  4    2019  0                         0                      \n",
       "5 11    2018  0                         0                      \n",
       "6  6    2018  0                         0                      \n",
       "  monthly_repeated_sessions monthly_avg_length_of_session\n",
       "1 15                        662117.6                     \n",
       "2  0                             0.0                     \n",
       "3  0                             0.0                     \n",
       "4  0                             0.0                     \n",
       "5  0                             0.0                     \n",
       "6  0                             0.0                     \n",
       "  monthly_avg_light_activity monthly_avg_moderate_activity\n",
       "1 109941.2                   223000                       \n",
       "2      0.0                        0                       \n",
       "3      0.0                        0                       \n",
       "4      0.0                        0                       \n",
       "5      0.0                        0                       \n",
       "6      0.0                        0                       \n",
       "  monthly_avg_vigorous_activity monthly_count_ramp ... HI LI MI HD LD MD A C D\n",
       "1 0                             0                  ... 0  1  0  0  1  0  0 1 0\n",
       "2 0                             0                  ... 0  1  0  0  0  1  0 1 0\n",
       "3 0                             0                  ... 0  0  1  0  0  1  0 1 0\n",
       "4 0                             0                  ... 0  0  1  1  0  0  0 0 1\n",
       "5 0                             0                  ... 1  0  0  1  0  0  0 1 0\n",
       "6 0                             0                  ... 1  0  0  1  0  0  1 0 0\n",
       "  unacast_session_count\n",
       "1  82                  \n",
       "2  69                  \n",
       "3 333                  \n",
       "4 159                  \n",
       "5 151                  \n",
       "6  94                  "
      ]
     },
     "metadata": {},
     "output_type": "display_data"
    }
   ],
   "source": [
    "head(data_train)"
   ]
  },
  {
   "cell_type": "markdown",
   "metadata": {},
   "source": [
    "## Modelling LMER with State as random effect"
   ]
  },
  {
   "cell_type": "code",
   "execution_count": 186,
   "metadata": {},
   "outputs": [],
   "source": [
    "fit_lmer <- function(data, class = 'state'){\n",
    "    \n",
    "    # removing non-compatible cols\n",
    "    data <- select(data,  -monthly_rain, -monthly_avg_rain_length, -B14002e1, -not_enrolled)\n",
    "    \n",
    "    # scaling the other numeric cols\n",
    "    data_train_numeric <- select(data, -income_class, -climate, -density_class, -state, -month, -year, -unacast_session_count)\n",
    "    scaled_data <- scale(data_train_numeric, scale= TRUE)\n",
    "    \n",
    "    #scaling might cause NaN if all the values are 0\n",
    "    scaled_data <- replace_na(scaled_data, 0)\n",
    "\n",
    "    # combining required cols\n",
    "    data_train <- cbind(data[c('month','year',class, 'unacast_session_count')], scaled_data)\n",
    "    \n",
    "    col_names <- colnames(data_train) \n",
    "    \n",
    "    # getting part of the function equation as string\n",
    "    x <- col_names[1]\n",
    "    for (i in seq(2,length(col_names))){\n",
    "\n",
    "        if (col_names[i] == class | col_names[i] == 'unacast_session_count'){\n",
    "            next\n",
    "        }\n",
    "        else{\n",
    "            x <- paste(x, \" + \", col_names[i])   \n",
    "        }\n",
    "    }\n",
    "    \n",
    "#     print(x)\n",
    "    model_intercept <- lmer(paste(\"unacast_session_count ~ \", x, \" + (1 | \", class, \")\"), data = data_train)\n",
    "    \n",
    "    return(model_intercept)\n",
    "}"
   ]
  },
  {
   "cell_type": "code",
   "execution_count": 187,
   "metadata": {},
   "outputs": [
    {
     "name": "stderr",
     "output_type": "stream",
     "text": [
      "fixed-effect model matrix is rank deficient so dropping 106 columns / coefficients\n",
      "\n"
     ]
    }
   ],
   "source": [
    "model_fit_intercept <- fit_lmer(data_train)"
   ]
  },
  {
   "cell_type": "code",
   "execution_count": 214,
   "metadata": {},
   "outputs": [],
   "source": [
    "\n",
    "get_error_lmer <- function(model, data, class = 'state'){\n",
    "    \n",
    "    y <- flatten_dbl(data['unacast_session_count'])\n",
    "    # removing non-compatible cols\n",
    "    data <- select(data,  -monthly_rain, -monthly_avg_rain_length, -B14002e1, -not_enrolled)\n",
    "    # scaling the other numeric cols\n",
    "    data_train_numeric <- select(data, -income_class, -climate, -density_class, -state, -month, -year, -unacast_session_count)\n",
    "    \n",
    "    scaled_data <- scale(data_train_numeric, scale = TRUE)\n",
    "    \n",
    "    #scaling might cause NaN if all the values are 0 \n",
    "    scaled_data <- replace_na(scaled_data, 0)\n",
    "    data_test <- cbind(data[c('month','year',class)], scaled_data)\n",
    "    \n",
    "    # predicting for new data\n",
    "    y_pred <- predict(model, newdata = data_test, allow.new.levels = TRUE)\n",
    "    \n",
    "#     print(sum(is.na(y_pred)))\n",
    "    rmse_val <- rmse(y, y_pred)\n",
    "    mae_val <- mae(y, y_pred)\n",
    "    \n",
    "    print(paste(\"RMSE is = \", rmse_val, \" and MAE is =\",mae_val))\n",
    "}"
   ]
  },
  {
   "cell_type": "code",
   "execution_count": 215,
   "metadata": {
    "scrolled": true
   },
   "outputs": [
    {
     "name": "stdout",
     "output_type": "stream",
     "text": [
      "[1] \"RMSE is =  199.760860939626  and MAE is = 107.942378024457\"\n"
     ]
    }
   ],
   "source": [
    "### Validation Score\n",
    "get_error_lmer(model_fit_intercept, data_valid)"
   ]
  },
  {
   "cell_type": "code",
   "execution_count": 216,
   "metadata": {
    "scrolled": true
   },
   "outputs": [
    {
     "name": "stdout",
     "output_type": "stream",
     "text": [
      "[1] \"RMSE is =  176.310058729571  and MAE is = 92.8561876374478\"\n"
     ]
    }
   ],
   "source": [
    "### Train Score\n",
    "get_error_lmer(model_fit_intercept, data_train)"
   ]
  },
  {
   "cell_type": "markdown",
   "metadata": {},
   "source": [
    "## Modelling LMER with Density Class as random effect"
   ]
  },
  {
   "cell_type": "code",
   "execution_count": 217,
   "metadata": {},
   "outputs": [
    {
     "name": "stderr",
     "output_type": "stream",
     "text": [
      "fixed-effect model matrix is rank deficient so dropping 106 columns / coefficients\n",
      "\n"
     ]
    }
   ],
   "source": [
    "model_fit_intercept <- fit_lmer(data_train, class = 'density_class')"
   ]
  },
  {
   "cell_type": "code",
   "execution_count": 218,
   "metadata": {},
   "outputs": [
    {
     "name": "stdout",
     "output_type": "stream",
     "text": [
      "[1] \"RMSE is =  199.701580321795  and MAE is = 108.631652494108\"\n"
     ]
    }
   ],
   "source": [
    "### Validation Score\n",
    "get_error_lmer(model_fit_intercept, data_valid, class = 'density_class')"
   ]
  },
  {
   "cell_type": "code",
   "execution_count": 219,
   "metadata": {},
   "outputs": [
    {
     "name": "stdout",
     "output_type": "stream",
     "text": [
      "[1] \"RMSE is =  183.515241368643  and MAE is = 96.8058353455616\"\n"
     ]
    }
   ],
   "source": [
    "### Train Score\n",
    "get_error_lmer(model_fit_intercept, data_train, class = 'density_class')"
   ]
  },
  {
   "cell_type": "markdown",
   "metadata": {},
   "source": [
    "## Modelling LMER with Income Class as random effect"
   ]
  },
  {
   "cell_type": "code",
   "execution_count": 220,
   "metadata": {},
   "outputs": [
    {
     "name": "stderr",
     "output_type": "stream",
     "text": [
      "fixed-effect model matrix is rank deficient so dropping 106 columns / coefficients\n",
      "\n"
     ]
    }
   ],
   "source": [
    "model_fit_intercept <- fit_lmer(data_train, class = 'income_class')"
   ]
  },
  {
   "cell_type": "code",
   "execution_count": 222,
   "metadata": {},
   "outputs": [
    {
     "name": "stdout",
     "output_type": "stream",
     "text": [
      "[1] \"RMSE is =  199.756094008783  and MAE is = 108.698888327188\"\n"
     ]
    }
   ],
   "source": [
    "### Validation Score\n",
    "get_error_lmer(model_fit_intercept, data_valid, class = 'income_class')"
   ]
  },
  {
   "cell_type": "code",
   "execution_count": 224,
   "metadata": {},
   "outputs": [
    {
     "name": "stdout",
     "output_type": "stream",
     "text": [
      "[1] \"RMSE is =  183.207196978883  and MAE is = 96.7288325160248\"\n"
     ]
    }
   ],
   "source": [
    "### Train Score\n",
    "get_error_lmer(model_fit_intercept, data_train, class = 'income_class')"
   ]
  },
  {
   "cell_type": "markdown",
   "metadata": {},
   "source": [
    "## Modelling LMER with Climate as random effect"
   ]
  },
  {
   "cell_type": "code",
   "execution_count": 225,
   "metadata": {},
   "outputs": [
    {
     "name": "stderr",
     "output_type": "stream",
     "text": [
      "fixed-effect model matrix is rank deficient so dropping 106 columns / coefficients\n",
      "\n"
     ]
    }
   ],
   "source": [
    "model_fit_intercept <- fit_lmer(data_train, class = 'climate')"
   ]
  },
  {
   "cell_type": "code",
   "execution_count": 226,
   "metadata": {},
   "outputs": [
    {
     "name": "stdout",
     "output_type": "stream",
     "text": [
      "[1] \"RMSE is =  200.43671720903  and MAE is = 109.572947782972\"\n"
     ]
    }
   ],
   "source": [
    "### Validation Score\n",
    "get_error_lmer(model_fit_intercept, data_valid, class = 'climate')"
   ]
  },
  {
   "cell_type": "code",
   "execution_count": 227,
   "metadata": {},
   "outputs": [
    {
     "name": "stdout",
     "output_type": "stream",
     "text": [
      "[1] \"RMSE is =  183.444116283311  and MAE is = 96.7522254940579\"\n"
     ]
    }
   ],
   "source": [
    "### Train Score\n",
    "get_error_lmer(model_fit_intercept, data_train, class = 'climate')"
   ]
  },
  {
   "cell_type": "markdown",
   "metadata": {},
   "source": [
    "## Modelling with Kmeans classes - Need to make required files with Kmeans labels"
   ]
  },
  {
   "cell_type": "code",
   "execution_count": 13,
   "metadata": {},
   "outputs": [],
   "source": [
    "# fit_lmer <- function(data, class = 'Kmeans_4_label'){\n",
    "    \n",
    "#     # removing non-compatible cols\n",
    "#     data <- select(data,  -monthly_rain, -monthly_avg_rain_length, -B14002e1, -not_enrolled)\n",
    "    \n",
    "#     # scaling the other numeric cols\n",
    "#     data_train_numeric <- select(data, -Kmeans_2_label, -Kmeans_4_label, -month, -year, -unacast_session_count)\n",
    "#     scaled_data <- scale(data_train_numeric, scale= TRUE)\n",
    "    \n",
    "#     #scaling might cause NaN if all the values are 0\n",
    "#     scaled_data <- replace_na(scaled_data, 0)\n",
    "\n",
    "#     # combining required cols\n",
    "#     data_train <- cbind(data[c('month','year',class, 'unacast_session_count')], scaled_data)\n",
    "    \n",
    "#     col_names <- colnames(data_train) \n",
    "    \n",
    "#     # getting part of the function equation as string\n",
    "#     x <- col_names[1]\n",
    "#     for (i in seq(2,length(col_names))){\n",
    "\n",
    "#         if (col_names[i] == class | col_names[i] == 'unacast_session_count'){\n",
    "#             next\n",
    "#         }\n",
    "#         else{\n",
    "#             x <- paste(x, \" + \", col_names[i])   \n",
    "#         }\n",
    "#     }\n",
    "    \n",
    "# #     print(x)\n",
    "#     model_intercept <- lmer(paste(\"unacast_session_count ~ \", x, \" + (1 | \", class, \")\"), data = data_train)\n",
    "    \n",
    "#     return(model_intercept)\n",
    "# }"
   ]
  },
  {
   "cell_type": "code",
   "execution_count": 14,
   "metadata": {},
   "outputs": [
    {
     "name": "stderr",
     "output_type": "stream",
     "text": [
      "fixed-effect model matrix is rank deficient so dropping 109 columns / coefficients\n",
      "\n"
     ]
    }
   ],
   "source": [
    "# model_fit_intercept <- fit_lmer(data_train)"
   ]
  },
  {
   "cell_type": "code",
   "execution_count": 15,
   "metadata": {},
   "outputs": [],
   "source": [
    "# get_error_lmer <- function(model, data, class = 'Kmeans_4_label'){\n",
    "    \n",
    "#     y <- flatten_dbl(data['unacast_session_count'])\n",
    "#     # removing non-compatible cols\n",
    "#     data <- select(data,  -monthly_rain, -monthly_avg_rain_length, -B14002e1, -not_enrolled)\n",
    "#     # scaling the other numeric cols\n",
    "#     data_train_numeric <- select(data, -Kmeans_2_label, -Kmeans_4_label, -month, -year, -unacast_session_count)\n",
    "    \n",
    "#     scaled_data <- scale(data_train_numeric, scale = TRUE)\n",
    "    \n",
    "#     #scaling might cause NaN if all the values are 0 \n",
    "#     scaled_data <- replace_na(scaled_data, 0)\n",
    "#     data_test <- cbind(data[c('month','year',class)], scaled_data)\n",
    "    \n",
    "#     # predicting for new data\n",
    "#     y_pred <- predict(model, newdata = data_test, allow.new.levels = TRUE)\n",
    "    \n",
    "# #     print(sum(is.na(y_pred)))\n",
    "#     rmse_val <- rmse(y, y_pred)\n",
    "#     mae_val <- mae(y, y_pred)\n",
    "    \n",
    "#     print(paste(\"RMSE is = \", rmse_val, \" and MAE is =\",mae_val))\n",
    "# }"
   ]
  },
  {
   "cell_type": "code",
   "execution_count": 17,
   "metadata": {},
   "outputs": [
    {
     "name": "stdout",
     "output_type": "stream",
     "text": [
      "[1] \"RMSE is =  199.736639534294  and MAE is = 109.028203268506\"\n"
     ]
    }
   ],
   "source": [
    "### Validation Score\n",
    "# get_error_lmer(model_fit_intercept, data_valid, class = 'Kmeans_4_label')"
   ]
  },
  {
   "cell_type": "code",
   "execution_count": 18,
   "metadata": {},
   "outputs": [
    {
     "name": "stdout",
     "output_type": "stream",
     "text": [
      "[1] \"RMSE is =  182.946270176817  and MAE is = 96.9325286639546\"\n"
     ]
    }
   ],
   "source": [
    "### Train Score\n",
    "# get_error_lmer(model_fit_intercept, data_train, class = 'Kmeans_4_label')"
   ]
  },
  {
   "cell_type": "code",
   "execution_count": 20,
   "metadata": {},
   "outputs": [
    {
     "name": "stderr",
     "output_type": "stream",
     "text": [
      "fixed-effect model matrix is rank deficient so dropping 109 columns / coefficients\n",
      "\n"
     ]
    }
   ],
   "source": [
    "# model_fit_intercept <- fit_lmer(data_train, class='Kmeans_2_label')"
   ]
  },
  {
   "cell_type": "code",
   "execution_count": 21,
   "metadata": {},
   "outputs": [
    {
     "name": "stdout",
     "output_type": "stream",
     "text": [
      "[1] \"RMSE is =  199.805096744125  and MAE is = 108.926599650035\"\n"
     ]
    }
   ],
   "source": [
    "### Validation Score\n",
    "# get_error_lmer(model_fit_intercept, data_valid, class = 'Kmeans_2_label')"
   ]
  },
  {
   "cell_type": "code",
   "execution_count": 23,
   "metadata": {},
   "outputs": [
    {
     "name": "stdout",
     "output_type": "stream",
     "text": [
      "[1] \"RMSE is =  182.940689852884  and MAE is = 96.8829414020046\"\n"
     ]
    }
   ],
   "source": [
    "### Train Score\n",
    "# get_error_lmer(model_fit_intercept, data_train, class = 'Kmeans_2_label')"
   ]
  },
  {
   "cell_type": "code",
   "execution_count": null,
   "metadata": {},
   "outputs": [],
   "source": []
  }
 ],
 "metadata": {
  "kernelspec": {
   "display_name": "R",
   "language": "R",
   "name": "ir"
  },
  "language_info": {
   "codemirror_mode": "r",
   "file_extension": ".r",
   "mimetype": "text/x-r-source",
   "name": "R",
   "pygments_lexer": "r",
   "version": "3.6.1"
  }
 },
 "nbformat": 4,
 "nbformat_minor": 2
}
