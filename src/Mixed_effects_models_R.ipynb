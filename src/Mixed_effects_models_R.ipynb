{
 "cells": [
  {
   "cell_type": "code",
   "execution_count": 1,
   "metadata": {},
   "outputs": [
    {
     "name": "stderr",
     "output_type": "stream",
     "text": [
      "Warning message:\n",
      "\"package 'plm' was built under R version 3.6.2\"\n"
     ]
    }
   ],
   "source": [
    "suppressPackageStartupMessages(library(plm))\n",
    "suppressPackageStartupMessages(library(nlme))\n",
    "suppressPackageStartupMessages(library(tidyverse))\n",
    "suppressPackageStartupMessages(library(lme4))\n",
    "suppressPackageStartupMessages(library(repr))\n",
    "suppressPackageStartupMessages(library(dplyr))\n"
   ]
  },
  {
   "cell_type": "code",
   "execution_count": 2,
   "metadata": {},
   "outputs": [
    {
     "name": "stderr",
     "output_type": "stream",
     "text": [
      "Parsed with column specification:\n",
      "cols(\n",
      "  .default = col_double(),\n",
      "  income_class = \u001b[31mcol_character()\u001b[39m,\n",
      "  density_class = \u001b[31mcol_character()\u001b[39m,\n",
      "  climate = \u001b[31mcol_character()\u001b[39m\n",
      ")\n",
      "\n",
      "See spec(...) for full column specifications.\n",
      "\n",
      "Parsed with column specification:\n",
      "cols(\n",
      "  .default = col_double(),\n",
      "  income_class = \u001b[31mcol_character()\u001b[39m,\n",
      "  density_class = \u001b[31mcol_character()\u001b[39m,\n",
      "  climate = \u001b[31mcol_character()\u001b[39m\n",
      ")\n",
      "\n",
      "See spec(...) for full column specifications.\n",
      "\n"
     ]
    }
   ],
   "source": [
    "data_train <- read_csv('../data/train_processed.csv')\n",
    "data_valid <- read_csv('../data/valid_processed.csv')"
   ]
  },
  {
   "cell_type": "code",
   "execution_count": 3,
   "metadata": {},
   "outputs": [
    {
     "data": {
      "text/html": [
       "<table>\n",
       "<caption>A tibble: 6 × 627</caption>\n",
       "<thead>\n",
       "\t<tr><th scope=col>month</th><th scope=col>year</th><th scope=col>monthly_number_of_sessions</th><th scope=col>monthly_unique_sessions</th><th scope=col>monthly_repeated_sessions</th><th scope=col>monthly_avg_length_of_session</th><th scope=col>monthly_avg_light_activity</th><th scope=col>monthly_avg_moderate_activity</th><th scope=col>monthly_avg_vigorous_activity</th><th scope=col>monthly_count_ramp</th><th scope=col>...</th><th scope=col>monthly_ws_light_br</th><th scope=col>monthly_ws_gentle_br</th><th scope=col>monthly_ws_moderate_br</th><th scope=col>historic_ws_calm</th><th scope=col>historic_ws_light_air</th><th scope=col>historic_ws_light_br</th><th scope=col>historic_ws_gentle_br</th><th scope=col>historic_ws_moderate_br</th><th scope=col>avg_fertility_rate</th><th scope=col>unacast_session_count</th></tr>\n",
       "\t<tr><th scope=col>&lt;dbl&gt;</th><th scope=col>&lt;dbl&gt;</th><th scope=col>&lt;dbl&gt;</th><th scope=col>&lt;dbl&gt;</th><th scope=col>&lt;dbl&gt;</th><th scope=col>&lt;dbl&gt;</th><th scope=col>&lt;dbl&gt;</th><th scope=col>&lt;dbl&gt;</th><th scope=col>&lt;dbl&gt;</th><th scope=col>&lt;dbl&gt;</th><th scope=col>...</th><th scope=col>&lt;dbl&gt;</th><th scope=col>&lt;dbl&gt;</th><th scope=col>&lt;dbl&gt;</th><th scope=col>&lt;dbl&gt;</th><th scope=col>&lt;dbl&gt;</th><th scope=col>&lt;dbl&gt;</th><th scope=col>&lt;dbl&gt;</th><th scope=col>&lt;dbl&gt;</th><th scope=col>&lt;dbl&gt;</th><th scope=col>&lt;dbl&gt;</th></tr>\n",
       "</thead>\n",
       "<tbody>\n",
       "\t<tr><td>5</td><td>2018</td><td>  0</td><td> 0</td><td>  0</td><td>      0</td><td>     0.0</td><td>     0</td><td>    0.00</td><td>0</td><td>...</td><td> 0</td><td> 0</td><td> 0</td><td>0</td><td> 0</td><td> 0</td><td> 0</td><td> 0</td><td>63.90687</td><td> 190</td></tr>\n",
       "\t<tr><td>4</td><td>2019</td><td>  0</td><td> 0</td><td>  0</td><td>      0</td><td>     0.0</td><td>     0</td><td>    0.00</td><td>0</td><td>...</td><td> 0</td><td> 0</td><td> 0</td><td>1</td><td>18</td><td>63</td><td>41</td><td>54</td><td>61.17312</td><td>   7</td></tr>\n",
       "\t<tr><td>6</td><td>2018</td><td>  0</td><td> 0</td><td>  0</td><td>      0</td><td>     0.0</td><td>     0</td><td>    0.00</td><td>0</td><td>...</td><td> 0</td><td> 0</td><td> 0</td><td>0</td><td> 2</td><td> 2</td><td> 2</td><td> 3</td><td>65.72500</td><td>  32</td></tr>\n",
       "\t<tr><td>9</td><td>2019</td><td>  0</td><td> 0</td><td>  0</td><td>      0</td><td>     0.0</td><td>     0</td><td>    0.00</td><td>0</td><td>...</td><td> 0</td><td> 0</td><td> 0</td><td>0</td><td> 6</td><td> 7</td><td> 4</td><td> 5</td><td>65.12750</td><td>2332</td></tr>\n",
       "\t<tr><td>7</td><td>2019</td><td>176</td><td>16</td><td>160</td><td>1540398</td><td>438295.5</td><td>156642</td><td>56107.95</td><td>0</td><td>...</td><td>54</td><td>58</td><td>35</td><td>0</td><td>13</td><td>50</td><td>23</td><td>20</td><td>58.47000</td><td> 156</td></tr>\n",
       "\t<tr><td>9</td><td>2019</td><td>  0</td><td> 0</td><td>  0</td><td>      0</td><td>     0.0</td><td>     0</td><td>    0.00</td><td>0</td><td>...</td><td> 0</td><td> 0</td><td> 0</td><td>0</td><td> 0</td><td> 1</td><td> 0</td><td> 0</td><td>62.94125</td><td>3175</td></tr>\n",
       "</tbody>\n",
       "</table>\n"
      ],
      "text/latex": [
       "A tibble: 6 × 627\n",
       "\\begin{tabular}{r|lllllllllllllllllllllllllllllllllllllllllllllllllllllllllllllllllllllllllllllllllllllllllllllllllllllllllllllllllllllllllllllllllllllllllllllllllllllllllllllllllllllllllllllllllllllllllllllllllllllllllllllllllllllllllllllllllllllllllllllllllllllllllllllllllllllllllllllllllllllllllllllllllllllllllllllllllllllllllllllllllllllllllllllllllllllllllllllllllllllllllllllllllllllllllllllllllllllllllllllllllllllllllllllllllllllllllllllllllllllllllllllllllllllllllllllllllllllllllllllllllllllllllllllllllllllllllllllllllllllllllllllllllllllllllllllllllllllllllllllllllllllllllllllllllllllllllllllllllllllllllllllllllllllllllllllllllll}\n",
       " month & year & monthly\\_number\\_of\\_sessions & monthly\\_unique\\_sessions & monthly\\_repeated\\_sessions & monthly\\_avg\\_length\\_of\\_session & monthly\\_avg\\_light\\_activity & monthly\\_avg\\_moderate\\_activity & monthly\\_avg\\_vigorous\\_activity & monthly\\_count\\_ramp & monthly\\_count\\_zipline & monthly\\_count\\_spinner & monthly\\_count\\_pull\\_under & monthly\\_under\\_40 & monthly\\_temp\\_40\\_to\\_50 & monthly\\_temp\\_50\\_to\\_60 & monthly\\_temp\\_60\\_to\\_70 & monthly\\_temp\\_70\\_to\\_80 & monthly\\_temp\\_80\\_to\\_90 & monthly\\_over\\_90 & monthly\\_avg\\_length\\_under\\_40 & monthly\\_avg\\_length\\_temp\\_40\\_to\\_50 & monthly\\_avg\\_length\\_temp\\_50\\_to\\_60 & monthly\\_avg\\_length\\_temp\\_60\\_to\\_70 & monthly\\_avg\\_length\\_temp\\_70\\_to\\_80 & monthly\\_avg\\_length\\_temp\\_80\\_to\\_90 & monthly\\_avg\\_length\\_over\\_90 & monthly\\_cloudy & monthly\\_clear & monthly\\_foggy & monthly\\_rain & monthly\\_snow & monthly\\_avg\\_cloudy\\_length & monthly\\_avg\\_clear\\_length & monthly\\_avg\\_foggy\\_length & monthly\\_avg\\_rain\\_length & monthly\\_avg\\_snow\\_length & monthly\\_hour\\_7 & monthly\\_hour\\_8 & monthly\\_hour\\_9 & monthly\\_hour\\_10 & monthly\\_hour\\_11 & monthly\\_hour\\_12 & monthly\\_hour\\_13 & monthly\\_hour\\_14 & monthly\\_hour\\_15 & monthly\\_hour\\_16 & monthly\\_hour\\_17 & monthly\\_hour\\_18 & monthly\\_hour\\_19 & monthly\\_hour\\_20 & monthly\\_hour\\_21 & distance\\_to\\_nearest\\_bus\\_stop & B20004e10 & B11016e1 & B12001e12 & B20004e11 & B19125e1 & B12001e13 & B23008e22 & B11005e12 & B19101e10 & B23008e25 & B19055e2 & B19101e14 & B12001e10 & B23008e24 & B17020e13 & B12001e14 & B12001e19 & B11005e13 & B08301e21 & B20004e15 & B01001e26 & B20004e17 & B20004e18 & B12001e17 & B23008e21 & B23008e20 & B12001e18 & B23008e17 & B23008e23 & B08303e11 & B11005e19 & B20004e16 & B20004e13 & B08301e10 & B11005e18 & B11005e16 & B12001e11 & B20004e14 & B19055e3 & B23008e26 & B11005e14 & B17020e14 & B13014e15 & B25012e13 & B11005e2 & B11005e11 & B17020e12 & B11005e17 & B20004e9 & B19101e7 & B19101e4 & B23008e15 & B12001e15 & B09002e19 & B23008e27 & B20004e7 & B17012e8 & B11016e10 & B17012e31 & B11005e15 & B09002e20 & B19101e8 & C18108e5 & B25012e8 & B25012e15 & B17020e4 & B25012e16 & B25012e10 & B25012e6 & B09002e17 & B25012e12 & B25012e11 & B08301e6 & B17012e6 & B19101e6 & B25012e4 & B19101e12 & B17020e5 & B23008e18 & B17012e3 & B19101e5 & B12001e16 & B08303e12 & B17012e19 & B13012e1 & B17020e11 & B10010e1 & B19101e11 & B08303e13 & B16007e5 & B19101e16 & B25012e7 & B11016e12 & B17020e3 & B19101e3 & B25012e14 & B09002e18 & B17012e2 & B19101e9 & B19101e2 & B25071e1 & B25012e5 & B25012e17 & B17012e5 & B10010e2 & B11005e4 & B19101e15 & B11005e5 & B19101e17 & B17012e4 & B17012e7 & B20004e8 & B17020e10 & B09018e8 & B20004e6 & B23008e14 & B17020e6 & B10002e2 & B10002e5 & B11016e11 & B23008e16 & B10002e3 & B17012e26 & B25012e3 & B11005e10 & B08301e5 & B17012e25 & B17012e20 & B08301e4 & B19101e13 & B10002e4 & B23008e13 & C18108e3 & B09018e7 & B11001e9 & B10002e1 & C18108e4 & B23008e19 & B17020e2 & B10010e3 & B16007e7 & B23008e12 & B15003e23 & B15003e25 & B11005e6 & B11003e7 & B27003e1 & B11003e9 & B15003e20 & B09018e1 & B16007e1 & B11016e3 & B01001e4 & B11016e2 & B15003e21 & B15003e22 & B16007e2 & B09018e6 & B23008e11 & B19083e1 & B15003e24 & B23020e1 & B09018e3 & B11016e4 & B09018e5 & B19125e2 & B16007e3 & B01001e28 & B23020e3 & B23020e2 & B12001e6 & B27001e30 & B01001e29 & B25103e2 & B01002e1 & B16007e4 & B12001e9 & B15003e19 & B23008e10 & B09018e4 & B25010e1 & B01001e30 & B20004e4 & B11003e5 & B25010e2 & B23008e2 & B23008e5 & B23008e8 & B09002e16 & B25012e9 & B01002e3 & B11003e6 & B20004e5 & B25012e2 & B08303e1 & B23025e4 & B23008e4 & B10001e1 & B10001e2 & B23025e7 & B01001e1 & B12001e1 & B15003e17 & B11005e7 & B01001e3 & B12001e4 & B25103e3 & B23025e1 & B11003e4 & B25010e3 & B20004e3 & B23025e2 & B13012e2 & B09002e15 & B19059e2 & B09001e3 & B09002e3 & B09001e8 & B09002e8 & B25002e3 & B19059e3 & B09002e2 & B22003e5 & B22003e7 & B09002e4 & B09002e6 & B08301e1 & B09001e7 & B25105e1 & B09002e1 & B22003e6 & B09001e9 & B09001e4 & B09001e6 & B09002e7 & B13012e9 & B22003e4 & B22003e3 & B09001e1 & B09002e9 & B08301e3 & B14002e1 & B09002e5 & B09002e11 & B27001e2 & B25064e1 & B25001e1 & B19058e2 & B09001e5 & B09002e10 & B08301e2 & B09002e13 & B09002e12 & B23008e3 & B12001e8 & B01001e6 & B01002e2 & B25119e1 & B19301e1 & B25119e2 & B19125e3 & B11003e3 & B13016e4 & B23025e5 & B11001e5 & B25119e3 & B12001e3 & B15003e18 & B01001e27 & B17020e1 & B13016e1 & B11001e3 & B23025e6 & B13016e5 & B11005e9 & B20004e2 & B12001e2 & B01001e2 & B10001e3 & B01001e5 & B15003e1 & B15003e2 & B10001e4 & B20004e1 & B23008e1 & B11001e6 & B12001e5 & B13016e7 & B12001e7 & B23008e9 & B13016e6 & B23008e7 & B23008e6 & B09002e14 & B09001e10 & B11005e8 & B13016e3 & B13016e8 & B13016e9 & male\\_18\\_21 & male\\_22\\_29 & male\\_30\\_39 & male\\_40\\_49 & male\\_50\\_59 & male\\_60\\_69 & male\\_70\\_79 & male\\_80\\_over & female\\_18\\_21 & female\\_22\\_29 & female\\_30\\_39 & female\\_40\\_49 & female\\_50\\_59 & female\\_60\\_69 & female\\_70\\_79 & female\\_80\\_over & total\\_enrolled & not\\_enrolled & enrolled\\_nursery\\_pre\\_public & enrolled\\_nursery\\_pre\\_private & enrolled\\_kinder\\_public & enrolled\\_kinder\\_private & enrolled\\_grades\\_1\\_4\\_public & enrolled\\_grades\\_1\\_4\\_private & enrolled\\_grades\\_5\\_8\\_public & enrolled\\_grades\\_5\\_8\\_private & enrolled\\_grades\\_9\\_12\\_public & enrolled\\_grades\\_9\\_12\\_private & enrolled\\_undergrad\\_public & enrolled\\_undergrad\\_private & enrolled\\_graduate\\_public & enrolled\\_graduate\\_private & less\\_than\\_12\\_no\\_diploma & carpool\\_4\\_more & travel\\_15\\_minutes\\_less & travel\\_15\\_29\\_minutes & travel\\_30\\_44\\_minutes & single\\_under\\_6 & single\\_0\\_to\\_17 & single\\_6\\_to\\_17 & single\\_no\\_kids & four\\_or\\_more\\_in\\_family\\_household & four\\_or\\_more\\_in\\_nonfamily\\_household & men\\_with\\_health\\_insurance & men\\_without\\_health\\_insurance & women\\_with\\_health\\_insurnace & women\\_without\\_health\\_insurance & avg\\_birth\\_weight & avg\\_age\\_of\\_mother & longitude & latitude & num\\_places\\_within\\_800m & alcohol & amenity & bakery & bank & bar & cafe & camp\\_site & car\\_repair & childcare & clothes\\_store & community\\_centre & convenience\\_store & fast\\_food & fire\\_station & fitness\\_or\\_sports\\_centre & fuel & hairdresser\\_or\\_beauty & healthcare & hotel & ice\\_cream & laundry\\_or\\_dry\\_cleaning & leisure & library & museum\\_or\\_gallery & office & park & parking & pharmacy & picnic\\_site & place\\_of\\_worship & police & post\\_office & restaurant & shop & supermarket & swimming\\_pool & tourism & income\\_class & density\\_class & climate & distance\\_to\\_C & distance\\_to\\_I & distance\\_to\\_M & distance\\_to\\_O & distance\\_to\\_S & distance\\_to\\_U & distance\\_to\\_nearest\\_school & walk\\_score & bike\\_score & n & m & k\\_avg & intersection\\_count & streets\\_per\\_node\\_avg & edge\\_length\\_total & edge\\_length\\_avg & street\\_length\\_total & street\\_length\\_avg & street\\_segments\\_count & streets\\_per\\_node\\_counts\\_1 & streets\\_per\\_node\\_counts\\_2 & streets\\_per\\_node\\_counts\\_3 & streets\\_per\\_node\\_counts\\_4 & streets\\_per\\_node\\_counts\\_5 & n\\_osdw & m\\_osdw & k\\_avg\\_osdw & intersection\\_count\\_osdw & streets\\_per\\_node\\_avg\\_osdw & edge\\_length\\_total\\_osdw & edge\\_length\\_avg\\_osdw & street\\_length\\_total\\_osdw & street\\_length\\_avg\\_osdw & street\\_segments\\_count\\_osdw & streets\\_per\\_node\\_counts\\_1\\_osdw & streets\\_per\\_node\\_counts\\_2\\_osdw & streets\\_per\\_node\\_counts\\_3\\_osdw & streets\\_per\\_node\\_counts\\_4\\_osdw & streets\\_per\\_node\\_counts\\_5\\_osdw & n\\_osid & m\\_osid & k\\_avg\\_osid & intersection\\_count\\_osid & streets\\_per\\_node\\_avg\\_osid & edge\\_length\\_total\\_osid & edge\\_length\\_avg\\_osid & street\\_length\\_total\\_osid & street\\_length\\_avg\\_osid & street\\_segments\\_count\\_osid & streets\\_per\\_node\\_counts\\_1\\_osid & streets\\_per\\_node\\_counts\\_2\\_osid & streets\\_per\\_node\\_counts\\_3\\_osid & streets\\_per\\_node\\_counts\\_4\\_osid & streets\\_per\\_node\\_counts\\_5\\_osid & violent\\_crime & criminal\\_homicide & rape & robbery & aggravated\\_assault & property\\_crime & burglary & larceny\\_theft & motor\\_vehicle\\_theft & houses\\_per\\_sq\\_km & days\\_since\\_first\\_sess & historic\\_number\\_of\\_sessions & historic\\_sessions\\_per\\_day & historic\\_unique\\_sessions & historic\\_unique\\_sessions\\_per\\_day & historic\\_repeat\\_sessions & historic\\_repeat\\_sessions\\_per\\_day & historic\\_total\\_session\\_length & historic\\_avg\\_session\\_length & historic\\_avg\\_light\\_activity & historic\\_avg\\_moderate\\_activity & historic\\_avg\\_vigorous\\_activity & historic\\_avg\\_mod\\_plus\\_vig & historic\\_hour\\_7 & historic\\_hour\\_8 & historic\\_hour\\_9 & historic\\_hour\\_10 & historic\\_hour\\_11 & historic\\_hour\\_12 & historic\\_hour\\_13 & historic\\_hour\\_14 & historic\\_hour\\_15 & historic\\_hour\\_16 & historic\\_hour\\_17 & historic\\_hour\\_18 & historic\\_hour\\_19 & historic\\_hour\\_20 & historic\\_hour\\_21 & historic\\_cloudy & historic\\_temp\\_under\\_40 & historic\\_temp\\_40\\_to\\_50 & historic\\_temp\\_50\\_to\\_60 & historic\\_temp\\_60\\_to\\_70 & historic\\_temp\\_70\\_to\\_80 & historic\\_temp\\_80\\_to\\_90 & historic\\_temp\\_over\\_90 & historic\\_rain & historic\\_clear & historic\\_foggy & historic\\_snow & Democrats\\_08\\_Votes & Democrats\\_12\\_Votes & Republican\\_08\\_Votes & Republican\\_12\\_Votes & Republicans\\_2016 & Democrats\\_2016 & Green\\_2016 & Libertarians\\_2016 & Poor\\_physical\\_health\\_days & Poor\\_mental\\_health\\_days & Adult\\_smoking & Adult\\_obesity & Diabetes & Number\\_of\\_holidays & weather\\_clear & weather\\_rain & weather\\_fog & weather\\_snow & weather\\_thunder & weather\\_cloudy & weather\\_other & temp\\_avg\\_35\\_below & temp\\_avg\\_35\\_45 & temp\\_avg\\_45\\_55 & temp\\_avg\\_55\\_65 & temp\\_avg\\_65\\_75 & temp\\_avg\\_75\\_85 & temp\\_avg\\_85\\_95 & temp\\_avg\\_95\\_above & temp\\_max\\_35\\_below & temp\\_max\\_35\\_45 & temp\\_max\\_45\\_55 & temp\\_max\\_55\\_65 & temp\\_max\\_65\\_75 & temp\\_max\\_75\\_85 & temp\\_max\\_85\\_95 & temp\\_max\\_95\\_above & precip\\_mm\\_none & precip\\_mm\\_0\\_1 & precip\\_mm\\_1\\_10 & precip\\_mm\\_10\\_above & perfect\\_days & hpi & state\\_and\\_local\\_amount\\_per\\_capita & state\\_amount\\_per\\_capita & local\\_amount\\_per\\_capita & monthly\\_slide\\_count\\_comb & historic\\_slide\\_count\\_comb & monthly\\_climb\\_count\\_comb & historic\\_climb\\_count\\_comb & monthly\\_tube\\_count\\_comb & historic\\_tube\\_count\\_comb & monthly\\_overhang\\_count\\_comb & historic\\_overhang\\_count\\_comb & monthly\\_bridge\\_count\\_comb & historic\\_bridge\\_count\\_comb & monthly\\_swing\\_count\\_comb & historic\\_swing\\_count\\_comb & historic\\_obsta\\_count\\_comb & historic\\_crawls\\_count\\_comb & monthly\\_hour\\_night & historic\\_hour\\_night & avg\\_wind\\_calm & avg\\_wind\\_light\\_air & avg\\_wind\\_light\\_br & avg\\_wind\\_gentle\\_br & avg\\_wind\\_moderate\\_br & monthly\\_ws\\_calm & monthly\\_ws\\_light\\_air & monthly\\_ws\\_light\\_br & monthly\\_ws\\_gentle\\_br & monthly\\_ws\\_moderate\\_br & historic\\_ws\\_calm & historic\\_ws\\_light\\_air & historic\\_ws\\_light\\_br & historic\\_ws\\_gentle\\_br & historic\\_ws\\_moderate\\_br & avg\\_fertility\\_rate & unacast\\_session\\_count\\\\\n",
       " <dbl> & <dbl> & <dbl> & <dbl> & <dbl> & <dbl> & <dbl> & <dbl> & <dbl> & <dbl> & <dbl> & <dbl> & <dbl> & <dbl> & <dbl> & <dbl> & <dbl> & <dbl> & <dbl> & <dbl> & <dbl> & <dbl> & <dbl> & <dbl> & <dbl> & <dbl> & <dbl> & <dbl> & <dbl> & <dbl> & <dbl> & <dbl> & <dbl> & <dbl> & <dbl> & <dbl> & <dbl> & <dbl> & <dbl> & <dbl> & <dbl> & <dbl> & <dbl> & <dbl> & <dbl> & <dbl> & <dbl> & <dbl> & <dbl> & <dbl> & <dbl> & <dbl> & <dbl> & <dbl> & <dbl> & <dbl> & <dbl> & <dbl> & <dbl> & <dbl> & <dbl> & <dbl> & <dbl> & <dbl> & <dbl> & <dbl> & <dbl> & <dbl> & <dbl> & <dbl> & <dbl> & <dbl> & <dbl> & <dbl> & <dbl> & <dbl> & <dbl> & <dbl> & <dbl> & <dbl> & <dbl> & <dbl> & <dbl> & <dbl> & <dbl> & <dbl> & <dbl> & <dbl> & <dbl> & <dbl> & <dbl> & <dbl> & <dbl> & <dbl> & <dbl> & <dbl> & <dbl> & <dbl> & <dbl> & <dbl> & <dbl> & <dbl> & <dbl> & <dbl> & <dbl> & <dbl> & <dbl> & <dbl> & <dbl> & <dbl> & <dbl> & <dbl> & <dbl> & <dbl> & <dbl> & <dbl> & <dbl> & <dbl> & <dbl> & <dbl> & <dbl> & <dbl> & <dbl> & <dbl> & <dbl> & <dbl> & <dbl> & <dbl> & <dbl> & <dbl> & <dbl> & <dbl> & <dbl> & <dbl> & <dbl> & <dbl> & <dbl> & <dbl> & <dbl> & <dbl> & <dbl> & <dbl> & <dbl> & <dbl> & <dbl> & <dbl> & <dbl> & <dbl> & <dbl> & <dbl> & <dbl> & <dbl> & <dbl> & <dbl> & <dbl> & <dbl> & <dbl> & <dbl> & <dbl> & <dbl> & <dbl> & <dbl> & <dbl> & <dbl> & <dbl> & <dbl> & <dbl> & <dbl> & <dbl> & <dbl> & <dbl> & <dbl> & <dbl> & <dbl> & <dbl> & <dbl> & <dbl> & <dbl> & <dbl> & <dbl> & <dbl> & <dbl> & <dbl> & <dbl> & <dbl> & <dbl> & <dbl> & <dbl> & <dbl> & <dbl> & <dbl> & <dbl> & <dbl> & <dbl> & <dbl> & <dbl> & <dbl> & <dbl> & <dbl> & <dbl> & <dbl> & <dbl> & <dbl> & <dbl> & <dbl> & <dbl> & <dbl> & <dbl> & <dbl> & <dbl> & <dbl> & <dbl> & <dbl> & <dbl> & <dbl> & <dbl> & <dbl> & <dbl> & <dbl> & <dbl> & <dbl> & <dbl> & <dbl> & <dbl> & <dbl> & <dbl> & <dbl> & <dbl> & <dbl> & <dbl> & <dbl> & <dbl> & <dbl> & <dbl> & <dbl> & <dbl> & <dbl> & <dbl> & <dbl> & <dbl> & <dbl> & <dbl> & <dbl> & <dbl> & <dbl> & <dbl> & <dbl> & <dbl> & <dbl> & <dbl> & <dbl> & <dbl> & <dbl> & <dbl> & <dbl> & <dbl> & <dbl> & <dbl> & <dbl> & <dbl> & <dbl> & <dbl> & <dbl> & <dbl> & <dbl> & <dbl> & <dbl> & <dbl> & <dbl> & <dbl> & <dbl> & <dbl> & <dbl> & <dbl> & <dbl> & <dbl> & <dbl> & <dbl> & <dbl> & <dbl> & <dbl> & <dbl> & <dbl> & <dbl> & <dbl> & <dbl> & <dbl> & <dbl> & <dbl> & <dbl> & <dbl> & <dbl> & <dbl> & <dbl> & <dbl> & <dbl> & <dbl> & <dbl> & <dbl> & <dbl> & <dbl> & <dbl> & <dbl> & <dbl> & <dbl> & <dbl> & <dbl> & <dbl> & <dbl> & <dbl> & <dbl> & <dbl> & <dbl> & <dbl> & <dbl> & <dbl> & <dbl> & <dbl> & <dbl> & <dbl> & <dbl> & <dbl> & <dbl> & <dbl> & <dbl> & <dbl> & <dbl> & <dbl> & <dbl> & <dbl> & <dbl> & <dbl> & <dbl> & <dbl> & <dbl> & <dbl> & <dbl> & <dbl> & <dbl> & <dbl> & <dbl> & <dbl> & <dbl> & <dbl> & <dbl> & <dbl> & <dbl> & <dbl> & <dbl> & <dbl> & <dbl> & <dbl> & <dbl> & <dbl> & <dbl> & <dbl> & <dbl> & <dbl> & <dbl> & <dbl> & <dbl> & <dbl> & <dbl> & <dbl> & <dbl> & <dbl> & <dbl> & <dbl> & <dbl> & <dbl> & <dbl> & <dbl> & <dbl> & <dbl> & <dbl> & <dbl> & <dbl> & <dbl> & <dbl> & <dbl> & <dbl> & <dbl> & <dbl> & <dbl> & <dbl> & <dbl> & <dbl> & <dbl> & <dbl> & <dbl> & <dbl> & <dbl> & <dbl> & <dbl> & <dbl> & <dbl> & <dbl> & <dbl> & <dbl> & <dbl> & <dbl> & <dbl> & <dbl> & <dbl> & <dbl> & <dbl> & <dbl> & <dbl> & <dbl> & <dbl> & <dbl> & <dbl> & <dbl> & <dbl> & <dbl> & <dbl> & <dbl> & <dbl> & <dbl> & <dbl> & <dbl> & <dbl> & <dbl> & <dbl> & <dbl> & <dbl> & <dbl> & <dbl> & <dbl> & <dbl> & <dbl> & <dbl> & <dbl> & <dbl> & <dbl> & <dbl> & <dbl> & <dbl> & <dbl> & <dbl> & <dbl> & <chr> & <chr> & <chr> & <dbl> & <dbl> & <dbl> & <dbl> & <dbl> & <dbl> & <dbl> & <dbl> & <dbl> & <dbl> & <dbl> & <dbl> & <dbl> & <dbl> & <dbl> & <dbl> & <dbl> & <dbl> & <dbl> & <dbl> & <dbl> & <dbl> & <dbl> & <dbl> & <dbl> & <dbl> & <dbl> & <dbl> & <dbl> & <dbl> & <dbl> & <dbl> & <dbl> & <dbl> & <dbl> & <dbl> & <dbl> & <dbl> & <dbl> & <dbl> & <dbl> & <dbl> & <dbl> & <dbl> & <dbl> & <dbl> & <dbl> & <dbl> & <dbl> & <dbl> & <dbl> & <dbl> & <dbl> & <dbl> & <dbl> & <dbl> & <dbl> & <dbl> & <dbl> & <dbl> & <dbl> & <dbl> & <dbl> & <dbl> & <dbl> & <dbl> & <dbl> & <dbl> & <dbl> & <dbl> & <dbl> & <dbl> & <dbl> & <dbl> & <dbl> & <dbl> & <dbl> & <dbl> & <dbl> & <dbl> & <dbl> & <dbl> & <dbl> & <dbl> & <dbl> & <dbl> & <dbl> & <dbl> & <dbl> & <dbl> & <dbl> & <dbl> & <dbl> & <dbl> & <dbl> & <dbl> & <dbl> & <dbl> & <dbl> & <dbl> & <dbl> & <dbl> & <dbl> & <dbl> & <dbl> & <dbl> & <dbl> & <dbl> & <dbl> & <dbl> & <dbl> & <dbl> & <dbl> & <dbl> & <dbl> & <dbl> & <dbl> & <dbl> & <dbl> & <dbl> & <dbl> & <dbl> & <dbl> & <dbl> & <dbl> & <dbl> & <dbl> & <dbl> & <dbl> & <dbl> & <dbl> & <dbl> & <dbl> & <dbl> & <dbl> & <dbl> & <dbl> & <dbl> & <dbl> & <dbl> & <dbl> & <dbl> & <dbl> & <dbl> & <dbl> & <dbl> & <dbl> & <dbl> & <dbl> & <dbl> & <dbl> & <dbl> & <dbl> & <dbl> & <dbl> & <dbl> & <dbl> & <dbl> & <dbl> & <dbl> & <dbl> & <dbl> & <dbl> & <dbl> & <dbl> & <dbl> & <dbl> & <dbl> & <dbl> & <dbl> & <dbl> & <dbl> & <dbl> & <dbl> & <dbl> & <dbl> & <dbl> & <dbl> & <dbl> & <dbl> & <dbl> & <dbl> & <dbl>\\\\\n",
       "\\hline\n",
       "\t 5 & 2018 &   0 &  0 &   0 &       0 &      0.0 &      0 &     0.00 & 0 & 0 & 0 & 0 & 0 & 0 & 0 &  0 &  0 &  0 & 0 & 0 & 0 & 0 &  0.00 &  0.00 &  0.0 & 0 & 0 &   0 & 0 & 0 & 0 & 0 &  0.00 & 0 & 0 & 0 & 0 & 0 & 0 & 0 & 0 & 0 & 0 &  0 &  0 & 0 & 0 &  0 &  0 & 0 &  0 & 58323.95 & 22525 & 2110 & 777 & 37303 &  37311 &  872 &  55 & 585 & 42 & 178 & 859 &  72 & 154 &  0 & 321 &  712 & 224 & 462 &  13 & 16033 & 2724 & 37594 &     0 & 31 & 233 & 0 & 337 &  72 &  55 & 106 & 446 & 28750 & 18776 &   0 & 438 &  14 & 2210 & 16384 & 1251 & 139 & 123 & 1807 &  997 & 179 & 641 & 1469 &   0 &  884 & 21875 & 33 & 13 & 422 & 160 & 78 & 39 & 22887 & 274 &  748 &  66 & 109 &  54 & 126 & 1300 & 86 &  61 & 166 & 65 &  995 &  0 & 93 & 325 & 390 & 45 & 35 &  38 & 143 & 160 & 104 & 117 & 46 & 287 & 129 &  61 &  884 & 1113 & 183 & 40222 &  69 & 46 &  0 &   0 & 127 &  0 & 520 & 65 & 85 & 45 & 320 & 59 & 117 & 33.1 &  16 &  605 &  0 & 0 & 220 &  30 & 399 &   0 & 11 &  0 & 16868 & 3572 & 57 &  50833 & 128 & 727 & 94 & 68 & 136 & 189 & 33 & 182 & 229 & 0 & 536 & 248 &  636 & 661 &  93 & 61 & 282 & 30 & 233 & 158 & 162 &  0 &  0 & 1612 & 0 & 0 & 410 &  73 &  28 & 157 & 507 & 5220 & 266 & 453 & 1330 & 4716 & 569 & 169 & 1204 & 362 &  255 & 730 & 162 & 0 & 0.4049 &   0 & 40.7 &  832 & 207 & 30 &  21273 & 531 & 100 & 39.5 & 41.9 & 140 & 2657 & 209 &  925 & 40.9 & 199 & 56 & 271 & 124 & 16 & 2.47 & 58 & 23050 & 35 & 2.45 & 703 & 169 & 534 & 127 &  886 & 44.9 & 124 & 37500 & 1115 & 2072 & 2132 &   0 & 162 & 64 & 1816 & 5316 & 4118 &  979 & 242 & 395 &  832 &  605 & 4097 &  16 & 2.49 & 16946 & 2281 & 137 & 397 & 393 & 393 &  78 & 329 & 520 & 427 & 1717 & 358 & 1642 & 1435 & 48 &  51 & 2085 &  21 &  547 &  878 & 207 & 132 & 207 & 145 & 138 &  976 & 182 & 286 & 1330 & 123 & 1355 & 4923 & 43 & 35 & 2563 &  499 & 2537 & 468 & 103 & 70 & 2016 &   0 & 0 & 169 & 46 &  74 & 33.1 &  28650 & 15556 &  39829 &  49300 & 175 & 85 & 149 & 266 & 22566 & 866 & 171 & 205 & 5184 & 1134 &  682 & 0 & 33 & 22 & 16684 & 1908 & 2592 & 37 & 120 & 3508 & 20 & 61 & 21652 & 1125 & 256 &  692 & 19 & 94 & 124 &  0 & 0 &  0 &  18 & 0 & 22 & 0 &  0 &  0 &  24 & 473 & 131 & 171 & 353 & 324 & 286 &  72 & 152 & 312 & 204 & 408 & 306 & 293 & 264 & 213 & 1056 & 3867 & 139 &  0 & 54 &  0 & 112 &   0 & 273 &  0 & 190 &  0 & 214 & 21 & 53 &  0 & 896 & 80 & 892 &  779 & 188 & 179 & 50 &  64 & 229 & 428 & 22 & 2010 & 553 & 2114 & 543 & 3262.09 & 27.47 & -78.13942 & 34.99416 &  0 & 0 &  0 & 0 & 0 & 0 & 0 & 0 & 0 & 0 & 0 & 0 & 0 & 0 & 0 & 0 & 0 & 0 & 0 & 0 & 0 & 0 & 0 & 0 & 0 & 0 & 0 & 0 & 0 & 0 & 0 & 0 & 0 &  0 & 0 & 0 & 0 & 0 & LI & LD & C & 37335.68 &   482.49 & 638.32 & 51923.42 &   87.58 &  4327.58 & 2736.96 & 22 & 32 &   43 &  115 & 5.348837 &   42 & 3.069767 &  11737.32 & 102.06363 &   7164.126 & 106.92725 &   67 &   1 & 0 &  37 &   5 & 0 &   69 &  204 & 5.913043 &   67 & 3.014493 &  15130.73 &  74.17025 &   8036.195 &  76.53519 &  105 &   2 & 0 &  62 &   5 &  0 &   7 &   10 & 2.857143 &   7 & 3.428571 &   7179.322 & 717.93220 &   5610.972 & 701.37150 &    8 &  0 & 0 &   4 &   3 & 0 & 488.3 &  7.7 & 47.9 &  69.9 & 362.8 & 3017.6 & 579.7 & 2156.0 & 281.9 &   20.28394 &   0 &   0 & 0.000000000 &   0 & 0.000000000 &  0 & 0.00000000 &        0 &      0.0 &      0.00 &      0.00 &     0.000 &      0.00 & 0 & 0 &  0 &  0 &  0 &  0 &  0 &  0 &  0 &  0 &  0 &  0 &  0 &  0 & 0 &  0 & 0 &  0 &  0 &  0 &  0 &  0 & 0 &  0 &   0 &  0 & 0 &   8958 &   9033 &  10834 &  11416 & 58.98257 & 39.78448 & 0.0000000 & 1.2329499 & 4.2 & 2.5 & 0.204 & 0.361 & 0.140 & 1 & 22 & 0 & 0 & 0 & 0 &  9 & 0 & 0 & 1 &  0 &  2 & 15 & 13 & 0 & 0 & 0 & 0 &  0 & 0 &  2 & 19 & 10 & 0 & 12 & 1 &  3 & 15 & 2 & 188.40 & 0.10787533 & 0.017042367 & 0.09083296 &  0 &   0 &  0 &   0 & 0 &   0 &  0 &   0 &  0 &   0 &  0 &   0 & 0 & 0 &  0 & 0 & 28 &  3 & 0 & 0 & 0 & 0 & 0 &  0 &  0 &  0 & 0 &  0 &  0 &  0 &  0 & 63.90687 &  190\\\\\n",
       "\t 4 & 2019 &   0 &  0 &   0 &       0 &      0.0 &      0 &     0.00 & 0 & 0 & 0 & 0 & 0 & 0 & 0 &  0 &  0 &  0 & 0 & 0 & 0 & 0 &  0.00 &  0.00 &  0.0 & 0 & 0 &   0 & 0 & 0 & 0 & 0 &  0.00 & 0 & 0 & 0 & 0 & 0 & 0 & 0 & 0 & 0 & 0 &  0 &  0 & 0 & 0 &  0 &  0 & 0 &  0 &  3920.91 & 65909 & 1309 & 322 & 76316 & 109853 &  975 &   0 & 617 & 17 &  38 & 520 & 172 &  32 &  0 & 334 &  935 &  51 & 604 &  36 & 40625 & 1775 & 51806 & 52847 & 29 &  38 & 0 & 158 & 352 &   0 & 151 & 197 & 32574 & 40000 &  63 & 152 &   8 & 1506 &     0 &  789 &  38 &  13 & 1599 &  675 &   0 & 343 &  966 & 191 &  349 & 37436 & 12 &  0 & 525 &  40 &  0 &  0 & 61944 &   8 &  275 &  12 &   5 &  26 &  53 &  671 & 15 &   0 &   0 &  0 &   20 & 41 &  0 &   0 &   0 & 36 &  0 &   0 & 328 &  45 &   0 & 122 & 10 &  22 &  11 & 187 &  942 &  681 & 146 &     0 &  75 & 25 & 21 & 118 & 272 &  0 &   0 &  0 &  0 &  0 &  18 & 43 &  18 &  0.0 &  15 &   20 &  0 & 0 & 322 & 129 &  21 & 124 & 10 &  0 &     0 & 3249 &  0 &  54375 &   9 &  65 & 21 &  0 &  74 & 487 & 21 &  14 & 343 & 0 &  42 &  26 &  916 & 102 & 132 &  0 &   0 &  0 &   0 &  74 &  21 &  0 & 13 &   98 & 0 & 0 &   9 & 398 &   0 &   9 & 610 & 3347 &  14 & 273 &  671 & 3201 & 500 &  80 &  960 & 243 &  795 & 525 &  21 & 0 & 0.3626 &  33 & 38.3 &  641 & 173 &  9 & 120000 & 497 &  29 & 32.6 & 44.1 &  19 & 1775 & 103 & 6112 & 48.7 &   7 & 72 & 110 &   0 &  0 & 2.56 & 74 & 40703 & 41 & 2.57 & 146 & 120 &   9 &   0 &  946 & 48.3 & 260 & 60114 & 1289 & 1686 & 1737 &  17 &  21 &  9 & 1069 & 3347 & 2909 &  457 &  12 &   9 &  955 & 5744 & 2826 &  15 & 1.50 & 40511 & 1757 &  38 &  26 & 433 &  89 &  89 & 101 &  26 &  30 &  876 & 624 & 1300 & 1252 & 48 & 191 & 1722 & 136 & 1475 &  650 &  48 & 233 &  57 &  55 & 296 &  643 &   9 &   0 &  671 &   0 & 1508 & 3258 &  0 &  0 & 1572 &    0 & 1339 &   9 &   0 &  0 & 1610 &   0 & 0 & 137 & 10 & 159 & 49.6 & 100032 & 43762 & 100125 & 106591 & 316 &  0 &  20 &  14 &     0 & 344 &  31 & 137 & 3347 &  713 &  926 & 0 & 32 &  0 &     0 & 1403 & 1572 &  0 &  80 & 2450 &  3 & 12 & 52455 &  671 &  20 &  936 &  0 &  9 &   0 &  6 & 0 &  0 &   0 & 0 &  0 & 0 &  0 &  0 &  84 &  72 & 137 & 179 & 299 & 259 & 159 &  55 &  80 & 160 & 135 & 246 & 272 & 297 & 174 &  68 &  810 & 2448 &   0 & 37 &  0 & 11 &  52 &  46 & 106 & 45 & 257 & 18 & 128 & 57 & 12 & 41 & 107 & 24 & 363 &  427 & 533 &   0 &  0 &  12 &  22 & 287 &  0 & 1534 &  38 & 1724 &  51 & 3320.38 & 30.37 & -87.95661 & 41.75781 &  1 & 0 &  0 & 0 & 0 & 0 & 0 & 0 & 0 & 0 & 0 & 0 & 0 & 0 & 0 & 0 & 1 & 0 & 0 & 0 & 0 & 0 & 0 & 0 & 0 & 0 & 0 & 0 & 0 & 0 & 0 & 0 & 0 &  0 & 0 & 0 & 0 & 0 & HI & MD & D &   151.92 &  2063.24 &  88.50 & 25487.10 &  968.60 &  5850.67 & 3565.53 & 33 & 48 &  492 & 1260 & 5.121951 &  450 & 2.945122 & 103269.63 &  81.96002 &  56845.823 &  81.67503 &  696 &  42 & 4 & 389 &  53 & 4 &  747 & 2120 & 5.676037 &  651 & 2.946452 & 134013.04 &  63.21370 &  67531.441 &  63.40980 & 1065 &  96 & 0 & 506 & 138 &  7 & 169 &  435 & 5.147929 & 158 & 3.059172 &  70707.613 & 162.54624 &  38559.628 & 164.08352 &  235 & 11 & 0 & 129 &  26 & 3 & 113.4 &  9.1 & 45.3 &   4.5 &  54.4 & 1047.4 & 104.3 &  902.3 &  40.8 &  576.32546 & 662 & 211 & 0.318731118 & 166 & 0.250755287 & 45 & 0.06797583 & 96305000 & 456421.8 &  97654.03 &  54061.61 &  2791.469 &  56853.08 & 0 & 6 & 26 & 32 & 40 & 34 & 42 & 44 & 38 & 42 & 28 & 38 & 40 & 12 & 0 & 11 & 0 & 12 & 10 & 25 & 77 & 36 & 3 & 19 & 113 & 26 & 0 & 228698 & 199460 & 183626 & 195046 & 39.80224 & 53.88311 & 1.4949301 & 4.8197148 & 2.8 & 3.1 & 0.122 & 0.248 & 0.076 & 0 & 15 & 0 & 0 & 2 & 0 & 12 & 0 & 0 & 7 & 13 &  9 &  1 &  0 & 0 & 0 & 0 & 0 & 11 & 8 &  8 &  3 &  0 & 0 &  9 & 1 & 17 &  3 & 0 & 270.21 & 0.24387503 & 0.005993977 & 0.23788105 &  0 & 428 &  0 & 332 & 0 & 404 &  0 & 156 &  0 & 388 &  0 &  70 & 0 & 0 &  0 & 0 &  4 & 26 & 0 & 0 & 0 & 0 & 0 &  0 &  0 &  0 & 1 & 18 & 63 & 41 & 54 & 61.17312 &    7\\\\\n",
       "\t 6 & 2018 &   0 &  0 &   0 &       0 &      0.0 &      0 &     0.00 & 0 & 0 & 0 & 0 & 0 & 0 & 0 &  0 &  0 &  0 & 0 & 0 & 0 & 0 &  0.00 &  0.00 &  0.0 & 0 & 0 &   0 & 0 & 0 & 0 & 0 &  0.00 & 0 & 0 & 0 & 0 & 0 & 0 & 0 & 0 & 0 & 0 &  0 &  0 & 0 & 0 &  0 &  0 & 0 &  0 & 33036.68 & 41064 & 2357 & 319 & 72975 &  64071 & 1134 & 230 & 830 & 30 & 219 & 732 & 114 & 319 & 35 & 371 & 1082 & 332 & 783 & 108 & 24179 & 2312 &     0 & 53780 & 13 & 449 & 0 & 199 & 270 & 195 & 224 & 419 & 23718 & 25188 &   0 & 411 &  47 & 1984 &     0 & 1625 & 192 &  47 & 2257 &  913 &  17 & 697 & 1660 & 283 &  830 & 34167 & 40 & 46 & 843 &  52 & 94 & 27 & 42313 & 113 &  791 & 115 &   0 & 100 & 115 & 1107 & 12 &  90 & 118 &  0 &  460 & 37 & 36 & 200 & 200 & 68 & 13 & 104 & 485 & 262 &  71 & 124 & 92 &  47 &  39 &  32 & 1322 &  953 & 280 &     0 & 111 & 47 & 25 &  87 & 311 &  0 &  90 & 68 & 93 &  4 & 205 & 68 &  63 & 48.1 & 137 &  260 & 17 & 0 & 328 & 167 & 369 &  77 & 48 & 14 & 51400 & 4337 & 30 &  65221 &  43 & 397 &  0 & 25 &  39 & 394 &  0 & 188 & 497 & 0 & 137 & 303 & 1019 & 281 & 128 &  0 &   1 & 80 &   0 &  39 &  25 & 56 &  0 &  790 & 0 & 0 &  44 & 184 &  13 & 213 & 783 & 5157 & 213 & 480 & 1243 & 4810 & 797 & 156 & 1527 & 546 &  379 & 896 &  25 & 0 & 0.4617 &   4 & 38.0 & 1132 & 414 & 23 &  61063 & 815 & 155 & 35.1 & 40.6 &  21 & 2312 & 109 & 1910 & 43.1 &  56 & 70 & 363 &  82 & 33 & 2.19 & 84 & 31071 & 52 & 2.23 & 370 &  29 & 126 &   4 & 1400 & 48.1 & 154 & 71382 & 1897 & 2436 & 2621 & 194 &  25 &  0 & 1282 & 5157 & 4125 & 1212 & 156 & 283 & 1117 & 1571 & 4034 & 122 & 2.00 & 30391 & 2752 &  77 & 238 & 470 & 166 & 147 & 231 & 550 & 101 & 1887 & 638 & 2091 & 1909 & 64 & 171 & 2544 & 239 &  659 & 1188 & 182 & 211 & 181 & 178 & 223 &  876 &  90 & 176 & 1243 & 312 & 2117 & 4991 & 33 & 67 & 2845 &  600 & 2458 & 286 &  37 & 15 & 2398 & 123 & 0 & 244 & 20 & 127 & 38.6 &  47639 & 29944 &  56467 &  64808 & 328 &  0 & 131 & 213 & 19417 & 635 & 259 &  64 & 5127 &  990 & 1111 & 0 & 30 &  0 & 28113 & 2141 & 2845 & 13 & 265 & 3705 & 13 & 12 & 33750 & 1213 & 203 & 1096 &  7 &  1 &  82 & 40 & 0 & 21 & 107 & 0 &  0 & 0 &  0 &  0 & 103 & 232 & 341 & 260 & 412 & 402 & 159 & 105 &  92 & 111 & 192 & 489 & 422 & 250 & 246 &  98 & 1196 & 3795 & 154 &  2 & 28 &  9 & 257 &  25 & 266 & 26 & 286 & 23 &  86 & 16 & 18 &  0 & 252 & 76 & 775 &  985 & 373 &  32 & 78 & 247 &  59 & 316 &  0 & 2623 & 222 & 2112 & 200 & 3335.59 & 27.77 & -90.25634 & 41.79156 &  3 & 0 &  1 & 0 & 0 & 0 & 0 & 0 & 0 & 0 & 0 & 0 & 0 & 0 & 1 & 0 & 0 & 0 & 0 & 0 & 0 & 0 & 0 & 0 & 0 & 0 & 0 & 0 & 0 & 0 & 0 & 0 & 1 &  0 & 0 & 0 & 0 & 0 & LI & LD & D &   252.12 & 16087.83 &  32.75 &  2631.55 & 2268.11 &   349.18 & 4158.06 & 46 & 43 &  217 &  631 & 5.815668 &  189 & 3.023041 &  67217.34 & 106.52510 &  34836.068 & 109.20397 &  319 &  28 & 0 & 129 &  59 & 1 &  217 &  636 & 5.861751 &  189 & 3.023041 &  68440.24 & 107.61044 &  34960.409 & 109.25128 &  320 &  28 & 0 & 129 &  59 &  1 & 189 &  540 & 5.714286 & 161 & 2.984127 &  60983.974 & 112.93329 &  31041.270 & 114.12232 &  272 & 28 & 0 & 109 &  51 & 1 & 250.1 &  1.7 & 30.9 &  29.5 & 187.9 & 1691.5 & 352.6 & 1190.4 & 148.5 &   20.37260 & 548 &  16 & 0.029197080 &  12 & 0.021897810 &  4 & 0.00729927 &  4337000 & 271062.5 &  55750.00 &  27500.00 &  3750.000 &  31250.00 & 4 & 0 &  0 &  2 &  0 &  0 &  4 &  2 &  2 &  6 &  0 &  2 &  8 &  0 & 2 &  0 & 0 &  0 &  2 &  1 &  3 &  3 & 0 &  1 &   7 &  1 & 0 &  15018 &  15141 &   9324 &   9432 & 49.45050 & 44.30719 & 0.8044663 & 3.6003165 & 3.9 & 2.7 & 0.275 & 0.300 & 0.091 & 0 & 20 & 0 & 0 & 0 & 5 &  7 & 0 & 0 & 0 &  0 &  1 & 21 &  8 & 0 & 0 & 0 & 0 &  0 & 0 &  2 & 18 & 10 & 0 & 15 & 7 &  4 &  4 & 5 & 221.95 & 0.11203801 & 0.006893412 & 0.10514459 &  0 &  18 &  0 &  20 & 0 &  10 &  0 &  18 &  0 &  12 &  0 &  18 & 0 & 0 &  0 & 0 & 30 &  0 & 0 & 0 & 0 & 0 & 0 &  0 &  0 &  0 & 0 &  2 &  2 &  2 &  3 & 65.72500 &   32\\\\\n",
       "\t 9 & 2019 &   0 &  0 &   0 &       0 &      0.0 &      0 &     0.00 & 0 & 0 & 0 & 0 & 0 & 0 & 0 &  0 &  0 &  0 & 0 & 0 & 0 & 0 &  0.00 &  0.00 &  0.0 & 0 & 0 &   0 & 0 & 0 & 0 & 0 &  0.00 & 0 & 0 & 0 & 0 & 0 & 0 & 0 & 0 & 0 & 0 &  0 &  0 & 0 & 0 &  0 &  0 & 0 &  0 &   100.52 &     0 & 2786 & 774 & 85515 & 132974 & 1174 &  75 & 628 & 45 & 113 & 680 & 133 & 187 &  0 & 335 & 1053 & 313 & 628 & 246 &     0 & 2762 & 46411 & 87273 & 61 & 188 & 0 & 141 & 304 &  75 &  64 & 956 & 26447 & 54886 & 215 & 649 &   0 & 2402 &     0 & 2106 & 100 &   0 & 2747 & 1395 &  37 & 553 & 2233 & 304 & 1605 & 35972 &  0 &  0 & 656 & 121 & 45 & 13 & 84029 &  32 & 1460 &  54 &   0 &  55 &  29 &  876 & 13 & 115 &   0 & 14 & 1644 & 36 & 15 & 191 & 205 & 55 &  0 &  47 & 335 &  41 &  32 & 145 & 11 &   0 &  60 &  73 & 1138 & 1373 & 223 &     0 &  32 &  9 & 15 & 233 & 216 & 26 &   0 &  0 & 39 &  0 &  43 &  0 &  43 & 23.6 &  83 & 1439 &  0 & 0 & 420 & 117 & 133 & 319 & 11 &  0 &     0 & 4689 &  0 & 114360 &   0 & 249 & 28 &  0 & 119 & 468 & 13 &  47 & 348 & 0 & 145 & 101 & 1037 & 209 & 142 & 15 &  15 & 18 &   0 & 145 &  28 &  0 & 19 &  378 & 0 & 0 &  15 & 519 & 134 &  47 & 628 & 5067 &  47 & 484 &  894 & 4937 & 645 & 105 & 1181 & 156 & 1814 & 700 &  28 & 0 & 0.4545 & 369 & 39.8 &  796 & 277 & 70 & 158056 & 667 & 127 & 38.4 & 41.4 &  87 & 2730 & 167 & 5331 & 40.5 &  18 & 74 &  61 &   0 &  0 & 1.81 & 75 & 25526 & 60 & 2.24 & 223 &  29 &  15 &   0 &  794 & 40.7 & 240 & 63915 & 1142 & 2807 & 3077 & 157 &  28 &  0 & 1167 & 5131 & 4366 &  279 &  86 & 128 & 1131 & 4188 & 4323 & 120 & 1.50 & 24333 & 3156 &  21 & 115 & 416 & 145 & 145 & 238 & 190 & 278 & 2370 & 676 & 2729 & 2536 & 34 & 243 & 3053 & 132 & 1471 &  866 & 193 & 129 &  49 & 172 & 225 & 1352 &  19 &  38 &  894 &  75 & 2279 & 4986 & 29 &  0 & 2337 & 1353 & 3064 &  71 &  29 &  0 & 2488 &  16 & 0 & 208 & 59 &  54 & 40.3 &  77078 & 58990 & 115000 & 124637 & 420 &  0 &  79 &  47 & 63233 & 572 &  36 &  66 & 5067 & 1416 & 1048 & 0 &  0 &  0 &     0 & 1964 & 2369 &  0 & 172 & 3882 & 16 & 28 & 62995 &  879 &  86 & 1044 &  0 & 28 &   0 &  0 & 0 & 22 &  59 & 0 &  0 & 0 & 21 &  0 &  24 & 391 & 288 & 434 & 290 & 215 &  79 & 189 &  50 & 438 & 380 & 473 & 233 & 362 & 154 & 237 & 1035 & 3951 &   0 & 49 &  6 &  0 &  69 & 125 & 192 & 72 & 168 & 29 & 129 & 43 & 97 & 56 &  14 &  9 & 590 & 1691 & 380 &   0 & 15 &  91 &  27 & 259 &  0 & 2246 &  91 & 2661 &  69 & 3327.32 & 29.63 & -93.33057 & 44.94075 &  8 & 0 &  0 & 0 & 0 & 0 & 0 & 0 & 1 & 0 & 0 & 0 & 0 & 0 & 0 & 0 & 0 & 2 & 1 & 0 & 0 & 0 & 0 & 0 & 0 & 0 & 0 & 0 & 0 & 0 & 0 & 0 & 0 &  1 & 2 & 0 & 0 & 1 & HI & HD & D &    96.33 &  3255.46 &  19.14 &  4863.68 &  762.94 &  3255.46 & 1303.41 & 50 & 71 &  721 & 1808 & 5.015257 &  614 & 2.894591 & 125836.99 &  69.60010 &  71697.968 &  70.84779 & 1012 & 107 & 8 & 469 & 129 & 7 &  882 & 2510 & 5.691610 &  748 & 2.952381 & 155631.91 &  62.00474 &  79780.666 &  62.81942 & 1270 & 134 & 0 & 536 & 199 & 12 & 212 &  516 & 4.867925 & 190 & 3.198113 &  63179.612 & 122.44111 &  36699.609 & 118.38584 &  310 & 22 & 4 & 101 &  81 & 3 & 141.1 &  0.0 & 38.3 &  44.4 &  58.5 & 2474.0 & 239.9 & 2046.6 & 187.5 & 1240.60437 & 932 &  27 & 0.028969957 &  16 & 0.017167382 & 11 & 0.01180258 &  9924000 & 367555.6 &  35888.89 &  68148.15 & 53333.333 & 121481.48 & 0 & 0 &  2 &  4 &  2 &  2 &  6 &  4 &  8 & 16 &  2 &  2 &  0 &  6 & 0 &  1 & 6 &  1 &  3 &  3 &  4 &  4 & 0 &  3 &  16 &  0 & 1 & 420958 & 423982 & 231054 & 240073 & 28.50958 & 63.82024 & 1.5327573 & 3.6274760 & 2.7 & 2.5 & 0.141 & 0.219 & 0.066 & 1 & 20 & 0 & 0 & 0 & 1 & 10 & 0 & 0 & 0 &  2 & 13 & 14 &  1 & 0 & 0 & 0 & 0 &  0 & 4 & 13 & 12 &  1 & 0 & 10 & 2 & 16 &  2 & 2 & 403.15 & 0.23402734 & 0.040531922 & 0.19349542 &  0 &  46 &  0 &  46 & 0 &  16 &  0 &  40 &  0 &  38 &  0 &  38 & 0 & 0 &  0 & 0 &  2 & 28 & 0 & 0 & 0 & 0 & 0 &  0 &  0 &  0 & 0 &  6 &  7 &  4 &  5 & 65.12750 & 2332\\\\\n",
       "\t 7 & 2019 & 176 & 16 & 160 & 1540398 & 438295.5 & 156642 & 56107.95 & 0 & 0 & 0 & 0 & 0 & 0 & 0 & 13 & 72 & 62 & 0 & 0 & 0 & 0 & 24.47 & 23.29 & 32.6 & 0 & 0 & 132 & 0 & 0 & 0 & 0 & 25.95 & 0 & 0 & 0 & 0 & 0 & 0 & 0 & 0 & 0 & 0 & 37 & 19 & 0 & 9 & 19 & 27 & 8 & 26 & 16767.89 & 55391 & 1206 & 268 & 84635 & 118859 &  811 &   4 & 499 & 25 &  59 & 325 & 134 &  36 &  0 & 209 &  804 & 180 & 458 &  91 & 16211 & 1594 & 40625 & 60417 &  7 &  63 & 0 &  80 & 261 &   4 & 214 & 232 & 36538 & 35542 &   0 & 127 &  33 & 1339 & 16250 &  881 &  59 &  41 & 1513 &  594 &   0 & 348 &  858 & 182 &  359 & 53750 & 45 &  0 & 424 &   7 & 46 &  0 & 91354 &  18 &  330 &  59 &   8 &  13 &  17 &  648 & 19 &  45 &  20 &  0 &  283 & 44 & 24 &  56 &  56 &  1 &  0 &  17 & 263 &  86 &  24 & 100 &  7 &   0 &   0 & 165 &  822 &  614 & 203 &     0 &  38 &  7 & 58 & 127 & 140 &  0 &  45 &  7 & 11 &  8 &  25 & 13 &   7 & 26.5 &  79 &  227 &  0 & 0 & 300 & 100 &  48 & 152 &  7 &  0 &     0 & 2795 & 11 &  94167 &   0 &  48 &  0 & 19 &  29 & 361 &  0 &  12 & 282 & 0 &  19 &  71 &  751 &  20 &  79 &  0 &  52 & 21 &   0 &  29 &  19 & 14 &  0 &  154 & 0 & 0 &  52 & 292 &  21 &   4 & 487 & 2949 &  12 & 255 &  683 & 2733 & 413 & 129 &  847 & 118 &  784 & 460 &  19 & 0 & 0.4118 &  54 & 39.6 &  653 & 179 &  0 & 131932 & 391 &  57 & 35.0 & 44.5 &  13 & 1587 &  64 & 3582 & 44.8 &   0 & 28 & 154 &   0 &  0 & 2.44 & 95 & 39917 & 37 & 2.65 & 248 &  60 &  52 &  13 &  641 & 48.1 & 155 & 55417 &  923 & 1375 & 1503 & 136 &  19 & 19 &  779 & 2956 & 2390 &  311 &  44 &  89 &  791 & 3756 & 2372 &  79 & 1.76 & 28500 & 1593 &  29 & 104 & 239 & 115 &  83 & 116 & 108 &  26 &  967 & 545 & 1175 & 1143 & 84 & 152 & 1466 &  41 & 1294 &  653 &  32 & 117 & 108 & 161 & 209 &  585 &   7 &  24 &  683 &   4 & 1340 & 2841 & 17 &  0 & 1362 &  886 & 1232 &  51 &  25 &  0 & 1360 &   4 & 0 & 196 & 13 &  22 & 43.3 &  91389 & 44906 & 106169 & 106705 & 271 &  0 &  90 &  12 & 43813 & 196 &  54 & 134 & 2949 &  623 &  758 & 0 &  0 &  0 & 16172 & 1051 & 1362 &  0 &  93 & 2141 & 17 &  0 & 53504 &  672 &  77 &  778 &  0 &  0 &   0 & 15 & 0 &  0 &   0 & 0 &  0 & 0 &  0 & 14 &  45 &  79 & 179 & 185 & 239 & 168 &  91 &  43 &  23 &  79 & 199 & 183 & 350 & 260 &  80 &  70 &  684 & 2157 &  18 & 36 & 37 &  0 & 156 &   0 &  62 & 42 & 132 & 23 &  74 & 23 & 73 &  8 &  81 &  0 & 304 &  341 & 344 &   0 & 18 &  30 &  41 & 255 &  0 & 1341 &  21 & 1557 &  30 & 3292.42 & 29.91 & -83.60182 & 42.58845 & 42 & 1 &  3 & 1 & 2 & 3 & 1 & 0 & 4 & 0 & 0 & 0 & 0 & 1 & 1 & 1 & 1 & 4 & 0 & 0 & 0 & 0 & 0 & 0 & 1 & 0 & 0 & 0 & 0 & 1 & 1 & 0 & 0 &  7 & 7 & 0 & 0 & 2 & HI & MD & D & 27137.62 &  7710.80 & 110.73 &  7488.51 & 5966.08 & 11127.75 & 3416.37 & 58 & 44 &  452 & 1146 & 5.070796 &  357 & 2.694690 &  89197.34 &  77.83363 &  47149.815 &  78.71422 &  599 &  95 & 5 & 297 &  53 & 2 &  460 & 1204 & 5.234783 &  360 & 2.691304 & 106291.05 &  88.28160 &  54873.200 &  89.37003 &  614 & 100 & 0 & 304 &  54 &  2 & 192 &  484 & 5.041667 & 152 & 2.755208 &  60053.612 & 124.07771 &  31403.121 & 123.14949 &  255 & 40 & 3 & 114 &  34 & 1 &  59.5 &  0.0 & 29.7 &   5.9 &  23.8 &  398.6 &  83.3 &  291.5 &  23.8 &  355.00026 & 575 & 151 & 0.262608696 & 109 & 0.189565217 & 42 & 0.07304348 & 98689000 & 653569.5 & 195735.10 & 105052.98 & 17344.371 & 122397.35 & 0 & 0 &  2 & 20 & 28 & 34 & 40 & 16 & 40 & 20 & 38 & 14 & 32 & 18 & 0 & 18 & 4 & 10 & 10 & 17 & 40 & 17 & 0 &  7 &  72 &  6 & 0 & 372566 & 349002 & 276956 & 296514 & 43.59213 & 51.71103 & 0.9644858 & 3.4893065 & 3.1 & 3.4 & 0.148 & 0.269 & 0.091 & 1 & 20 & 0 & 0 & 0 & 1 &  5 & 0 & 0 & 0 &  0 &  1 & 16 & 14 & 0 & 0 & 0 & 0 &  0 & 0 &  0 & 12 & 19 & 0 & 11 & 3 & 12 &  5 & 7 & 302.60 & 0.14020475 & 0.013219041 & 0.12698571 & 42 & 520 & 30 & 320 & 9 & 132 & 24 & 248 & 33 & 412 & 38 & 400 & 0 & 0 & 31 & 0 & 24 &  7 & 0 & 0 & 0 & 0 & 0 & 54 & 58 & 35 & 0 & 13 & 50 & 23 & 20 & 58.47000 &  156\\\\\n",
       "\t 9 & 2019 &   0 &  0 &   0 &       0 &      0.0 &      0 &     0.00 & 0 & 0 & 0 & 0 & 0 & 0 & 0 &  0 &  0 &  0 & 0 & 0 & 0 & 0 &  0.00 &  0.00 &  0.0 & 0 & 0 &   0 & 0 & 0 & 0 & 0 &  0.00 & 0 & 0 & 0 & 0 & 0 & 0 & 0 & 0 & 0 & 0 &  0 &  0 & 0 & 0 &  0 &  0 & 0 &  0 &   874.33 & 26845 & 1246 & 817 & 44813 &  58750 &  450 &  51 & 348 &  0 &  17 & 294 &  47 &  22 &  0 & 101 &  319 & 169 & 193 &  42 & 28322 & 1587 & 41308 & 51685 & 27 &  68 & 0 &  50 &  29 &  51 & 149 & 373 & 27446 & 38107 & 483 & 383 & 100 & 1486 & 22404 &  952 &  17 & 155 & 1890 &  950 &   0 & 142 & 1104 & 106 &  756 & 31324 & 60 & 19 & 207 & 131 &  0 &  0 & 40547 &   8 &  529 & 104 &  55 &   0 &  38 &  313 & 21 &  25 &   0 &  0 &  560 &  3 &  0 &  55 &  55 & 35 &  2 &  37 &  66 &  45 &   0 &  72 & 10 &  41 & 104 & 108 &  472 & 1026 & 100 &     0 &  39 & 28 &  9 &  47 &  33 & 10 &   6 &  8 & 30 &  0 &  18 &  5 &   2 & 28.8 &  30 &  505 &  0 & 0 & 105 &  33 &  37 &  44 &  8 &  0 & 21786 & 2632 &  0 &  52500 &   6 & 135 &  0 &  6 & 203 & 139 &  0 &  80 &  87 & 0 &  91 & 184 &  288 & 139 &  25 &  0 &   0 &  0 &  29 & 227 &   6 &  0 & 38 &  204 & 0 & 0 &   6 & 351 &  20 &  25 & 202 & 2836 &  80 & 283 &  313 & 2738 & 257 &  50 &  490 &  68 &  646 & 215 &   6 & 0 & 0.4320 &  92 & 41.5 &  273 &  81 &  5 &  37708 &  82 &  36 & 41.2 & 42.0 &  53 & 1587 &  40 & 1493 & 36.1 & 114 & 54 & 104 &   0 &  0 & 2.27 & 39 & 27159 & 33 & 2.42 & 106 &  55 &   6 &   0 &  599 & 35.6 &  33 & 43107 &  686 & 1589 & 1665 &  45 &   6 &  6 &  746 & 2836 & 2579 &  394 &  12 &  73 &  377 & 1303 & 2567 &  30 & 2.10 & 29564 & 1821 &  76 &   0 & 212 &  96 &  94 &  45 &  51 & 114 & 1034 & 227 & 1074 & 1008 &  0 &  46 & 1631 &  74 & 1018 &  278 &  66 &  56 &   2 &  32 &  81 &  950 & 143 &  29 &  313 &  51 &  525 & 2740 &  6 &  0 & 1249 & 1059 & 1360 & 172 &   8 &  0 &  664 &  51 & 0 & 100 & 36 &  17 & 37.7 &  51167 & 35180 &  76667 &  64125 &  96 & 12 & 156 &  80 & 42992 & 640 &  45 &  25 & 2836 & 1026 &  298 & 0 & 12 &  0 & 21982 & 1093 & 1249 &  0 &  33 & 2297 & 37 &  0 & 39107 &  313 & 112 &  324 & 37 & 17 &   0 & 15 & 0 &  0 &   0 & 0 &  0 & 0 &  0 &  0 &  40 & 193 & 272 & 139 & 210 & 118 &  88 &  16 &  45 & 404 & 378 & 131 & 213 & 104 &  87 &  85 &  434 & 2306 &   0 &  6 &  2 &  0 & 106 &   0 &  37 &  0 &  76 &  0 &  67 & 12 & 35 & 93 & 257 & 13 & 294 &  646 & 364 &   0 &  0 &  25 & 167 & 152 & 14 &  926 & 323 & 1327 & 260 & 3170.62 & 27.16 & -75.15926 & 39.93405 & 68 & 1 & 14 & 0 & 0 & 8 & 6 & 0 & 0 & 0 & 0 & 0 & 1 & 4 & 1 & 1 & 0 & 0 & 0 & 1 & 0 & 0 & 1 & 0 & 0 & 1 & 0 & 0 & 1 & 0 & 1 & 0 & 1 & 19 & 4 & 0 & 0 & 3 & LI & HD & C &  6446.60 &  1178.26 &  27.69 &  3188.53 &  695.72 &  2473.96 &  269.08 & 98 & 83 & 1316 & 2532 & 3.848024 & 1176 & 3.110182 & 145300.62 &  57.38571 & 118358.858 &  59.35750 & 1994 & 140 & 7 & 741 & 426 & 1 & 1425 & 4330 & 6.077193 & 1275 & 3.122105 & 245723.62 &  56.74910 & 123609.027 &  56.88404 & 2173 & 150 & 0 & 814 & 450 & 10 & 882 & 1631 & 3.698413 & 846 & 3.375283 & 116770.909 &  71.59467 & 102530.966 &  71.49998 & 1434 & 36 & 1 & 445 & 398 & 1 & 908.7 & 22.1 & 69.0 & 331.6 & 486.0 & 3096.9 & 409.4 & 2329.5 & 357.9 & 6403.64631 & 387 &   1 & 0.002583979 &   1 & 0.002583979 &  0 & 0.00000000 &   121000 & 121000.0 &  51000.00 &   7000.00 &     0.000 &   7000.00 & 0 & 0 &  0 &  0 &  0 &  0 &  0 &  0 &  0 &  0 &  0 &  0 &  0 &  0 & 0 &  0 & 1 &  0 &  0 &  0 &  0 &  0 & 0 &  0 &   0 &  1 & 0 & 595980 & 588806 & 117221 &  96467 & 15.49747 & 82.40514 & 0.9485069 & 0.9976082 & 4.4 & 4.6 & 0.232 & 0.306 & 0.115 & 1 & 26 & 0 & 0 & 0 & 0 &  0 & 0 & 0 & 0 &  0 &  2 & 15 & 13 & 0 & 0 & 0 & 0 &  0 & 0 &  3 & 14 & 13 & 0 & 14 & 8 &  8 &  0 & 0 & 326.51 & 0.08220093 & 0.024016861 & 0.05818407 &  0 &   2 &  0 &   2 & 0 &   0 &  0 &   2 &  0 &   2 &  0 &   2 & 0 & 0 &  0 & 2 & 24 &  6 & 0 & 0 & 0 & 0 & 0 &  0 &  0 &  0 & 0 &  0 &  1 &  0 &  0 & 62.94125 & 3175\\\\\n",
       "\\end{tabular}\n"
      ],
      "text/markdown": [
       "\n",
       "A tibble: 6 × 627\n",
       "\n",
       "| month &lt;dbl&gt; | year &lt;dbl&gt; | monthly_number_of_sessions &lt;dbl&gt; | monthly_unique_sessions &lt;dbl&gt; | monthly_repeated_sessions &lt;dbl&gt; | monthly_avg_length_of_session &lt;dbl&gt; | monthly_avg_light_activity &lt;dbl&gt; | monthly_avg_moderate_activity &lt;dbl&gt; | monthly_avg_vigorous_activity &lt;dbl&gt; | monthly_count_ramp &lt;dbl&gt; | ... ... | monthly_ws_light_br &lt;dbl&gt; | monthly_ws_gentle_br &lt;dbl&gt; | monthly_ws_moderate_br &lt;dbl&gt; | historic_ws_calm &lt;dbl&gt; | historic_ws_light_air &lt;dbl&gt; | historic_ws_light_br &lt;dbl&gt; | historic_ws_gentle_br &lt;dbl&gt; | historic_ws_moderate_br &lt;dbl&gt; | avg_fertility_rate &lt;dbl&gt; | unacast_session_count &lt;dbl&gt; |\n",
       "|---|---|---|---|---|---|---|---|---|---|---|---|---|---|---|---|---|---|---|---|---|\n",
       "| 5 | 2018 |   0 |  0 |   0 |       0 |      0.0 |      0 |     0.00 | 0 | ... |  0 |  0 |  0 | 0 |  0 |  0 |  0 |  0 | 63.90687 |  190 |\n",
       "| 4 | 2019 |   0 |  0 |   0 |       0 |      0.0 |      0 |     0.00 | 0 | ... |  0 |  0 |  0 | 1 | 18 | 63 | 41 | 54 | 61.17312 |    7 |\n",
       "| 6 | 2018 |   0 |  0 |   0 |       0 |      0.0 |      0 |     0.00 | 0 | ... |  0 |  0 |  0 | 0 |  2 |  2 |  2 |  3 | 65.72500 |   32 |\n",
       "| 9 | 2019 |   0 |  0 |   0 |       0 |      0.0 |      0 |     0.00 | 0 | ... |  0 |  0 |  0 | 0 |  6 |  7 |  4 |  5 | 65.12750 | 2332 |\n",
       "| 7 | 2019 | 176 | 16 | 160 | 1540398 | 438295.5 | 156642 | 56107.95 | 0 | ... | 54 | 58 | 35 | 0 | 13 | 50 | 23 | 20 | 58.47000 |  156 |\n",
       "| 9 | 2019 |   0 |  0 |   0 |       0 |      0.0 |      0 |     0.00 | 0 | ... |  0 |  0 |  0 | 0 |  0 |  1 |  0 |  0 | 62.94125 | 3175 |\n",
       "\n"
      ],
      "text/plain": [
       "  month year monthly_number_of_sessions monthly_unique_sessions\n",
       "1 5     2018   0                         0                     \n",
       "2 4     2019   0                         0                     \n",
       "3 6     2018   0                         0                     \n",
       "4 9     2019   0                         0                     \n",
       "5 7     2019 176                        16                     \n",
       "6 9     2019   0                         0                     \n",
       "  monthly_repeated_sessions monthly_avg_length_of_session\n",
       "1   0                             0                      \n",
       "2   0                             0                      \n",
       "3   0                             0                      \n",
       "4   0                             0                      \n",
       "5 160                       1540398                      \n",
       "6   0                             0                      \n",
       "  monthly_avg_light_activity monthly_avg_moderate_activity\n",
       "1      0.0                        0                       \n",
       "2      0.0                        0                       \n",
       "3      0.0                        0                       \n",
       "4      0.0                        0                       \n",
       "5 438295.5                   156642                       \n",
       "6      0.0                        0                       \n",
       "  monthly_avg_vigorous_activity monthly_count_ramp ... monthly_ws_light_br\n",
       "1     0.00                      0                  ...  0                 \n",
       "2     0.00                      0                  ...  0                 \n",
       "3     0.00                      0                  ...  0                 \n",
       "4     0.00                      0                  ...  0                 \n",
       "5 56107.95                      0                  ... 54                 \n",
       "6     0.00                      0                  ...  0                 \n",
       "  monthly_ws_gentle_br monthly_ws_moderate_br historic_ws_calm\n",
       "1  0                    0                     0               \n",
       "2  0                    0                     1               \n",
       "3  0                    0                     0               \n",
       "4  0                    0                     0               \n",
       "5 58                   35                     0               \n",
       "6  0                    0                     0               \n",
       "  historic_ws_light_air historic_ws_light_br historic_ws_gentle_br\n",
       "1  0                     0                    0                   \n",
       "2 18                    63                   41                   \n",
       "3  2                     2                    2                   \n",
       "4  6                     7                    4                   \n",
       "5 13                    50                   23                   \n",
       "6  0                     1                    0                   \n",
       "  historic_ws_moderate_br avg_fertility_rate unacast_session_count\n",
       "1  0                      63.90687            190                 \n",
       "2 54                      61.17312              7                 \n",
       "3  3                      65.72500             32                 \n",
       "4  5                      65.12750           2332                 \n",
       "5 20                      58.47000            156                 \n",
       "6  0                      62.94125           3175                 "
      ]
     },
     "metadata": {},
     "output_type": "display_data"
    }
   ],
   "source": [
    "head(data_train)"
   ]
  },
  {
   "cell_type": "code",
   "execution_count": 19,
   "metadata": {},
   "outputs": [
    {
     "data": {
      "text/html": [
       "'month'"
      ],
      "text/latex": [
       "'month'"
      ],
      "text/markdown": [
       "'month'"
      ],
      "text/plain": [
       "[1] \"month\""
      ]
     },
     "metadata": {},
     "output_type": "display_data"
    }
   ],
   "source": [
    "colnames(data_train)[1]"
   ]
  },
  {
   "cell_type": "code",
   "execution_count": 23,
   "metadata": {},
   "outputs": [
    {
     "data": {
      "text/html": [
       "<table>\n",
       "<caption>A tibble: 3 × 1</caption>\n",
       "<thead>\n",
       "\t<tr><th scope=col>density_class</th></tr>\n",
       "\t<tr><th scope=col>&lt;chr&gt;</th></tr>\n",
       "</thead>\n",
       "<tbody>\n",
       "\t<tr><td>LD</td></tr>\n",
       "\t<tr><td>MD</td></tr>\n",
       "\t<tr><td>HD</td></tr>\n",
       "</tbody>\n",
       "</table>\n"
      ],
      "text/latex": [
       "A tibble: 3 × 1\n",
       "\\begin{tabular}{r|l}\n",
       " density\\_class\\\\\n",
       " <chr>\\\\\n",
       "\\hline\n",
       "\t LD\\\\\n",
       "\t MD\\\\\n",
       "\t HD\\\\\n",
       "\\end{tabular}\n"
      ],
      "text/markdown": [
       "\n",
       "A tibble: 3 × 1\n",
       "\n",
       "| density_class &lt;chr&gt; |\n",
       "|---|\n",
       "| LD |\n",
       "| MD |\n",
       "| HD |\n",
       "\n"
      ],
      "text/plain": [
       "  density_class\n",
       "1 LD           \n",
       "2 MD           \n",
       "3 HD           "
      ]
     },
     "metadata": {},
     "output_type": "display_data"
    }
   ],
   "source": [
    "unique(data_train['density_class'])"
   ]
  },
  {
   "cell_type": "code",
   "execution_count": 69,
   "metadata": {},
   "outputs": [
    {
     "data": {
      "text/html": [
       "<table>\n",
       "<caption>A tibble: 1 × 1</caption>\n",
       "<thead>\n",
       "\t<tr><th scope=col>monthly_rain</th></tr>\n",
       "\t<tr><th scope=col>&lt;dbl&gt;</th></tr>\n",
       "</thead>\n",
       "<tbody>\n",
       "\t<tr><td>0</td></tr>\n",
       "</tbody>\n",
       "</table>\n"
      ],
      "text/latex": [
       "A tibble: 1 × 1\n",
       "\\begin{tabular}{r|l}\n",
       " monthly\\_rain\\\\\n",
       " <dbl>\\\\\n",
       "\\hline\n",
       "\t 0\\\\\n",
       "\\end{tabular}\n"
      ],
      "text/markdown": [
       "\n",
       "A tibble: 1 × 1\n",
       "\n",
       "| monthly_rain &lt;dbl&gt; |\n",
       "|---|\n",
       "| 0 |\n",
       "\n"
      ],
      "text/plain": [
       "  monthly_rain\n",
       "1 0           "
      ]
     },
     "metadata": {},
     "output_type": "display_data"
    }
   ],
   "source": [
    "unique(data_train['monthly_rain'])"
   ]
  },
  {
   "cell_type": "code",
   "execution_count": 6,
   "metadata": {},
   "outputs": [
    {
     "data": {
      "text/html": [
       "<ol class=list-inline>\n",
       "\t<li>39592</li>\n",
       "\t<li>621</li>\n",
       "</ol>\n"
      ],
      "text/latex": [
       "\\begin{enumerate*}\n",
       "\\item 39592\n",
       "\\item 621\n",
       "\\end{enumerate*}\n"
      ],
      "text/markdown": [
       "1. 39592\n",
       "2. 621\n",
       "\n",
       "\n"
      ],
      "text/plain": [
       "[1] 39592   621"
      ]
     },
     "metadata": {},
     "output_type": "display_data"
    }
   ],
   "source": [
    "data_train_numeric <- select(data_train, -income_class, -climate, -density_class, -month, -year, -unacast_session_count)\n",
    "dim(data_train_numeric)"
   ]
  },
  {
   "cell_type": "code",
   "execution_count": 7,
   "metadata": {},
   "outputs": [],
   "source": [
    "scaled_data <- scale(data_train_numeric, scale= TRUE)"
   ]
  },
  {
   "cell_type": "code",
   "execution_count": 27,
   "metadata": {},
   "outputs": [
    {
     "data": {
      "text/html": [
       "<ol class=list-inline>\n",
       "\t<li>39592</li>\n",
       "\t<li>625</li>\n",
       "</ol>\n"
      ],
      "text/latex": [
       "\\begin{enumerate*}\n",
       "\\item 39592\n",
       "\\item 625\n",
       "\\end{enumerate*}\n"
      ],
      "text/markdown": [
       "1. 39592\n",
       "2. 625\n",
       "\n",
       "\n"
      ],
      "text/plain": [
       "[1] 39592   625"
      ]
     },
     "metadata": {},
     "output_type": "display_data"
    }
   ],
   "source": [
    "data_train_2 <- cbind(data_train[c('month','year','density_class', 'unacast_session_count')], scaled_data)\n",
    "dim(data_train_2)"
   ]
  },
  {
   "cell_type": "code",
   "execution_count": 61,
   "metadata": {},
   "outputs": [],
   "source": [
    "data_train_2 <- select(data_train_2, - monthly_snow)"
   ]
  },
  {
   "cell_type": "code",
   "execution_count": 66,
   "metadata": {},
   "outputs": [
    {
     "data": {
      "text/html": [
       "<span style=white-space:pre-wrap>'month  +  year  +  monthly_number_of_sessions  +  monthly_unique_sessions  +  monthly_avg_length_of_session  +  monthly_avg_light_activity  +  monthly_avg_moderate_activity  +  monthly_avg_vigorous_activity  +  monthly_count_ramp  +  monthly_count_zipline  +  monthly_count_spinner  +  monthly_count_pull_under  +  monthly_under_40  +  monthly_temp_40_to_50  +  monthly_temp_50_to_60  +  monthly_temp_60_to_70  +  monthly_temp_70_to_80  +  monthly_temp_80_to_90  +  monthly_over_90  +  monthly_avg_length_under_40  +  monthly_avg_length_temp_40_to_50  +  monthly_avg_length_temp_50_to_60  +  monthly_avg_length_temp_60_to_70  +  monthly_avg_length_temp_70_to_80  +  monthly_avg_length_temp_80_to_90  +  monthly_avg_length_over_90  +  monthly_cloudy  +  monthly_clear  +  monthly_foggy  +  monthly_avg_cloudy_length  +  monthly_avg_clear_length  +  monthly_avg_foggy_length'</span>"
      ],
      "text/latex": [
       "'month  +  year  +  monthly\\_number\\_of\\_sessions  +  monthly\\_unique\\_sessions  +  monthly\\_avg\\_length\\_of\\_session  +  monthly\\_avg\\_light\\_activity  +  monthly\\_avg\\_moderate\\_activity  +  monthly\\_avg\\_vigorous\\_activity  +  monthly\\_count\\_ramp  +  monthly\\_count\\_zipline  +  monthly\\_count\\_spinner  +  monthly\\_count\\_pull\\_under  +  monthly\\_under\\_40  +  monthly\\_temp\\_40\\_to\\_50  +  monthly\\_temp\\_50\\_to\\_60  +  monthly\\_temp\\_60\\_to\\_70  +  monthly\\_temp\\_70\\_to\\_80  +  monthly\\_temp\\_80\\_to\\_90  +  monthly\\_over\\_90  +  monthly\\_avg\\_length\\_under\\_40  +  monthly\\_avg\\_length\\_temp\\_40\\_to\\_50  +  monthly\\_avg\\_length\\_temp\\_50\\_to\\_60  +  monthly\\_avg\\_length\\_temp\\_60\\_to\\_70  +  monthly\\_avg\\_length\\_temp\\_70\\_to\\_80  +  monthly\\_avg\\_length\\_temp\\_80\\_to\\_90  +  monthly\\_avg\\_length\\_over\\_90  +  monthly\\_cloudy  +  monthly\\_clear  +  monthly\\_foggy  +  monthly\\_avg\\_cloudy\\_length  +  monthly\\_avg\\_clear\\_length  +  monthly\\_avg\\_foggy\\_length'"
      ],
      "text/markdown": [
       "<span style=white-space:pre-wrap>'month  +  year  +  monthly_number_of_sessions  +  monthly_unique_sessions  +  monthly_avg_length_of_session  +  monthly_avg_light_activity  +  monthly_avg_moderate_activity  +  monthly_avg_vigorous_activity  +  monthly_count_ramp  +  monthly_count_zipline  +  monthly_count_spinner  +  monthly_count_pull_under  +  monthly_under_40  +  monthly_temp_40_to_50  +  monthly_temp_50_to_60  +  monthly_temp_60_to_70  +  monthly_temp_70_to_80  +  monthly_temp_80_to_90  +  monthly_over_90  +  monthly_avg_length_under_40  +  monthly_avg_length_temp_40_to_50  +  monthly_avg_length_temp_50_to_60  +  monthly_avg_length_temp_60_to_70  +  monthly_avg_length_temp_70_to_80  +  monthly_avg_length_temp_80_to_90  +  monthly_avg_length_over_90  +  monthly_cloudy  +  monthly_clear  +  monthly_foggy  +  monthly_avg_cloudy_length  +  monthly_avg_clear_length  +  monthly_avg_foggy_length'</span>"
      ],
      "text/plain": [
       "[1] \"month  +  year  +  monthly_number_of_sessions  +  monthly_unique_sessions  +  monthly_avg_length_of_session  +  monthly_avg_light_activity  +  monthly_avg_moderate_activity  +  monthly_avg_vigorous_activity  +  monthly_count_ramp  +  monthly_count_zipline  +  monthly_count_spinner  +  monthly_count_pull_under  +  monthly_under_40  +  monthly_temp_40_to_50  +  monthly_temp_50_to_60  +  monthly_temp_60_to_70  +  monthly_temp_70_to_80  +  monthly_temp_80_to_90  +  monthly_over_90  +  monthly_avg_length_under_40  +  monthly_avg_length_temp_40_to_50  +  monthly_avg_length_temp_50_to_60  +  monthly_avg_length_temp_60_to_70  +  monthly_avg_length_temp_70_to_80  +  monthly_avg_length_temp_80_to_90  +  monthly_avg_length_over_90  +  monthly_cloudy  +  monthly_clear  +  monthly_foggy  +  monthly_avg_cloudy_length  +  monthly_avg_clear_length  +  monthly_avg_foggy_length\""
      ]
     },
     "metadata": {},
     "output_type": "display_data"
    }
   ],
   "source": [
    "col_names <- colnames(data_train_2) \n",
    "x <- col_names[1]\n",
    "for (i in seq(2,length(col_names)-587)){\n",
    "    \n",
    "    if (col_names[i] == 'density_class' | col_names[i] == 'unacast_session_count'){\n",
    "        next\n",
    "    }\n",
    "    else{\n",
    "        x <- paste(x, \" + \", col_names[i])   \n",
    "    }\n",
    "}\n",
    "x"
   ]
  },
  {
   "cell_type": "code",
   "execution_count": 67,
   "metadata": {},
   "outputs": [
    {
     "name": "stderr",
     "output_type": "stream",
     "text": [
      "Warning message in glmer(paste(\"unacast_session_count ~ \", x, \" + (1 | density_class)\"), :\n",
      "\"calling glmer() with family=gaussian (identity link) as a shortcut to lmer() is deprecated; please call lmer() directly\"\n",
      "\n",
      "Correlation matrix not shown by default, as p = 33 > 12.\n",
      "Use print(obj, correlation=TRUE)  or\n",
      "    vcov(obj)        if you need it\n",
      "\n",
      "\n"
     ]
    },
    {
     "data": {
      "text/plain": [
       "Linear mixed model fit by REML ['lmerMod']\n",
       "Formula: unacast_session_count ~ month + year + monthly_number_of_sessions +  \n",
       "    monthly_unique_sessions + monthly_avg_length_of_session +  \n",
       "    monthly_avg_light_activity + monthly_avg_moderate_activity +  \n",
       "    monthly_avg_vigorous_activity + monthly_count_ramp + monthly_count_zipline +  \n",
       "    monthly_count_spinner + monthly_count_pull_under + monthly_under_40 +  \n",
       "    monthly_temp_40_to_50 + monthly_temp_50_to_60 + monthly_temp_60_to_70 +  \n",
       "    monthly_temp_70_to_80 + monthly_temp_80_to_90 + monthly_over_90 +  \n",
       "    monthly_avg_length_under_40 + monthly_avg_length_temp_40_to_50 +  \n",
       "    monthly_avg_length_temp_50_to_60 + monthly_avg_length_temp_60_to_70 +  \n",
       "    monthly_avg_length_temp_70_to_80 + monthly_avg_length_temp_80_to_90 +  \n",
       "    monthly_avg_length_over_90 + monthly_cloudy + monthly_clear +  \n",
       "    monthly_foggy + monthly_avg_cloudy_length + monthly_avg_clear_length +  \n",
       "    monthly_avg_foggy_length + (1 | density_class)\n",
       "   Data: data_train_2\n",
       "\n",
       "REML criterion at convergence: 552756.5\n",
       "\n",
       "Scaled residuals: \n",
       "    Min      1Q  Median      3Q     Max \n",
       "-1.5308 -0.3620 -0.1540  0.0627 14.2729 \n",
       "\n",
       "Random effects:\n",
       " Groups        Name        Variance Std.Dev.\n",
       " density_class (Intercept)  6601     81.25  \n",
       " Residual                  67945    260.66  \n",
       "Number of obs: 39592, groups:  density_class, 3\n",
       "\n",
       "Fixed effects:\n",
       "                                   Estimate Std. Error t value\n",
       "(Intercept)                      -1.246e+05  5.703e+03 -21.847\n",
       "month                             8.150e+00  4.536e-01  17.966\n",
       "year                              6.177e+01  2.825e+00  21.866\n",
       "monthly_number_of_sessions        8.991e-02  5.631e+00   0.016\n",
       "monthly_unique_sessions          -6.498e+00  3.072e+00  -2.115\n",
       "monthly_avg_length_of_session    -6.601e+00  4.230e+00  -1.561\n",
       "monthly_avg_light_activity        3.338e+00  2.840e+00   1.175\n",
       "monthly_avg_moderate_activity    -3.684e+00  2.580e+00  -1.428\n",
       "monthly_avg_vigorous_activity     2.486e+00  1.498e+00   1.659\n",
       "monthly_count_ramp               -1.858e+00  3.337e+00  -0.557\n",
       "monthly_count_zipline             3.806e-01  2.143e+00   0.178\n",
       "monthly_count_spinner             2.995e-01  1.321e+00   0.227\n",
       "monthly_count_pull_under          1.618e+00  3.978e+00   0.407\n",
       "monthly_under_40                  5.808e+00  1.783e+00   3.258\n",
       "monthly_temp_40_to_50             1.610e+00  2.012e+00   0.800\n",
       "monthly_temp_50_to_60             3.151e+00  2.363e+00   1.333\n",
       "monthly_temp_60_to_70             7.427e+00  3.260e+00   2.278\n",
       "monthly_temp_70_to_80             1.311e+01  4.979e+00   2.634\n",
       "monthly_temp_80_to_90             1.088e+01  3.763e+00   2.890\n",
       "monthly_over_90                   1.813e+00  2.404e+00   0.754\n",
       "monthly_avg_length_under_40      -2.661e+00  1.696e+00  -1.569\n",
       "monthly_avg_length_temp_40_to_50 -7.412e-01  1.757e+00  -0.422\n",
       "monthly_avg_length_temp_50_to_60 -1.601e-01  1.903e+00  -0.084\n",
       "monthly_avg_length_temp_60_to_70 -2.093e+00  2.102e+00  -0.995\n",
       "monthly_avg_length_temp_70_to_80  1.157e+00  2.326e+00   0.497\n",
       "monthly_avg_length_temp_80_to_90  6.988e-01  2.154e+00   0.324\n",
       "monthly_avg_length_over_90       -2.406e+00  1.993e+00  -1.207\n",
       "monthly_cloudy                   -8.055e-01  2.463e+00  -0.327\n",
       "monthly_clear                    -1.845e+01  6.360e+00  -2.902\n",
       "monthly_foggy                    -4.796e+00  2.291e+00  -2.093\n",
       "monthly_avg_cloudy_length        -3.011e+00  2.029e+00  -1.484\n",
       "monthly_avg_clear_length          2.064e+00  3.128e+00   0.660\n",
       "monthly_avg_foggy_length          3.045e+00  1.892e+00   1.609"
      ]
     },
     "metadata": {},
     "output_type": "display_data"
    }
   ],
   "source": [
    "\n",
    "\n",
    "model_intercept <- glmer(paste(\"unacast_session_count ~ \", x, \" + (1 | density_class)\"), \n",
    "                        data = data_train_2)\n",
    "\n",
    "# model_slope <- lmer(inv ~ value + capital + (value | firm), \n",
    "#                     data = data_train)\n",
    "summary(model_intercept)"
   ]
  },
  {
   "cell_type": "code",
   "execution_count": 42,
   "metadata": {},
   "outputs": [],
   "source": [
    "?glmer"
   ]
  },
  {
   "cell_type": "code",
   "execution_count": null,
   "metadata": {},
   "outputs": [],
   "source": []
  }
 ],
 "metadata": {
  "kernelspec": {
   "display_name": "R",
   "language": "R",
   "name": "ir"
  },
  "language_info": {
   "codemirror_mode": "r",
   "file_extension": ".r",
   "mimetype": "text/x-r-source",
   "name": "R",
   "pygments_lexer": "r",
   "version": "3.6.1"
  }
 },
 "nbformat": 4,
 "nbformat_minor": 2
}
