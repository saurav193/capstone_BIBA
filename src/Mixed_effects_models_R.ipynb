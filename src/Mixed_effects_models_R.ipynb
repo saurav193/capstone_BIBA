{
 "cells": [
  {
   "cell_type": "markdown",
   "metadata": {},
   "source": [
    "## Instructions \n",
    "- Run **Data_prepare_for_lmer_R.ipynb** to create `train_processed.csv` and `valid_processed.csv` for this notebook\n",
    "- Install required packages from below if necessary"
   ]
  },
  {
   "cell_type": "code",
   "execution_count": 228,
   "metadata": {},
   "outputs": [],
   "source": [
    "# install.packages('plm')\n",
    "# install.packages('nlme')\n",
    "# install.packages('tidyverse')\n",
    "# install.packages('lme4') # this is most imp\n",
    "# install.packages('repr')\n",
    "# install.packages('Metrics')\n",
    "# install.packages('purrr')"
   ]
  },
  {
   "cell_type": "code",
   "execution_count": 184,
   "metadata": {},
   "outputs": [],
   "source": [
    "suppressPackageStartupMessages(library(plm))\n",
    "suppressPackageStartupMessages(library(nlme))\n",
    "suppressPackageStartupMessages(library(tidyverse))\n",
    "suppressPackageStartupMessages(library(lme4))\n",
    "suppressPackageStartupMessages(library(repr))\n",
    "suppressPackageStartupMessages(library(dplyr))\n",
    "suppressPackageStartupMessages(library(Metrics))\n",
    "suppressPackageStartupMessages(library(purrr))\n"
   ]
  },
  {
   "cell_type": "code",
   "execution_count": 185,
   "metadata": {},
   "outputs": [
    {
     "name": "stderr",
     "output_type": "stream",
     "text": [
      "Parsed with column specification:\n",
      "cols(\n",
      "  .default = col_double(),\n",
      "  state = \u001b[31mcol_character()\u001b[39m,\n",
      "  income_class = \u001b[31mcol_character()\u001b[39m,\n",
      "  density_class = \u001b[31mcol_character()\u001b[39m,\n",
      "  climate = \u001b[31mcol_character()\u001b[39m\n",
      ")\n",
      "\n",
      "See spec(...) for full column specifications.\n",
      "\n",
      "Parsed with column specification:\n",
      "cols(\n",
      "  .default = col_double(),\n",
      "  state = \u001b[31mcol_character()\u001b[39m,\n",
      "  income_class = \u001b[31mcol_character()\u001b[39m,\n",
      "  density_class = \u001b[31mcol_character()\u001b[39m,\n",
      "  climate = \u001b[31mcol_character()\u001b[39m\n",
      ")\n",
      "\n",
      "See spec(...) for full column specifications.\n",
      "\n"
     ]
    }
   ],
   "source": [
    "data_train <- read_csv('../data/train_processed.csv')\n",
    "data_valid <- read_csv('../data/valid_processed.csv')"
   ]
  },
  {
   "cell_type": "code",
   "execution_count": 19,
   "metadata": {},
   "outputs": [
    {
     "data": {
      "text/html": [
       "'month'"
      ],
      "text/latex": [
       "'month'"
      ],
      "text/markdown": [
       "'month'"
      ],
      "text/plain": [
       "[1] \"month\""
      ]
     },
     "metadata": {},
     "output_type": "display_data"
    }
   ],
   "source": [
    "colnames(data_train)[1]"
   ]
  },
  {
   "cell_type": "code",
   "execution_count": 221,
   "metadata": {
    "scrolled": true
   },
   "outputs": [
    {
     "data": {
      "text/html": [
       "<table>\n",
       "<caption>A tibble: 3 × 1</caption>\n",
       "<thead>\n",
       "\t<tr><th scope=col>climate</th></tr>\n",
       "\t<tr><th scope=col>&lt;chr&gt;</th></tr>\n",
       "</thead>\n",
       "<tbody>\n",
       "\t<tr><td>C</td></tr>\n",
       "\t<tr><td>D</td></tr>\n",
       "\t<tr><td>A</td></tr>\n",
       "</tbody>\n",
       "</table>\n"
      ],
      "text/latex": [
       "A tibble: 3 × 1\n",
       "\\begin{tabular}{r|l}\n",
       " climate\\\\\n",
       " <chr>\\\\\n",
       "\\hline\n",
       "\t C\\\\\n",
       "\t D\\\\\n",
       "\t A\\\\\n",
       "\\end{tabular}\n"
      ],
      "text/markdown": [
       "\n",
       "A tibble: 3 × 1\n",
       "\n",
       "| climate &lt;chr&gt; |\n",
       "|---|\n",
       "| C |\n",
       "| D |\n",
       "| A |\n",
       "\n"
      ],
      "text/plain": [
       "  climate\n",
       "1 C      \n",
       "2 D      \n",
       "3 A      "
      ]
     },
     "metadata": {},
     "output_type": "display_data"
    }
   ],
   "source": [
    "unique(data_train['climate'])"
   ]
  },
  {
   "cell_type": "markdown",
   "metadata": {},
   "source": [
    "## Modelling LMER with State as random effect"
   ]
  },
  {
   "cell_type": "code",
   "execution_count": 186,
   "metadata": {},
   "outputs": [],
   "source": [
    "fit_lmer <- function(data, class = 'state'){\n",
    "    \n",
    "    # removing non-compatible cols\n",
    "    data <- select(data,  -monthly_rain, -monthly_avg_rain_length, -B14002e1, -not_enrolled)\n",
    "    \n",
    "    # scaling the other numeric cols\n",
    "    data_train_numeric <- select(data, -income_class, -climate, -density_class, -state, -month, -year, -unacast_session_count)\n",
    "    scaled_data <- scale(data_train_numeric, scale= TRUE)\n",
    "    \n",
    "    #scaling might cause NaN if all the values are 0\n",
    "    scaled_data <- replace_na(scaled_data, 0)\n",
    "\n",
    "    # combining required cols\n",
    "    data_train <- cbind(data[c('month','year',class, 'unacast_session_count')], scaled_data)\n",
    "    \n",
    "    col_names <- colnames(data_train) \n",
    "    \n",
    "    # getting part of the function equation as string\n",
    "    x <- col_names[1]\n",
    "    for (i in seq(2,length(col_names))){\n",
    "\n",
    "        if (col_names[i] == class | col_names[i] == 'unacast_session_count'){\n",
    "            next\n",
    "        }\n",
    "        else{\n",
    "            x <- paste(x, \" + \", col_names[i])   \n",
    "        }\n",
    "    }\n",
    "    \n",
    "#     print(x)\n",
    "    model_intercept <- lmer(paste(\"unacast_session_count ~ \", x, \" + (1 | \", class, \")\"), data = data_train)\n",
    "    \n",
    "    return(model_intercept)\n",
    "}"
   ]
  },
  {
   "cell_type": "code",
   "execution_count": 187,
   "metadata": {},
   "outputs": [
    {
     "name": "stderr",
     "output_type": "stream",
     "text": [
      "fixed-effect model matrix is rank deficient so dropping 106 columns / coefficients\n",
      "\n"
     ]
    }
   ],
   "source": [
    "model_fit_intercept <- fit_lmer(data_train)"
   ]
  },
  {
   "cell_type": "code",
   "execution_count": 214,
   "metadata": {},
   "outputs": [],
   "source": [
    "\n",
    "get_error_lmer <- function(model, data, class = 'state'){\n",
    "    \n",
    "    y <- flatten_dbl(data['unacast_session_count'])\n",
    "    # removing non-compatible cols\n",
    "    data <- select(data,  -monthly_rain, -monthly_avg_rain_length, -B14002e1, -not_enrolled)\n",
    "    # scaling the other numeric cols\n",
    "    data_train_numeric <- select(data, -income_class, -climate, -density_class, -state, -month, -year, -unacast_session_count)\n",
    "    \n",
    "    scaled_data <- scale(data_train_numeric, scale = TRUE)\n",
    "    \n",
    "    #scaling might cause NaN if all the values are 0 \n",
    "    scaled_data <- replace_na(scaled_data, 0)\n",
    "    data_test <- cbind(data[c('month','year',class)], scaled_data)\n",
    "    \n",
    "    # predicting for new data\n",
    "    y_pred <- predict(model, newdata = data_test, allow.new.levels = TRUE)\n",
    "    \n",
    "#     print(sum(is.na(y_pred)))\n",
    "    rmse_val <- rmse(y, y_pred)\n",
    "    mae_val <- mae(y, y_pred)\n",
    "    \n",
    "    print(paste(\"RMSE is = \", rmse_val, \" and MAE is =\",mae_val))\n",
    "}"
   ]
  },
  {
   "cell_type": "code",
   "execution_count": 215,
   "metadata": {
    "scrolled": true
   },
   "outputs": [
    {
     "name": "stdout",
     "output_type": "stream",
     "text": [
      "[1] \"RMSE is =  199.760860939626  and MAE is = 107.942378024457\"\n"
     ]
    }
   ],
   "source": [
    "### Validation Score\n",
    "get_error_lmer(model_fit_intercept, data_valid)"
   ]
  },
  {
   "cell_type": "code",
   "execution_count": 216,
   "metadata": {
    "scrolled": true
   },
   "outputs": [
    {
     "name": "stdout",
     "output_type": "stream",
     "text": [
      "[1] \"RMSE is =  176.310058729571  and MAE is = 92.8561876374478\"\n"
     ]
    }
   ],
   "source": [
    "### Train Score\n",
    "get_error_lmer(model_fit_intercept, data_train)"
   ]
  },
  {
   "cell_type": "markdown",
   "metadata": {},
   "source": [
    "## Modelling LMER with Density Class as random effect"
   ]
  },
  {
   "cell_type": "code",
   "execution_count": 217,
   "metadata": {},
   "outputs": [
    {
     "name": "stderr",
     "output_type": "stream",
     "text": [
      "fixed-effect model matrix is rank deficient so dropping 106 columns / coefficients\n",
      "\n"
     ]
    }
   ],
   "source": [
    "model_fit_intercept <- fit_lmer(data_train, class = 'density_class')"
   ]
  },
  {
   "cell_type": "code",
   "execution_count": 218,
   "metadata": {},
   "outputs": [
    {
     "name": "stdout",
     "output_type": "stream",
     "text": [
      "[1] \"RMSE is =  199.701580321795  and MAE is = 108.631652494108\"\n"
     ]
    }
   ],
   "source": [
    "### Validation Score\n",
    "get_error_lmer(model_fit_intercept, data_valid, class = 'density_class')"
   ]
  },
  {
   "cell_type": "code",
   "execution_count": 219,
   "metadata": {},
   "outputs": [
    {
     "name": "stdout",
     "output_type": "stream",
     "text": [
      "[1] \"RMSE is =  183.515241368643  and MAE is = 96.8058353455616\"\n"
     ]
    }
   ],
   "source": [
    "### Train Score\n",
    "get_error_lmer(model_fit_intercept, data_train, class = 'density_class')"
   ]
  },
  {
   "cell_type": "markdown",
   "metadata": {},
   "source": [
    "## Modelling LMER with Income Class as random effect"
   ]
  },
  {
   "cell_type": "code",
   "execution_count": 220,
   "metadata": {},
   "outputs": [
    {
     "name": "stderr",
     "output_type": "stream",
     "text": [
      "fixed-effect model matrix is rank deficient so dropping 106 columns / coefficients\n",
      "\n"
     ]
    }
   ],
   "source": [
    "model_fit_intercept <- fit_lmer(data_train, class = 'income_class')"
   ]
  },
  {
   "cell_type": "code",
   "execution_count": 222,
   "metadata": {},
   "outputs": [
    {
     "name": "stdout",
     "output_type": "stream",
     "text": [
      "[1] \"RMSE is =  199.756094008783  and MAE is = 108.698888327188\"\n"
     ]
    }
   ],
   "source": [
    "### Validation Score\n",
    "get_error_lmer(model_fit_intercept, data_valid, class = 'income_class')"
   ]
  },
  {
   "cell_type": "code",
   "execution_count": 224,
   "metadata": {},
   "outputs": [
    {
     "name": "stdout",
     "output_type": "stream",
     "text": [
      "[1] \"RMSE is =  183.207196978883  and MAE is = 96.7288325160248\"\n"
     ]
    }
   ],
   "source": [
    "### Train Score\n",
    "get_error_lmer(model_fit_intercept, data_train, class = 'income_class')"
   ]
  },
  {
   "cell_type": "markdown",
   "metadata": {},
   "source": [
    "## Modelling LMER with Climate as random effect"
   ]
  },
  {
   "cell_type": "code",
   "execution_count": 225,
   "metadata": {},
   "outputs": [
    {
     "name": "stderr",
     "output_type": "stream",
     "text": [
      "fixed-effect model matrix is rank deficient so dropping 106 columns / coefficients\n",
      "\n"
     ]
    }
   ],
   "source": [
    "model_fit_intercept <- fit_lmer(data_train, class = 'climate')"
   ]
  },
  {
   "cell_type": "code",
   "execution_count": 226,
   "metadata": {},
   "outputs": [
    {
     "name": "stdout",
     "output_type": "stream",
     "text": [
      "[1] \"RMSE is =  200.43671720903  and MAE is = 109.572947782972\"\n"
     ]
    }
   ],
   "source": [
    "### Validation Score\n",
    "get_error_lmer(model_fit_intercept, data_valid, class = 'climate')"
   ]
  },
  {
   "cell_type": "code",
   "execution_count": 227,
   "metadata": {},
   "outputs": [
    {
     "name": "stdout",
     "output_type": "stream",
     "text": [
      "[1] \"RMSE is =  183.444116283311  and MAE is = 96.7522254940579\"\n"
     ]
    }
   ],
   "source": [
    "### Train Score\n",
    "get_error_lmer(model_fit_intercept, data_train, class = 'climate')"
   ]
  },
  {
   "cell_type": "code",
   "execution_count": null,
   "metadata": {},
   "outputs": [],
   "source": []
  }
 ],
 "metadata": {
  "kernelspec": {
   "display_name": "R",
   "language": "R",
   "name": "ir"
  },
  "language_info": {
   "codemirror_mode": "r",
   "file_extension": ".r",
   "mimetype": "text/x-r-source",
   "name": "R",
   "pygments_lexer": "r",
   "version": "3.6.1"
  }
 },
 "nbformat": 4,
 "nbformat_minor": 2
}
