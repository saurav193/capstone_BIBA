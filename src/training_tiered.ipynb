{
 "cells": [
  {
   "cell_type": "markdown",
   "metadata": {},
   "source": [
    "**Note: clearing the output because the file size exceeds 100 MB for some strange reason...**"
   ]
  },
  {
   "cell_type": "code",
   "execution_count": 1,
   "metadata": {},
   "outputs": [],
   "source": [
    "import time\n",
    "import pandas as pd\n",
    "import altair as alt\n",
    "import numpy as np\n",
    "\n",
    "from sklearn.model_selection import train_test_split\n",
    "from sklearn.preprocessing import StandardScaler\n",
    "from sklearn.metrics import mean_squared_error, mean_absolute_error, confusion_matrix, classification_report\n",
    "from sklearn.linear_model import LinearRegression, LogisticRegression, ElasticNet, Lasso\n",
    "\n",
    "# import other functions\n",
    "from scripts_misc.imputer import *\n",
    "from scripts_misc.feature_eng import *\n",
    "from scripts_misc.drop import *\n",
    "\n",
    "from xgboost import XGBRegressor, XGBClassifier"
   ]
  },
  {
   "cell_type": "code",
   "execution_count": null,
   "metadata": {
    "scrolled": true
   },
   "outputs": [],
   "source": [
    "alt.data_transformers.disable_max_rows()"
   ]
  },
  {
   "cell_type": "code",
   "execution_count": null,
   "metadata": {},
   "outputs": [],
   "source": [
    "def report_performance(model, X_train, y_train, X_valid, y_valid, \n",
    "                       mode='mean'):\n",
    "    \"\"\"\n",
    "    Evaluate train and validation performance on a fitted model.\n",
    "    \n",
    "    Parameters\n",
    "    ---------     \n",
    "    model: sklearn.ensemble._gb.GradientBoostingRegressor\n",
    "        scikit-learn model\n",
    "    X_train: pandas.core.frame.DataFrame\n",
    "        X of training set\n",
    "    y_train: pandas.core.series.Series\n",
    "        y of training set\n",
    "    X_valid: pandas.core.frame.DataFrame        \n",
    "        X of validation set\n",
    "    y_valid: pandas.core.series.Series\n",
    "        y of validation set     \n",
    "    mode: string\n",
    "        'mean' or 'median'\n",
    "    \n",
    "    Returns\n",
    "    -------\n",
    "    errors: list\n",
    "        \n",
    "    \"\"\"\n",
    "    if mode == 'mean':\n",
    "        errors = [mean_squared_error(y_train, \n",
    "                                     model.predict(X_train)) ** 0.5, \n",
    "                  mean_squared_error(y_valid, \n",
    "                                     model.predict(X_valid)) ** 0.5]\n",
    "        \n",
    "        print('Training RMSE:', errors[0])\n",
    "        print('Validation RMSE:', errors[1])\n",
    "        \n",
    "        \n",
    "    elif mode == 'median':\n",
    "        errors = [mean_absolute_error(y_train, \n",
    "                                      model.predict(X_train)), \n",
    "                  mean_absolute_error(y_valid, \n",
    "                                      model.predict(X_valid))]\n",
    "        \n",
    "        print('Training MAE:', errors[0])\n",
    "        print('Validation MAE:', errors[1])"
   ]
  },
  {
   "cell_type": "markdown",
   "metadata": {},
   "source": [
    "### Load the data"
   ]
  },
  {
   "cell_type": "code",
   "execution_count": null,
   "metadata": {},
   "outputs": [],
   "source": [
    "df = pd.read_csv('../data/train_data.zip')"
   ]
  },
  {
   "cell_type": "code",
   "execution_count": null,
   "metadata": {},
   "outputs": [],
   "source": [
    "# drop rows missing target variable\n",
    "df = drop_missing_unacast(df)"
   ]
  },
  {
   "cell_type": "code",
   "execution_count": null,
   "metadata": {},
   "outputs": [],
   "source": [
    "# remove playgrounds where 'external_id' == 'CA00070678'\n",
    "df = df.query(\"external_id != 'CA00070678'\")"
   ]
  },
  {
   "cell_type": "markdown",
   "metadata": {},
   "source": [
    "### Set 300 as an arbitrary cut-off between a low and high session count"
   ]
  },
  {
   "cell_type": "code",
   "execution_count": null,
   "metadata": {},
   "outputs": [],
   "source": [
    "df['over_300'] = df['unacast_session_count'] > 300"
   ]
  },
  {
   "cell_type": "code",
   "execution_count": null,
   "metadata": {},
   "outputs": [],
   "source": [
    "df[df['over_300'] == True].shape[0]"
   ]
  },
  {
   "cell_type": "code",
   "execution_count": null,
   "metadata": {},
   "outputs": [],
   "source": [
    "# Plot the distribution of 'high' session counts\n",
    "alt.Chart(df[df['over_300']]).mark_bar().encode(\n",
    "    alt.X('unacast_session_count:Q'),\n",
    "    alt.Y('count()')\n",
    ")"
   ]
  },
  {
   "cell_type": "markdown",
   "metadata": {},
   "source": [
    "### Create a classifier to predict *low* and *high* observation"
   ]
  },
  {
   "cell_type": "code",
   "execution_count": null,
   "metadata": {},
   "outputs": [],
   "source": [
    "X = df.drop(columns=['over_300', 'unacast_session_count'], axis=1)\n",
    "y = df.loc[:, 'over_300']"
   ]
  },
  {
   "cell_type": "code",
   "execution_count": null,
   "metadata": {},
   "outputs": [],
   "source": [
    "X_train, X_valid, y_train, y_valid = train_test_split(X, y, test_size=0.2, random_state=2020)"
   ]
  },
  {
   "cell_type": "code",
   "execution_count": null,
   "metadata": {},
   "outputs": [],
   "source": [
    "# impute NaN values\n",
    "result = impute_data(X_train, X_valid)\n",
    "X_train = result[0]\n",
    "X_valid = result[1]\n",
    "\n",
    "# perform feature engineering\n",
    "X_train = comb_cols(X_train)\n",
    "X_valid = comb_cols(X_valid)\n",
    "\n",
    "# perform feature selection\n",
    "X_train = drop_columns(X_train)\n",
    "X_valid = drop_columns(X_valid)\n",
    "\n",
    "# perform OHE (climate, density_class, income_class)\n",
    "X_train_valid = clean_categorical(X_train, X_valid)\n",
    "X_train = X_train_valid[0]\n",
    "X_valid = X_train_valid[1]"
   ]
  },
  {
   "cell_type": "code",
   "execution_count": null,
   "metadata": {},
   "outputs": [],
   "source": [
    "# check if there are any missing values in X_train, y_train\n",
    "print(X_train.isna().sum().sum())\n",
    "print(y_train.isna().sum())"
   ]
  },
  {
   "cell_type": "code",
   "execution_count": null,
   "metadata": {},
   "outputs": [],
   "source": [
    "# check if there are any missing values in X_valid, y_valid\n",
    "print(X_valid.isna().sum().sum())\n",
    "print(y_valid.isna().sum())"
   ]
  },
  {
   "cell_type": "code",
   "execution_count": null,
   "metadata": {},
   "outputs": [],
   "source": [
    "xgbc = XGBClassifier(n_estimators=200)\n",
    "xgbc.fit(X_train, y_train)"
   ]
  },
  {
   "cell_type": "markdown",
   "metadata": {},
   "source": [
    "#### Confusion matrix"
   ]
  },
  {
   "cell_type": "code",
   "execution_count": null,
   "metadata": {},
   "outputs": [],
   "source": [
    "confusion_matrix(y_valid, xgbc.predict(X_valid))"
   ]
  },
  {
   "cell_type": "markdown",
   "metadata": {},
   "source": [
    "#### Classification report"
   ]
  },
  {
   "cell_type": "code",
   "execution_count": null,
   "metadata": {},
   "outputs": [],
   "source": [
    "print(classification_report(y_valid, xgbc.predict(X_valid)))"
   ]
  },
  {
   "cell_type": "markdown",
   "metadata": {},
   "source": [
    "Classifier could be further improved by tuning to address class imbalance."
   ]
  },
  {
   "cell_type": "markdown",
   "metadata": {},
   "source": [
    "#### Misclassified observations in validation set"
   ]
  },
  {
   "cell_type": "code",
   "execution_count": null,
   "metadata": {},
   "outputs": [],
   "source": [
    "clf = xgbc.predict(X_valid) == y_valid\n",
    "index = clf.index"
   ]
  },
  {
   "cell_type": "code",
   "execution_count": null,
   "metadata": {},
   "outputs": [],
   "source": [
    "clf_df = df.loc[index, ['unacast_session_count', 'over_300']]\n",
    "clf_df['pred'] = xgbc.predict(X_valid)"
   ]
  },
  {
   "cell_type": "code",
   "execution_count": null,
   "metadata": {},
   "outputs": [],
   "source": [
    "prob = xgbc.predict_proba(X_valid)\n",
    "clf_df['prob_over_300'] = [item[1] for item in prob]"
   ]
  },
  {
   "cell_type": "code",
   "execution_count": null,
   "metadata": {},
   "outputs": [],
   "source": [
    "# select misclassified observations\n",
    "misclf_df = clf_df[clf_df['over_300'] != clf_df['pred']]"
   ]
  },
  {
   "cell_type": "code",
   "execution_count": null,
   "metadata": {},
   "outputs": [],
   "source": [
    "# plot distribution of target for misclassified observations\n",
    "alt.Chart(misclf_df).mark_bar().encode(\n",
    "    alt.X('unacast_session_count:Q', bin=alt.Bin(maxbins=20), title='unacast_session_count'),\n",
    "    alt.Y('count()')\n",
    ")"
   ]
  },
  {
   "cell_type": "code",
   "execution_count": null,
   "metadata": {},
   "outputs": [],
   "source": [
    "# plot scatter plot of unacast_session versus predict probability\n",
    "alt.Chart(misclf_df).mark_circle().encode(\n",
    "    alt.X('unacast_session_count:Q'),\n",
    "    alt.Y('prob_over_300')\n",
    ")"
   ]
  },
  {
   "cell_type": "markdown",
   "metadata": {},
   "source": [
    "Most of the misclassified observations lie at the boundary, as expected."
   ]
  },
  {
   "cell_type": "code",
   "execution_count": null,
   "metadata": {},
   "outputs": [],
   "source": [
    "# Split between high and low session counts\n",
    "df_hi = df[df['over_300']]\n",
    "df_lo = df[~df['over_300']]"
   ]
  },
  {
   "cell_type": "markdown",
   "metadata": {},
   "source": [
    "### Create training and validation sets for *low* observation"
   ]
  },
  {
   "cell_type": "code",
   "execution_count": null,
   "metadata": {},
   "outputs": [],
   "source": [
    "X_lo = df_lo.drop(columns=['over_300', 'unacast_session_count'], axis=1)\n",
    "y_lo = df_lo.loc[:, 'unacast_session_count']"
   ]
  },
  {
   "cell_type": "code",
   "execution_count": null,
   "metadata": {},
   "outputs": [],
   "source": [
    "X_train_lo, X_valid_lo, y_train_lo, y_valid_lo = train_test_split(X_lo, y_lo, test_size=0.2)\n",
    "\n",
    "# impute NaN values\n",
    "result_lo = impute_data(X_train_lo, X_valid_lo)\n",
    "X_train_lo = result_lo[0]\n",
    "X_valid_lo = result_lo[1]\n",
    "\n",
    "# perform feature engineering\n",
    "X_train_lo = comb_cols(X_train_lo)\n",
    "X_valid_lo = comb_cols(X_valid_lo)\n",
    "\n",
    "# perform feature selection\n",
    "X_train_lo = drop_columns(X_train_lo)\n",
    "X_valid_lo = drop_columns(X_valid_lo)\n",
    "\n",
    "# perform OHE (climate, density_class, income_class)\n",
    "X_train_valid_lo = clean_categorical(X_train_lo, X_valid_lo)\n",
    "X_train_lo = X_train_valid_lo[0]\n",
    "X_valid_lo = X_train_valid_lo[1]\n",
    "\n",
    "# check if there are any missing values in X_train, y_train\n",
    "print(X_train_lo.isna().sum().sum())\n",
    "print(y_train_lo.isna().sum())\n",
    "\n",
    "# check if there are any missing values in X_valid, y_valid\n",
    "print(X_valid_lo.isna().sum().sum())\n",
    "print(y_valid_lo.isna().sum())"
   ]
  },
  {
   "cell_type": "code",
   "execution_count": null,
   "metadata": {},
   "outputs": [],
   "source": [
    "#X_train_lo.to_csv('../data/X_train_lo.csv')\n",
    "#X_valid_lo.to_csv('../data/X_valid_lo.csv')\n",
    "\n",
    "#y_train_lo.to_frame().to_csv('../data/y_train_lo.csv')\n",
    "#y_valid_lo.to_frame().to_csv('../data/y_valid_lo.csv')"
   ]
  },
  {
   "cell_type": "markdown",
   "metadata": {},
   "source": [
    "#### `LinearRegression`"
   ]
  },
  {
   "cell_type": "code",
   "execution_count": null,
   "metadata": {},
   "outputs": [],
   "source": [
    "lr = LinearRegression()\n",
    "lr.fit(X_train_lo, y_train_lo)"
   ]
  },
  {
   "cell_type": "code",
   "execution_count": null,
   "metadata": {},
   "outputs": [],
   "source": [
    "report_performance(lr, X_train_lo, y_train_lo, X_valid_lo, y_valid_lo)"
   ]
  },
  {
   "cell_type": "code",
   "execution_count": null,
   "metadata": {},
   "outputs": [],
   "source": [
    "def plot_residuals(model, X, y):\n",
    "    \"\"\"\n",
    "    Plot the residuals.\n",
    "    \n",
    "    Parameters\n",
    "    ----------\n",
    "    X: pd.DataFrame\n",
    "    \n",
    "    y: pandas.core.series.Series\n",
    "    \n",
    "    model:\n",
    "    \n",
    "    Returns\n",
    "    -------\n",
    "    altair.vegalite.v4.api.Chart\n",
    "    \n",
    "    \"\"\"\n",
    "    \n",
    "    plot_dict = {'pred': model.predict(X),\n",
    "                'true': y}\n",
    "    \n",
    "    plot_df = pd.DataFrame(plot_dict)\n",
    "    \n",
    "    plot_df['res'] = plot_df['true'] - plot_df['pred']\n",
    "    \n",
    "    plot = (alt\n",
    "            .Chart(plot_df)\n",
    "            .mark_circle()\n",
    "            .encode(\n",
    "                alt.X('true:Q'),\n",
    "                alt.Y('res:Q')\n",
    "            )\n",
    "           )\n",
    "    \n",
    "    return plot"
   ]
  },
  {
   "cell_type": "code",
   "execution_count": null,
   "metadata": {},
   "outputs": [],
   "source": [
    "plot_residuals(lr, X_valid_lo, y_valid_lo)"
   ]
  },
  {
   "cell_type": "markdown",
   "metadata": {},
   "source": [
    "#### `XGBoost`"
   ]
  },
  {
   "cell_type": "code",
   "execution_count": null,
   "metadata": {},
   "outputs": [],
   "source": [
    "xgbr = XGBRegressor(n_estimators=200, verbosity=1, random_state=2020)\n",
    "xgbr.fit(X_train_lo, y_train_lo)"
   ]
  },
  {
   "cell_type": "code",
   "execution_count": null,
   "metadata": {
    "scrolled": true
   },
   "outputs": [],
   "source": [
    "report_performance(xgbr, X_train_lo, y_train_lo, X_valid_lo, y_valid_lo)"
   ]
  },
  {
   "cell_type": "code",
   "execution_count": null,
   "metadata": {},
   "outputs": [],
   "source": [
    "plot_residuals(xgbr, X_valid_lo, y_valid_lo)"
   ]
  },
  {
   "cell_type": "markdown",
   "metadata": {},
   "source": [
    "### Create training and validation sets for *high* observation"
   ]
  },
  {
   "cell_type": "code",
   "execution_count": null,
   "metadata": {},
   "outputs": [],
   "source": [
    "X_hi = df_hi.drop(columns=['over_300', 'unacast_session_count'], axis=1)\n",
    "y_hi = df_hi.loc[:, 'unacast_session_count']"
   ]
  },
  {
   "cell_type": "code",
   "execution_count": null,
   "metadata": {},
   "outputs": [],
   "source": [
    "X_train_hi, X_valid_hi, y_train_hi, y_valid_hi = train_test_split(X_hi, y_hi, test_size=0.2)\n",
    "\n",
    "# impute NaN values\n",
    "result_hi = impute_data(X_train_hi, X_valid_hi)\n",
    "X_train_hi = result_hi[0]\n",
    "X_valid_hi = result_hi[1]\n",
    "\n",
    "# perform feature engineering\n",
    "X_train_hi = comb_cols(X_train_hi)\n",
    "X_valid_hi = comb_cols(X_valid_hi)\n",
    "\n",
    "# perform feature selection\n",
    "X_train_hi = drop_columns(X_train_hi)\n",
    "X_valid_hi = drop_columns(X_valid_hi)\n",
    "\n",
    "# perform OHE (climate, density_class, income_class)\n",
    "X_train_valid_hi = clean_categorical(X_train_hi, X_valid_hi)\n",
    "X_train_hi = X_train_valid_hi[0]\n",
    "X_valid_hi = X_train_valid_hi[1]\n",
    "\n",
    "# check if there are any missing values in X_train, y_train\n",
    "print(X_train_hi.isna().sum().sum())\n",
    "print(y_train_hi.isna().sum())\n",
    "\n",
    "# check if there are any missing values in X_valid, y_valid\n",
    "print(X_valid_hi.isna().sum().sum())\n",
    "print(y_valid_hi.isna().sum())"
   ]
  },
  {
   "cell_type": "code",
   "execution_count": null,
   "metadata": {},
   "outputs": [],
   "source": [
    "#X_train_hi.to_csv('../data/X_train_hi.csv')\n",
    "#X_valid_hi.to_csv('../data/X_valid_hi.csv')"
   ]
  },
  {
   "cell_type": "code",
   "execution_count": null,
   "metadata": {},
   "outputs": [],
   "source": [
    "#y_train_hi.to_frame().to_csv('../data/y_train_hi.csv')\n",
    "#y_valid_hi.to_frame().to_csv('../data/y_valid_hi.csv')"
   ]
  },
  {
   "cell_type": "markdown",
   "metadata": {},
   "source": [
    "# Summary\n",
    "\n",
    "- Purpose: proof of concept for a two-step model\n",
    "   - First, classify an observation as either \"high\" (>300) or \"low\" (<=300)\n",
    "   - Then, predict the number of sessions using a model either trained on high-count data or low-count data\n",
    "- Check out the companion file `classifier_regressor_model.md` that contains the work done in R\n",
    "\n",
    "\n",
    "- Created an `XGBClassifier` with little tuning\n",
    "   - F1 scores for \"low\" and \"high\" were 0.99 and 0.85, respectively\n",
    "   \n",
    "   \n",
    "- Regression model built for high-count data\n",
    "   - Poisson regression (log link) used to predict `unacast_session_count`\n",
    "   - Validation RMSE was `1.22287e+73`\n",
    "   - Other generalized linear models suitable for count data were considered (e.g. negative binomial); however, the model coefficients couldn't be obtained in R\n",
    "\n",
    "\n",
    "- Regression model build for low-count data\n",
    "   - `LinearRegression`\n",
    "      - Validation RMSE: 54\n",
    "   - `XGBRegressor`\n",
    "      - Validation RMSE: 35\n",
    "   - Poisson regression (log link) \n",
    "      - Validation RMSE: 53\n",
    "      \n",
    "- Worthwhile to mention that there's an increasing trend in the (validation) residual plots"
   ]
  }
 ],
 "metadata": {
  "kernelspec": {
   "display_name": "capstone_machine_learning",
   "language": "python",
   "name": "capstone_machine_learning"
  },
  "language_info": {
   "codemirror_mode": {
    "name": "ipython",
    "version": 3
   },
   "file_extension": ".py",
   "mimetype": "text/x-python",
   "name": "python",
   "nbconvert_exporter": "python",
   "pygments_lexer": "ipython3",
   "version": "3.7.3"
  }
 },
 "nbformat": 4,
 "nbformat_minor": 4
}
