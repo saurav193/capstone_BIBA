{
 "cells": [
  {
   "cell_type": "code",
   "execution_count": 1,
   "metadata": {},
   "outputs": [],
   "source": [
    "import statsmodels.formula.api as smf\n",
    "import numpy as np\n",
    "import pandas as pd\n",
    "from sklearn import metrics\n",
    "from sklearn.model_selection import train_test_split\n",
    "from sklearn.feature_selection import VarianceThreshold\n",
    "from sklearn.feature_selection import RFE, RFECV\n",
    "from sklearn.linear_model import LogisticRegression\n",
    "\n",
    "# import other functions\n",
    "from imputer import *\n",
    "from feature_eng import *\n",
    "from drop import *"
   ]
  },
  {
   "cell_type": "code",
   "execution_count": 2,
   "metadata": {},
   "outputs": [
    {
     "data": {
      "text/html": [
       "<div>\n",
       "<style scoped>\n",
       "    .dataframe tbody tr th:only-of-type {\n",
       "        vertical-align: middle;\n",
       "    }\n",
       "\n",
       "    .dataframe tbody tr th {\n",
       "        vertical-align: top;\n",
       "    }\n",
       "\n",
       "    .dataframe thead th {\n",
       "        text-align: right;\n",
       "    }\n",
       "</style>\n",
       "<table border=\"1\" class=\"dataframe\">\n",
       "  <thead>\n",
       "    <tr style=\"text-align: right;\">\n",
       "      <th></th>\n",
       "      <th>external_id</th>\n",
       "      <th>month</th>\n",
       "      <th>year</th>\n",
       "      <th>monthly_number_of_sessions</th>\n",
       "      <th>monthly_unique_sessions</th>\n",
       "      <th>monthly_repeated_sessions</th>\n",
       "      <th>monthly_avg_length_of_session</th>\n",
       "      <th>monthly_avg_light_activity</th>\n",
       "      <th>monthly_avg_moderate_activity</th>\n",
       "      <th>monthly_avg_vigorous_activity</th>\n",
       "      <th>...</th>\n",
       "      <th>avg_wind_9_10</th>\n",
       "      <th>avg_wind_10_11</th>\n",
       "      <th>avg_wind_11_12</th>\n",
       "      <th>avg_wind_12_above</th>\n",
       "      <th>perfect_days</th>\n",
       "      <th>unacast_session_count</th>\n",
       "      <th>hpi</th>\n",
       "      <th>state_and_local_amount_per_capita</th>\n",
       "      <th>state_amount_per_capita</th>\n",
       "      <th>local_amount_per_capita</th>\n",
       "    </tr>\n",
       "  </thead>\n",
       "  <tbody>\n",
       "    <tr>\n",
       "      <th>0</th>\n",
       "      <td>1804425</td>\n",
       "      <td>8</td>\n",
       "      <td>2018</td>\n",
       "      <td>0</td>\n",
       "      <td>0</td>\n",
       "      <td>0</td>\n",
       "      <td>0.0</td>\n",
       "      <td>0.0</td>\n",
       "      <td>0.0</td>\n",
       "      <td>0.0</td>\n",
       "      <td>...</td>\n",
       "      <td>0.0</td>\n",
       "      <td>0.0</td>\n",
       "      <td>0.0</td>\n",
       "      <td>0.0</td>\n",
       "      <td>0.0</td>\n",
       "      <td>90.0</td>\n",
       "      <td>244.20</td>\n",
       "      <td>0.157475</td>\n",
       "      <td>0.009783</td>\n",
       "      <td>0.147692</td>\n",
       "    </tr>\n",
       "    <tr>\n",
       "      <th>1</th>\n",
       "      <td>1812706</td>\n",
       "      <td>2</td>\n",
       "      <td>2019</td>\n",
       "      <td>0</td>\n",
       "      <td>0</td>\n",
       "      <td>0</td>\n",
       "      <td>0.0</td>\n",
       "      <td>0.0</td>\n",
       "      <td>0.0</td>\n",
       "      <td>0.0</td>\n",
       "      <td>...</td>\n",
       "      <td>0.0</td>\n",
       "      <td>0.0</td>\n",
       "      <td>0.0</td>\n",
       "      <td>0.0</td>\n",
       "      <td>4.0</td>\n",
       "      <td>27.0</td>\n",
       "      <td>258.95</td>\n",
       "      <td>0.157475</td>\n",
       "      <td>0.009783</td>\n",
       "      <td>0.147692</td>\n",
       "    </tr>\n",
       "    <tr>\n",
       "      <th>2</th>\n",
       "      <td>1812706</td>\n",
       "      <td>3</td>\n",
       "      <td>2019</td>\n",
       "      <td>0</td>\n",
       "      <td>0</td>\n",
       "      <td>0</td>\n",
       "      <td>0.0</td>\n",
       "      <td>0.0</td>\n",
       "      <td>0.0</td>\n",
       "      <td>0.0</td>\n",
       "      <td>...</td>\n",
       "      <td>0.0</td>\n",
       "      <td>0.0</td>\n",
       "      <td>0.0</td>\n",
       "      <td>0.0</td>\n",
       "      <td>4.0</td>\n",
       "      <td>27.0</td>\n",
       "      <td>258.95</td>\n",
       "      <td>0.157475</td>\n",
       "      <td>0.009783</td>\n",
       "      <td>0.147692</td>\n",
       "    </tr>\n",
       "    <tr>\n",
       "      <th>3</th>\n",
       "      <td>1812706</td>\n",
       "      <td>11</td>\n",
       "      <td>2018</td>\n",
       "      <td>0</td>\n",
       "      <td>0</td>\n",
       "      <td>0</td>\n",
       "      <td>0.0</td>\n",
       "      <td>0.0</td>\n",
       "      <td>0.0</td>\n",
       "      <td>0.0</td>\n",
       "      <td>...</td>\n",
       "      <td>0.0</td>\n",
       "      <td>0.0</td>\n",
       "      <td>0.0</td>\n",
       "      <td>0.0</td>\n",
       "      <td>3.0</td>\n",
       "      <td>24.0</td>\n",
       "      <td>258.95</td>\n",
       "      <td>0.157475</td>\n",
       "      <td>0.009783</td>\n",
       "      <td>0.147692</td>\n",
       "    </tr>\n",
       "    <tr>\n",
       "      <th>4</th>\n",
       "      <td>1812706</td>\n",
       "      <td>9</td>\n",
       "      <td>2018</td>\n",
       "      <td>0</td>\n",
       "      <td>0</td>\n",
       "      <td>0</td>\n",
       "      <td>0.0</td>\n",
       "      <td>0.0</td>\n",
       "      <td>0.0</td>\n",
       "      <td>0.0</td>\n",
       "      <td>...</td>\n",
       "      <td>0.0</td>\n",
       "      <td>0.0</td>\n",
       "      <td>0.0</td>\n",
       "      <td>0.0</td>\n",
       "      <td>0.0</td>\n",
       "      <td>12.0</td>\n",
       "      <td>258.95</td>\n",
       "      <td>0.157475</td>\n",
       "      <td>0.009783</td>\n",
       "      <td>0.147692</td>\n",
       "    </tr>\n",
       "  </tbody>\n",
       "</table>\n",
       "<p>5 rows × 861 columns</p>\n",
       "</div>"
      ],
      "text/plain": [
       "  external_id  month  year  monthly_number_of_sessions  \\\n",
       "0     1804425      8  2018                           0   \n",
       "1     1812706      2  2019                           0   \n",
       "2     1812706      3  2019                           0   \n",
       "3     1812706     11  2018                           0   \n",
       "4     1812706      9  2018                           0   \n",
       "\n",
       "   monthly_unique_sessions  monthly_repeated_sessions  \\\n",
       "0                        0                          0   \n",
       "1                        0                          0   \n",
       "2                        0                          0   \n",
       "3                        0                          0   \n",
       "4                        0                          0   \n",
       "\n",
       "   monthly_avg_length_of_session  monthly_avg_light_activity  \\\n",
       "0                            0.0                         0.0   \n",
       "1                            0.0                         0.0   \n",
       "2                            0.0                         0.0   \n",
       "3                            0.0                         0.0   \n",
       "4                            0.0                         0.0   \n",
       "\n",
       "   monthly_avg_moderate_activity  monthly_avg_vigorous_activity  ...  \\\n",
       "0                            0.0                            0.0  ...   \n",
       "1                            0.0                            0.0  ...   \n",
       "2                            0.0                            0.0  ...   \n",
       "3                            0.0                            0.0  ...   \n",
       "4                            0.0                            0.0  ...   \n",
       "\n",
       "   avg_wind_9_10  avg_wind_10_11  avg_wind_11_12  avg_wind_12_above  \\\n",
       "0            0.0             0.0             0.0                0.0   \n",
       "1            0.0             0.0             0.0                0.0   \n",
       "2            0.0             0.0             0.0                0.0   \n",
       "3            0.0             0.0             0.0                0.0   \n",
       "4            0.0             0.0             0.0                0.0   \n",
       "\n",
       "   perfect_days  unacast_session_count     hpi  \\\n",
       "0           0.0                   90.0  244.20   \n",
       "1           4.0                   27.0  258.95   \n",
       "2           4.0                   27.0  258.95   \n",
       "3           3.0                   24.0  258.95   \n",
       "4           0.0                   12.0  258.95   \n",
       "\n",
       "   state_and_local_amount_per_capita  state_amount_per_capita  \\\n",
       "0                           0.157475                 0.009783   \n",
       "1                           0.157475                 0.009783   \n",
       "2                           0.157475                 0.009783   \n",
       "3                           0.157475                 0.009783   \n",
       "4                           0.157475                 0.009783   \n",
       "\n",
       "   local_amount_per_capita  \n",
       "0                 0.147692  \n",
       "1                 0.147692  \n",
       "2                 0.147692  \n",
       "3                 0.147692  \n",
       "4                 0.147692  \n",
       "\n",
       "[5 rows x 861 columns]"
      ]
     },
     "execution_count": 2,
     "metadata": {},
     "output_type": "execute_result"
    }
   ],
   "source": [
    "#Download the data\n",
    "df = pd.read_csv('../data/train_data.zip')\n",
    "df.head()"
   ]
  },
  {
   "cell_type": "code",
   "execution_count": 3,
   "metadata": {},
   "outputs": [
    {
     "name": "stdout",
     "output_type": "stream",
     "text": [
      "(39592, 630)\n",
      "(9898, 630)\n"
     ]
    }
   ],
   "source": [
    "# drop rows missing target variable\n",
    "df = drop_missing_unacast(df)\n",
    "# create X and y\n",
    "X = df.drop('unacast_session_count', axis=1)\n",
    "y = df.loc[:, 'unacast_session_count']\n",
    "# split the data\n",
    "X_train, X_valid, y_train, y_valid = train_test_split(X, y, \n",
    "                                                    test_size=0.2,\n",
    "                                                      random_state=2020)\n",
    "# impute NaN values\n",
    "result = impute_data(X_train, X_valid)\n",
    "X_train = result[0]\n",
    "X_valid = result[1] \n",
    "# perform feature eng\n",
    "X_train = comb_cols(X_train)\n",
    "X_valid = comb_cols(X_valid)\n",
    "# perform dropping\n",
    "X_train = drop_columns(X_train)\n",
    "X_valid = drop_columns(X_valid)\n",
    "\n",
    "# perform OHE (climate, density_class, income_class)\n",
    "X_train_valid = clean_categorical(X_train, X_valid, ['income_class', 'density_class'])\n",
    "X_train = X_train_valid[0]\n",
    "X_valid = X_train_valid[1]\n",
    "\n",
    "print(X_train.shape)\n",
    "print(X_valid.shape)"
   ]
  },
  {
   "cell_type": "code",
   "execution_count": 4,
   "metadata": {},
   "outputs": [],
   "source": [
    "valid = pd.concat([X_valid, y_valid.reset_index()], axis=1)\n",
    "train = pd.concat([X_train, y_train.reset_index()], axis=1)"
   ]
  },
  {
   "cell_type": "code",
   "execution_count": 5,
   "metadata": {},
   "outputs": [],
   "source": [
    "def variance_threshold_selector(data, threshold=0.5):\n",
    "    # https://stackoverflow.com/a/39813304/1956309\n",
    "    selector = VarianceThreshold(threshold)\n",
    "    selector.fit(data)\n",
    "    return data[data.columns[selector.get_support(indices=True)]]\n",
    "\n",
    "# min_variance = .9 * (1 - .9)  # You can play here with different values.\n",
    "min_variance = 0.001\n",
    "low_variance = variance_threshold_selector(train.drop(columns=['climate']), min_variance) "
   ]
  },
  {
   "cell_type": "code",
   "execution_count": 6,
   "metadata": {},
   "outputs": [],
   "source": [
    "train_var = pd.concat([low_variance, train[['climate']]], axis=1)"
   ]
  },
  {
   "cell_type": "code",
   "execution_count": 9,
   "metadata": {},
   "outputs": [
    {
     "data": {
      "text/plain": [
       "monthly_repeated_sessions    2.102694e+02\n",
       "B25012e16                    7.232822e+02\n",
       "B17012e6                     7.275718e+02\n",
       "B09002e17                    1.453748e+03\n",
       "B08301e6                     2.045454e+03\n",
       "B19101e8                     2.053583e+03\n",
       "B25012e8                     2.090486e+03\n",
       "B19101e4                     2.286114e+03\n",
       "B19101e7                     2.348009e+03\n",
       "B23008e27                    4.038522e+03\n",
       "B23008e23                    4.194277e+03\n",
       "B11005e14                    7.171151e+03\n",
       "B09002e19                    7.681787e+03\n",
       "B12001e15                    8.560184e+03\n",
       "B25012e15                    1.005072e+04\n",
       "B17020e4                     1.206659e+04\n",
       "B25012e6                     1.331326e+04\n",
       "B17012e31                    1.455870e+04\n",
       "B23008e26                    2.240136e+04\n",
       "B25012e12                    3.503938e+04\n",
       "B25012e11                    3.949364e+04\n",
       "B23008e21                    4.559050e+04\n",
       "B11016e10                    9.067735e+04\n",
       "B11005e17                    1.383332e+05\n",
       "B25012e10                    2.445804e+05\n",
       "C18108e5                     1.217408e+06\n",
       "B12001e11                    1.637760e+06\n",
       "B20004e9                     2.933886e+08\n",
       "B20004e7                     4.974437e+08\n",
       "dtype: float64"
      ]
     },
     "execution_count": 9,
     "metadata": {},
     "output_type": "execute_result"
    }
   ],
   "source": [
    "train_var[['monthly_repeated_sessions', 'B23008e21', 'B23008e23', 'B12001e11', 'B23008e26', 'B11005e14', \n",
    "           'B11005e17', 'B20004e9', 'B19101e7', 'B19101e4', 'B12001e15', 'B09002e19', 'B23008e27', 'B20004e7', \n",
    "           'B11016e10', 'B17012e31', 'B19101e8', 'C18108e5', 'B25012e8', 'B25012e15', 'B17020e4', \n",
    "           'B25012e16', 'B25012e10', 'B25012e6', 'B09002e17', 'B25012e12', 'B25012e11', 'B08301e6', 'B17012e6']].var().sort_values()"
   ]
  },
  {
   "cell_type": "code",
   "execution_count": 12,
   "metadata": {},
   "outputs": [
    {
     "data": {
      "text/plain": [
       "historic_total_session_length    7.224510e+14\n",
       "distance_to_U                    2.178945e+11\n",
       "distance_to_O                    2.063218e+11\n",
       "Democrats_08_Votes               1.786226e+11\n",
       "Democrats_12_Votes               1.644906e+11\n",
       "                                     ...     \n",
       "B19059e3                         8.815859e+05\n",
       "B13012e1                         8.394686e+05\n",
       "B25012e2                         8.281461e+05\n",
       "B13014e15                        8.007081e+05\n",
       "B19055e3                         7.944908e+05\n",
       "Length: 106, dtype: float64"
      ]
     },
     "execution_count": 12,
     "metadata": {},
     "output_type": "execute_result"
    }
   ],
   "source": [
    "train_var.var().sort_values(ascending=False).head(106)"
   ]
  },
  {
   "cell_type": "code",
   "execution_count": null,
   "metadata": {},
   "outputs": [],
   "source": []
  },
  {
   "cell_type": "code",
   "execution_count": null,
   "metadata": {},
   "outputs": [],
   "source": []
  },
  {
   "cell_type": "markdown",
   "metadata": {},
   "source": [
    "#### RFE"
   ]
  },
  {
   "cell_type": "code",
   "execution_count": 7,
   "metadata": {},
   "outputs": [],
   "source": [
    "lr = LogisticRegression(solver='liblinear')\n",
    "rfe=RFE(estimator=lr, n_features_to_select=710)"
   ]
  },
  {
   "cell_type": "code",
   "execution_count": null,
   "metadata": {},
   "outputs": [],
   "source": [
    "rfe.fit(train_var.drop(columns=['climate']), y_train)"
   ]
  },
  {
   "cell_type": "code",
   "execution_count": null,
   "metadata": {},
   "outputs": [],
   "source": [
    "print(rfe.support)"
   ]
  },
  {
   "cell_type": "code",
   "execution_count": null,
   "metadata": {},
   "outputs": [],
   "source": [
    "print(rfe.ranking)"
   ]
  },
  {
   "cell_type": "markdown",
   "metadata": {},
   "source": [
    "#### RFECV"
   ]
  },
  {
   "cell_type": "code",
   "execution_count": null,
   "metadata": {},
   "outputs": [],
   "source": [
    "lr = LogisticRegression(solver='liblinear')\n",
    "rfe_cv=RFECV(estimator=lr, cv=3)"
   ]
  },
  {
   "cell_type": "code",
   "execution_count": null,
   "metadata": {},
   "outputs": [],
   "source": [
    "rfe_cv.fit(train_var.drop(columns=['climate']), y_train)"
   ]
  },
  {
   "cell_type": "code",
   "execution_count": null,
   "metadata": {},
   "outputs": [],
   "source": [
    "print(rfe_cv.n_features_)"
   ]
  },
  {
   "cell_type": "code",
   "execution_count": null,
   "metadata": {},
   "outputs": [],
   "source": [
    "print(rfe_cv.support)"
   ]
  },
  {
   "cell_type": "code",
   "execution_count": null,
   "metadata": {},
   "outputs": [],
   "source": []
  },
  {
   "cell_type": "code",
   "execution_count": null,
   "metadata": {},
   "outputs": [],
   "source": []
  },
  {
   "cell_type": "code",
   "execution_count": null,
   "metadata": {},
   "outputs": [],
   "source": []
  }
 ],
 "metadata": {
  "kernelspec": {
   "display_name": "capstone_machine_learning",
   "language": "python",
   "name": "capstone_machine_learning"
  },
  "language_info": {
   "codemirror_mode": {
    "name": "ipython",
    "version": 3
   },
   "file_extension": ".py",
   "mimetype": "text/x-python",
   "name": "python",
   "nbconvert_exporter": "python",
   "pygments_lexer": "ipython3",
   "version": "3.7.6"
  }
 },
 "nbformat": 4,
 "nbformat_minor": 4
}
