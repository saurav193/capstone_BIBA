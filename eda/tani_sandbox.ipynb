{
 "cells": [
  {
   "cell_type": "code",
   "execution_count": 2,
   "metadata": {},
   "outputs": [],
   "source": [
    "import pandas as pd\n",
    "import numpy as np\n",
    "from sklearn.decomposition import PCA \n",
    "from sklearn.linear_model import LinearRegression\n",
    "from sklearn.cluster import KMeans\n",
    "import altair as alt\n",
    "import matplotlib"
   ]
  },
  {
   "cell_type": "code",
   "execution_count": 3,
   "metadata": {},
   "outputs": [],
   "source": [
    "df = pd.read_csv('../data/train_data.zip')"
   ]
  },
  {
   "cell_type": "code",
   "execution_count": 3,
   "metadata": {},
   "outputs": [
    {
     "data": {
      "text/plain": [
       "Index(['external_id', 'month', 'year', 'monthly_number_of_sessions',\n",
       "       'monthly_unique_sessions', 'monthly_repeated_sessions',\n",
       "       'monthly_avg_length_of_session', 'monthly_avg_light_activity',\n",
       "       'monthly_avg_moderate_activity', 'monthly_avg_vigorous_activity',\n",
       "       ...\n",
       "       'avg_wind_9_10', 'avg_wind_10_11', 'avg_wind_11_12',\n",
       "       'avg_wind_12_above', 'perfect_days', 'unacast_session_count', 'hpi',\n",
       "       'state_and_local_amount_per_capita', 'state_amount_per_capita',\n",
       "       'local_amount_per_capita'],\n",
       "      dtype='object', length=861)"
      ]
     },
     "execution_count": 3,
     "metadata": {},
     "output_type": "execute_result"
    }
   ],
   "source": [
    "df.columns"
   ]
  },
  {
   "cell_type": "code",
   "execution_count": null,
   "metadata": {},
   "outputs": [],
   "source": []
  },
  {
   "cell_type": "code",
   "execution_count": null,
   "metadata": {},
   "outputs": [],
   "source": []
  },
  {
   "cell_type": "code",
   "execution_count": 1,
   "metadata": {},
   "outputs": [],
   "source": [
    "# Tried running overall PCA, requires dealing with nulls\n",
    "\n",
    "# pca_all = PCA()\n",
    "# pca_all.fit(df.drop(labels=['external_id','unacast_session_count'],axis=1).select_dtypes(include=[np.number]))"
   ]
  },
  {
   "cell_type": "code",
   "execution_count": 5,
   "metadata": {},
   "outputs": [],
   "source": [
    "null_rate = (df.isna().sum(axis=0)/df.shape[0]).to_frame().rename(columns={0: \"Null_rate\"})"
   ]
  },
  {
   "cell_type": "code",
   "execution_count": 8,
   "metadata": {},
   "outputs": [
    {
     "data": {
      "application/vnd.vegalite.v3+json": {
       "$schema": "https://vega.github.io/schema/vega-lite/v3.4.0.json",
       "config": {
        "mark": {
         "tooltip": null
        },
        "view": {
         "height": 300,
         "width": 400
        }
       },
       "data": {
        "name": "data-10809f928bb692c3891531bd2a681b01"
       },
       "datasets": {
        "data-10809f928bb692c3891531bd2a681b01": [
         {
          "Null_rate": 0
         },
         {
          "Null_rate": 0
         },
         {
          "Null_rate": 0
         },
         {
          "Null_rate": 0
         },
         {
          "Null_rate": 0
         },
         {
          "Null_rate": 0
         },
         {
          "Null_rate": 0
         },
         {
          "Null_rate": 0
         },
         {
          "Null_rate": 0
         },
         {
          "Null_rate": 0
         },
         {
          "Null_rate": 0
         },
         {
          "Null_rate": 0
         },
         {
          "Null_rate": 0
         },
         {
          "Null_rate": 0
         },
         {
          "Null_rate": 0
         },
         {
          "Null_rate": 0
         },
         {
          "Null_rate": 0
         },
         {
          "Null_rate": 0
         },
         {
          "Null_rate": 0
         },
         {
          "Null_rate": 0
         },
         {
          "Null_rate": 0
         },
         {
          "Null_rate": 0
         },
         {
          "Null_rate": 0
         },
         {
          "Null_rate": 0
         },
         {
          "Null_rate": 0
         },
         {
          "Null_rate": 0
         },
         {
          "Null_rate": 0
         },
         {
          "Null_rate": 0
         },
         {
          "Null_rate": 0
         },
         {
          "Null_rate": 0
         },
         {
          "Null_rate": 0
         },
         {
          "Null_rate": 0
         },
         {
          "Null_rate": 0
         },
         {
          "Null_rate": 0
         },
         {
          "Null_rate": 0
         },
         {
          "Null_rate": 0
         },
         {
          "Null_rate": 0
         },
         {
          "Null_rate": 0
         },
         {
          "Null_rate": 0
         },
         {
          "Null_rate": 0
         },
         {
          "Null_rate": 0
         },
         {
          "Null_rate": 0
         },
         {
          "Null_rate": 0
         },
         {
          "Null_rate": 0
         },
         {
          "Null_rate": 0
         },
         {
          "Null_rate": 0
         },
         {
          "Null_rate": 0
         },
         {
          "Null_rate": 0
         },
         {
          "Null_rate": 0
         },
         {
          "Null_rate": 0
         },
         {
          "Null_rate": 0
         },
         {
          "Null_rate": 0
         },
         {
          "Null_rate": 0
         },
         {
          "Null_rate": 0
         },
         {
          "Null_rate": 0
         },
         {
          "Null_rate": 0
         },
         {
          "Null_rate": 0
         },
         {
          "Null_rate": 0
         },
         {
          "Null_rate": 0
         },
         {
          "Null_rate": 0
         },
         {
          "Null_rate": 0
         },
         {
          "Null_rate": 0
         },
         {
          "Null_rate": 0
         },
         {
          "Null_rate": 0
         },
         {
          "Null_rate": 0
         },
         {
          "Null_rate": 0
         },
         {
          "Null_rate": 0
         },
         {
          "Null_rate": 0
         },
         {
          "Null_rate": 0
         },
         {
          "Null_rate": 0
         },
         {
          "Null_rate": 0
         },
         {
          "Null_rate": 0
         },
         {
          "Null_rate": 0
         },
         {
          "Null_rate": 0
         },
         {
          "Null_rate": 0
         },
         {
          "Null_rate": 0
         },
         {
          "Null_rate": 0
         },
         {
          "Null_rate": 0
         },
         {
          "Null_rate": 0
         },
         {
          "Null_rate": 0
         },
         {
          "Null_rate": 0
         },
         {
          "Null_rate": 0
         },
         {
          "Null_rate": 0
         },
         {
          "Null_rate": 0
         },
         {
          "Null_rate": 0
         },
         {
          "Null_rate": 0
         },
         {
          "Null_rate": 0
         },
         {
          "Null_rate": 0
         },
         {
          "Null_rate": 0
         },
         {
          "Null_rate": 0
         },
         {
          "Null_rate": 0
         },
         {
          "Null_rate": 0
         },
         {
          "Null_rate": 0
         },
         {
          "Null_rate": 0
         },
         {
          "Null_rate": 0
         },
         {
          "Null_rate": 0.904269752593775
         },
         {
          "Null_rate": 0.904269752593775
         },
         {
          "Null_rate": 0
         },
         {
          "Null_rate": 0.9729050279329609
         },
         {
          "Null_rate": 0.9729050279329609
         },
         {
          "Null_rate": 0.9729050279329609
         },
         {
          "Null_rate": 0.9729050279329609
         },
         {
          "Null_rate": 0.9729050279329609
         },
         {
          "Null_rate": 0.9729050279329609
         },
         {
          "Null_rate": 0.9729050279329609
         },
         {
          "Null_rate": 0.9729050279329609
         },
         {
          "Null_rate": 0.9729050279329609
         },
         {
          "Null_rate": 0.9729050279329609
         },
         {
          "Null_rate": 0.9729050279329609
         },
         {
          "Null_rate": 0.9729050279329609
         },
         {
          "Null_rate": 0.9729050279329609
         },
         {
          "Null_rate": 0.9729050279329609
         },
         {
          "Null_rate": 0.9729050279329609
         },
         {
          "Null_rate": 0.9729050279329609
         },
         {
          "Null_rate": 0.9729050279329609
         },
         {
          "Null_rate": 0.9729050279329609
         },
         {
          "Null_rate": 0.9729050279329609
         },
         {
          "Null_rate": 0.9729050279329609
         },
         {
          "Null_rate": 0.9729050279329609
         },
         {
          "Null_rate": 0.9729050279329609
         },
         {
          "Null_rate": 0.9729050279329609
         },
         {
          "Null_rate": 0.9729050279329609
         },
         {
          "Null_rate": 0.9729050279329609
         },
         {
          "Null_rate": 0.9729050279329609
         },
         {
          "Null_rate": 0.9729050279329609
         },
         {
          "Null_rate": 0.9729050279329609
         },
         {
          "Null_rate": 0.9729050279329609
         },
         {
          "Null_rate": 0.9729050279329609
         },
         {
          "Null_rate": 0.9729050279329609
         },
         {
          "Null_rate": 0.9729050279329609
         },
         {
          "Null_rate": 0.9729050279329609
         },
         {
          "Null_rate": 0
         },
         {
          "Null_rate": 0
         },
         {
          "Null_rate": 0
         },
         {
          "Null_rate": 0
         },
         {
          "Null_rate": 0
         },
         {
          "Null_rate": 0
         },
         {
          "Null_rate": 0
         },
         {
          "Null_rate": 0
         },
         {
          "Null_rate": 0
         },
         {
          "Null_rate": 0
         },
         {
          "Null_rate": 0
         },
         {
          "Null_rate": 0
         },
         {
          "Null_rate": 0
         },
         {
          "Null_rate": 0
         },
         {
          "Null_rate": 0
         },
         {
          "Null_rate": 0
         },
         {
          "Null_rate": 0
         },
         {
          "Null_rate": 0
         },
         {
          "Null_rate": 0
         },
         {
          "Null_rate": 0
         },
         {
          "Null_rate": 0
         },
         {
          "Null_rate": 0
         },
         {
          "Null_rate": 0
         },
         {
          "Null_rate": 0
         },
         {
          "Null_rate": 0
         },
         {
          "Null_rate": 0
         },
         {
          "Null_rate": 0
         },
         {
          "Null_rate": 0
         },
         {
          "Null_rate": 0
         },
         {
          "Null_rate": 0
         },
         {
          "Null_rate": 0
         },
         {
          "Null_rate": 0
         },
         {
          "Null_rate": 0
         },
         {
          "Null_rate": 0
         },
         {
          "Null_rate": 0
         },
         {
          "Null_rate": 0
         },
         {
          "Null_rate": 0
         },
         {
          "Null_rate": 0
         },
         {
          "Null_rate": 0
         },
         {
          "Null_rate": 0
         },
         {
          "Null_rate": 0
         },
         {
          "Null_rate": 0
         },
         {
          "Null_rate": 0
         },
         {
          "Null_rate": 0
         },
         {
          "Null_rate": 0
         },
         {
          "Null_rate": 0
         },
         {
          "Null_rate": 0
         },
         {
          "Null_rate": 0
         },
         {
          "Null_rate": 0
         },
         {
          "Null_rate": 0
         },
         {
          "Null_rate": 0
         },
         {
          "Null_rate": 0
         },
         {
          "Null_rate": 0
         },
         {
          "Null_rate": 0
         },
         {
          "Null_rate": 0
         },
         {
          "Null_rate": 0
         },
         {
          "Null_rate": 0
         },
         {
          "Null_rate": 0
         },
         {
          "Null_rate": 0
         },
         {
          "Null_rate": 0
         },
         {
          "Null_rate": 0
         },
         {
          "Null_rate": 0
         },
         {
          "Null_rate": 0
         },
         {
          "Null_rate": 0
         },
         {
          "Null_rate": 0
         },
         {
          "Null_rate": 0
         },
         {
          "Null_rate": 0
         },
         {
          "Null_rate": 0
         },
         {
          "Null_rate": 0
         },
         {
          "Null_rate": 0
         },
         {
          "Null_rate": 0
         },
         {
          "Null_rate": 0
         },
         {
          "Null_rate": 0
         },
         {
          "Null_rate": 0
         },
         {
          "Null_rate": 0
         },
         {
          "Null_rate": 0
         },
         {
          "Null_rate": 0
         },
         {
          "Null_rate": 0
         },
         {
          "Null_rate": 0
         },
         {
          "Null_rate": 0
         },
         {
          "Null_rate": 0
         },
         {
          "Null_rate": 0
         },
         {
          "Null_rate": 0
         },
         {
          "Null_rate": 0
         },
         {
          "Null_rate": 0
         },
         {
          "Null_rate": 0
         },
         {
          "Null_rate": 0
         },
         {
          "Null_rate": 0
         },
         {
          "Null_rate": 0
         },
         {
          "Null_rate": 0
         },
         {
          "Null_rate": 0
         },
         {
          "Null_rate": 0
         },
         {
          "Null_rate": 0
         },
         {
          "Null_rate": 0
         },
         {
          "Null_rate": 0
         },
         {
          "Null_rate": 0
         },
         {
          "Null_rate": 0
         },
         {
          "Null_rate": 0
         },
         {
          "Null_rate": 0
         },
         {
          "Null_rate": 0
         },
         {
          "Null_rate": 0
         },
         {
          "Null_rate": 0
         },
         {
          "Null_rate": 0
         },
         {
          "Null_rate": 0
         },
         {
          "Null_rate": 0
         },
         {
          "Null_rate": 0
         },
         {
          "Null_rate": 0
         },
         {
          "Null_rate": 0
         },
         {
          "Null_rate": 0
         },
         {
          "Null_rate": 0
         },
         {
          "Null_rate": 0
         },
         {
          "Null_rate": 0
         },
         {
          "Null_rate": 0
         },
         {
          "Null_rate": 0
         },
         {
          "Null_rate": 0
         },
         {
          "Null_rate": 0
         },
         {
          "Null_rate": 0
         },
         {
          "Null_rate": 0
         },
         {
          "Null_rate": 0
         },
         {
          "Null_rate": 0
         },
         {
          "Null_rate": 0
         },
         {
          "Null_rate": 0
         },
         {
          "Null_rate": 0
         },
         {
          "Null_rate": 0
         },
         {
          "Null_rate": 0
         },
         {
          "Null_rate": 0
         },
         {
          "Null_rate": 0
         },
         {
          "Null_rate": 0
         },
         {
          "Null_rate": 0
         },
         {
          "Null_rate": 0
         },
         {
          "Null_rate": 0
         },
         {
          "Null_rate": 0
         },
         {
          "Null_rate": 0
         },
         {
          "Null_rate": 0
         },
         {
          "Null_rate": 0
         },
         {
          "Null_rate": 0
         },
         {
          "Null_rate": 0
         },
         {
          "Null_rate": 0
         },
         {
          "Null_rate": 0
         },
         {
          "Null_rate": 0
         },
         {
          "Null_rate": 0
         },
         {
          "Null_rate": 0
         },
         {
          "Null_rate": 0
         },
         {
          "Null_rate": 0
         },
         {
          "Null_rate": 0
         },
         {
          "Null_rate": 0
         },
         {
          "Null_rate": 0
         },
         {
          "Null_rate": 0
         },
         {
          "Null_rate": 0
         },
         {
          "Null_rate": 0
         },
         {
          "Null_rate": 0
         },
         {
          "Null_rate": 0
         },
         {
          "Null_rate": 0
         },
         {
          "Null_rate": 0
         },
         {
          "Null_rate": 0
         },
         {
          "Null_rate": 0
         },
         {
          "Null_rate": 0
         },
         {
          "Null_rate": 0
         },
         {
          "Null_rate": 0
         },
         {
          "Null_rate": 0
         },
         {
          "Null_rate": 0
         },
         {
          "Null_rate": 0
         },
         {
          "Null_rate": 0
         },
         {
          "Null_rate": 0
         },
         {
          "Null_rate": 0
         },
         {
          "Null_rate": 0
         },
         {
          "Null_rate": 0
         },
         {
          "Null_rate": 0
         },
         {
          "Null_rate": 0
         },
         {
          "Null_rate": 0
         },
         {
          "Null_rate": 0
         },
         {
          "Null_rate": 0
         },
         {
          "Null_rate": 0
         },
         {
          "Null_rate": 0
         },
         {
          "Null_rate": 0
         },
         {
          "Null_rate": 0
         },
         {
          "Null_rate": 0
         },
         {
          "Null_rate": 0
         },
         {
          "Null_rate": 0
         },
         {
          "Null_rate": 0
         },
         {
          "Null_rate": 0
         },
         {
          "Null_rate": 0
         },
         {
          "Null_rate": 0
         },
         {
          "Null_rate": 0
         },
         {
          "Null_rate": 0
         },
         {
          "Null_rate": 0
         },
         {
          "Null_rate": 0
         },
         {
          "Null_rate": 0
         },
         {
          "Null_rate": 0
         },
         {
          "Null_rate": 0
         },
         {
          "Null_rate": 0
         },
         {
          "Null_rate": 0
         },
         {
          "Null_rate": 0
         },
         {
          "Null_rate": 0
         },
         {
          "Null_rate": 0
         },
         {
          "Null_rate": 0
         },
         {
          "Null_rate": 0
         },
         {
          "Null_rate": 0
         },
         {
          "Null_rate": 0
         },
         {
          "Null_rate": 0
         },
         {
          "Null_rate": 0
         },
         {
          "Null_rate": 0
         },
         {
          "Null_rate": 0
         },
         {
          "Null_rate": 0
         },
         {
          "Null_rate": 0
         },
         {
          "Null_rate": 0
         },
         {
          "Null_rate": 0
         },
         {
          "Null_rate": 0
         },
         {
          "Null_rate": 0
         },
         {
          "Null_rate": 0
         },
         {
          "Null_rate": 0
         },
         {
          "Null_rate": 0
         },
         {
          "Null_rate": 0
         },
         {
          "Null_rate": 0
         },
         {
          "Null_rate": 0
         },
         {
          "Null_rate": 0
         },
         {
          "Null_rate": 0
         },
         {
          "Null_rate": 0
         },
         {
          "Null_rate": 0
         },
         {
          "Null_rate": 0
         },
         {
          "Null_rate": 0
         },
         {
          "Null_rate": 0
         },
         {
          "Null_rate": 0
         },
         {
          "Null_rate": 0
         },
         {
          "Null_rate": 0
         },
         {
          "Null_rate": 0
         },
         {
          "Null_rate": 0
         },
         {
          "Null_rate": 0
         },
         {
          "Null_rate": 0
         },
         {
          "Null_rate": 0
         },
         {
          "Null_rate": 0
         },
         {
          "Null_rate": 0
         },
         {
          "Null_rate": 0
         },
         {
          "Null_rate": 0
         },
         {
          "Null_rate": 0
         },
         {
          "Null_rate": 0
         },
         {
          "Null_rate": 0
         },
         {
          "Null_rate": 0
         },
         {
          "Null_rate": 0
         },
         {
          "Null_rate": 0
         },
         {
          "Null_rate": 0
         },
         {
          "Null_rate": 0
         },
         {
          "Null_rate": 0
         },
         {
          "Null_rate": 0
         },
         {
          "Null_rate": 0
         },
         {
          "Null_rate": 0
         },
         {
          "Null_rate": 0
         },
         {
          "Null_rate": 0
         },
         {
          "Null_rate": 0
         },
         {
          "Null_rate": 0
         },
         {
          "Null_rate": 0
         },
         {
          "Null_rate": 0
         },
         {
          "Null_rate": 0
         },
         {
          "Null_rate": 0
         },
         {
          "Null_rate": 0
         },
         {
          "Null_rate": 0
         },
         {
          "Null_rate": 0
         },
         {
          "Null_rate": 0
         },
         {
          "Null_rate": 0
         },
         {
          "Null_rate": 0
         },
         {
          "Null_rate": 0
         },
         {
          "Null_rate": 0
         },
         {
          "Null_rate": 0
         },
         {
          "Null_rate": 0
         },
         {
          "Null_rate": 0
         },
         {
          "Null_rate": 0
         },
         {
          "Null_rate": 0
         },
         {
          "Null_rate": 0
         },
         {
          "Null_rate": 0
         },
         {
          "Null_rate": 0
         },
         {
          "Null_rate": 0
         },
         {
          "Null_rate": 0
         },
         {
          "Null_rate": 0
         },
         {
          "Null_rate": 0
         },
         {
          "Null_rate": 0
         },
         {
          "Null_rate": 0
         },
         {
          "Null_rate": 0
         },
         {
          "Null_rate": 0
         },
         {
          "Null_rate": 0
         },
         {
          "Null_rate": 0
         },
         {
          "Null_rate": 0
         },
         {
          "Null_rate": 0
         },
         {
          "Null_rate": 0
         },
         {
          "Null_rate": 0
         },
         {
          "Null_rate": 0
         },
         {
          "Null_rate": 0
         },
         {
          "Null_rate": 0
         },
         {
          "Null_rate": 0
         },
         {
          "Null_rate": 0
         },
         {
          "Null_rate": 0
         },
         {
          "Null_rate": 0
         },
         {
          "Null_rate": 0
         },
         {
          "Null_rate": 0
         },
         {
          "Null_rate": 0
         },
         {
          "Null_rate": 0
         },
         {
          "Null_rate": 0
         },
         {
          "Null_rate": 0
         },
         {
          "Null_rate": 0
         },
         {
          "Null_rate": 0
         },
         {
          "Null_rate": 0
         },
         {
          "Null_rate": 0
         },
         {
          "Null_rate": 0
         },
         {
          "Null_rate": 0
         },
         {
          "Null_rate": 0
         },
         {
          "Null_rate": 0
         },
         {
          "Null_rate": 0
         },
         {
          "Null_rate": 0
         },
         {
          "Null_rate": 0
         },
         {
          "Null_rate": 0
         },
         {
          "Null_rate": 0
         },
         {
          "Null_rate": 0
         },
         {
          "Null_rate": 0
         },
         {
          "Null_rate": 0
         },
         {
          "Null_rate": 0
         },
         {
          "Null_rate": 0
         },
         {
          "Null_rate": 0
         },
         {
          "Null_rate": 0
         },
         {
          "Null_rate": 0
         },
         {
          "Null_rate": 0
         },
         {
          "Null_rate": 0
         },
         {
          "Null_rate": 0
         },
         {
          "Null_rate": 0
         },
         {
          "Null_rate": 0
         },
         {
          "Null_rate": 0
         },
         {
          "Null_rate": 0
         },
         {
          "Null_rate": 0
         },
         {
          "Null_rate": 0
         },
         {
          "Null_rate": 0
         },
         {
          "Null_rate": 0
         },
         {
          "Null_rate": 0
         },
         {
          "Null_rate": 0
         },
         {
          "Null_rate": 0
         },
         {
          "Null_rate": 0
         },
         {
          "Null_rate": 0
         },
         {
          "Null_rate": 0
         },
         {
          "Null_rate": 0
         },
         {
          "Null_rate": 0
         },
         {
          "Null_rate": 0
         },
         {
          "Null_rate": 0
         },
         {
          "Null_rate": 0
         },
         {
          "Null_rate": 0
         },
         {
          "Null_rate": 0
         },
         {
          "Null_rate": 0
         },
         {
          "Null_rate": 0
         },
         {
          "Null_rate": 0
         },
         {
          "Null_rate": 0
         },
         {
          "Null_rate": 0
         },
         {
          "Null_rate": 0
         },
         {
          "Null_rate": 0
         },
         {
          "Null_rate": 0
         },
         {
          "Null_rate": 0
         },
         {
          "Null_rate": 0
         },
         {
          "Null_rate": 0
         },
         {
          "Null_rate": 0
         },
         {
          "Null_rate": 0
         },
         {
          "Null_rate": 0
         },
         {
          "Null_rate": 0
         },
         {
          "Null_rate": 0
         },
         {
          "Null_rate": 0
         },
         {
          "Null_rate": 0
         },
         {
          "Null_rate": 0
         },
         {
          "Null_rate": 0
         },
         {
          "Null_rate": 0
         },
         {
          "Null_rate": 0
         },
         {
          "Null_rate": 0
         },
         {
          "Null_rate": 0
         },
         {
          "Null_rate": 0
         },
         {
          "Null_rate": 0.05626496408619314
         },
         {
          "Null_rate": 0
         },
         {
          "Null_rate": 0
         },
         {
          "Null_rate": 0
         },
         {
          "Null_rate": 0
         },
         {
          "Null_rate": 0
         },
         {
          "Null_rate": 0.34916201117318435
         },
         {
          "Null_rate": 0.34916201117318435
         },
         {
          "Null_rate": 0
         },
         {
          "Null_rate": 0
         },
         {
          "Null_rate": 0
         },
         {
          "Null_rate": 0
         },
         {
          "Null_rate": 0
         },
         {
          "Null_rate": 0
         },
         {
          "Null_rate": 0
         },
         {
          "Null_rate": 0
         },
         {
          "Null_rate": 0
         },
         {
          "Null_rate": 0
         },
         {
          "Null_rate": 0
         },
         {
          "Null_rate": 0
         },
         {
          "Null_rate": 0
         },
         {
          "Null_rate": 0
         },
         {
          "Null_rate": 0
         },
         {
          "Null_rate": 0
         },
         {
          "Null_rate": 0
         },
         {
          "Null_rate": 0
         },
         {
          "Null_rate": 0
         },
         {
          "Null_rate": 0
         },
         {
          "Null_rate": 0
         },
         {
          "Null_rate": 0
         },
         {
          "Null_rate": 0
         },
         {
          "Null_rate": 0
         },
         {
          "Null_rate": 0
         },
         {
          "Null_rate": 0
         },
         {
          "Null_rate": 0
         },
         {
          "Null_rate": 0
         },
         {
          "Null_rate": 0
         },
         {
          "Null_rate": 0
         },
         {
          "Null_rate": 0
         },
         {
          "Null_rate": 0
         },
         {
          "Null_rate": 0
         },
         {
          "Null_rate": 0
         },
         {
          "Null_rate": 0
         },
         {
          "Null_rate": 0
         },
         {
          "Null_rate": 0
         },
         {
          "Null_rate": 0
         },
         {
          "Null_rate": 0
         },
         {
          "Null_rate": 0.07861133280127694
         },
         {
          "Null_rate": 0.07861133280127694
         },
         {
          "Null_rate": 0.07861133280127694
         },
         {
          "Null_rate": 0.07861133280127694
         },
         {
          "Null_rate": 0.07861133280127694
         },
         {
          "Null_rate": 0.07861133280127694
         },
         {
          "Null_rate": 0.07861133280127694
         },
         {
          "Null_rate": 0.07861133280127694
         },
         {
          "Null_rate": 0.09297685554668794
         },
         {
          "Null_rate": 0.8228252194732641
         },
         {
          "Null_rate": 0.09616919393455706
         },
         {
          "Null_rate": 0.09417398244213887
         },
         {
          "Null_rate": 0.09417398244213887
         },
         {
          "Null_rate": 0.09417398244213887
         },
         {
          "Null_rate": 0.09417398244213887
         },
         {
          "Null_rate": 0.09417398244213887
         },
         {
          "Null_rate": 0.09417398244213887
         },
         {
          "Null_rate": 0.09417398244213887
         },
         {
          "Null_rate": 0.09417398244213887
         },
         {
          "Null_rate": 0.09417398244213887
         },
         {
          "Null_rate": 0.09417398244213887
         },
         {
          "Null_rate": 1
         },
         {
          "Null_rate": 1
         },
         {
          "Null_rate": 1
         },
         {
          "Null_rate": 1
         },
         {
          "Null_rate": 0.09417398244213887
         },
         {
          "Null_rate": 0.09417398244213887
         },
         {
          "Null_rate": 1
         },
         {
          "Null_rate": 1
         },
         {
          "Null_rate": 0.09417398244213887
         },
         {
          "Null_rate": 0.09417398244213887
         },
         {
          "Null_rate": 0.09417398244213887
         },
         {
          "Null_rate": 0.09417398244213887
         },
         {
          "Null_rate": 0.10694333599361533
         },
         {
          "Null_rate": 0.5295291300877893
         },
         {
          "Null_rate": 0.9393455706304868
         },
         {
          "Null_rate": 0.9932162809257782
         },
         {
          "Null_rate": 0.9992019154030327
         },
         {
          "Null_rate": 0.09417398244213887
         },
         {
          "Null_rate": 0.09417398244213887
         },
         {
          "Null_rate": 0.09417398244213887
         },
         {
          "Null_rate": 0.09417398244213887
         },
         {
          "Null_rate": 0.10694333599361533
         },
         {
          "Null_rate": 0.5295291300877893
         },
         {
          "Null_rate": 0.9393455706304868
         },
         {
          "Null_rate": 0.9932162809257782
         },
         {
          "Null_rate": 0.9992019154030327
         },
         {
          "Null_rate": 0.09417398244213887
         },
         {
          "Null_rate": 0.09417398244213887
         },
         {
          "Null_rate": 0.09417398244213887
         },
         {
          "Null_rate": 0.09417398244213887
         },
         {
          "Null_rate": 0.09417398244213887
         },
         {
          "Null_rate": 0.09417398244213887
         },
         {
          "Null_rate": 0.09417398244213887
         },
         {
          "Null_rate": 0.09417398244213887
         },
         {
          "Null_rate": 0.09417398244213887
         },
         {
          "Null_rate": 0.09417398244213887
         },
         {
          "Null_rate": 1
         },
         {
          "Null_rate": 1
         },
         {
          "Null_rate": 1
         },
         {
          "Null_rate": 1
         },
         {
          "Null_rate": 0.09417398244213887
         },
         {
          "Null_rate": 0.09417398244213887
         },
         {
          "Null_rate": 1
         },
         {
          "Null_rate": 1
         },
         {
          "Null_rate": 0.09417398244213887
         },
         {
          "Null_rate": 0.09417398244213887
         },
         {
          "Null_rate": 0.09417398244213887
         },
         {
          "Null_rate": 0.09417398244213887
         },
         {
          "Null_rate": 0.10694333599361533
         },
         {
          "Null_rate": 0.4852354349561053
         },
         {
          "Null_rate": 0.9078212290502793
         },
         {
          "Null_rate": 0.9876296887470072
         },
         {
          "Null_rate": 0.9956105347166799
         },
         {
          "Null_rate": 0.09417398244213887
         },
         {
          "Null_rate": 0.09417398244213887
         },
         {
          "Null_rate": 0.09417398244213887
         },
         {
          "Null_rate": 0.09417398244213887
         },
         {
          "Null_rate": 0.10694333599361533
         },
         {
          "Null_rate": 0.4852354349561053
         },
         {
          "Null_rate": 0.9078212290502793
         },
         {
          "Null_rate": 0.9876296887470072
         },
         {
          "Null_rate": 0.9956105347166799
         },
         {
          "Null_rate": 0.09577015163607343
         },
         {
          "Null_rate": 0.09577015163607343
         },
         {
          "Null_rate": 0.09577015163607343
         },
         {
          "Null_rate": 0.09577015163607343
         },
         {
          "Null_rate": 0.09577015163607343
         },
         {
          "Null_rate": 0.09577015163607343
         },
         {
          "Null_rate": 0.09577015163607343
         },
         {
          "Null_rate": 0.09577015163607343
         },
         {
          "Null_rate": 0.09577015163607343
         },
         {
          "Null_rate": 0.09577015163607343
         },
         {
          "Null_rate": 1
         },
         {
          "Null_rate": 1
         },
         {
          "Null_rate": 1
         },
         {
          "Null_rate": 1
         },
         {
          "Null_rate": 0.09577015163607343
         },
         {
          "Null_rate": 0.09577015163607343
         },
         {
          "Null_rate": 1
         },
         {
          "Null_rate": 1
         },
         {
          "Null_rate": 0.09577015163607343
         },
         {
          "Null_rate": 0.09577015163607343
         },
         {
          "Null_rate": 0.09616919393455706
         },
         {
          "Null_rate": 0.09616919393455706
         },
         {
          "Null_rate": 0.11612130885873903
         },
         {
          "Null_rate": 0.6252992817238627
         },
         {
          "Null_rate": 0.9592976855546688
         },
         {
          "Null_rate": 0.9980047885075818
         },
         {
          "Null_rate": 0.09577015163607343
         },
         {
          "Null_rate": 0.09577015163607343
         },
         {
          "Null_rate": 0.09616919393455706
         },
         {
          "Null_rate": 0.09616919393455706
         },
         {
          "Null_rate": 0.11612130885873903
         },
         {
          "Null_rate": 0.6252992817238627
         },
         {
          "Null_rate": 0.9592976855546688
         },
         {
          "Null_rate": 0.9980047885075818
         },
         {
          "Null_rate": 0.0003990422984836393
         },
         {
          "Null_rate": 0.0003990422984836393
         },
         {
          "Null_rate": 0.0003990422984836393
         },
         {
          "Null_rate": 0.0003990422984836393
         },
         {
          "Null_rate": 0.0003990422984836393
         },
         {
          "Null_rate": 0.0003990422984836393
         },
         {
          "Null_rate": 0.0003990422984836393
         },
         {
          "Null_rate": 0.0003990422984836393
         },
         {
          "Null_rate": 0.0003990422984836393
         },
         {
          "Null_rate": 0.0003990422984836393
         },
         {
          "Null_rate": 0
         },
         {
          "Null_rate": 0.35514764565043894
         },
         {
          "Null_rate": 0.35514764565043894
         },
         {
          "Null_rate": 0.35514764565043894
         },
         {
          "Null_rate": 0.35514764565043894
         },
         {
          "Null_rate": 0.35514764565043894
         },
         {
          "Null_rate": 0.35514764565043894
         },
         {
          "Null_rate": 0.35514764565043894
         },
         {
          "Null_rate": 0.35514764565043894
         },
         {
          "Null_rate": 0.35514764565043894
         },
         {
          "Null_rate": 0.35514764565043894
         },
         {
          "Null_rate": 0.35514764565043894
         },
         {
          "Null_rate": 0.35514764565043894
         },
         {
          "Null_rate": 0.35514764565043894
         },
         {
          "Null_rate": 0.9704708699122107
         },
         {
          "Null_rate": 0.984437350359138
         },
         {
          "Null_rate": 0.9928172386272945
         },
         {
          "Null_rate": 0.994413407821229
         },
         {
          "Null_rate": 0.9952114924181963
         },
         {
          "Null_rate": 0.990023942537909
         },
         {
          "Null_rate": 0.961292897047087
         },
         {
          "Null_rate": 0.8834796488427773
         },
         {
          "Null_rate": 0.7873104549082203
         },
         {
          "Null_rate": 0.6895450917797287
         },
         {
          "Null_rate": 0.6145251396648045
         },
         {
          "Null_rate": 0.6033519553072626
         },
         {
          "Null_rate": 0.6153232242617718
         },
         {
          "Null_rate": 0.6025538707102953
         },
         {
          "Null_rate": 0.5869912210694334
         },
         {
          "Null_rate": 0.5702314445331205
         },
         {
          "Null_rate": 0.5682362330407024
         },
         {
          "Null_rate": 0.5770151636073424
         },
         {
          "Null_rate": 0.5702314445331205
         },
         {
          "Null_rate": 0.611731843575419
         },
         {
          "Null_rate": 0.7039106145251397
         },
         {
          "Null_rate": 0.8411811652035116
         },
         {
          "Null_rate": 0.9010375099760575
         },
         {
          "Null_rate": 0.951316839584996
         },
         {
          "Null_rate": 0.5522745411013568
         },
         {
          "Null_rate": 0.5426975259377494
         },
         {
          "Null_rate": 0.5506783719074222
         },
         {
          "Null_rate": 0.5426975259377494
         },
         {
          "Null_rate": 0.5430965682362331
         },
         {
          "Null_rate": 0.5211492418196328
         },
         {
          "Null_rate": 0.5199521149241819
         },
         {
          "Null_rate": 0.990023942537909
         },
         {
          "Null_rate": 0.6492418196328811
         },
         {
          "Null_rate": 0.43415802075019955
         },
         {
          "Null_rate": 0.7426177174780527
         },
         {
          "Null_rate": 0.9964086193136472
         },
         {
          "Null_rate": 0.62609736632083
         },
         {
          "Null_rate": 0.8036711891460495
         },
         {
          "Null_rate": 0.7043096568236233
         },
         {
          "Null_rate": 0.6739824421388667
         },
         {
          "Null_rate": 0.4034317637669593
         },
         {
          "Null_rate": 0.9952114924181963
         },
         {
          "Null_rate": 0.9936153232242618
         },
         {
          "Null_rate": 0.9956105347166799
         },
         {
          "Null_rate": 0.9980047885075818
         },
         {
          "Null_rate": 0.9968076616121309
         },
         {
          "Null_rate": 0.9940143655227454
         },
         {
          "Null_rate": 0.9952114924181963
         },
         {
          "Null_rate": 0.9976057462090981
         },
         {
          "Null_rate": 0.9972067039106145
         },
         {
          "Null_rate": 0.9948124501197126
         },
         {
          "Null_rate": 0.9976057462090981
         },
         {
          "Null_rate": 0.9936153232242618
         },
         {
          "Null_rate": 0.9964086193136472
         },
         {
          "Null_rate": 0.984437350359138
         },
         {
          "Null_rate": 0.9908220271348763
         },
         {
          "Null_rate": 0.9948124501197126
         },
         {
          "Null_rate": 0.9940143655227454
         },
         {
          "Null_rate": 0.9988028731045491
         },
         {
          "Null_rate": 0.4616919393455706
         },
         {
          "Null_rate": 0.7266560255387071
         },
         {
          "Null_rate": 0.9988028731045491
         },
         {
          "Null_rate": 0.9960095770151636
         },
         {
          "Null_rate": 0.994413407821229
         },
         {
          "Null_rate": 0.7186751795690344
         },
         {
          "Null_rate": 0.6376695929768555
         },
         {
          "Null_rate": 0.7881085395051876
         },
         {
          "Null_rate": 0.40582601755786113
         },
         {
          "Null_rate": 0.5830007980845969
         },
         {
          "Null_rate": 0.9988028731045491
         },
         {
          "Null_rate": 0.9964086193136472
         },
         {
          "Null_rate": 0.4461292897047087
         },
         {
          "Null_rate": 0.7893056664006385
         },
         {
          "Null_rate": 0.9992019154030327
         },
         {
          "Null_rate": 0.7314445331205107
         },
         {
          "Null_rate": 0.4644852354349561
         },
         {
          "Null_rate": 0.9976057462090981
         },
         {
          "Null_rate": 0.6492418196328811
         },
         {
          "Null_rate": 0.6536312849162011
         },
         {
          "Null_rate": 0.6021548284118117
         },
         {
          "Null_rate": 0.6041500399042299
         },
         {
          "Null_rate": 0.6508379888268156
         },
         {
          "Null_rate": 0.6436552274541102
         },
         {
          "Null_rate": 0.6049481245011972
         },
         {
          "Null_rate": 0.6512370311252993
         },
         {
          "Null_rate": 0.6572226656025538
         },
         {
          "Null_rate": 0.6420590582601756
         },
         {
          "Null_rate": 0.8312051077414206
         },
         {
          "Null_rate": 0.7110933758978452
         },
         {
          "Null_rate": 0.6065442936951316
         },
         {
          "Null_rate": 0.5403032721468476
         },
         {
          "Null_rate": 0.5115722266560255
         },
         {
          "Null_rate": 0.5706304868316041
         },
         {
          "Null_rate": 0.819632881085395
         },
         {
          "Null_rate": 0.8363926576217079
         },
         {
          "Null_rate": 0.578611332801277
         },
         {
          "Null_rate": 0.5111731843575419
         },
         {
          "Null_rate": 0.5287310454908221
         },
         {
          "Null_rate": 0.5566640063846767
         },
         {
          "Null_rate": 0.6743814844373504
         },
         {
          "Null_rate": 0.6249002394253791
         },
         {
          "Null_rate": 0.6955307262569832
         },
         {
          "Null_rate": 0.7118914604948124
         },
         {
          "Null_rate": 0.35514764565043894
         },
         {
          "Null_rate": 0.35514764565043894
         },
         {
          "Null_rate": 0.35514764565043894
         },
         {
          "Null_rate": 0.35514764565043894
         },
         {
          "Null_rate": 0.0007980845969672786
         },
         {
          "Null_rate": 0.0007980845969672786
         },
         {
          "Null_rate": 0.0007980845969672786
         },
         {
          "Null_rate": 0.0007980845969672786
         },
         {
          "Null_rate": 0.0007980845969672786
         },
         {
          "Null_rate": 0.0007980845969672786
         },
         {
          "Null_rate": 0.0913806863527534
         },
         {
          "Null_rate": 0.0007980845969672786
         },
         {
          "Null_rate": 0.008778930566640064
         },
         {
          "Null_rate": 0.014365522745411013
         },
         {
          "Null_rate": 0.01157222665602554
         },
         {
          "Null_rate": 0
         },
         {
          "Null_rate": 0
         },
         {
          "Null_rate": 0.40263367916999204
         },
         {
          "Null_rate": 1.995211492418196e-05
         },
         {
          "Null_rate": 1.995211492418196e-05
         },
         {
          "Null_rate": 1.995211492418196e-05
         },
         {
          "Null_rate": 1.995211492418196e-05
         },
         {
          "Null_rate": 1.995211492418196e-05
         },
         {
          "Null_rate": 1.995211492418196e-05
         },
         {
          "Null_rate": 1.995211492418196e-05
         },
         {
          "Null_rate": 1.995211492418196e-05
         },
         {
          "Null_rate": 1.995211492418196e-05
         },
         {
          "Null_rate": 1.995211492418196e-05
         },
         {
          "Null_rate": 1.995211492418196e-05
         },
         {
          "Null_rate": 1.995211492418196e-05
         },
         {
          "Null_rate": 1.995211492418196e-05
         },
         {
          "Null_rate": 1.995211492418196e-05
         },
         {
          "Null_rate": 1.995211492418196e-05
         },
         {
          "Null_rate": 1.995211492418196e-05
         },
         {
          "Null_rate": 1.995211492418196e-05
         },
         {
          "Null_rate": 1.995211492418196e-05
         },
         {
          "Null_rate": 1.995211492418196e-05
         },
         {
          "Null_rate": 1.995211492418196e-05
         },
         {
          "Null_rate": 1.995211492418196e-05
         },
         {
          "Null_rate": 1.995211492418196e-05
         },
         {
          "Null_rate": 1.995211492418196e-05
         },
         {
          "Null_rate": 1.995211492418196e-05
         },
         {
          "Null_rate": 1.995211492418196e-05
         },
         {
          "Null_rate": 1.995211492418196e-05
         },
         {
          "Null_rate": 1.995211492418196e-05
         },
         {
          "Null_rate": 1.995211492418196e-05
         },
         {
          "Null_rate": 1.995211492418196e-05
         },
         {
          "Null_rate": 1.995211492418196e-05
         },
         {
          "Null_rate": 1.995211492418196e-05
         },
         {
          "Null_rate": 1.995211492418196e-05
         },
         {
          "Null_rate": 1.995211492418196e-05
         },
         {
          "Null_rate": 1.995211492418196e-05
         },
         {
          "Null_rate": 1.995211492418196e-05
         },
         {
          "Null_rate": 1.995211492418196e-05
         },
         {
          "Null_rate": 1.995211492418196e-05
         },
         {
          "Null_rate": 1.995211492418196e-05
         },
         {
          "Null_rate": 1.995211492418196e-05
         },
         {
          "Null_rate": 1.995211492418196e-05
         },
         {
          "Null_rate": 1.995211492418196e-05
         },
         {
          "Null_rate": 1.995211492418196e-05
         },
         {
          "Null_rate": 1.995211492418196e-05
         },
         {
          "Null_rate": 1.995211492418196e-05
         },
         {
          "Null_rate": 1.995211492418196e-05
         },
         {
          "Null_rate": 1.995211492418196e-05
         },
         {
          "Null_rate": 1.995211492418196e-05
         },
         {
          "Null_rate": 1.995211492418196e-05
         },
         {
          "Null_rate": 0.07863128491620111
         },
         {
          "Null_rate": 0.012310454908220272
         },
         {
          "Null_rate": 0
         },
         {
          "Null_rate": 0
         },
         {
          "Null_rate": 0
         },
         {
          "Null_rate": 0
         }
        ]
       },
       "encoding": {
        "x": {
         "bin": {
          "maxbins": 5
         },
         "field": "Null_rate",
         "title": "Percent of Null Values (binned)",
         "type": "quantitative"
        },
        "y": {
         "aggregate": "count",
         "title": "Count",
         "type": "quantitative"
        }
       },
       "mark": "bar",
       "title": "Number of columns by percentage of missing values"
      },
      "image/png": "[encoded data removed]",
      "text/plain": [
       "<VegaLite 3 object>\n",
       "\n",
       "If you see this message, it means the renderer has not been properly enabled\n",
       "for the frontend that you are using. For more information, see\n",
       "https://altair-viz.github.io/user_guide/troubleshooting.html\n"
      ]
     },
     "execution_count": 8,
     "metadata": {},
     "output_type": "execute_result"
    }
   ],
   "source": [
    "alt.Chart(null_rate).mark_bar().encode(\n",
    "    alt.X(\"Null_rate:Q\", bin=alt.Bin(maxbins=5),title=\"Percent of Null Values (binned)\"),\n",
    "    y=alt.Y('count()', title=\"Count\")).properties(\n",
    "    title='Number of columns by percentage of missing values'\n",
    ")"
   ]
  },
  {
   "cell_type": "code",
   "execution_count": 45,
   "metadata": {},
   "outputs": [
    {
     "data": {
      "text/plain": [
       "Null_rate    662\n",
       "dtype: int64"
      ]
     },
     "execution_count": 45,
     "metadata": {},
     "output_type": "execute_result"
    }
   ],
   "source": [
    "(null_rate < 0.2).sum()"
   ]
  },
  {
   "cell_type": "code",
   "execution_count": 46,
   "metadata": {},
   "outputs": [
    {
     "data": {
      "text/plain": [
       "Null_rate    656\n",
       "dtype: int64"
      ]
     },
     "execution_count": 46,
     "metadata": {},
     "output_type": "execute_result"
    }
   ],
   "source": [
    "(null_rate < 0.1).sum()"
   ]
  },
  {
   "cell_type": "code",
   "execution_count": 51,
   "metadata": {},
   "outputs": [
    {
     "name": "stderr",
     "output_type": "stream",
     "text": [
      "/home/tani/anaconda3/lib/python3.7/site-packages/pandas/core/computation/expressions.py:178: UserWarning: evaluating in Python space because the '*' operator is not supported by numexpr for the bool dtype, use '&' instead\n",
      "  f\"evaluating in Python space because the {repr(op_str)} \"\n"
     ]
    },
    {
     "data": {
      "text/plain": [
       "Null_rate    656\n",
       "dtype: int64"
      ]
     },
     "execution_count": 51,
     "metadata": {},
     "output_type": "execute_result"
    }
   ],
   "source": [
    "((null_rate < 0.2)*(null_rate < 0.1)).sum()"
   ]
  },
  {
   "cell_type": "code",
   "execution_count": 6,
   "metadata": {},
   "outputs": [
    {
     "name": "stdout",
     "output_type": "stream",
     "text": [
      "[662, 19, 31, 37, 112] 861\n"
     ]
    },
    {
     "name": "stderr",
     "output_type": "stream",
     "text": [
      "/home/tani/anaconda3/lib/python3.7/site-packages/pandas/core/computation/expressions.py:178: UserWarning: evaluating in Python space because the '*' operator is not supported by numexpr for the bool dtype, use '&' instead\n",
      "  f\"evaluating in Python space because the {repr(op_str)} \"\n"
     ]
    }
   ],
   "source": [
    "\n",
    "vals = [0.2,0.4,0.6,0.8,1]\n",
    "\n",
    "lst = [(null_rate < 0.2).sum()[0]]\n",
    "for i in range(len(vals)-1):\n",
    "    a = ((null_rate > vals[i])*(null_rate <= vals[i+1])).sum()\n",
    "    lst.append(a[0])\n",
    "    \n",
    "print(lst, sum(lst))"
   ]
  },
  {
   "cell_type": "code",
   "execution_count": 8,
   "metadata": {},
   "outputs": [],
   "source": [
    "grouped_df = df.groupby(by=\"external_id\")"
   ]
  },
  {
   "cell_type": "code",
   "execution_count": 28,
   "metadata": {},
   "outputs": [
    {
     "data": {
      "text/html": [
       "<div>\n",
       "<style scoped>\n",
       "    .dataframe tbody tr th:only-of-type {\n",
       "        vertical-align: middle;\n",
       "    }\n",
       "\n",
       "    .dataframe tbody tr th {\n",
       "        vertical-align: top;\n",
       "    }\n",
       "\n",
       "    .dataframe thead th {\n",
       "        text-align: right;\n",
       "    }\n",
       "</style>\n",
       "<table border=\"1\" class=\"dataframe\">\n",
       "  <thead>\n",
       "    <tr style=\"text-align: right;\">\n",
       "      <th></th>\n",
       "      <th>Standard_Deviation</th>\n",
       "    </tr>\n",
       "  </thead>\n",
       "  <tbody>\n",
       "    <tr>\n",
       "      <th>monthly_avg_length_of_session</th>\n",
       "      <td>156569.109949</td>\n",
       "    </tr>\n",
       "    <tr>\n",
       "      <th>monthly_avg_light_activity</th>\n",
       "      <td>53890.132010</td>\n",
       "    </tr>\n",
       "    <tr>\n",
       "      <th>monthly_avg_moderate_activity</th>\n",
       "      <td>35520.582851</td>\n",
       "    </tr>\n",
       "    <tr>\n",
       "      <th>total_mentions_across_state</th>\n",
       "      <td>23681.143066</td>\n",
       "    </tr>\n",
       "    <tr>\n",
       "      <th>monthly_avg_vigorous_activity</th>\n",
       "      <td>10091.983834</td>\n",
       "    </tr>\n",
       "    <tr>\n",
       "      <th>...</th>\n",
       "      <td>...</td>\n",
       "    </tr>\n",
       "    <tr>\n",
       "      <th>ice_cream</th>\n",
       "      <td>0.000000</td>\n",
       "    </tr>\n",
       "    <tr>\n",
       "      <th>hotel</th>\n",
       "      <td>0.000000</td>\n",
       "    </tr>\n",
       "    <tr>\n",
       "      <th>healthcare</th>\n",
       "      <td>0.000000</td>\n",
       "    </tr>\n",
       "    <tr>\n",
       "      <th>hairdresser_or_beauty</th>\n",
       "      <td>0.000000</td>\n",
       "    </tr>\n",
       "    <tr>\n",
       "      <th>B11001e6</th>\n",
       "      <td>0.000000</td>\n",
       "    </tr>\n",
       "  </tbody>\n",
       "</table>\n",
       "<p>830 rows × 1 columns</p>\n",
       "</div>"
      ],
      "text/plain": [
       "                               Standard_Deviation\n",
       "monthly_avg_length_of_session       156569.109949\n",
       "monthly_avg_light_activity           53890.132010\n",
       "monthly_avg_moderate_activity        35520.582851\n",
       "total_mentions_across_state          23681.143066\n",
       "monthly_avg_vigorous_activity        10091.983834\n",
       "...                                           ...\n",
       "ice_cream                                0.000000\n",
       "hotel                                    0.000000\n",
       "healthcare                               0.000000\n",
       "hairdresser_or_beauty                    0.000000\n",
       "B11001e6                                 0.000000\n",
       "\n",
       "[830 rows x 1 columns]"
      ]
     },
     "execution_count": 28,
     "metadata": {},
     "output_type": "execute_result"
    }
   ],
   "source": [
    "grouped_df.std().mean().sort_values(ascending=False).to_frame().rename(columns={0: \"Standard_Deviation\"}).dropna()#.query(\"Standard_Deviation > 0\")"
   ]
  },
  {
   "cell_type": "markdown",
   "metadata": {},
   "source": [
    "Taking the internal playground standard deviation for each column and averaging across all playgrounds, only 173 values are not 0."
   ]
  },
  {
   "cell_type": "code",
   "execution_count": 24,
   "metadata": {},
   "outputs": [
    {
     "data": {
      "application/vnd.vegalite.v3+json": {
       "$schema": "https://vega.github.io/schema/vega-lite/v3.4.0.json",
       "config": {
        "mark": {
         "tooltip": null
        },
        "view": {
         "height": 300,
         "width": 400
        }
       },
       "data": {
        "name": "data-bb552a5a79ec266bae0a7f396d90df11"
       },
       "datasets": {
        "data-bb552a5a79ec266bae0a7f396d90df11": [
         {
          "Standard Deviation": 156569.10994860198
         },
         {
          "Standard Deviation": 53890.13201016788
         },
         {
          "Standard Deviation": 35520.58285131526
         },
         {
          "Standard Deviation": 23681.14306638193
         },
         {
          "Standard Deviation": 10091.983834253851
         },
         {
          "Standard Deviation": 791.7994807720441
         },
         {
          "Standard Deviation": 586.2018033060453
         },
         {
          "Standard Deviation": 487.1325615540492
         },
         {
          "Standard Deviation": 308.14068202231016
         },
         {
          "Standard Deviation": 303.2052507050308
         },
         {
          "Standard Deviation": 163.82320110719692
         },
         {
          "Standard Deviation": 127.871549357692
         },
         {
          "Standard Deviation": 111.06699698850676
         },
         {
          "Standard Deviation": 86.05899480534495
         },
         {
          "Standard Deviation": 40.32402743560396
         },
         {
          "Standard Deviation": 26.66847274755182
         },
         {
          "Standard Deviation": 7.791455877921337
         },
         {
          "Standard Deviation": 7.655468729391864
         },
         {
          "Standard Deviation": 7.630816456702893
         },
         {
          "Standard Deviation": 7.565941535385653
         },
         {
          "Standard Deviation": 7.355277059451196
         },
         {
          "Standard Deviation": 7.128502637257978
         },
         {
          "Standard Deviation": 7.095668161197583
         },
         {
          "Standard Deviation": 6.981096938502161
         },
         {
          "Standard Deviation": 6.457469881577099
         },
         {
          "Standard Deviation": 6.228718894719912
         },
         {
          "Standard Deviation": 5.780741393536707
         },
         {
          "Standard Deviation": 5.704444924897115
         },
         {
          "Standard Deviation": 5.565730644072624
         },
         {
          "Standard Deviation": 5.143886351147059
         },
         {
          "Standard Deviation": 5.11363150849369
         },
         {
          "Standard Deviation": 5.049627860805655
         },
         {
          "Standard Deviation": 4.7028519734283165
         },
         {
          "Standard Deviation": 4.603201425988153
         },
         {
          "Standard Deviation": 4.578017151794745
         },
         {
          "Standard Deviation": 4.534663886638274
         },
         {
          "Standard Deviation": 4.261890001848961
         },
         {
          "Standard Deviation": 4.128679129644628
         },
         {
          "Standard Deviation": 3.9410474340690773
         },
         {
          "Standard Deviation": 3.936824292232372
         },
         {
          "Standard Deviation": 3.718955938323165
         },
         {
          "Standard Deviation": 3.2534538031443008
         },
         {
          "Standard Deviation": 3.160612865285715
         },
         {
          "Standard Deviation": 3.1372793248572926
         },
         {
          "Standard Deviation": 3.0533935525013507
         },
         {
          "Standard Deviation": 3.04753524365005
         },
         {
          "Standard Deviation": 2.9642101667086376
         },
         {
          "Standard Deviation": 2.9350785321276773
         },
         {
          "Standard Deviation": 2.9020541540971023
         },
         {
          "Standard Deviation": 2.8929084567431675
         },
         {
          "Standard Deviation": 2.674843422310147
         },
         {
          "Standard Deviation": 2.5044689079577913
         },
         {
          "Standard Deviation": 2.4688591937319586
         },
         {
          "Standard Deviation": 2.460335367384678
         },
         {
          "Standard Deviation": 2.3978650815215903
         },
         {
          "Standard Deviation": 2.392195580943977
         },
         {
          "Standard Deviation": 2.3197882518013535
         },
         {
          "Standard Deviation": 2.3114768128405614
         },
         {
          "Standard Deviation": 2.30837946941961
         },
         {
          "Standard Deviation": 2.213117140456994
         },
         {
          "Standard Deviation": 1.9962274160336961
         },
         {
          "Standard Deviation": 1.9512455817581769
         },
         {
          "Standard Deviation": 1.8658166277727757
         },
         {
          "Standard Deviation": 1.8230067169490447
         },
         {
          "Standard Deviation": 1.5052164867653486
         },
         {
          "Standard Deviation": 1.4925870901823588
         },
         {
          "Standard Deviation": 1.4807522224418033
         },
         {
          "Standard Deviation": 1.3869976471945151
         },
         {
          "Standard Deviation": 1.3765437714598874
         },
         {
          "Standard Deviation": 1.3374361295055888
         },
         {
          "Standard Deviation": 1.3334150840967949
         },
         {
          "Standard Deviation": 1.3322304929957025
         },
         {
          "Standard Deviation": 1.3117091515956802
         },
         {
          "Standard Deviation": 1.251185748189816
         },
         {
          "Standard Deviation": 1.2509517873976483
         },
         {
          "Standard Deviation": 1.20752657167472
         },
         {
          "Standard Deviation": 1.1490305367887326
         },
         {
          "Standard Deviation": 1.1316092701088998
         },
         {
          "Standard Deviation": 1.09092882478973
         },
         {
          "Standard Deviation": 1.016964023431335
         },
         {
          "Standard Deviation": 0.9806710137222758
         },
         {
          "Standard Deviation": 0.9277541384422677
         },
         {
          "Standard Deviation": 0.9043353164601322
         },
         {
          "Standard Deviation": 0.8975334925052483
         },
         {
          "Standard Deviation": 0.892764242722196
         },
         {
          "Standard Deviation": 0.8901208609947745
         },
         {
          "Standard Deviation": 0.8874945759276868
         },
         {
          "Standard Deviation": 0.8667491903497877
         },
         {
          "Standard Deviation": 0.8648035452195618
         },
         {
          "Standard Deviation": 0.8345539506651941
         },
         {
          "Standard Deviation": 0.8296740666621633
         },
         {
          "Standard Deviation": 0.8090248813808871
         },
         {
          "Standard Deviation": 0.8048402885047212
         },
         {
          "Standard Deviation": 0.7948128304072009
         },
         {
          "Standard Deviation": 0.7323598511226095
         },
         {
          "Standard Deviation": 0.7177904297027198
         },
         {
          "Standard Deviation": 0.7135105229524543
         },
         {
          "Standard Deviation": 0.7043398604427656
         },
         {
          "Standard Deviation": 0.6990765446899775
         },
         {
          "Standard Deviation": 0.6936127498793356
         },
         {
          "Standard Deviation": 0.6827800976714254
         },
         {
          "Standard Deviation": 0.6661874675803379
         },
         {
          "Standard Deviation": 0.648966399849993
         },
         {
          "Standard Deviation": 0.6458472229523473
         },
         {
          "Standard Deviation": 0.637787117748534
         },
         {
          "Standard Deviation": 0.630240405281162
         },
         {
          "Standard Deviation": 0.5968608083550193
         },
         {
          "Standard Deviation": 0.5850693660373543
         },
         {
          "Standard Deviation": 0.5385155455219941
         },
         {
          "Standard Deviation": 0.5219778907215609
         },
         {
          "Standard Deviation": 0.5104177855340309
         },
         {
          "Standard Deviation": 0.4593807775483048
         },
         {
          "Standard Deviation": 0.4363589371372255
         },
         {
          "Standard Deviation": 0.4062423464572957
         },
         {
          "Standard Deviation": 0.4017800396728042
         },
         {
          "Standard Deviation": 0.39975453598215765
         },
         {
          "Standard Deviation": 0.3892494720807692
         },
         {
          "Standard Deviation": 0.3657403570736719
         },
         {
          "Standard Deviation": 0.348240598159985
         },
         {
          "Standard Deviation": 0.32592383772907574
         },
         {
          "Standard Deviation": 0.3170444655575351
         },
         {
          "Standard Deviation": 0.3099454699267568
         },
         {
          "Standard Deviation": 0.29139058626134295
         },
         {
          "Standard Deviation": 0.28507295778474545
         },
         {
          "Standard Deviation": 0.2607996856074328
         },
         {
          "Standard Deviation": 0.24441751015785948
         },
         {
          "Standard Deviation": 0.2349339288896709
         },
         {
          "Standard Deviation": 0.2277289626687627
         },
         {
          "Standard Deviation": 0.20890605157128614
         },
         {
          "Standard Deviation": 0.20098196019490092
         },
         {
          "Standard Deviation": 0.16599619407679866
         },
         {
          "Standard Deviation": 0.15809502352494262
         },
         {
          "Standard Deviation": 0.14953801662702546
         },
         {
          "Standard Deviation": 0.1461916991565006
         },
         {
          "Standard Deviation": 0.14279617598409838
         },
         {
          "Standard Deviation": 0.141839293637398
         },
         {
          "Standard Deviation": 0.13570598417223864
         },
         {
          "Standard Deviation": 0.13407707600931676
         },
         {
          "Standard Deviation": 0.12423069458132792
         },
         {
          "Standard Deviation": 0.12177155662491519
         },
         {
          "Standard Deviation": 0.11927930171290078
         },
         {
          "Standard Deviation": 0.09721567419247287
         },
         {
          "Standard Deviation": 0.097052476782946
         },
         {
          "Standard Deviation": 0.0950802131147021
         },
         {
          "Standard Deviation": 0.0946201103302649
         },
         {
          "Standard Deviation": 0.08714113629590278
         },
         {
          "Standard Deviation": 0.08271758429309306
         },
         {
          "Standard Deviation": 0.07523386093067366
         },
         {
          "Standard Deviation": 0.06309693325074417
         },
         {
          "Standard Deviation": 0.05741856506192111
         },
         {
          "Standard Deviation": 0.055498708274043726
         },
         {
          "Standard Deviation": 0.05414641605585239
         },
         {
          "Standard Deviation": 0.030482044403284253
         },
         {
          "Standard Deviation": 0.026707392230532007
         },
         {
          "Standard Deviation": 0.02159331406843372
         },
         {
          "Standard Deviation": 0.017988148950801367
         },
         {
          "Standard Deviation": 0.017150190658456976
         },
         {
          "Standard Deviation": 0.0140088855733227
         },
         {
          "Standard Deviation": 0.011992319879328481
         },
         {
          "Standard Deviation": 0.01128657625897366
         },
         {
          "Standard Deviation": 0.008216927370404551
         },
         {
          "Standard Deviation": 0.005609982881386825
         },
         {
          "Standard Deviation": 0.005224189314297409
         },
         {
          "Standard Deviation": 0.004345051676087053
         },
         {
          "Standard Deviation": 0.0031725485744953305
         },
         {
          "Standard Deviation": 0.0014612511859039233
         },
         {
          "Standard Deviation": 0.0008030571347764607
         },
         {
          "Standard Deviation": 0.0007138285642457429
         },
         {
          "Standard Deviation": 0.0005353714231843072
         },
         {
          "Standard Deviation": 0.00035691428212287146
         },
         {
          "Standard Deviation": 0.0002676857115921536
         },
         {
          "Standard Deviation": 0.00017845714106143573
         },
         {
          "Standard Deviation": 0.00017845714106143573
         },
         {
          "Standard Deviation": 0.00017845714106143573
         },
         {
          "Standard Deviation": 0.0001784571410614357
         },
         {
          "Standard Deviation": 0
         },
         {
          "Standard Deviation": 0
         },
         {
          "Standard Deviation": 0
         },
         {
          "Standard Deviation": 0
         },
         {
          "Standard Deviation": 0
         },
         {
          "Standard Deviation": 0
         },
         {
          "Standard Deviation": 0
         },
         {
          "Standard Deviation": 0
         },
         {
          "Standard Deviation": 0
         },
         {
          "Standard Deviation": 0
         },
         {
          "Standard Deviation": 0
         },
         {
          "Standard Deviation": 0
         },
         {
          "Standard Deviation": 0
         },
         {
          "Standard Deviation": 0
         },
         {
          "Standard Deviation": 0
         },
         {
          "Standard Deviation": 0
         },
         {
          "Standard Deviation": 0
         },
         {
          "Standard Deviation": 0
         },
         {
          "Standard Deviation": 0
         },
         {
          "Standard Deviation": 0
         },
         {
          "Standard Deviation": 0
         },
         {
          "Standard Deviation": 0
         },
         {
          "Standard Deviation": 0
         },
         {
          "Standard Deviation": 0
         },
         {
          "Standard Deviation": 0
         },
         {
          "Standard Deviation": 0
         },
         {
          "Standard Deviation": 0
         },
         {
          "Standard Deviation": 0
         },
         {
          "Standard Deviation": 0
         },
         {
          "Standard Deviation": 0
         },
         {
          "Standard Deviation": 0
         },
         {
          "Standard Deviation": 0
         },
         {
          "Standard Deviation": 0
         },
         {
          "Standard Deviation": 0
         },
         {
          "Standard Deviation": 0
         },
         {
          "Standard Deviation": 0
         },
         {
          "Standard Deviation": 0
         },
         {
          "Standard Deviation": 0
         },
         {
          "Standard Deviation": 0
         },
         {
          "Standard Deviation": 0
         },
         {
          "Standard Deviation": 0
         },
         {
          "Standard Deviation": 0
         },
         {
          "Standard Deviation": 0
         },
         {
          "Standard Deviation": 0
         },
         {
          "Standard Deviation": 0
         },
         {
          "Standard Deviation": 0
         },
         {
          "Standard Deviation": 0
         },
         {
          "Standard Deviation": 0
         },
         {
          "Standard Deviation": 0
         },
         {
          "Standard Deviation": 0
         },
         {
          "Standard Deviation": 0
         },
         {
          "Standard Deviation": 0
         },
         {
          "Standard Deviation": 0
         },
         {
          "Standard Deviation": 0
         },
         {
          "Standard Deviation": 0
         },
         {
          "Standard Deviation": 0
         },
         {
          "Standard Deviation": 0
         },
         {
          "Standard Deviation": 0
         },
         {
          "Standard Deviation": 0
         },
         {
          "Standard Deviation": 0
         },
         {
          "Standard Deviation": 0
         },
         {
          "Standard Deviation": 0
         },
         {
          "Standard Deviation": 0
         },
         {
          "Standard Deviation": 0
         },
         {
          "Standard Deviation": 0
         },
         {
          "Standard Deviation": 0
         },
         {
          "Standard Deviation": 0
         },
         {
          "Standard Deviation": 0
         },
         {
          "Standard Deviation": 0
         },
         {
          "Standard Deviation": 0
         },
         {
          "Standard Deviation": 0
         },
         {
          "Standard Deviation": 0
         },
         {
          "Standard Deviation": 0
         },
         {
          "Standard Deviation": 0
         },
         {
          "Standard Deviation": 0
         },
         {
          "Standard Deviation": 0
         },
         {
          "Standard Deviation": 0
         },
         {
          "Standard Deviation": 0
         },
         {
          "Standard Deviation": 0
         },
         {
          "Standard Deviation": 0
         },
         {
          "Standard Deviation": 0
         },
         {
          "Standard Deviation": 0
         },
         {
          "Standard Deviation": 0
         },
         {
          "Standard Deviation": 0
         },
         {
          "Standard Deviation": 0
         },
         {
          "Standard Deviation": 0
         },
         {
          "Standard Deviation": 0
         },
         {
          "Standard Deviation": 0
         },
         {
          "Standard Deviation": 0
         },
         {
          "Standard Deviation": 0
         },
         {
          "Standard Deviation": 0
         },
         {
          "Standard Deviation": 0
         },
         {
          "Standard Deviation": 0
         },
         {
          "Standard Deviation": 0
         },
         {
          "Standard Deviation": 0
         },
         {
          "Standard Deviation": 0
         },
         {
          "Standard Deviation": 0
         },
         {
          "Standard Deviation": 0
         },
         {
          "Standard Deviation": 0
         },
         {
          "Standard Deviation": 0
         },
         {
          "Standard Deviation": 0
         },
         {
          "Standard Deviation": 0
         },
         {
          "Standard Deviation": 0
         },
         {
          "Standard Deviation": 0
         },
         {
          "Standard Deviation": 0
         },
         {
          "Standard Deviation": 0
         },
         {
          "Standard Deviation": 0
         },
         {
          "Standard Deviation": 0
         },
         {
          "Standard Deviation": 0
         },
         {
          "Standard Deviation": 0
         },
         {
          "Standard Deviation": 0
         },
         {
          "Standard Deviation": 0
         },
         {
          "Standard Deviation": 0
         },
         {
          "Standard Deviation": 0
         },
         {
          "Standard Deviation": 0
         },
         {
          "Standard Deviation": 0
         },
         {
          "Standard Deviation": 0
         },
         {
          "Standard Deviation": 0
         },
         {
          "Standard Deviation": 0
         },
         {
          "Standard Deviation": 0
         },
         {
          "Standard Deviation": 0
         },
         {
          "Standard Deviation": 0
         },
         {
          "Standard Deviation": 0
         },
         {
          "Standard Deviation": 0
         },
         {
          "Standard Deviation": 0
         },
         {
          "Standard Deviation": 0
         },
         {
          "Standard Deviation": 0
         },
         {
          "Standard Deviation": 0
         },
         {
          "Standard Deviation": 0
         },
         {
          "Standard Deviation": 0
         },
         {
          "Standard Deviation": 0
         },
         {
          "Standard Deviation": 0
         },
         {
          "Standard Deviation": 0
         },
         {
          "Standard Deviation": 0
         },
         {
          "Standard Deviation": 0
         },
         {
          "Standard Deviation": 0
         },
         {
          "Standard Deviation": 0
         },
         {
          "Standard Deviation": 0
         },
         {
          "Standard Deviation": 0
         },
         {
          "Standard Deviation": 0
         },
         {
          "Standard Deviation": 0
         },
         {
          "Standard Deviation": 0
         },
         {
          "Standard Deviation": 0
         },
         {
          "Standard Deviation": 0
         },
         {
          "Standard Deviation": 0
         },
         {
          "Standard Deviation": 0
         },
         {
          "Standard Deviation": 0
         },
         {
          "Standard Deviation": 0
         },
         {
          "Standard Deviation": 0
         },
         {
          "Standard Deviation": 0
         },
         {
          "Standard Deviation": 0
         },
         {
          "Standard Deviation": 0
         },
         {
          "Standard Deviation": 0
         },
         {
          "Standard Deviation": 0
         },
         {
          "Standard Deviation": 0
         },
         {
          "Standard Deviation": 0
         },
         {
          "Standard Deviation": 0
         },
         {
          "Standard Deviation": 0
         },
         {
          "Standard Deviation": 0
         },
         {
          "Standard Deviation": 0
         },
         {
          "Standard Deviation": 0
         },
         {
          "Standard Deviation": 0
         },
         {
          "Standard Deviation": 0
         },
         {
          "Standard Deviation": 0
         },
         {
          "Standard Deviation": 0
         },
         {
          "Standard Deviation": 0
         },
         {
          "Standard Deviation": 0
         },
         {
          "Standard Deviation": 0
         },
         {
          "Standard Deviation": 0
         },
         {
          "Standard Deviation": 0
         },
         {
          "Standard Deviation": 0
         },
         {
          "Standard Deviation": 0
         },
         {
          "Standard Deviation": 0
         },
         {
          "Standard Deviation": 0
         },
         {
          "Standard Deviation": 0
         },
         {
          "Standard Deviation": 0
         },
         {
          "Standard Deviation": 0
         },
         {
          "Standard Deviation": 0
         },
         {
          "Standard Deviation": 0
         },
         {
          "Standard Deviation": 0
         },
         {
          "Standard Deviation": 0
         },
         {
          "Standard Deviation": 0
         },
         {
          "Standard Deviation": 0
         },
         {
          "Standard Deviation": 0
         },
         {
          "Standard Deviation": 0
         },
         {
          "Standard Deviation": 0
         },
         {
          "Standard Deviation": 0
         },
         {
          "Standard Deviation": 0
         },
         {
          "Standard Deviation": 0
         },
         {
          "Standard Deviation": 0
         },
         {
          "Standard Deviation": 0
         },
         {
          "Standard Deviation": 0
         },
         {
          "Standard Deviation": 0
         },
         {
          "Standard Deviation": 0
         },
         {
          "Standard Deviation": 0
         },
         {
          "Standard Deviation": 0
         },
         {
          "Standard Deviation": 0
         },
         {
          "Standard Deviation": 0
         },
         {
          "Standard Deviation": 0
         },
         {
          "Standard Deviation": 0
         },
         {
          "Standard Deviation": 0
         },
         {
          "Standard Deviation": 0
         },
         {
          "Standard Deviation": 0
         },
         {
          "Standard Deviation": 0
         },
         {
          "Standard Deviation": 0
         },
         {
          "Standard Deviation": 0
         },
         {
          "Standard Deviation": 0
         },
         {
          "Standard Deviation": 0
         },
         {
          "Standard Deviation": 0
         },
         {
          "Standard Deviation": 0
         },
         {
          "Standard Deviation": 0
         },
         {
          "Standard Deviation": 0
         },
         {
          "Standard Deviation": 0
         },
         {
          "Standard Deviation": 0
         },
         {
          "Standard Deviation": 0
         },
         {
          "Standard Deviation": 0
         },
         {
          "Standard Deviation": 0
         },
         {
          "Standard Deviation": 0
         },
         {
          "Standard Deviation": 0
         },
         {
          "Standard Deviation": 0
         },
         {
          "Standard Deviation": 0
         },
         {
          "Standard Deviation": 0
         },
         {
          "Standard Deviation": 0
         },
         {
          "Standard Deviation": 0
         },
         {
          "Standard Deviation": 0
         },
         {
          "Standard Deviation": 0
         },
         {
          "Standard Deviation": 0
         },
         {
          "Standard Deviation": 0
         },
         {
          "Standard Deviation": 0
         },
         {
          "Standard Deviation": 0
         },
         {
          "Standard Deviation": 0
         },
         {
          "Standard Deviation": 0
         },
         {
          "Standard Deviation": 0
         },
         {
          "Standard Deviation": 0
         },
         {
          "Standard Deviation": 0
         },
         {
          "Standard Deviation": 0
         },
         {
          "Standard Deviation": 0
         },
         {
          "Standard Deviation": 0
         },
         {
          "Standard Deviation": 0
         },
         {
          "Standard Deviation": 0
         },
         {
          "Standard Deviation": 0
         },
         {
          "Standard Deviation": 0
         },
         {
          "Standard Deviation": 0
         },
         {
          "Standard Deviation": 0
         },
         {
          "Standard Deviation": 0
         },
         {
          "Standard Deviation": 0
         },
         {
          "Standard Deviation": 0
         },
         {
          "Standard Deviation": 0
         },
         {
          "Standard Deviation": 0
         },
         {
          "Standard Deviation": 0
         },
         {
          "Standard Deviation": 0
         },
         {
          "Standard Deviation": 0
         },
         {
          "Standard Deviation": 0
         },
         {
          "Standard Deviation": 0
         },
         {
          "Standard Deviation": 0
         },
         {
          "Standard Deviation": 0
         },
         {
          "Standard Deviation": 0
         },
         {
          "Standard Deviation": 0
         },
         {
          "Standard Deviation": 0
         },
         {
          "Standard Deviation": 0
         },
         {
          "Standard Deviation": 0
         },
         {
          "Standard Deviation": 0
         },
         {
          "Standard Deviation": 0
         },
         {
          "Standard Deviation": 0
         },
         {
          "Standard Deviation": 0
         },
         {
          "Standard Deviation": 0
         },
         {
          "Standard Deviation": 0
         },
         {
          "Standard Deviation": 0
         },
         {
          "Standard Deviation": 0
         },
         {
          "Standard Deviation": 0
         },
         {
          "Standard Deviation": 0
         },
         {
          "Standard Deviation": 0
         },
         {
          "Standard Deviation": 0
         },
         {
          "Standard Deviation": 0
         },
         {
          "Standard Deviation": 0
         },
         {
          "Standard Deviation": 0
         },
         {
          "Standard Deviation": 0
         },
         {
          "Standard Deviation": 0
         },
         {
          "Standard Deviation": 0
         },
         {
          "Standard Deviation": 0
         },
         {
          "Standard Deviation": 0
         },
         {
          "Standard Deviation": 0
         },
         {
          "Standard Deviation": 0
         },
         {
          "Standard Deviation": 0
         },
         {
          "Standard Deviation": 0
         },
         {
          "Standard Deviation": 0
         },
         {
          "Standard Deviation": 0
         },
         {
          "Standard Deviation": 0
         },
         {
          "Standard Deviation": 0
         },
         {
          "Standard Deviation": 0
         },
         {
          "Standard Deviation": 0
         },
         {
          "Standard Deviation": 0
         },
         {
          "Standard Deviation": 0
         },
         {
          "Standard Deviation": 0
         },
         {
          "Standard Deviation": 0
         },
         {
          "Standard Deviation": 0
         },
         {
          "Standard Deviation": 0
         },
         {
          "Standard Deviation": 0
         },
         {
          "Standard Deviation": 0
         },
         {
          "Standard Deviation": 0
         },
         {
          "Standard Deviation": 0
         },
         {
          "Standard Deviation": 0
         },
         {
          "Standard Deviation": 0
         },
         {
          "Standard Deviation": 0
         },
         {
          "Standard Deviation": 0
         },
         {
          "Standard Deviation": 0
         },
         {
          "Standard Deviation": 0
         },
         {
          "Standard Deviation": 0
         },
         {
          "Standard Deviation": 0
         },
         {
          "Standard Deviation": 0
         },
         {
          "Standard Deviation": 0
         },
         {
          "Standard Deviation": 0
         },
         {
          "Standard Deviation": 0
         },
         {
          "Standard Deviation": 0
         },
         {
          "Standard Deviation": 0
         },
         {
          "Standard Deviation": 0
         },
         {
          "Standard Deviation": 0
         },
         {
          "Standard Deviation": 0
         },
         {
          "Standard Deviation": 0
         },
         {
          "Standard Deviation": 0
         },
         {
          "Standard Deviation": 0
         },
         {
          "Standard Deviation": 0
         },
         {
          "Standard Deviation": 0
         },
         {
          "Standard Deviation": 0
         },
         {
          "Standard Deviation": 0
         },
         {
          "Standard Deviation": 0
         },
         {
          "Standard Deviation": 0
         },
         {
          "Standard Deviation": 0
         },
         {
          "Standard Deviation": 0
         },
         {
          "Standard Deviation": 0
         },
         {
          "Standard Deviation": 0
         },
         {
          "Standard Deviation": 0
         },
         {
          "Standard Deviation": 0
         },
         {
          "Standard Deviation": 0
         },
         {
          "Standard Deviation": 0
         },
         {
          "Standard Deviation": 0
         },
         {
          "Standard Deviation": 0
         },
         {
          "Standard Deviation": 0
         },
         {
          "Standard Deviation": 0
         },
         {
          "Standard Deviation": 0
         },
         {
          "Standard Deviation": 0
         },
         {
          "Standard Deviation": 0
         },
         {
          "Standard Deviation": 0
         },
         {
          "Standard Deviation": 0
         },
         {
          "Standard Deviation": 0
         },
         {
          "Standard Deviation": 0
         },
         {
          "Standard Deviation": 0
         },
         {
          "Standard Deviation": 0
         },
         {
          "Standard Deviation": 0
         },
         {
          "Standard Deviation": 0
         },
         {
          "Standard Deviation": 0
         },
         {
          "Standard Deviation": 0
         },
         {
          "Standard Deviation": 0
         },
         {
          "Standard Deviation": 0
         },
         {
          "Standard Deviation": 0
         },
         {
          "Standard Deviation": 0
         },
         {
          "Standard Deviation": 0
         },
         {
          "Standard Deviation": 0
         },
         {
          "Standard Deviation": 0
         },
         {
          "Standard Deviation": 0
         },
         {
          "Standard Deviation": 0
         },
         {
          "Standard Deviation": 0
         },
         {
          "Standard Deviation": 0
         },
         {
          "Standard Deviation": 0
         },
         {
          "Standard Deviation": 0
         },
         {
          "Standard Deviation": 0
         },
         {
          "Standard Deviation": 0
         },
         {
          "Standard Deviation": 0
         },
         {
          "Standard Deviation": 0
         },
         {
          "Standard Deviation": 0
         },
         {
          "Standard Deviation": 0
         },
         {
          "Standard Deviation": 0
         },
         {
          "Standard Deviation": 0
         },
         {
          "Standard Deviation": 0
         },
         {
          "Standard Deviation": 0
         },
         {
          "Standard Deviation": 0
         },
         {
          "Standard Deviation": 0
         },
         {
          "Standard Deviation": 0
         },
         {
          "Standard Deviation": 0
         },
         {
          "Standard Deviation": 0
         },
         {
          "Standard Deviation": 0
         },
         {
          "Standard Deviation": 0
         },
         {
          "Standard Deviation": 0
         },
         {
          "Standard Deviation": 0
         },
         {
          "Standard Deviation": 0
         },
         {
          "Standard Deviation": 0
         },
         {
          "Standard Deviation": 0
         },
         {
          "Standard Deviation": 0
         },
         {
          "Standard Deviation": 0
         },
         {
          "Standard Deviation": 0
         },
         {
          "Standard Deviation": 0
         },
         {
          "Standard Deviation": 0
         },
         {
          "Standard Deviation": 0
         },
         {
          "Standard Deviation": 0
         },
         {
          "Standard Deviation": 0
         },
         {
          "Standard Deviation": 0
         },
         {
          "Standard Deviation": 0
         },
         {
          "Standard Deviation": 0
         },
         {
          "Standard Deviation": 0
         },
         {
          "Standard Deviation": 0
         },
         {
          "Standard Deviation": 0
         },
         {
          "Standard Deviation": 0
         },
         {
          "Standard Deviation": 0
         },
         {
          "Standard Deviation": 0
         },
         {
          "Standard Deviation": 0
         },
         {
          "Standard Deviation": 0
         },
         {
          "Standard Deviation": 0
         },
         {
          "Standard Deviation": 0
         },
         {
          "Standard Deviation": 0
         },
         {
          "Standard Deviation": 0
         },
         {
          "Standard Deviation": 0
         },
         {
          "Standard Deviation": 0
         },
         {
          "Standard Deviation": 0
         },
         {
          "Standard Deviation": 0
         },
         {
          "Standard Deviation": 0
         },
         {
          "Standard Deviation": 0
         },
         {
          "Standard Deviation": 0
         },
         {
          "Standard Deviation": 0
         },
         {
          "Standard Deviation": 0
         },
         {
          "Standard Deviation": 0
         },
         {
          "Standard Deviation": 0
         },
         {
          "Standard Deviation": 0
         },
         {
          "Standard Deviation": 0
         },
         {
          "Standard Deviation": 0
         },
         {
          "Standard Deviation": 0
         },
         {
          "Standard Deviation": 0
         },
         {
          "Standard Deviation": 0
         },
         {
          "Standard Deviation": 0
         },
         {
          "Standard Deviation": 0
         },
         {
          "Standard Deviation": 0
         },
         {
          "Standard Deviation": 0
         },
         {
          "Standard Deviation": 0
         },
         {
          "Standard Deviation": 0
         },
         {
          "Standard Deviation": 0
         },
         {
          "Standard Deviation": 0
         },
         {
          "Standard Deviation": 0
         },
         {
          "Standard Deviation": 0
         },
         {
          "Standard Deviation": 0
         },
         {
          "Standard Deviation": 0
         },
         {
          "Standard Deviation": 0
         },
         {
          "Standard Deviation": 0
         },
         {
          "Standard Deviation": 0
         },
         {
          "Standard Deviation": 0
         },
         {
          "Standard Deviation": 0
         },
         {
          "Standard Deviation": 0
         },
         {
          "Standard Deviation": 0
         },
         {
          "Standard Deviation": 0
         },
         {
          "Standard Deviation": 0
         },
         {
          "Standard Deviation": 0
         },
         {
          "Standard Deviation": 0
         },
         {
          "Standard Deviation": 0
         },
         {
          "Standard Deviation": 0
         },
         {
          "Standard Deviation": 0
         },
         {
          "Standard Deviation": 0
         },
         {
          "Standard Deviation": 0
         },
         {
          "Standard Deviation": 0
         },
         {
          "Standard Deviation": 0
         },
         {
          "Standard Deviation": 0
         },
         {
          "Standard Deviation": 0
         },
         {
          "Standard Deviation": 0
         },
         {
          "Standard Deviation": 0
         },
         {
          "Standard Deviation": 0
         },
         {
          "Standard Deviation": 0
         },
         {
          "Standard Deviation": 0
         },
         {
          "Standard Deviation": 0
         },
         {
          "Standard Deviation": 0
         },
         {
          "Standard Deviation": 0
         },
         {
          "Standard Deviation": 0
         },
         {
          "Standard Deviation": 0
         },
         {
          "Standard Deviation": 0
         },
         {
          "Standard Deviation": 0
         },
         {
          "Standard Deviation": 0
         },
         {
          "Standard Deviation": 0
         },
         {
          "Standard Deviation": 0
         },
         {
          "Standard Deviation": 0
         },
         {
          "Standard Deviation": 0
         },
         {
          "Standard Deviation": 0
         },
         {
          "Standard Deviation": 0
         },
         {
          "Standard Deviation": 0
         },
         {
          "Standard Deviation": 0
         },
         {
          "Standard Deviation": 0
         },
         {
          "Standard Deviation": 0
         },
         {
          "Standard Deviation": 0
         },
         {
          "Standard Deviation": 0
         },
         {
          "Standard Deviation": 0
         },
         {
          "Standard Deviation": 0
         },
         {
          "Standard Deviation": 0
         },
         {
          "Standard Deviation": 0
         },
         {
          "Standard Deviation": 0
         },
         {
          "Standard Deviation": 0
         },
         {
          "Standard Deviation": 0
         },
         {
          "Standard Deviation": 0
         },
         {
          "Standard Deviation": 0
         },
         {
          "Standard Deviation": 0
         },
         {
          "Standard Deviation": 0
         },
         {
          "Standard Deviation": 0
         },
         {
          "Standard Deviation": 0
         },
         {
          "Standard Deviation": 0
         },
         {
          "Standard Deviation": 0
         },
         {
          "Standard Deviation": 0
         },
         {
          "Standard Deviation": 0
         },
         {
          "Standard Deviation": 0
         },
         {
          "Standard Deviation": 0
         },
         {
          "Standard Deviation": 0
         },
         {
          "Standard Deviation": 0
         },
         {
          "Standard Deviation": 0
         },
         {
          "Standard Deviation": 0
         },
         {
          "Standard Deviation": 0
         },
         {
          "Standard Deviation": 0
         },
         {
          "Standard Deviation": 0
         },
         {
          "Standard Deviation": 0
         },
         {
          "Standard Deviation": 0
         },
         {
          "Standard Deviation": 0
         },
         {
          "Standard Deviation": 0
         },
         {
          "Standard Deviation": 0
         },
         {
          "Standard Deviation": 0
         },
         {
          "Standard Deviation": 0
         },
         {
          "Standard Deviation": 0
         },
         {
          "Standard Deviation": 0
         },
         {
          "Standard Deviation": 0
         },
         {
          "Standard Deviation": 0
         },
         {
          "Standard Deviation": 0
         },
         {
          "Standard Deviation": 0
         },
         {
          "Standard Deviation": 0
         },
         {
          "Standard Deviation": 0
         },
         {
          "Standard Deviation": 0
         },
         {
          "Standard Deviation": 0
         },
         {
          "Standard Deviation": 0
         },
         {
          "Standard Deviation": 0
         },
         {
          "Standard Deviation": 0
         },
         {
          "Standard Deviation": 0
         },
         {
          "Standard Deviation": 0
         },
         {
          "Standard Deviation": 0
         },
         {
          "Standard Deviation": 0
         },
         {
          "Standard Deviation": 0
         },
         {
          "Standard Deviation": 0
         },
         {
          "Standard Deviation": 0
         },
         {
          "Standard Deviation": 0
         },
         {
          "Standard Deviation": 0
         },
         {
          "Standard Deviation": 0
         },
         {
          "Standard Deviation": 0
         },
         {
          "Standard Deviation": 0
         },
         {
          "Standard Deviation": 0
         },
         {
          "Standard Deviation": 0
         },
         {
          "Standard Deviation": 0
         },
         {
          "Standard Deviation": 0
         },
         {
          "Standard Deviation": 0
         },
         {
          "Standard Deviation": 0
         },
         {
          "Standard Deviation": 0
         },
         {
          "Standard Deviation": 0
         },
         {
          "Standard Deviation": 0
         },
         {
          "Standard Deviation": 0
         },
         {
          "Standard Deviation": 0
         },
         {
          "Standard Deviation": 0
         },
         {
          "Standard Deviation": 0
         },
         {
          "Standard Deviation": 0
         },
         {
          "Standard Deviation": 0
         },
         {
          "Standard Deviation": 0
         },
         {
          "Standard Deviation": 0
         },
         {
          "Standard Deviation": 0
         },
         {
          "Standard Deviation": 0
         },
         {
          "Standard Deviation": 0
         },
         {
          "Standard Deviation": 0
         },
         {
          "Standard Deviation": 0
         },
         {
          "Standard Deviation": 0
         },
         {
          "Standard Deviation": 0
         },
         {
          "Standard Deviation": 0
         },
         {
          "Standard Deviation": 0
         },
         {
          "Standard Deviation": 0
         },
         {
          "Standard Deviation": 0
         },
         {
          "Standard Deviation": 0
         },
         {
          "Standard Deviation": 0
         },
         {
          "Standard Deviation": 0
         },
         {
          "Standard Deviation": 0
         },
         {
          "Standard Deviation": 0
         },
         {
          "Standard Deviation": 0
         },
         {
          "Standard Deviation": 0
         },
         {
          "Standard Deviation": 0
         },
         {
          "Standard Deviation": 0
         },
         {
          "Standard Deviation": 0
         },
         {
          "Standard Deviation": 0
         },
         {
          "Standard Deviation": 0
         },
         {
          "Standard Deviation": 0
         },
         {
          "Standard Deviation": 0
         },
         {
          "Standard Deviation": 0
         },
         {
          "Standard Deviation": 0
         },
         {
          "Standard Deviation": 0
         },
         {
          "Standard Deviation": 0
         },
         {
          "Standard Deviation": 0
         },
         {
          "Standard Deviation": 0
         },
         {
          "Standard Deviation": 0
         },
         {
          "Standard Deviation": 0
         },
         {
          "Standard Deviation": 0
         },
         {
          "Standard Deviation": 0
         },
         {
          "Standard Deviation": 0
         },
         {
          "Standard Deviation": 0
         },
         {
          "Standard Deviation": 0
         },
         {
          "Standard Deviation": 0
         },
         {
          "Standard Deviation": 0
         },
         {
          "Standard Deviation": 0
         },
         {
          "Standard Deviation": 0
         },
         {
          "Standard Deviation": 0
         },
         {
          "Standard Deviation": 0
         },
         {
          "Standard Deviation": 0
         },
         {
          "Standard Deviation": 0
         },
         {
          "Standard Deviation": 0
         },
         {
          "Standard Deviation": 0
         },
         {
          "Standard Deviation": 0
         },
         {
          "Standard Deviation": 0
         },
         {
          "Standard Deviation": 0
         },
         {
          "Standard Deviation": 0
         },
         {
          "Standard Deviation": 0
         },
         {
          "Standard Deviation": 0
         },
         {
          "Standard Deviation": 0
         },
         {
          "Standard Deviation": 0
         },
         {
          "Standard Deviation": 0
         },
         {
          "Standard Deviation": 0
         },
         {
          "Standard Deviation": 0
         },
         {
          "Standard Deviation": 0
         },
         {
          "Standard Deviation": 0
         },
         {
          "Standard Deviation": 0
         },
         {
          "Standard Deviation": 0
         },
         {
          "Standard Deviation": 0
         },
         {
          "Standard Deviation": 0
         },
         {
          "Standard Deviation": 0
         },
         {
          "Standard Deviation": 0
         },
         {
          "Standard Deviation": 0
         },
         {
          "Standard Deviation": 0
         },
         {
          "Standard Deviation": 0
         },
         {
          "Standard Deviation": 0
         },
         {
          "Standard Deviation": 0
         },
         {
          "Standard Deviation": 0
         },
         {
          "Standard Deviation": 0
         },
         {
          "Standard Deviation": 0
         },
         {
          "Standard Deviation": 0
         },
         {
          "Standard Deviation": 0
         },
         {
          "Standard Deviation": 0
         },
         {
          "Standard Deviation": 0
         },
         {
          "Standard Deviation": 0
         },
         {
          "Standard Deviation": 0
         },
         {
          "Standard Deviation": 0
         },
         {
          "Standard Deviation": 0
         },
         {
          "Standard Deviation": 0
         },
         {
          "Standard Deviation": 0
         },
         {
          "Standard Deviation": 0
         },
         {
          "Standard Deviation": 0
         },
         {
          "Standard Deviation": 0
         },
         {
          "Standard Deviation": 0
         },
         {
          "Standard Deviation": 0
         },
         {
          "Standard Deviation": 0
         },
         {
          "Standard Deviation": 0
         },
         {
          "Standard Deviation": 0
         },
         {
          "Standard Deviation": 0
         },
         {
          "Standard Deviation": 0
         },
         {
          "Standard Deviation": 0
         }
        ]
       },
       "encoding": {
        "x": {
         "bin": {
          "maxbins": 50
         },
         "field": "Standard Deviation",
         "title": "Correlation (binned)",
         "type": "quantitative"
        },
        "y": {
         "aggregate": "count",
         "title": "Count",
         "type": "quantitative"
        }
       },
       "mark": "bar",
       "title": "Histogram - Correlation with Session Count"
      },
      "image/png": "[encoded data removed]",
      "text/plain": [
       "<VegaLite 3 object>\n",
       "\n",
       "If you see this message, it means the renderer has not been properly enabled\n",
       "for the frontend that you are using. For more information, see\n",
       "https://altair-viz.github.io/user_guide/troubleshooting.html\n"
      ]
     },
     "execution_count": 24,
     "metadata": {},
     "output_type": "execute_result"
    }
   ],
   "source": [
    "alt.Chart(grouped_df.std().mean().sort_values(ascending=False).to_frame().rename(columns={0: \"Standard Deviation\"}).dropna()).mark_bar().encode(\n",
    "    alt.X(\"Standard Deviation:Q\", bin=alt.Bin(maxbins=50),title=\"Correlation (binned)\"),\n",
    "    y=alt.Y('count()', title=\"Count\")).properties(\n",
    "    title='Histogram - Correlation with Session Count'\n",
    ")"
   ]
  },
  {
   "cell_type": "code",
   "execution_count": 14,
   "metadata": {},
   "outputs": [],
   "source": [
    "km=KMeans(n_clusters = i)"
   ]
  },
  {
   "cell_type": "code",
   "execution_count": null,
   "metadata": {},
   "outputs": [],
   "source": []
  }
 ],
 "metadata": {
  "kernelspec": {
   "display_name": "Python 3",
   "language": "python",
   "name": "python3"
  },
  "language_info": {
   "codemirror_mode": {
    "name": "ipython",
    "version": 3
   },
   "file_extension": ".py",
   "mimetype": "text/x-python",
   "name": "python",
   "nbconvert_exporter": "python",
   "pygments_lexer": "ipython3",
   "version": "3.7.6"
  }
 },
 "nbformat": 4,
 "nbformat_minor": 4
}
