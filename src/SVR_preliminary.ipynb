{
 "cells": [
  {
   "cell_type": "markdown",
   "metadata": {},
   "source": [
    "# SVR model"
   ]
  },
  {
   "cell_type": "markdown",
   "metadata": {},
   "source": [
    "## Import libraries and download the data"
   ]
  },
  {
   "cell_type": "code",
   "execution_count": 1,
   "metadata": {},
   "outputs": [],
   "source": [
    "#Download libraries\n",
    "import re\n",
    "from collections import defaultdict\n",
    "import pandas as pd\n",
    "#import altair as alt\n",
    "import numpy as np\n",
    "#import matplotlib.pyplot as plt\n",
    "from sklearn.decomposition import PCA\n",
    "from sklearn.svm import SVR\n",
    "from sklearn.model_selection import RandomizedSearchCV\n",
    "from sklearn.model_selection import train_test_split\n",
    "from sklearn.preprocessing import OneHotEncoder\n",
    "from preprocessing import preprocessing_na, clean_categorical\n",
    "import time\n",
    "from sklearn import metrics\n",
    "from sklearn.preprocessing import StandardScaler\n",
    "from catboost import CatBoostRegressor"
   ]
  },
  {
   "cell_type": "code",
   "execution_count": 2,
   "metadata": {},
   "outputs": [],
   "source": [
    "#Download the data\n",
    "df = pd.read_csv('../data/train_data.zip')\n",
    "clean_data = preprocessing_na(df)"
   ]
  },
  {
   "cell_type": "markdown",
   "metadata": {},
   "source": [
    "# SVR Model"
   ]
  },
  {
   "cell_type": "markdown",
   "metadata": {},
   "source": [
    "## Without categorical values"
   ]
  },
  {
   "cell_type": "markdown",
   "metadata": {},
   "source": [
    "## With raw data"
   ]
  },
  {
   "cell_type": "markdown",
   "metadata": {},
   "source": [
    "I am waiting for the preprocessing to be done to run this part"
   ]
  },
  {
   "cell_type": "code",
   "execution_count": 3,
   "metadata": {},
   "outputs": [],
   "source": [
    "X_train, X_valid, y_train, y_valid = train_test_split(clean_data.drop(columns=['unacast_session_count', 'state', 'external_id']),\n",
    "                                                    clean_data[['unacast_session_count']],\n",
    "                                                    test_size=0.2,\n",
    "                                                    random_state=2020)"
   ]
  },
  {
   "cell_type": "code",
   "execution_count": 4,
   "metadata": {},
   "outputs": [
    {
     "data": {
      "text/html": [
       "<div>\n",
       "<style scoped>\n",
       "    .dataframe tbody tr th:only-of-type {\n",
       "        vertical-align: middle;\n",
       "    }\n",
       "\n",
       "    .dataframe tbody tr th {\n",
       "        vertical-align: top;\n",
       "    }\n",
       "\n",
       "    .dataframe thead th {\n",
       "        text-align: right;\n",
       "    }\n",
       "</style>\n",
       "<table border=\"1\" class=\"dataframe\">\n",
       "  <thead>\n",
       "    <tr style=\"text-align: right;\">\n",
       "      <th></th>\n",
       "      <th>month</th>\n",
       "      <th>year</th>\n",
       "      <th>B20004e10</th>\n",
       "      <th>B11016e1</th>\n",
       "      <th>B12001e12</th>\n",
       "      <th>B20004e11</th>\n",
       "      <th>B19125e1</th>\n",
       "      <th>B12001e13</th>\n",
       "      <th>B23008e22</th>\n",
       "      <th>B11005e12</th>\n",
       "      <th>...</th>\n",
       "      <th>monthly_variety</th>\n",
       "      <th>monthly_travel</th>\n",
       "      <th>monthly_safety</th>\n",
       "      <th>monthly_Monday</th>\n",
       "      <th>monthly_Saturday</th>\n",
       "      <th>monthly_Wednesday</th>\n",
       "      <th>monthly_Tuesday</th>\n",
       "      <th>monthly_Friday</th>\n",
       "      <th>monthly_Sunday</th>\n",
       "      <th>monthly_Thursday</th>\n",
       "    </tr>\n",
       "  </thead>\n",
       "  <tbody>\n",
       "    <tr>\n",
       "      <th>49288</th>\n",
       "      <td>2</td>\n",
       "      <td>2018</td>\n",
       "      <td>71250</td>\n",
       "      <td>1352</td>\n",
       "      <td>570</td>\n",
       "      <td>92946</td>\n",
       "      <td>122233</td>\n",
       "      <td>1099</td>\n",
       "      <td>64</td>\n",
       "      <td>576</td>\n",
       "      <td>...</td>\n",
       "      <td>0.0</td>\n",
       "      <td>0.0</td>\n",
       "      <td>0.0</td>\n",
       "      <td>0.0</td>\n",
       "      <td>0.0</td>\n",
       "      <td>0.0</td>\n",
       "      <td>0.0</td>\n",
       "      <td>0.0</td>\n",
       "      <td>0.0</td>\n",
       "      <td>0.0</td>\n",
       "    </tr>\n",
       "    <tr>\n",
       "      <th>47981</th>\n",
       "      <td>2</td>\n",
       "      <td>2019</td>\n",
       "      <td>37238</td>\n",
       "      <td>1952</td>\n",
       "      <td>811</td>\n",
       "      <td>60799</td>\n",
       "      <td>46875</td>\n",
       "      <td>1029</td>\n",
       "      <td>7</td>\n",
       "      <td>570</td>\n",
       "      <td>...</td>\n",
       "      <td>0.0</td>\n",
       "      <td>0.0</td>\n",
       "      <td>0.0</td>\n",
       "      <td>0.0</td>\n",
       "      <td>0.0</td>\n",
       "      <td>0.0</td>\n",
       "      <td>0.0</td>\n",
       "      <td>0.0</td>\n",
       "      <td>0.0</td>\n",
       "      <td>0.0</td>\n",
       "    </tr>\n",
       "    <tr>\n",
       "      <th>506</th>\n",
       "      <td>8</td>\n",
       "      <td>2019</td>\n",
       "      <td>40199</td>\n",
       "      <td>1755</td>\n",
       "      <td>1104</td>\n",
       "      <td>42371</td>\n",
       "      <td>62284</td>\n",
       "      <td>1139</td>\n",
       "      <td>63</td>\n",
       "      <td>677</td>\n",
       "      <td>...</td>\n",
       "      <td>0.0</td>\n",
       "      <td>0.0</td>\n",
       "      <td>0.0</td>\n",
       "      <td>0.0</td>\n",
       "      <td>0.0</td>\n",
       "      <td>0.0</td>\n",
       "      <td>0.0</td>\n",
       "      <td>0.0</td>\n",
       "      <td>0.0</td>\n",
       "      <td>0.0</td>\n",
       "    </tr>\n",
       "    <tr>\n",
       "      <th>27843</th>\n",
       "      <td>7</td>\n",
       "      <td>2019</td>\n",
       "      <td>40833</td>\n",
       "      <td>1040</td>\n",
       "      <td>313</td>\n",
       "      <td>35000</td>\n",
       "      <td>63750</td>\n",
       "      <td>659</td>\n",
       "      <td>16</td>\n",
       "      <td>403</td>\n",
       "      <td>...</td>\n",
       "      <td>0.0</td>\n",
       "      <td>0.0</td>\n",
       "      <td>0.0</td>\n",
       "      <td>0.0</td>\n",
       "      <td>0.0</td>\n",
       "      <td>0.0</td>\n",
       "      <td>0.0</td>\n",
       "      <td>0.0</td>\n",
       "      <td>0.0</td>\n",
       "      <td>0.0</td>\n",
       "    </tr>\n",
       "    <tr>\n",
       "      <th>30294</th>\n",
       "      <td>10</td>\n",
       "      <td>2018</td>\n",
       "      <td>50256</td>\n",
       "      <td>2727</td>\n",
       "      <td>615</td>\n",
       "      <td>98482</td>\n",
       "      <td>116850</td>\n",
       "      <td>1839</td>\n",
       "      <td>33</td>\n",
       "      <td>1247</td>\n",
       "      <td>...</td>\n",
       "      <td>0.0</td>\n",
       "      <td>0.0</td>\n",
       "      <td>0.0</td>\n",
       "      <td>0.0</td>\n",
       "      <td>0.0</td>\n",
       "      <td>0.0</td>\n",
       "      <td>0.0</td>\n",
       "      <td>0.0</td>\n",
       "      <td>0.0</td>\n",
       "      <td>0.0</td>\n",
       "    </tr>\n",
       "    <tr>\n",
       "      <th>...</th>\n",
       "      <td>...</td>\n",
       "      <td>...</td>\n",
       "      <td>...</td>\n",
       "      <td>...</td>\n",
       "      <td>...</td>\n",
       "      <td>...</td>\n",
       "      <td>...</td>\n",
       "      <td>...</td>\n",
       "      <td>...</td>\n",
       "      <td>...</td>\n",
       "      <td>...</td>\n",
       "      <td>...</td>\n",
       "      <td>...</td>\n",
       "      <td>...</td>\n",
       "      <td>...</td>\n",
       "      <td>...</td>\n",
       "      <td>...</td>\n",
       "      <td>...</td>\n",
       "      <td>...</td>\n",
       "      <td>...</td>\n",
       "      <td>...</td>\n",
       "    </tr>\n",
       "    <tr>\n",
       "      <th>18523</th>\n",
       "      <td>10</td>\n",
       "      <td>2018</td>\n",
       "      <td>73015</td>\n",
       "      <td>2796</td>\n",
       "      <td>843</td>\n",
       "      <td>103987</td>\n",
       "      <td>162245</td>\n",
       "      <td>1961</td>\n",
       "      <td>66</td>\n",
       "      <td>1079</td>\n",
       "      <td>...</td>\n",
       "      <td>0.0</td>\n",
       "      <td>0.0</td>\n",
       "      <td>0.0</td>\n",
       "      <td>0.0</td>\n",
       "      <td>0.0</td>\n",
       "      <td>0.0</td>\n",
       "      <td>0.0</td>\n",
       "      <td>0.0</td>\n",
       "      <td>0.0</td>\n",
       "      <td>0.0</td>\n",
       "    </tr>\n",
       "    <tr>\n",
       "      <th>44739</th>\n",
       "      <td>10</td>\n",
       "      <td>2018</td>\n",
       "      <td>25694</td>\n",
       "      <td>1174</td>\n",
       "      <td>453</td>\n",
       "      <td>40644</td>\n",
       "      <td>56563</td>\n",
       "      <td>717</td>\n",
       "      <td>88</td>\n",
       "      <td>491</td>\n",
       "      <td>...</td>\n",
       "      <td>0.0</td>\n",
       "      <td>0.0</td>\n",
       "      <td>0.0</td>\n",
       "      <td>0.0</td>\n",
       "      <td>0.0</td>\n",
       "      <td>0.0</td>\n",
       "      <td>0.0</td>\n",
       "      <td>0.0</td>\n",
       "      <td>0.0</td>\n",
       "      <td>0.0</td>\n",
       "    </tr>\n",
       "    <tr>\n",
       "      <th>47734</th>\n",
       "      <td>12</td>\n",
       "      <td>2018</td>\n",
       "      <td>45909</td>\n",
       "      <td>1499</td>\n",
       "      <td>249</td>\n",
       "      <td>66354</td>\n",
       "      <td>62784</td>\n",
       "      <td>1009</td>\n",
       "      <td>33</td>\n",
       "      <td>594</td>\n",
       "      <td>...</td>\n",
       "      <td>0.0</td>\n",
       "      <td>0.0</td>\n",
       "      <td>0.0</td>\n",
       "      <td>0.0</td>\n",
       "      <td>0.0</td>\n",
       "      <td>0.0</td>\n",
       "      <td>0.0</td>\n",
       "      <td>0.0</td>\n",
       "      <td>0.0</td>\n",
       "      <td>0.0</td>\n",
       "    </tr>\n",
       "    <tr>\n",
       "      <th>40259</th>\n",
       "      <td>8</td>\n",
       "      <td>2019</td>\n",
       "      <td>47917</td>\n",
       "      <td>820</td>\n",
       "      <td>172</td>\n",
       "      <td>40313</td>\n",
       "      <td>53875</td>\n",
       "      <td>497</td>\n",
       "      <td>16</td>\n",
       "      <td>279</td>\n",
       "      <td>...</td>\n",
       "      <td>0.0</td>\n",
       "      <td>0.0</td>\n",
       "      <td>0.0</td>\n",
       "      <td>0.0</td>\n",
       "      <td>0.0</td>\n",
       "      <td>0.0</td>\n",
       "      <td>0.0</td>\n",
       "      <td>0.0</td>\n",
       "      <td>0.0</td>\n",
       "      <td>0.0</td>\n",
       "    </tr>\n",
       "    <tr>\n",
       "      <th>41824</th>\n",
       "      <td>6</td>\n",
       "      <td>2018</td>\n",
       "      <td>39375</td>\n",
       "      <td>1979</td>\n",
       "      <td>555</td>\n",
       "      <td>69183</td>\n",
       "      <td>70338</td>\n",
       "      <td>1338</td>\n",
       "      <td>0</td>\n",
       "      <td>626</td>\n",
       "      <td>...</td>\n",
       "      <td>0.0</td>\n",
       "      <td>0.0</td>\n",
       "      <td>0.0</td>\n",
       "      <td>0.0</td>\n",
       "      <td>0.0</td>\n",
       "      <td>0.0</td>\n",
       "      <td>0.0</td>\n",
       "      <td>0.0</td>\n",
       "      <td>0.0</td>\n",
       "      <td>0.0</td>\n",
       "    </tr>\n",
       "  </tbody>\n",
       "</table>\n",
       "<p>40080 rows × 810 columns</p>\n",
       "</div>"
      ],
      "text/plain": [
       "       month  year  B20004e10  B11016e1  B12001e12  B20004e11  B19125e1  \\\n",
       "49288      2  2018      71250      1352        570      92946    122233   \n",
       "47981      2  2019      37238      1952        811      60799     46875   \n",
       "506        8  2019      40199      1755       1104      42371     62284   \n",
       "27843      7  2019      40833      1040        313      35000     63750   \n",
       "30294     10  2018      50256      2727        615      98482    116850   \n",
       "...      ...   ...        ...       ...        ...        ...       ...   \n",
       "18523     10  2018      73015      2796        843     103987    162245   \n",
       "44739     10  2018      25694      1174        453      40644     56563   \n",
       "47734     12  2018      45909      1499        249      66354     62784   \n",
       "40259      8  2019      47917       820        172      40313     53875   \n",
       "41824      6  2018      39375      1979        555      69183     70338   \n",
       "\n",
       "       B12001e13  B23008e22  B11005e12  ...  monthly_variety  monthly_travel  \\\n",
       "49288       1099         64        576  ...              0.0             0.0   \n",
       "47981       1029          7        570  ...              0.0             0.0   \n",
       "506         1139         63        677  ...              0.0             0.0   \n",
       "27843        659         16        403  ...              0.0             0.0   \n",
       "30294       1839         33       1247  ...              0.0             0.0   \n",
       "...          ...        ...        ...  ...              ...             ...   \n",
       "18523       1961         66       1079  ...              0.0             0.0   \n",
       "44739        717         88        491  ...              0.0             0.0   \n",
       "47734       1009         33        594  ...              0.0             0.0   \n",
       "40259        497         16        279  ...              0.0             0.0   \n",
       "41824       1338          0        626  ...              0.0             0.0   \n",
       "\n",
       "       monthly_safety  monthly_Monday  monthly_Saturday  monthly_Wednesday  \\\n",
       "49288             0.0             0.0               0.0                0.0   \n",
       "47981             0.0             0.0               0.0                0.0   \n",
       "506               0.0             0.0               0.0                0.0   \n",
       "27843             0.0             0.0               0.0                0.0   \n",
       "30294             0.0             0.0               0.0                0.0   \n",
       "...               ...             ...               ...                ...   \n",
       "18523             0.0             0.0               0.0                0.0   \n",
       "44739             0.0             0.0               0.0                0.0   \n",
       "47734             0.0             0.0               0.0                0.0   \n",
       "40259             0.0             0.0               0.0                0.0   \n",
       "41824             0.0             0.0               0.0                0.0   \n",
       "\n",
       "       monthly_Tuesday  monthly_Friday  monthly_Sunday  monthly_Thursday  \n",
       "49288              0.0             0.0             0.0               0.0  \n",
       "47981              0.0             0.0             0.0               0.0  \n",
       "506                0.0             0.0             0.0               0.0  \n",
       "27843              0.0             0.0             0.0               0.0  \n",
       "30294              0.0             0.0             0.0               0.0  \n",
       "...                ...             ...             ...               ...  \n",
       "18523              0.0             0.0             0.0               0.0  \n",
       "44739              0.0             0.0             0.0               0.0  \n",
       "47734              0.0             0.0             0.0               0.0  \n",
       "40259              0.0             0.0             0.0               0.0  \n",
       "41824              0.0             0.0             0.0               0.0  \n",
       "\n",
       "[40080 rows x 810 columns]"
      ]
     },
     "execution_count": 4,
     "metadata": {},
     "output_type": "execute_result"
    }
   ],
   "source": [
    "X_train"
   ]
  },
  {
   "cell_type": "code",
   "execution_count": 5,
   "metadata": {},
   "outputs": [],
   "source": [
    "X_train_valid = clean_categorical(X_train.reset_index(), X_valid.reset_index())\n",
    "X_train = X_train_valid[0]\n",
    "X_valid = X_train_valid[1]"
   ]
  },
  {
   "cell_type": "code",
   "execution_count": null,
   "metadata": {},
   "outputs": [],
   "source": [
    "#Fit basic SVR with default values\n",
    "t0 = time.time()\n",
    "svr_init = SVR()\n",
    "svr_init.fit(X_train, y_train.to_numpy().ravel())\n",
    "t1 = time.time()"
   ]
  },
  {
   "cell_type": "code",
   "execution_count": null,
   "metadata": {},
   "outputs": [],
   "source": [
    "svr_init_train_time = t1 - t0\n",
    "print('Training time : ', svr_init_train_time)"
   ]
  },
  {
   "cell_type": "code",
   "execution_count": null,
   "metadata": {},
   "outputs": [],
   "source": [
    "#Find the train RMSE and MAE\n",
    "svr_init_train_RMSE = np.sqrt(metrics.mean_squared_error(y_train, svr_init.predict(X_train)))\n",
    "print('Initial modeling, train RMSE:', svr_init_train_RMSE)\n",
    "svr_init_train_MAE = metrics.mean_absolute_error(y_train, svr_init.predict(X_train))\n",
    "print('Initial modeling, train MAE:', svr_init_train_MAE)"
   ]
  },
  {
   "cell_type": "code",
   "execution_count": null,
   "metadata": {},
   "outputs": [],
   "source": [
    "#Find the validation and validation RMSE and MAE\n",
    "t2 = time.time()\n",
    "svr_init_valid_RMSE = np.sqrt(metrics.mean_squared_error(y_valid, svr_init.predict(X_valid)))\n",
    "t3 = time.time()\n",
    "svr_init_predict_time = t3 - t2\n",
    "print('Prediction time : ', svr_init_predict_time)\n",
    "print('Initial modeling, validation RMSE:', svr_init_valid_RMSE)\n",
    "svr_init_valid_MAE = metrics.mean_absolute_error(y_valid, svr_init.predict(X_valid))\n",
    "print('Initial modeling, validation MAE:', svr_init_valid_MAE)"
   ]
  },
  {
   "cell_type": "code",
   "execution_count": null,
   "metadata": {},
   "outputs": [],
   "source": [
    "results = {'model':['SVR initial train', 'SVR initial train', 'SVR initial validation', 'SVR initial validation'], 'error_type':['RMSE', 'MAE', 'RMSE', 'MAE'], \n",
    "           'score':[svr_init_train_RMSE, svr_init_train_MAE, svr_init_valid_RMSE, svr_init_valid_MAE]}"
   ]
  },
  {
   "cell_type": "code",
   "execution_count": null,
   "metadata": {},
   "outputs": [],
   "source": [
    "results_df = pd.DataFrame(results)"
   ]
  },
  {
   "cell_type": "code",
   "execution_count": null,
   "metadata": {},
   "outputs": [],
   "source": [
    "results_df.to_csv('../results/SVR')"
   ]
  },
  {
   "cell_type": "markdown",
   "metadata": {},
   "source": [
    "SVR takes a long time to run, and gave really poor results. We will keep it aside for now, and see latter if we want to use it or not."
   ]
  },
  {
   "cell_type": "markdown",
   "metadata": {},
   "source": [
    "I kept the following code for when we will have more computational power to run SVR."
   ]
  },
  {
   "cell_type": "code",
   "execution_count": null,
   "metadata": {},
   "outputs": [],
   "source": [
    "t4 = time.time()\n",
    "parameters = {'C':np.logspace(-5,5,40), 'gamma':np.logspace(-10,10,40)}\n",
    "svr = SVR()\n",
    "svr_opt = RandomizedSearchCV(svr, parameters, scoring = 'neg_root_mean_squared_error', cv=5, iid=False, n_iter=30, n_jobs=-1, verbose=4)\n",
    "svr_opt.fit(X_train, y_train.to_numpy().ravel())\n",
    "t5 = time.time()"
   ]
  },
  {
   "cell_type": "code",
   "execution_count": null,
   "metadata": {},
   "outputs": [],
   "source": [
    "#Hyperparameter tuning running time\n",
    "svr_tuning_time = t5 - t4\n",
    "print('Tuning time : ', svr_tuning_time)"
   ]
  },
  {
   "cell_type": "code",
   "execution_count": null,
   "metadata": {},
   "outputs": [],
   "source": [
    "print('The best parameter combination is {}.'.format(svc_opt.best_params_))"
   ]
  },
  {
   "cell_type": "code",
   "execution_count": null,
   "metadata": {},
   "outputs": [],
   "source": [
    "#Find the train RMSE and MAE\n",
    "t6 = time.time()\n",
    "svr_tuned_train_RMSE = np.sqrt(metrics.mean_squared_error(y_train, svr_opt.predict(X_train)))\n",
    "t7 = time.time()\n",
    "print('Tuned model, train RMSE:', svr_tuned_train_RMSE)\n",
    "svr_tuned_train_MAE = metrics.mean_absolute_error(y_valid, svr_opt.predict(X_valid))\n",
    "print('Tuned model, train MAE:', svr_tuned_train_MAE)\n",
    "svr_tuned_train_predict_time = t7 - t6\n",
    "print('Prediction time for the train set : ', svr_tuned_train_predict_time)\n",
    "\n",
    "#Find the validation and validation RMSE and MAE\n",
    "t8 = time.time()\n",
    "svr_tuned_valid_RMSE = np.sqrt(metrics.mean_squared_error(y_valid, svr_opt.predict(X_valid)))\n",
    "t9 = time.time()\n",
    "print('Tuned model, validation RMSE:', svr_tuned_valid_RMSE)\n",
    "svr_tuned_train_MAE = metrics.mean_absolute_error(y_valid, svr_opt.predict(X_valid))\n",
    "print('Tuned model, validation MAE:', svr_tuned_valid_MAE)\n",
    "svr_tuned_valid_predict_time = t9 - t8\n",
    "print('Prediction time for the validation set : ', svr_tuned_valid_predict_time)"
   ]
  },
  {
   "cell_type": "code",
   "execution_count": null,
   "metadata": {},
   "outputs": [],
   "source": [
    "results['model'].append('SVR opt train')\n",
    "results['model'].append('SVR opt train')\n",
    "results['model'].append('SVR opt validation')\n",
    "results['model'].append('SVR opt validation')\n",
    "results['error_type'].append('RMSE')\n",
    "results['error_type'].append('MAE')\n",
    "results['error_type'].append('RMSE')\n",
    "results['error_type'].append('MAE')\n",
    "result['score'].append(svr_tuned_train_RMSE)\n",
    "result['score'].append(svr_tuned_train_MAE)\n",
    "result['score'].append(svr_tuned_valid_RMSE)\n",
    "result['score'].append(svr_tuned_valid_MAE)"
   ]
  },
  {
   "cell_type": "code",
   "execution_count": null,
   "metadata": {},
   "outputs": [],
   "source": [
    "results_df.to_csv('../results/SVR_opt')"
   ]
  },
  {
   "cell_type": "markdown",
   "metadata": {},
   "source": [
    "## With scaled data"
   ]
  },
  {
   "cell_type": "code",
   "execution_count": null,
   "metadata": {},
   "outputs": [],
   "source": [
    "#Drop categorical features\n",
    "categorical_features = X_train.loc[:, clean_data.dtypes == \"object\"]\n",
    "categorical_features.columns"
   ]
  },
  {
   "cell_type": "code",
   "execution_count": null,
   "metadata": {},
   "outputs": [],
   "source": [
    "#Scale the data\n",
    "scaler = StandardScaler()\n",
    "X_train_scaled = scaler.fit_transform(X_train.drop(columns = list(categorical_features.columns)))\n",
    "X_valid_scaled = scaler.transform(X_valid.drop(columns = list(categorical_features.columns)))"
   ]
  },
  {
   "cell_type": "code",
   "execution_count": null,
   "metadata": {},
   "outputs": [],
   "source": [
    "#Fit basic SVR with default values\n",
    "t10 = time.time()\n",
    "svr_init_scaled = SVR()\n",
    "svr_init_scaled.fit(X_train_scaled, y_train_scaled.to_numpy().ravel())\n",
    "t11 = time.time()"
   ]
  },
  {
   "cell_type": "code",
   "execution_count": null,
   "metadata": {},
   "outputs": [],
   "source": [
    "svr_init_scaled_train_time = t11 - t10\n",
    "print('Training time scaled data: ', svr_init_scaled_train_time)"
   ]
  },
  {
   "cell_type": "code",
   "execution_count": null,
   "metadata": {},
   "outputs": [],
   "source": [
    "#Find the train RMSE and MAE\n",
    "svr_init_scaled_train_RMSE = np.sqrt(metrics.mean_squared_error(y_train, svr_init_scaled.predict(X_train_scaled)))\n",
    "print('Initial scaled modeling, train RMSE:', svr_init_scaled_train_RMSE)\n",
    "svr_init_scaled_train_MAE = metrics.mean_absolute_error(y_train, svr_init_scaled.predict(X_train_scaled))\n",
    "print('Initial scaled modeling, train MAE:', svr_init_scaled_train_MAE)"
   ]
  },
  {
   "cell_type": "code",
   "execution_count": null,
   "metadata": {},
   "outputs": [],
   "source": [
    "#Find the validation and validation RMSE and MAE\n",
    "t12 = time.time()\n",
    "svr_init_scaled_valid_RMSE = np.sqrt(metrics.mean_squared_error(y_valid, svr_init_scaled.predict(X_valid_scaled)))\n",
    "t13 = time.time()\n",
    "print('Initial scaled modeling, validation RMSE:', svr_init_scaled_valid_RMSE)\n",
    "svr_init_scaled_valid_MAE = metrics.mean_absolute_error(y_valid, svr_init_scaled.predict(X_valid_scaled))\n",
    "print('Initial scaled modeling, validation MAE:', svr_init_scaled_valid_MAE)"
   ]
  },
  {
   "cell_type": "code",
   "execution_count": null,
   "metadata": {},
   "outputs": [],
   "source": [
    "#Compute the predicting time\n",
    "svr_init_scaled_predit_time = t13 - t12\n",
    "print('Prediction time scaled data : ', svr_init_scaled_predict_time)"
   ]
  },
  {
   "cell_type": "markdown",
   "metadata": {},
   "source": [
    "## Catboost"
   ]
  },
  {
   "cell_type": "markdown",
   "metadata": {},
   "source": [
    "### Raw data"
   ]
  },
  {
   "cell_type": "markdown",
   "metadata": {},
   "source": [
    "### RMSE"
   ]
  },
  {
   "cell_type": "code",
   "execution_count": 33,
   "metadata": {},
   "outputs": [],
   "source": [
    "results_df = pd.read_csv('../results/SVR')"
   ]
  },
  {
   "cell_type": "code",
   "execution_count": 7,
   "metadata": {},
   "outputs": [],
   "source": [
    "# Initialize CatBoostRegressor\n",
    "cat_init_raw_RMSE = CatBoostRegressor(iterations=100, learning_rate=1, depth=10, verbose=False, loss_function='RMSE')\n",
    "# Fit model\n",
    "t_cat0 = time.time()\n",
    "cat_init_raw_RMSE.fit(X_train, y_train.to_numpy().ravel())\n",
    "t_cat1 = time.time()"
   ]
  },
  {
   "cell_type": "code",
   "execution_count": 8,
   "metadata": {},
   "outputs": [
    {
     "name": "stdout",
     "output_type": "stream",
     "text": [
      "Training time :  36.06549024581909\n"
     ]
    }
   ],
   "source": [
    "cat_init_train_time = t_cat1 - t_cat0\n",
    "print('Training time : ', cat_init_train_time)"
   ]
  },
  {
   "cell_type": "code",
   "execution_count": 9,
   "metadata": {},
   "outputs": [
    {
     "name": "stdout",
     "output_type": "stream",
     "text": [
      "Catboost Initial modeling, train RMSE: 41.20343552572412\n",
      "Catboost Initial modeling, validation RMSE: 100.39445965777593\n"
     ]
    }
   ],
   "source": [
    "#Find the train and validation RMSE\n",
    "cat_init_train_RMSE = np.sqrt(metrics.mean_squared_error(y_train, cat_init_raw_RMSE.predict(X_train)))\n",
    "print('Catboost Initial modeling, train RMSE:', cat_init_train_RMSE)\n",
    "cat_init_valid_RMSE = np.sqrt(metrics.mean_squared_error(y_valid, cat_init_raw_RMSE.predict(X_valid)))\n",
    "print('Catboost Initial modeling, validation RMSE:', cat_init_valid_RMSE)"
   ]
  },
  {
   "cell_type": "markdown",
   "metadata": {},
   "source": [
    "#### MAE"
   ]
  },
  {
   "cell_type": "code",
   "execution_count": 10,
   "metadata": {},
   "outputs": [],
   "source": [
    "# Initialize CatBoostRegressor\n",
    "cat_init_raw_MAE = CatBoostRegressor(iterations=100, learning_rate=1, depth=10, verbose=False, loss_function='MAE')\n",
    "# Fit model\n",
    "t_cat2 = time.time()\n",
    "cat_init_raw_MAE.fit(X_train, y_train.to_numpy().ravel())\n",
    "t_cat3 = time.time()"
   ]
  },
  {
   "cell_type": "code",
   "execution_count": 11,
   "metadata": {},
   "outputs": [
    {
     "name": "stdout",
     "output_type": "stream",
     "text": [
      "Training time :  37.78832149505615\n"
     ]
    }
   ],
   "source": [
    "cat_init_train_time_MAE = t_cat3 - t_cat2\n",
    "print('Training time : ', cat_init_train_time_MAE)"
   ]
  },
  {
   "cell_type": "code",
   "execution_count": 12,
   "metadata": {},
   "outputs": [
    {
     "name": "stdout",
     "output_type": "stream",
     "text": [
      "Catboost Initial modeling, train MAE: 29.603768057075115\n",
      "Catboost Initial modeling, validation MAE: 56.050921692859234\n"
     ]
    }
   ],
   "source": [
    "#Find the train and validation MAE\n",
    "cat_init_train_MAE = metrics.mean_absolute_error(y_train, cat_init_raw_MAE.predict(X_train))\n",
    "print('Catboost Initial modeling, train MAE:', cat_init_train_MAE)\n",
    "cat_init_valid_MAE = metrics.mean_absolute_error(y_valid, cat_init_raw_MAE.predict(X_valid))\n",
    "print('Catboost Initial modeling, validation MAE:', cat_init_valid_MAE)"
   ]
  },
  {
   "cell_type": "code",
   "execution_count": 32,
   "metadata": {},
   "outputs": [
    {
     "data": {
      "text/html": [
       "<div>\n",
       "<style scoped>\n",
       "    .dataframe tbody tr th:only-of-type {\n",
       "        vertical-align: middle;\n",
       "    }\n",
       "\n",
       "    .dataframe tbody tr th {\n",
       "        vertical-align: top;\n",
       "    }\n",
       "\n",
       "    .dataframe thead th {\n",
       "        text-align: right;\n",
       "    }\n",
       "</style>\n",
       "<table border=\"1\" class=\"dataframe\">\n",
       "  <thead>\n",
       "    <tr style=\"text-align: right;\">\n",
       "      <th></th>\n",
       "      <th>Unnamed: 0</th>\n",
       "      <th>Unnamed: 0.1</th>\n",
       "      <th>Unnamed: 0.1.1</th>\n",
       "      <th>model</th>\n",
       "      <th>error_type</th>\n",
       "      <th>score</th>\n",
       "    </tr>\n",
       "  </thead>\n",
       "  <tbody>\n",
       "    <tr>\n",
       "      <th>0</th>\n",
       "      <td>0.0</td>\n",
       "      <td>0.0</td>\n",
       "      <td>0.0</td>\n",
       "      <td>SVR initial train</td>\n",
       "      <td>RMSE</td>\n",
       "      <td>282.815846</td>\n",
       "    </tr>\n",
       "    <tr>\n",
       "      <th>1</th>\n",
       "      <td>1.0</td>\n",
       "      <td>1.0</td>\n",
       "      <td>1.0</td>\n",
       "      <td>SVR initial train</td>\n",
       "      <td>MAE</td>\n",
       "      <td>101.128189</td>\n",
       "    </tr>\n",
       "    <tr>\n",
       "      <th>2</th>\n",
       "      <td>2.0</td>\n",
       "      <td>2.0</td>\n",
       "      <td>2.0</td>\n",
       "      <td>SVR initial validation</td>\n",
       "      <td>RMSE</td>\n",
       "      <td>249.576016</td>\n",
       "    </tr>\n",
       "    <tr>\n",
       "      <th>3</th>\n",
       "      <td>3.0</td>\n",
       "      <td>3.0</td>\n",
       "      <td>3.0</td>\n",
       "      <td>SVR initial validation</td>\n",
       "      <td>MAE</td>\n",
       "      <td>94.398720</td>\n",
       "    </tr>\n",
       "    <tr>\n",
       "      <th>4</th>\n",
       "      <td>4.0</td>\n",
       "      <td>4.0</td>\n",
       "      <td>NaN</td>\n",
       "      <td>catboost init train</td>\n",
       "      <td>RMSE</td>\n",
       "      <td>41.203436</td>\n",
       "    </tr>\n",
       "    <tr>\n",
       "      <th>5</th>\n",
       "      <td>5.0</td>\n",
       "      <td>5.0</td>\n",
       "      <td>NaN</td>\n",
       "      <td>catboost init train</td>\n",
       "      <td>MAE</td>\n",
       "      <td>29.603768</td>\n",
       "    </tr>\n",
       "    <tr>\n",
       "      <th>6</th>\n",
       "      <td>6.0</td>\n",
       "      <td>6.0</td>\n",
       "      <td>NaN</td>\n",
       "      <td>catboost init validation</td>\n",
       "      <td>RMSE</td>\n",
       "      <td>100.394460</td>\n",
       "    </tr>\n",
       "    <tr>\n",
       "      <th>7</th>\n",
       "      <td>7.0</td>\n",
       "      <td>7.0</td>\n",
       "      <td>NaN</td>\n",
       "      <td>catboost init validation</td>\n",
       "      <td>RMSE</td>\n",
       "      <td>56.050922</td>\n",
       "    </tr>\n",
       "    <tr>\n",
       "      <th>8</th>\n",
       "      <td>NaN</td>\n",
       "      <td>NaN</td>\n",
       "      <td>NaN</td>\n",
       "      <td>catboost init train</td>\n",
       "      <td>RMSE</td>\n",
       "      <td>41.203436</td>\n",
       "    </tr>\n",
       "    <tr>\n",
       "      <th>9</th>\n",
       "      <td>NaN</td>\n",
       "      <td>NaN</td>\n",
       "      <td>NaN</td>\n",
       "      <td>catboost init train</td>\n",
       "      <td>MAE</td>\n",
       "      <td>29.603768</td>\n",
       "    </tr>\n",
       "    <tr>\n",
       "      <th>10</th>\n",
       "      <td>NaN</td>\n",
       "      <td>NaN</td>\n",
       "      <td>NaN</td>\n",
       "      <td>catboost init validation</td>\n",
       "      <td>RMSE</td>\n",
       "      <td>100.394460</td>\n",
       "    </tr>\n",
       "    <tr>\n",
       "      <th>11</th>\n",
       "      <td>NaN</td>\n",
       "      <td>NaN</td>\n",
       "      <td>NaN</td>\n",
       "      <td>catboost init validation</td>\n",
       "      <td>RMSE</td>\n",
       "      <td>56.050922</td>\n",
       "    </tr>\n",
       "  </tbody>\n",
       "</table>\n",
       "</div>"
      ],
      "text/plain": [
       "    Unnamed: 0  Unnamed: 0.1  Unnamed: 0.1.1                     model  \\\n",
       "0          0.0           0.0             0.0         SVR initial train   \n",
       "1          1.0           1.0             1.0         SVR initial train   \n",
       "2          2.0           2.0             2.0    SVR initial validation   \n",
       "3          3.0           3.0             3.0    SVR initial validation   \n",
       "4          4.0           4.0             NaN       catboost init train   \n",
       "5          5.0           5.0             NaN       catboost init train   \n",
       "6          6.0           6.0             NaN  catboost init validation   \n",
       "7          7.0           7.0             NaN  catboost init validation   \n",
       "8          NaN           NaN             NaN       catboost init train   \n",
       "9          NaN           NaN             NaN       catboost init train   \n",
       "10         NaN           NaN             NaN  catboost init validation   \n",
       "11         NaN           NaN             NaN  catboost init validation   \n",
       "\n",
       "   error_type       score  \n",
       "0        RMSE  282.815846  \n",
       "1         MAE  101.128189  \n",
       "2        RMSE  249.576016  \n",
       "3         MAE   94.398720  \n",
       "4        RMSE   41.203436  \n",
       "5         MAE   29.603768  \n",
       "6        RMSE  100.394460  \n",
       "7        RMSE   56.050922  \n",
       "8        RMSE   41.203436  \n",
       "9         MAE   29.603768  \n",
       "10       RMSE  100.394460  \n",
       "11       RMSE   56.050922  "
      ]
     },
     "execution_count": 32,
     "metadata": {},
     "output_type": "execute_result"
    }
   ],
   "source": [
    "results_df = results_df.append({'model':'catboost init train', 'error_type':'RMSE', 'score':cat_init_train_RMSE}, \n",
    "                               ignore_index=True)\n",
    "results_df = results_df.append({'model':'catboost init train', 'error_type':'MAE', 'score':cat_init_train_MAE}, \n",
    "                               ignore_index=True)\n",
    "results_df = results_df.append({'model':'catboost init validation', 'error_type':'RMSE', 'score':cat_init_valid_RMSE}, \n",
    "                               ignore_index=True)\n",
    "results_df = results_df.append({'model':'catboost init validation', 'error_type':'RMSE', 'score':cat_init_valid_MAE}, \n",
    "                               ignore_index=True)\n",
    "results_df"
   ]
  },
  {
   "cell_type": "code",
   "execution_count": 29,
   "metadata": {},
   "outputs": [],
   "source": [
    "results_df.to_csv('../results/SVR')"
   ]
  },
  {
   "cell_type": "markdown",
   "metadata": {},
   "source": [
    "## Hyperparameters tuning : Random search"
   ]
  },
  {
   "cell_type": "markdown",
   "metadata": {},
   "source": [
    "### RMSE"
   ]
  },
  {
   "cell_type": "code",
   "execution_count": 15,
   "metadata": {},
   "outputs": [
    {
     "name": "stdout",
     "output_type": "stream",
     "text": [
      "Fitting 5 folds for each of 30 candidates, totalling 150 fits\n"
     ]
    },
    {
     "name": "stderr",
     "output_type": "stream",
     "text": [
      "[Parallel(n_jobs=-1)]: Using backend LokyBackend with 8 concurrent workers.\n",
      "[Parallel(n_jobs=-1)]: Done   2 tasks      | elapsed:   22.4s\n",
      "[Parallel(n_jobs=-1)]: Done   9 tasks      | elapsed:  1.3min\n",
      "[Parallel(n_jobs=-1)]: Done  16 tasks      | elapsed:  3.0min\n",
      "[Parallel(n_jobs=-1)]: Done  25 tasks      | elapsed:  4.4min\n",
      "[Parallel(n_jobs=-1)]: Done  34 tasks      | elapsed:  5.7min\n",
      "[Parallel(n_jobs=-1)]: Done  45 tasks      | elapsed:  7.9min\n",
      "[Parallel(n_jobs=-1)]: Done  56 tasks      | elapsed: 31.7min\n",
      "[Parallel(n_jobs=-1)]: Done  69 tasks      | elapsed: 33.8min\n",
      "[Parallel(n_jobs=-1)]: Done  82 tasks      | elapsed: 57.8min\n",
      "[Parallel(n_jobs=-1)]: Done  97 tasks      | elapsed: 79.3min\n",
      "[Parallel(n_jobs=-1)]: Done 112 tasks      | elapsed: 90.0min\n",
      "[Parallel(n_jobs=-1)]: Done 129 tasks      | elapsed: 107.4min\n",
      "[Parallel(n_jobs=-1)]: Done 150 out of 150 | elapsed: 135.5min finished\n",
      "/home/ubuntu/.local/share/virtualenvs/capstone_machine_learning-9cUIoDBU/lib/python3.7/site-packages/sklearn/model_selection/_search.py:849: FutureWarning: The parameter 'iid' is deprecated in 0.22 and will be removed in 0.24.\n",
      "  \"removed in 0.24.\", FutureWarning\n"
     ]
    }
   ],
   "source": [
    "t_cat4 = time.time()\n",
    "cat_tunned_RMSE = CatBoostRegressor(verbose=False, loss_function='RMSE')\n",
    "parameters = {'iterations':[i for i in range(1,300,10)], \n",
    "              'learning_rate':np.logspace(-4,0,40), \n",
    "              'depth':[i for i in range(1,12,1)], \n",
    "              'bagging_temperature':[i for i in range(2,11)]}\n",
    "catboost_opt_RMSE = RandomizedSearchCV(cat_tunned_RMSE, parameters, cv=5, iid=False, n_iter=30, n_jobs=-1, verbose=10)\n",
    "catboost_opt_RMSE.fit(X_train, y_train.to_numpy().ravel())\n",
    "t_cat5 = time.time()"
   ]
  },
  {
   "cell_type": "code",
   "execution_count": 17,
   "metadata": {},
   "outputs": [
    {
     "name": "stdout",
     "output_type": "stream",
     "text": [
      "running time optimisation :  8622.405263662338\n",
      "The best parameter combination is {'learning_rate': 0.24244620170823283, 'iterations': 181, 'depth': 11, 'bagging_temperature': 6}.\n"
     ]
    }
   ],
   "source": [
    "print('running time optimisation : ', t_cat5 - t_cat4)\n",
    "print('The best parameter combination is {}.'.format(catboost_opt_RMSE.best_params_))"
   ]
  },
  {
   "cell_type": "code",
   "execution_count": 18,
   "metadata": {},
   "outputs": [
    {
     "name": "stdout",
     "output_type": "stream",
     "text": [
      "Catboost tuned, train RMSE: 45.64080314640973\n",
      "Catboost tuned, validation RMSE: 92.4975505990738\n"
     ]
    }
   ],
   "source": [
    "#Find the train and validation RMSE\n",
    "cat_tuned_train_RMSE = np.sqrt(metrics.mean_squared_error(y_train, catboost_opt_RMSE.predict(X_train)))\n",
    "print('Catboost tuned, train RMSE:', cat_tuned_train_RMSE)\n",
    "cat_tuned_valid_RMSE = np.sqrt(metrics.mean_squared_error(y_valid, catboost_opt_RMSE.predict(X_valid)))\n",
    "print('Catboost tuned, validation RMSE:', cat_tuned_valid_RMSE)"
   ]
  },
  {
   "cell_type": "markdown",
   "metadata": {},
   "source": [
    "### MAE"
   ]
  },
  {
   "cell_type": "code",
   "execution_count": 22,
   "metadata": {},
   "outputs": [
    {
     "name": "stdout",
     "output_type": "stream",
     "text": [
      "Fitting 5 folds for each of 30 candidates, totalling 150 fits\n"
     ]
    },
    {
     "name": "stderr",
     "output_type": "stream",
     "text": [
      "[Parallel(n_jobs=-1)]: Using backend LokyBackend with 8 concurrent workers.\n",
      "[Parallel(n_jobs=-1)]: Done   2 tasks      | elapsed:   26.4s\n",
      "[Parallel(n_jobs=-1)]: Done   9 tasks      | elapsed:  6.3min\n",
      "[Parallel(n_jobs=-1)]: Done  16 tasks      | elapsed:  7.4min\n",
      "[Parallel(n_jobs=-1)]: Done  25 tasks      | elapsed: 12.2min\n",
      "[Parallel(n_jobs=-1)]: Done  34 tasks      | elapsed: 17.3min\n",
      "[Parallel(n_jobs=-1)]: Done  45 tasks      | elapsed: 37.2min\n",
      "[Parallel(n_jobs=-1)]: Done  56 tasks      | elapsed: 39.7min\n",
      "[Parallel(n_jobs=-1)]: Done  69 tasks      | elapsed: 42.4min\n",
      "[Parallel(n_jobs=-1)]: Done  82 tasks      | elapsed: 65.2min\n",
      "[Parallel(n_jobs=-1)]: Done  97 tasks      | elapsed: 101.2min\n",
      "[Parallel(n_jobs=-1)]: Done 112 tasks      | elapsed: 103.8min\n",
      "[Parallel(n_jobs=-1)]: Done 129 tasks      | elapsed: 142.5min\n",
      "[Parallel(n_jobs=-1)]: Done 150 out of 150 | elapsed: 172.4min finished\n",
      "/home/ubuntu/.local/share/virtualenvs/capstone_machine_learning-9cUIoDBU/lib/python3.7/site-packages/sklearn/model_selection/_search.py:849: FutureWarning: The parameter 'iid' is deprecated in 0.22 and will be removed in 0.24.\n",
      "  \"removed in 0.24.\", FutureWarning\n"
     ]
    }
   ],
   "source": [
    "t_cat6 = time.time()\n",
    "cat_tunned_MAE = CatBoostRegressor(verbose=False, loss_function='MAE')\n",
    "parameters = {'iterations':[i for i in range(1,300,10)], \n",
    "              'learning_rate':np.logspace(-4,0,40), \n",
    "              'depth':[i for i in range(1,12,1)], \n",
    "              'bagging_temperature':[i for i in range(2,11)]}\n",
    "catboost_opt_MAE = RandomizedSearchCV(cat_tunned_MAE, parameters, cv=5, iid=False, n_iter=30, n_jobs=-1, verbose=10)\n",
    "catboost_opt_MAE.fit(X_train, y_train.to_numpy().ravel())\n",
    "t_cat7 = time.time()"
   ]
  },
  {
   "cell_type": "code",
   "execution_count": 23,
   "metadata": {},
   "outputs": [
    {
     "name": "stdout",
     "output_type": "stream",
     "text": [
      "running time optimisation :  -10354.284847974777\n",
      "The best parameter combination is {'learning_rate': 0.38881551803080855, 'iterations': 271, 'depth': 4, 'bagging_temperature': 3}.\n"
     ]
    }
   ],
   "source": [
    "print('running time optimisation : ', t_cat6 - t_cat7)\n",
    "print('The best parameter combination is {}.'.format(catboost_opt_MAE.best_params_))"
   ]
  },
  {
   "cell_type": "code",
   "execution_count": 24,
   "metadata": {},
   "outputs": [
    {
     "name": "stdout",
     "output_type": "stream",
     "text": [
      "Catboost tuned, train MAE: 48.45825537409538\n",
      "Catboost tuned, validation MAE: 51.48222526443185\n"
     ]
    }
   ],
   "source": [
    "#Find the train and validation MAE\n",
    "cat_tuned_train_MAE = metrics.mean_absolute_error(y_train, catboost_opt_MAE.predict(X_train))\n",
    "print('Catboost tuned, train MAE:', cat_tuned_train_MAE)\n",
    "cat_tuned_valid_MAE = metrics.mean_absolute_error(y_valid, catboost_opt_MAE.predict(X_valid))\n",
    "print('Catboost tuned, validation MAE:', cat_tuned_valid_MAE)"
   ]
  },
  {
   "cell_type": "code",
   "execution_count": 34,
   "metadata": {},
   "outputs": [
    {
     "data": {
      "text/html": [
       "<div>\n",
       "<style scoped>\n",
       "    .dataframe tbody tr th:only-of-type {\n",
       "        vertical-align: middle;\n",
       "    }\n",
       "\n",
       "    .dataframe tbody tr th {\n",
       "        vertical-align: top;\n",
       "    }\n",
       "\n",
       "    .dataframe thead th {\n",
       "        text-align: right;\n",
       "    }\n",
       "</style>\n",
       "<table border=\"1\" class=\"dataframe\">\n",
       "  <thead>\n",
       "    <tr style=\"text-align: right;\">\n",
       "      <th></th>\n",
       "      <th>Unnamed: 0</th>\n",
       "      <th>Unnamed: 0.1</th>\n",
       "      <th>Unnamed: 0.1.1</th>\n",
       "      <th>model</th>\n",
       "      <th>error_type</th>\n",
       "      <th>score</th>\n",
       "    </tr>\n",
       "  </thead>\n",
       "  <tbody>\n",
       "    <tr>\n",
       "      <th>0</th>\n",
       "      <td>0.0</td>\n",
       "      <td>0.0</td>\n",
       "      <td>0.0</td>\n",
       "      <td>SVR initial train</td>\n",
       "      <td>RMSE</td>\n",
       "      <td>282.815846</td>\n",
       "    </tr>\n",
       "    <tr>\n",
       "      <th>1</th>\n",
       "      <td>1.0</td>\n",
       "      <td>1.0</td>\n",
       "      <td>1.0</td>\n",
       "      <td>SVR initial train</td>\n",
       "      <td>MAE</td>\n",
       "      <td>101.128189</td>\n",
       "    </tr>\n",
       "    <tr>\n",
       "      <th>2</th>\n",
       "      <td>2.0</td>\n",
       "      <td>2.0</td>\n",
       "      <td>2.0</td>\n",
       "      <td>SVR initial validation</td>\n",
       "      <td>RMSE</td>\n",
       "      <td>249.576016</td>\n",
       "    </tr>\n",
       "    <tr>\n",
       "      <th>3</th>\n",
       "      <td>3.0</td>\n",
       "      <td>3.0</td>\n",
       "      <td>3.0</td>\n",
       "      <td>SVR initial validation</td>\n",
       "      <td>MAE</td>\n",
       "      <td>94.398720</td>\n",
       "    </tr>\n",
       "    <tr>\n",
       "      <th>4</th>\n",
       "      <td>4.0</td>\n",
       "      <td>4.0</td>\n",
       "      <td>NaN</td>\n",
       "      <td>catboost init train</td>\n",
       "      <td>RMSE</td>\n",
       "      <td>41.203436</td>\n",
       "    </tr>\n",
       "    <tr>\n",
       "      <th>5</th>\n",
       "      <td>5.0</td>\n",
       "      <td>5.0</td>\n",
       "      <td>NaN</td>\n",
       "      <td>catboost init train</td>\n",
       "      <td>MAE</td>\n",
       "      <td>29.603768</td>\n",
       "    </tr>\n",
       "    <tr>\n",
       "      <th>6</th>\n",
       "      <td>6.0</td>\n",
       "      <td>6.0</td>\n",
       "      <td>NaN</td>\n",
       "      <td>catboost init validation</td>\n",
       "      <td>RMSE</td>\n",
       "      <td>100.394460</td>\n",
       "    </tr>\n",
       "    <tr>\n",
       "      <th>7</th>\n",
       "      <td>7.0</td>\n",
       "      <td>7.0</td>\n",
       "      <td>NaN</td>\n",
       "      <td>catboost init validation</td>\n",
       "      <td>RMSE</td>\n",
       "      <td>56.050922</td>\n",
       "    </tr>\n",
       "    <tr>\n",
       "      <th>8</th>\n",
       "      <td>NaN</td>\n",
       "      <td>NaN</td>\n",
       "      <td>NaN</td>\n",
       "      <td>catboost tuned train</td>\n",
       "      <td>RMSE</td>\n",
       "      <td>45.640803</td>\n",
       "    </tr>\n",
       "    <tr>\n",
       "      <th>9</th>\n",
       "      <td>NaN</td>\n",
       "      <td>NaN</td>\n",
       "      <td>NaN</td>\n",
       "      <td>catboost tuned train</td>\n",
       "      <td>MAE</td>\n",
       "      <td>48.458255</td>\n",
       "    </tr>\n",
       "    <tr>\n",
       "      <th>10</th>\n",
       "      <td>NaN</td>\n",
       "      <td>NaN</td>\n",
       "      <td>NaN</td>\n",
       "      <td>catboost tuned validation</td>\n",
       "      <td>RMSE</td>\n",
       "      <td>92.497551</td>\n",
       "    </tr>\n",
       "    <tr>\n",
       "      <th>11</th>\n",
       "      <td>NaN</td>\n",
       "      <td>NaN</td>\n",
       "      <td>NaN</td>\n",
       "      <td>catboost tuned validation</td>\n",
       "      <td>MAE</td>\n",
       "      <td>51.482225</td>\n",
       "    </tr>\n",
       "  </tbody>\n",
       "</table>\n",
       "</div>"
      ],
      "text/plain": [
       "    Unnamed: 0  Unnamed: 0.1  Unnamed: 0.1.1                      model  \\\n",
       "0          0.0           0.0             0.0          SVR initial train   \n",
       "1          1.0           1.0             1.0          SVR initial train   \n",
       "2          2.0           2.0             2.0     SVR initial validation   \n",
       "3          3.0           3.0             3.0     SVR initial validation   \n",
       "4          4.0           4.0             NaN        catboost init train   \n",
       "5          5.0           5.0             NaN        catboost init train   \n",
       "6          6.0           6.0             NaN   catboost init validation   \n",
       "7          7.0           7.0             NaN   catboost init validation   \n",
       "8          NaN           NaN             NaN       catboost tuned train   \n",
       "9          NaN           NaN             NaN       catboost tuned train   \n",
       "10         NaN           NaN             NaN  catboost tuned validation   \n",
       "11         NaN           NaN             NaN  catboost tuned validation   \n",
       "\n",
       "   error_type       score  \n",
       "0        RMSE  282.815846  \n",
       "1         MAE  101.128189  \n",
       "2        RMSE  249.576016  \n",
       "3         MAE   94.398720  \n",
       "4        RMSE   41.203436  \n",
       "5         MAE   29.603768  \n",
       "6        RMSE  100.394460  \n",
       "7        RMSE   56.050922  \n",
       "8        RMSE   45.640803  \n",
       "9         MAE   48.458255  \n",
       "10       RMSE   92.497551  \n",
       "11        MAE   51.482225  "
      ]
     },
     "execution_count": 34,
     "metadata": {},
     "output_type": "execute_result"
    }
   ],
   "source": [
    "results_df = results_df.append({'model':'catboost tuned train', 'error_type':'RMSE', 'score':cat_tuned_train_RMSE}, \n",
    "                               ignore_index=True)\n",
    "results_df = results_df.append({'model':'catboost tuned train', 'error_type':'MAE', 'score':cat_tuned_train_MAE}, \n",
    "                               ignore_index=True)\n",
    "results_df = results_df.append({'model':'catboost tuned validation', 'error_type':'RMSE', 'score':cat_tuned_valid_RMSE}, \n",
    "                               ignore_index=True)\n",
    "results_df = results_df.append({'model':'catboost tuned validation', 'error_type':'MAE', 'score':cat_tuned_valid_MAE}, \n",
    "                               ignore_index=True)\n",
    "results_df"
   ]
  },
  {
   "cell_type": "code",
   "execution_count": 35,
   "metadata": {},
   "outputs": [],
   "source": [
    "results_df.to_csv('../results/SVR')"
   ]
  },
  {
   "cell_type": "code",
   "execution_count": null,
   "metadata": {},
   "outputs": [],
   "source": []
  }
 ],
 "metadata": {
  "kernelspec": {
   "display_name": "capstone_machine_learning",
   "language": "python",
   "name": "capstone_machine_learning"
  },
  "language_info": {
   "codemirror_mode": {
    "name": "ipython",
    "version": 3
   },
   "file_extension": ".py",
   "mimetype": "text/x-python",
   "name": "python",
   "nbconvert_exporter": "python",
   "pygments_lexer": "ipython3",
   "version": "3.7.6"
  }
 },
 "nbformat": 4,
 "nbformat_minor": 4
}
