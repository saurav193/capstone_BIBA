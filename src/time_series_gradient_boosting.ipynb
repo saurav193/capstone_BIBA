{
 "cells": [
  {
   "cell_type": "code",
   "execution_count": 98,
   "metadata": {},
   "outputs": [],
   "source": [
    "import time\n",
    "import pandas as pd\n",
    "import altair as alt\n",
    "import numpy as np\n",
    "\n",
    "from sklearn.model_selection import train_test_split, GridSearchCV, RandomizedSearchCV\n",
    "from sklearn.metrics import mean_squared_error, mean_absolute_error\n",
    "from sklearn.linear_model import LinearRegression, ElasticNet\n",
    "from sklearn.ensemble import GradientBoostingRegressor\n",
    "\n",
    "from xgboost import XGBRegressor\n",
    "\n",
    "# import other functions\n",
    "from imputer import *\n",
    "from feature_eng import *\n",
    "from drop import *"
   ]
  },
  {
   "cell_type": "code",
   "execution_count": 16,
   "metadata": {},
   "outputs": [],
   "source": [
    "def add_lagged_target(df):\n",
    "    \"\"\"\n",
    "    This function takes a dataframe with the columns \n",
    "    \"external_id\", \"month\", \"year\" as primary keys.\n",
    "    Adds a column of the \"unacast_seassion_count\" at lag of 1, as \"session_lagged_1\",\n",
    "    and then deletes the first occurrence for each playground.\n",
    "\n",
    "\n",
    "    Parameters\n",
    "    ----------------\n",
    "    df : pd.DataFrame\n",
    "       A dataframe containing the columns \"external_id\", \"month\", \"year\"\n",
    "       and \"unacast_seassion_count\"\n",
    "\n",
    "\n",
    "    Returns\n",
    "    ----------------\n",
    "    pd.DataFrame\n",
    "        With the new lagged session column, and deleted first occurrence of each playground, sorted by [\"external_id\",\"year\",\"month\"]\n",
    "    \"\"\"\n",
    "    # subset and sort\n",
    "    lagged = df.loc[:,[\"external_id\",\"month\",\"year\",\"unacast_session_count\"]].sort_values(by=[\"external_id\",\"year\",\"month\"])\n",
    "\n",
    "    # creat new column shifted by one (after sorting)\n",
    "    lagged[\"session_lagged_1\"] = lagged['unacast_session_count'].shift(1)\n",
    "    \n",
    "    # join the new column into the general dataframe\n",
    "    out = pd.merge(df,lagged,how='left', left_on=['external_id','month','year',\"unacast_session_count\"], right_on =['external_id','month','year',\"unacast_session_count\"]).sort_values(by=[\"external_id\",\"year\",\"month\"])\n",
    "\n",
    "    # identify the 1st row of each playground, and subset as a df\n",
    "    to_del = out.sort_values(by=[\"external_id\",\"year\",\"month\"]).groupby('external_id',as_index=False).nth(0)\n",
    "    # join the df with the rows to delete, then delete all rows that are have duplicates (both copies)\n",
    "    out = pd.concat([out,to_del]).drop_duplicates(keep=False)\n",
    "    return out"
   ]
  },
  {
   "cell_type": "code",
   "execution_count": 96,
   "metadata": {},
   "outputs": [],
   "source": [
    "def report_performance(model, X_train, y_train, X_valid, y_valid, \n",
    "                       mode='mean'):\n",
    "    \"\"\"\n",
    "    Evaluate train and validation performance on a fitted model.\n",
    "    \n",
    "    Parameters\n",
    "    ---------     \n",
    "    model: sklearn.ensemble._gb.GradientBoostingRegressor\n",
    "        scikit-learn model\n",
    "    X_train: pandas.core.frame.DataFrame\n",
    "        X of training set\n",
    "    y_train: pandas.core.series.Series\n",
    "        y of training set\n",
    "    X_valid: pandas.core.frame.DataFrame        \n",
    "        X of validation set\n",
    "    y_valid: pandas.core.series.Series\n",
    "        y of validation set     \n",
    "    mode: string\n",
    "        'mean' or 'median'\n",
    "    \n",
    "    Returns\n",
    "    -------\n",
    "    errors: list\n",
    "        \n",
    "    \"\"\"\n",
    "    if mode == 'mean':\n",
    "        errors = [mean_squared_error(y_train, \n",
    "                                     model.predict(X_train)) ** 0.5, \n",
    "                  mean_squared_error(y_valid, \n",
    "                                     model.predict(X_valid)) ** 0.5]\n",
    "        \n",
    "        print('Training RMSE:', errors[0])\n",
    "        print('Validation RMSE:', errors[1])\n",
    "        \n",
    "        \n",
    "    elif mode == 'median':\n",
    "        errors = [mean_absolute_error(y_train, \n",
    "                                      model.predict(X_train)), \n",
    "                  mean_absolute_error(y_valid, \n",
    "                                      model.predict(X_valid))]\n",
    "        \n",
    "        print('Training MAE:', errors[0])\n",
    "        print('Validation MAE:', errors[1])"
   ]
  },
  {
   "cell_type": "code",
   "execution_count": 2,
   "metadata": {},
   "outputs": [
    {
     "data": {
      "text/plain": [
       "DataTransformerRegistry.enable('default')"
      ]
     },
     "execution_count": 2,
     "metadata": {},
     "output_type": "execute_result"
    }
   ],
   "source": [
    "alt.data_transformers.disable_max_rows()"
   ]
  },
  {
   "cell_type": "code",
   "execution_count": 56,
   "metadata": {},
   "outputs": [],
   "source": [
    "df = pd.read_csv('../data/train_data.zip')"
   ]
  },
  {
   "cell_type": "code",
   "execution_count": 57,
   "metadata": {},
   "outputs": [],
   "source": [
    "# create lagged target variable column\n",
    "df = add_lagged_target(df)"
   ]
  },
  {
   "cell_type": "code",
   "execution_count": 58,
   "metadata": {},
   "outputs": [],
   "source": [
    "# impute missing lagged (t-1) target variable\n",
    "df['session_lagged_1'] = df.groupby('external_id')['session_lagged_1'].apply(lambda x: x.interpolate(limit_direction='both'))"
   ]
  },
  {
   "cell_type": "code",
   "execution_count": 59,
   "metadata": {},
   "outputs": [
    {
     "data": {
      "text/plain": [
       "0"
      ]
     },
     "execution_count": 59,
     "metadata": {},
     "output_type": "execute_result"
    }
   ],
   "source": [
    "df.loc[:, 'session_lagged_1'].isna().sum()"
   ]
  },
  {
   "cell_type": "code",
   "execution_count": 62,
   "metadata": {},
   "outputs": [],
   "source": [
    "# drop rows missing target variable\n",
    "df = drop_missing_unacast(df)"
   ]
  },
  {
   "cell_type": "code",
   "execution_count": 73,
   "metadata": {},
   "outputs": [],
   "source": [
    "# split data into `X_train` and `X_valid`\n",
    "train = df.query(\"year != 2019 | month <= 6\")\n",
    "valid = df.query(\"year == 2019 & month > 6\")"
   ]
  },
  {
   "cell_type": "code",
   "execution_count": 77,
   "metadata": {},
   "outputs": [],
   "source": [
    "# create X_train and y_train\n",
    "X_train = train.drop('unacast_session_count', axis=1)\n",
    "y_train = train.loc[:, 'unacast_session_count']"
   ]
  },
  {
   "cell_type": "code",
   "execution_count": 78,
   "metadata": {},
   "outputs": [],
   "source": [
    "# create X_valid and y_valid\n",
    "X_valid = valid.drop('unacast_session_count', axis=1)\n",
    "y_valid = valid.loc[:, 'unacast_session_count']"
   ]
  },
  {
   "cell_type": "code",
   "execution_count": 81,
   "metadata": {},
   "outputs": [],
   "source": [
    "# impute NaN values\n",
    "result = impute_data(X_train, X_valid)\n",
    "X_train = result[0]\n",
    "X_valid = result[1]"
   ]
  },
  {
   "cell_type": "code",
   "execution_count": 82,
   "metadata": {},
   "outputs": [],
   "source": [
    "# perform feature engineering\n",
    "X_train = comb_cols(X_train)\n",
    "X_valid = comb_cols(X_valid)"
   ]
  },
  {
   "cell_type": "code",
   "execution_count": 83,
   "metadata": {},
   "outputs": [],
   "source": [
    "# perform dropping\n",
    "X_train = drop_columns(X_train)\n",
    "X_valid = drop_columns(X_valid)"
   ]
  },
  {
   "cell_type": "code",
   "execution_count": 84,
   "metadata": {},
   "outputs": [],
   "source": [
    "# OHE categorical columns on climate, density_class, income_class\n",
    "X_train_valid = clean_categorical(X_train, X_valid)\n",
    "X_train = X_train_valid[0]\n",
    "X_valid = X_train_valid[1]"
   ]
  },
  {
   "cell_type": "code",
   "execution_count": 101,
   "metadata": {},
   "outputs": [
    {
     "name": "stdout",
     "output_type": "stream",
     "text": [
      "Training RMSE: 78.7432924136308\n",
      "Validation RMSE: 171.80114351082685\n"
     ]
    }
   ],
   "source": [
    "# evaluate basic model performance\n",
    "lr = LinearRegression()\n",
    "lr.fit(X_train, y_train)\n",
    "report_performance(lr, X_train, y_train, X_valid, y_valid)"
   ]
  }
 ],
 "metadata": {
  "kernelspec": {
   "display_name": "capstone_machine_learning",
   "language": "python",
   "name": "capstone_machine_learning"
  },
  "language_info": {
   "codemirror_mode": {
    "name": "ipython",
    "version": 3
   },
   "file_extension": ".py",
   "mimetype": "text/x-python",
   "name": "python",
   "nbconvert_exporter": "python",
   "pygments_lexer": "ipython3",
   "version": "3.7.6"
  }
 },
 "nbformat": 4,
 "nbformat_minor": 4
}
