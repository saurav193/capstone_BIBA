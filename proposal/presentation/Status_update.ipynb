{
 "cells": [
  {
   "cell_type": "markdown",
   "metadata": {
    "slideshow": {
     "slide_type": "slide"
    }
   },
   "source": [
    "## Update on the biba playground usage estimation project - 2020/06/01\n",
    "\n",
    "**Team**\n",
    "\n",
    "- Tani Barasch\n",
    "- Reiko Okamoto\n",
    "- Sirine Chahma\n",
    "- Saurav Chowdhury\n"
   ]
  },
  {
   "cell_type": "markdown",
   "metadata": {},
   "source": [
    "## Outline of the presentation\n",
    "\n",
    "- Progess made till now\n",
    "- Future plans in the coming month"
   ]
  },
  {
   "cell_type": "markdown",
   "metadata": {},
   "source": [
    "### Progress made till now\n",
    "    \n",
    "* First round of modelling with 0 imputations\n",
    "    - Models : \n",
    "       - Linear Regression\n",
    "       - SVR\n",
    "       - Random Forest\n",
    "       - Gradient Bosting Regressor : XGBoost, Catboost, Light GBM\n",
    "\n",
    "* Modelling with PCA feature selection\n",
    "    - PCA is a technique to existing combine features into new ones reducing the dimensionality \n",
    "    - Done by taking all features and sub-categories of features - biba_data, weather, etc.\n",
    "\n",
    "* Scripts for pre-processing data\n",
    "    - Imputations and feature engineering with domain knowledge.\n",
    "    - Researching on columns to drop.\n"
   ]
  },
  {
   "cell_type": "markdown",
   "metadata": {},
   "source": [
    "### Future plans in the coming month\n",
    "\n",
    "* Modelling with better features and imputation.\n",
    "    - using imputations and feature engineering from domain knowledge\n",
    "\n",
    "* Taking the time dependency of data into account\n",
    "    - The data is collected for each month for 2 years\n",
    "    - Data from `Feb 2018` will be correlated with `Mar 2018` and so on.\n",
    "\n",
    "* Looking to group Playgrounds and mix model each groups\n",
    "    - Group the `similar` out of 2506 playgrounds.\n",
    "    - Create a separate model of each group.\n",
    "\n",
    "* Looking into other algorithms\n",
    "    - Neural Networks and Ensemble models\n",
    "    - Aim to have error within 5% of the session count for all playgrounds.\n",
    "    "
   ]
  },
  {
   "cell_type": "code",
   "execution_count": null,
   "metadata": {},
   "outputs": [],
   "source": []
  }
 ],
 "metadata": {
  "celltoolbar": "Slideshow",
  "kernelspec": {
   "display_name": "capstone_machine_learning",
   "language": "python",
   "name": "capstone_machine_learning"
  },
  "language_info": {
   "codemirror_mode": {
    "name": "ipython",
    "version": 3
   },
   "file_extension": ".py",
   "mimetype": "text/x-python",
   "name": "python",
   "nbconvert_exporter": "python",
   "pygments_lexer": "ipython3",
   "version": "3.7.3"
  }
 },
 "nbformat": 4,
 "nbformat_minor": 2
}
