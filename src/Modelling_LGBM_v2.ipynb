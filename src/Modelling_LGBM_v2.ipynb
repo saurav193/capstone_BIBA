{
 "cells": [
  {
   "cell_type": "code",
   "execution_count": 1,
   "metadata": {},
   "outputs": [],
   "source": [
    "import pandas as pd\n",
    "import numpy as np\n",
    "import re\n",
    "import matplotlib.pyplot as plt\n",
    "\n",
    "from sklearn.model_selection import train_test_split \n",
    "from sklearn.model_selection import GridSearchCV, RandomizedSearchCV\n",
    "from sklearn.linear_model import LinearRegression\n",
    "from sklearn.linear_model import Ridge\n",
    "from lightgbm.sklearn import LGBMRegressor\n",
    "\n",
    "from sklearn.metrics import mean_squared_error, mean_absolute_error\n",
    "\n",
    "from sklearn.decomposition import PCA\n",
    "from sklearn.preprocessing import OneHotEncoder\n",
    "\n",
    "# import other functions\n",
    "from imputer import *\n",
    "from feature_eng import *\n",
    "from drop import *"
   ]
  },
  {
   "cell_type": "markdown",
   "metadata": {},
   "source": [
    "## Summary\n",
    "\n",
    "|Model| Test MAE| Test MSE|\n",
    "|-----|---------|---------|\n",
    "| Simple LR | \n",
    "| Ridge with gridsearch|\n",
    "| Simple LGBM | \n",
    "| LGBM with gridsearch | \n",
    "| LGBM with log transformed y | \n",
    "\n",
    "\n",
    "**Comments -** \n"
   ]
  },
  {
   "cell_type": "code",
   "execution_count": 2,
   "metadata": {},
   "outputs": [],
   "source": [
    "df = pd.read_csv(\"../data/train_data.zip\")"
   ]
  },
  {
   "cell_type": "code",
   "execution_count": 3,
   "metadata": {},
   "outputs": [
    {
     "data": {
      "text/html": [
       "<div>\n",
       "<style scoped>\n",
       "    .dataframe tbody tr th:only-of-type {\n",
       "        vertical-align: middle;\n",
       "    }\n",
       "\n",
       "    .dataframe tbody tr th {\n",
       "        vertical-align: top;\n",
       "    }\n",
       "\n",
       "    .dataframe thead th {\n",
       "        text-align: right;\n",
       "    }\n",
       "</style>\n",
       "<table border=\"1\" class=\"dataframe\">\n",
       "  <thead>\n",
       "    <tr style=\"text-align: right;\">\n",
       "      <th></th>\n",
       "      <th>external_id</th>\n",
       "      <th>month</th>\n",
       "      <th>year</th>\n",
       "      <th>monthly_number_of_sessions</th>\n",
       "      <th>monthly_unique_sessions</th>\n",
       "      <th>monthly_repeated_sessions</th>\n",
       "      <th>monthly_avg_length_of_session</th>\n",
       "      <th>monthly_avg_light_activity</th>\n",
       "      <th>monthly_avg_moderate_activity</th>\n",
       "      <th>monthly_avg_vigorous_activity</th>\n",
       "      <th>...</th>\n",
       "      <th>avg_wind_9_10</th>\n",
       "      <th>avg_wind_10_11</th>\n",
       "      <th>avg_wind_11_12</th>\n",
       "      <th>avg_wind_12_above</th>\n",
       "      <th>perfect_days</th>\n",
       "      <th>unacast_session_count</th>\n",
       "      <th>hpi</th>\n",
       "      <th>state_and_local_amount_per_capita</th>\n",
       "      <th>state_amount_per_capita</th>\n",
       "      <th>local_amount_per_capita</th>\n",
       "    </tr>\n",
       "  </thead>\n",
       "  <tbody>\n",
       "    <tr>\n",
       "      <th>0</th>\n",
       "      <td>1804425</td>\n",
       "      <td>8</td>\n",
       "      <td>2018</td>\n",
       "      <td>0</td>\n",
       "      <td>0</td>\n",
       "      <td>0</td>\n",
       "      <td>0.0</td>\n",
       "      <td>0.0</td>\n",
       "      <td>0.0</td>\n",
       "      <td>0.0</td>\n",
       "      <td>...</td>\n",
       "      <td>0.0</td>\n",
       "      <td>0.0</td>\n",
       "      <td>0.0</td>\n",
       "      <td>0.0</td>\n",
       "      <td>0.0</td>\n",
       "      <td>90.0</td>\n",
       "      <td>244.20</td>\n",
       "      <td>0.157475</td>\n",
       "      <td>0.009783</td>\n",
       "      <td>0.147692</td>\n",
       "    </tr>\n",
       "    <tr>\n",
       "      <th>1</th>\n",
       "      <td>1812706</td>\n",
       "      <td>2</td>\n",
       "      <td>2019</td>\n",
       "      <td>0</td>\n",
       "      <td>0</td>\n",
       "      <td>0</td>\n",
       "      <td>0.0</td>\n",
       "      <td>0.0</td>\n",
       "      <td>0.0</td>\n",
       "      <td>0.0</td>\n",
       "      <td>...</td>\n",
       "      <td>0.0</td>\n",
       "      <td>0.0</td>\n",
       "      <td>0.0</td>\n",
       "      <td>0.0</td>\n",
       "      <td>4.0</td>\n",
       "      <td>27.0</td>\n",
       "      <td>258.95</td>\n",
       "      <td>0.157475</td>\n",
       "      <td>0.009783</td>\n",
       "      <td>0.147692</td>\n",
       "    </tr>\n",
       "    <tr>\n",
       "      <th>2</th>\n",
       "      <td>1812706</td>\n",
       "      <td>3</td>\n",
       "      <td>2019</td>\n",
       "      <td>0</td>\n",
       "      <td>0</td>\n",
       "      <td>0</td>\n",
       "      <td>0.0</td>\n",
       "      <td>0.0</td>\n",
       "      <td>0.0</td>\n",
       "      <td>0.0</td>\n",
       "      <td>...</td>\n",
       "      <td>0.0</td>\n",
       "      <td>0.0</td>\n",
       "      <td>0.0</td>\n",
       "      <td>0.0</td>\n",
       "      <td>4.0</td>\n",
       "      <td>27.0</td>\n",
       "      <td>258.95</td>\n",
       "      <td>0.157475</td>\n",
       "      <td>0.009783</td>\n",
       "      <td>0.147692</td>\n",
       "    </tr>\n",
       "    <tr>\n",
       "      <th>3</th>\n",
       "      <td>1812706</td>\n",
       "      <td>11</td>\n",
       "      <td>2018</td>\n",
       "      <td>0</td>\n",
       "      <td>0</td>\n",
       "      <td>0</td>\n",
       "      <td>0.0</td>\n",
       "      <td>0.0</td>\n",
       "      <td>0.0</td>\n",
       "      <td>0.0</td>\n",
       "      <td>...</td>\n",
       "      <td>0.0</td>\n",
       "      <td>0.0</td>\n",
       "      <td>0.0</td>\n",
       "      <td>0.0</td>\n",
       "      <td>3.0</td>\n",
       "      <td>24.0</td>\n",
       "      <td>258.95</td>\n",
       "      <td>0.157475</td>\n",
       "      <td>0.009783</td>\n",
       "      <td>0.147692</td>\n",
       "    </tr>\n",
       "    <tr>\n",
       "      <th>4</th>\n",
       "      <td>1812706</td>\n",
       "      <td>9</td>\n",
       "      <td>2018</td>\n",
       "      <td>0</td>\n",
       "      <td>0</td>\n",
       "      <td>0</td>\n",
       "      <td>0.0</td>\n",
       "      <td>0.0</td>\n",
       "      <td>0.0</td>\n",
       "      <td>0.0</td>\n",
       "      <td>...</td>\n",
       "      <td>0.0</td>\n",
       "      <td>0.0</td>\n",
       "      <td>0.0</td>\n",
       "      <td>0.0</td>\n",
       "      <td>0.0</td>\n",
       "      <td>12.0</td>\n",
       "      <td>258.95</td>\n",
       "      <td>0.157475</td>\n",
       "      <td>0.009783</td>\n",
       "      <td>0.147692</td>\n",
       "    </tr>\n",
       "  </tbody>\n",
       "</table>\n",
       "<p>5 rows × 861 columns</p>\n",
       "</div>"
      ],
      "text/plain": [
       "  external_id  month  year  monthly_number_of_sessions  \\\n",
       "0     1804425      8  2018                           0   \n",
       "1     1812706      2  2019                           0   \n",
       "2     1812706      3  2019                           0   \n",
       "3     1812706     11  2018                           0   \n",
       "4     1812706      9  2018                           0   \n",
       "\n",
       "   monthly_unique_sessions  monthly_repeated_sessions  \\\n",
       "0                        0                          0   \n",
       "1                        0                          0   \n",
       "2                        0                          0   \n",
       "3                        0                          0   \n",
       "4                        0                          0   \n",
       "\n",
       "   monthly_avg_length_of_session  monthly_avg_light_activity  \\\n",
       "0                            0.0                         0.0   \n",
       "1                            0.0                         0.0   \n",
       "2                            0.0                         0.0   \n",
       "3                            0.0                         0.0   \n",
       "4                            0.0                         0.0   \n",
       "\n",
       "   monthly_avg_moderate_activity  monthly_avg_vigorous_activity  ...  \\\n",
       "0                            0.0                            0.0  ...   \n",
       "1                            0.0                            0.0  ...   \n",
       "2                            0.0                            0.0  ...   \n",
       "3                            0.0                            0.0  ...   \n",
       "4                            0.0                            0.0  ...   \n",
       "\n",
       "   avg_wind_9_10  avg_wind_10_11  avg_wind_11_12  avg_wind_12_above  \\\n",
       "0            0.0             0.0             0.0                0.0   \n",
       "1            0.0             0.0             0.0                0.0   \n",
       "2            0.0             0.0             0.0                0.0   \n",
       "3            0.0             0.0             0.0                0.0   \n",
       "4            0.0             0.0             0.0                0.0   \n",
       "\n",
       "   perfect_days  unacast_session_count     hpi  \\\n",
       "0           0.0                   90.0  244.20   \n",
       "1           4.0                   27.0  258.95   \n",
       "2           4.0                   27.0  258.95   \n",
       "3           3.0                   24.0  258.95   \n",
       "4           0.0                   12.0  258.95   \n",
       "\n",
       "   state_and_local_amount_per_capita  state_amount_per_capita  \\\n",
       "0                           0.157475                 0.009783   \n",
       "1                           0.157475                 0.009783   \n",
       "2                           0.157475                 0.009783   \n",
       "3                           0.157475                 0.009783   \n",
       "4                           0.157475                 0.009783   \n",
       "\n",
       "   local_amount_per_capita  \n",
       "0                 0.147692  \n",
       "1                 0.147692  \n",
       "2                 0.147692  \n",
       "3                 0.147692  \n",
       "4                 0.147692  \n",
       "\n",
       "[5 rows x 861 columns]"
      ]
     },
     "execution_count": 3,
     "metadata": {},
     "output_type": "execute_result"
    }
   ],
   "source": [
    "df.head()"
   ]
  },
  {
   "cell_type": "markdown",
   "metadata": {},
   "source": [
    "## Pre-processing data"
   ]
  },
  {
   "cell_type": "code",
   "execution_count": 16,
   "metadata": {},
   "outputs": [],
   "source": [
    "# drop rows missing target variable\n",
    "df = drop_missing_unacast(df)\n",
    "\n",
    "# Remove playgrounds with 'external_id' == 'CA00070678'\n",
    "df = df[df['external_id'] != 'CA00070678']\n",
    "\n",
    "# create X and y\n",
    "X = df.drop('unacast_session_count', axis=1)\n",
    "y = df.loc[:, 'unacast_session_count']\n",
    "# split the data\n",
    "X_train, X_valid, y_train, y_valid = train_test_split(X, y, \n",
    "                                                    test_size=0.2,\n",
    "                                                      random_state=2020)\n",
    "# impute NaN values\n",
    "result = impute_data(X_train, X_valid)\n",
    "X_train = result[0]\n",
    "X_valid = result[1] \n",
    "# perform feature eng\n",
    "X_train = comb_cols(X_train)\n",
    "X_valid = comb_cols(X_valid)\n",
    "# perform dropping\n",
    "X_train = drop_columns(X_train)\n",
    "X_valid = drop_columns(X_valid)\n",
    "# perform OHE (climate, density_class, income_class)\n",
    "X_train = clean_categorical(X_train)\n",
    "X_valid = clean_categorical(X_valid)"
   ]
  },
  {
   "cell_type": "code",
   "execution_count": 21,
   "metadata": {},
   "outputs": [],
   "source": [
    "def show_scores(model, X, y, error = 'mse'):\n",
    "    \"\"\"\n",
    "    Shows the mean squared error and mean absolute error for a given model\n",
    "    and predictors and response\n",
    "    \n",
    "    Parameters\n",
    "    ----------\n",
    "    model: The sklearn model object\n",
    "    X: numpy.ndarray        \n",
    "        The predictors(independent variables) part of the data\n",
    "    y: numpy.ndarray\n",
    "        The response(target variable)of the data\n",
    "    error: string,\n",
    "        'mse' or 'mae' depending upon the type of error\n",
    "        we are interested in\n",
    "        \n",
    "    Returns\n",
    "    ------- \n",
    "    \"\"\"            \n",
    "    y_preds = model.predict(X)\n",
    "    \n",
    "    if error == 'mse':\n",
    "        rmse = mean_squared_error(y, y_preds, squared = False)\n",
    "        print(\"Root mean squared error: %0.3f\" % rmse)\n",
    "        return\n",
    "    if error == 'mae':\n",
    "        mae = mean_absolute_error(y, y_preds)\n",
    "        print(\"Mean absolute error: %0.3f\" % mae)\n",
    "        return\n",
    "    else:\n",
    "        print(\"Wrong choice\")"
   ]
  },
  {
   "cell_type": "markdown",
   "metadata": {},
   "source": [
    "## Modelling with Linear regression"
   ]
  },
  {
   "cell_type": "code",
   "execution_count": 17,
   "metadata": {},
   "outputs": [
    {
     "name": "stdout",
     "output_type": "stream",
     "text": [
      "(39592, 632)\n",
      "(9898, 632)\n"
     ]
    }
   ],
   "source": [
    "print(X_train.shape)\n",
    "print(X_valid.shape)"
   ]
  },
  {
   "cell_type": "markdown",
   "metadata": {},
   "source": [
    "### 1. Linear Regression"
   ]
  },
  {
   "cell_type": "code",
   "execution_count": 23,
   "metadata": {},
   "outputs": [
    {
     "name": "stdout",
     "output_type": "stream",
     "text": [
      "Simple linear regression scores: \n",
      "Train error: \n",
      "Root mean squared error: 182.973\n",
      "Test error: \n",
      "Root mean squared error: 190.922\n"
     ]
    }
   ],
   "source": [
    "lr = LinearRegression()\n",
    "lr.fit(X_train, y_train)\n",
    "print('Simple linear regression scores: ')\n",
    "print('Train error: ')\n",
    "show_scores(lr, X_train, y_train, 'mse')\n",
    "\n",
    "print('Test error: ')    \n",
    "show_scores(lr, X_valid, y_valid, 'mse')"
   ]
  },
  {
   "cell_type": "code",
   "execution_count": 29,
   "metadata": {},
   "outputs": [
    {
     "name": "stdout",
     "output_type": "stream",
     "text": [
      "Simple linear regression scores: \n",
      "Train error: \n",
      "Mean absolute error: 96.979\n",
      "Test error: \n",
      "Mean absolute error: 99.675\n"
     ]
    }
   ],
   "source": [
    "lr = LinearRegression()\n",
    "lr.fit(X_train, y_train)\n",
    "print('Simple linear regression scores: ')\n",
    "print('Train error: ')\n",
    "show_scores(lr, X_train, y_train, 'mae')\n",
    "\n",
    "print('Test error: ')    \n",
    "show_scores(lr, X_valid, y_valid, 'mae')"
   ]
  },
  {
   "cell_type": "markdown",
   "metadata": {},
   "source": [
    "### Observations \n",
    "- Better than last run. Proabably due to improved target.\n"
   ]
  },
  {
   "cell_type": "markdown",
   "metadata": {},
   "source": [
    "### 4. Ridge L2"
   ]
  },
  {
   "cell_type": "code",
   "execution_count": 28,
   "metadata": {},
   "outputs": [
    {
     "name": "stderr",
     "output_type": "stream",
     "text": [
      "C:\\Users\\saura\\.virtualenvs\\capstone_machine_learning-a37y-TX3\\lib\\site-packages\\sklearn\\linear_model\\_ridge.py:148: LinAlgWarning: Ill-conditioned matrix (rcond=1.07072e-20): result may not be accurate.\n",
      "  overwrite_a=True).T\n"
     ]
    },
    {
     "name": "stdout",
     "output_type": "stream",
     "text": [
      "Ridge regression scores: \n",
      "Train error: \n",
      "Root mean squared error: 182.989\n",
      "Test error: \n",
      "Root mean squared error: 190.895\n"
     ]
    }
   ],
   "source": [
    "ridge_lr = Ridge(max_iter=2000, random_state = 2020)\n",
    "ridge_lr.fit(X_train, y_train)\n",
    "print('Ridge regression scores: ')\n",
    "print('Train error: ')\n",
    "show_scores(ridge_lr, X_train, y_train)\n",
    "\n",
    "print('Test error: ')    \n",
    "show_scores(ridge_lr, X_valid, y_valid)"
   ]
  },
  {
   "cell_type": "markdown",
   "metadata": {},
   "source": [
    "### Observations\n",
    "- Same as LR\n"
   ]
  },
  {
   "cell_type": "markdown",
   "metadata": {},
   "source": [
    "## LGBM on this data with Mean objective function"
   ]
  },
  {
   "cell_type": "code",
   "execution_count": 30,
   "metadata": {},
   "outputs": [
    {
     "name": "stdout",
     "output_type": "stream",
     "text": [
      "LGBM scores: \n",
      "Train error: \n",
      "Root mean squared error: 89.408\n",
      "Test error: \n",
      "Root mean squared error: 110.994\n"
     ]
    }
   ],
   "source": [
    "lgbm = LGBMRegressor(random_state = 2020)\n",
    "\n",
    "lgbm.fit(X_train, y_train)\n",
    "\n",
    "print('LGBM scores: ')\n",
    "\n",
    "print('Train error: ')\n",
    "show_scores(lgbm, X_train, y_train)\n",
    "\n",
    "print('Test error: ')\n",
    "show_scores(lgbm, X_valid, y_valid)"
   ]
  },
  {
   "cell_type": "markdown",
   "metadata": {},
   "source": [
    "**performing grid search**"
   ]
  },
  {
   "cell_type": "code",
   "execution_count": 32,
   "metadata": {},
   "outputs": [
    {
     "name": "stdout",
     "output_type": "stream",
     "text": [
      "LGBM scores: \n",
      "Train error: \n",
      "Root mean squared error: 54.764\n",
      "Test error: \n",
      "Root mean squared error: 101.054\n"
     ]
    }
   ],
   "source": [
    "params = {'max_depth' : [100, 300], 'n_estimators' : [100, 500] }\n",
    "\n",
    "lgbm = LGBMRegressor(random_state = 2020)\n",
    "\n",
    "clf_lgbm = GridSearchCV(lgbm, params, cv =5)\n",
    "\n",
    "clf_lgbm.fit(X_train, y_train)\n",
    "print('LGBM scores: ')\n",
    "print('Train error: ')\n",
    "show_scores(clf_lgbm, X_train, y_train)\n",
    "\n",
    "print('Test error: ')\n",
    "show_scores(clf_lgbm, X_valid, y_valid)"
   ]
  },
  {
   "cell_type": "code",
   "execution_count": 33,
   "metadata": {},
   "outputs": [
    {
     "data": {
      "text/plain": [
       "{'max_depth': 100, 'n_estimators': 500}"
      ]
     },
     "execution_count": 33,
     "metadata": {},
     "output_type": "execute_result"
    }
   ],
   "source": [
    "clf_lgbm.best_params_"
   ]
  },
  {
   "cell_type": "markdown",
   "metadata": {},
   "source": [
    "## LGBM on this data with Median objective function"
   ]
  },
  {
   "cell_type": "code",
   "execution_count": 31,
   "metadata": {},
   "outputs": [
    {
     "name": "stdout",
     "output_type": "stream",
     "text": [
      "LGBM scores: \n",
      "Train error: \n",
      "Mean absolute error: 49.819\n",
      "Test error: \n",
      "Mean absolute error: 53.161\n"
     ]
    }
   ],
   "source": [
    "#fitting lgbm with MAE without scaling\n",
    "lgbm = LGBMRegressor(objective = 'mae', random_state = 2020)\n",
    "\n",
    "lgbm.fit(X_train, y_train)\n",
    "print('LGBM scores: ')\n",
    "print('Train error: ')\n",
    "show_scores(lgbm, X_train, y_train, 'mae')\n",
    "\n",
    "print('Test error: ')\n",
    "show_scores(lgbm, X_valid, y_valid, 'mae')"
   ]
  },
  {
   "cell_type": "code",
   "execution_count": null,
   "metadata": {},
   "outputs": [],
   "source": [
    "#fitting lgbm with MAE with scaling\n",
    "lgbm = LGBMRegressor(objective = 'mae', random_state = 2020)\n",
    "\n",
    "lgbm.fit(X_train, y_train)\n",
    "print('LGBM regression scores: ')\n",
    "print('Train error: ')\n",
    "show_scores(lgbm, X_train, y_train)\n",
    "\n",
    "print('Test error: ')\n",
    "show_scores(lgbm, X_valid, y_valid)"
   ]
  },
  {
   "cell_type": "code",
   "execution_count": null,
   "metadata": {},
   "outputs": [],
   "source": []
  },
  {
   "cell_type": "code",
   "execution_count": null,
   "metadata": {},
   "outputs": [],
   "source": []
  },
  {
   "cell_type": "markdown",
   "metadata": {},
   "source": [
    "## LGBM with log transformed target and Mean objective function"
   ]
  },
  {
   "cell_type": "code",
   "execution_count": null,
   "metadata": {},
   "outputs": [],
   "source": [
    "y_log = np.log(y[y>0])\n",
    "\n",
    "plt.hist(y_log, bins = 50)\n",
    "plt.show()"
   ]
  },
  {
   "cell_type": "code",
   "execution_count": null,
   "metadata": {},
   "outputs": [],
   "source": [
    "lgbm = LGBMRegressor(random_state = 2020)"
   ]
  },
  {
   "cell_type": "markdown",
   "metadata": {},
   "source": [
    "## LGBM with log transformed target and Median objective function"
   ]
  },
  {
   "cell_type": "code",
   "execution_count": null,
   "metadata": {},
   "outputs": [],
   "source": [
    "lgbm = LGBMRegressor(objective = 'mae', random_state = 2020)"
   ]
  },
  {
   "cell_type": "code",
   "execution_count": null,
   "metadata": {},
   "outputs": [],
   "source": []
  }
 ],
 "metadata": {
  "kernelspec": {
   "display_name": "capstone_machine_learning",
   "language": "python",
   "name": "capstone_machine_learning"
  },
  "language_info": {
   "codemirror_mode": {
    "name": "ipython",
    "version": 3
   },
   "file_extension": ".py",
   "mimetype": "text/x-python",
   "name": "python",
   "nbconvert_exporter": "python",
   "pygments_lexer": "ipython3",
   "version": "3.7.3"
  }
 },
 "nbformat": 4,
 "nbformat_minor": 4
}
