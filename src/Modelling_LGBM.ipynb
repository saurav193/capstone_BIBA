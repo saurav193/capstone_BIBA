{
 "cells": [
  {
   "cell_type": "code",
   "execution_count": 1,
   "metadata": {},
   "outputs": [],
   "source": [
    "import pandas as pd\n",
    "import numpy as np\n",
    "import re\n",
    "from collections import defaultdict\n",
    "\n",
    "from sklearn.model_selection import train_test_split \n",
    "from sklearn.model_selection import GridSearchCV, RandomizedSearchCV\n",
    "from sklearn.linear_model import LinearRegression\n",
    "from sklearn.linear_model import Ridge, Lasso, ElasticNet\n",
    "from lightgbm.sklearn import LGBMRegressor\n",
    "\n",
    "from sklearn.metrics import mean_squared_error, r2_score\n",
    "\n",
    "from sklearn.preprocessing import MinMaxScaler, StandardScaler, Normalizer\n",
    "\n",
    "from sklearn.decomposition import PCA\n",
    "from sklearn.preprocessing import OneHotEncoder\n",
    "\n",
    "import preprocessing as pp"
   ]
  },
  {
   "cell_type": "markdown",
   "metadata": {},
   "source": [
    "## Summary\n",
    "\n",
    "|Model| Comments|\n",
    "|-----|---------|\n",
    "| Simple LR w/o scaling| Test $R^2$ = 4.1%|\n",
    "| Lasso w/o scaling| Test $R^2$ = 3.5%|\n",
    "| Ridge w/o scaling| Test $R^2$ = 3.7%|\n",
    "| ElasticNet w/o scaling| Test $R^2$ = 3.4%|\n",
    "| LR with Minmax(0,1) scaling| Test $R^2$ = 3.7%|\n",
    "| Lasso with Minmax(0,1) scaling| Test $R^2$ = 0.9%|\n",
    "| Ridge with Minmax(0,1) scaling| Test $R^2$ = 3.6%|\n",
    "| ElasticNet with Minmax(0,1) scaling| Test $R^2$ = 0.1%|\n",
    "| LR with Standard scaling| Test $R^2$ = 4.0%|\n",
    "| Lasso with Standard scaling| Test $R^2$ = 3.3%|\n",
    "| Ridge with Standard scaling| Test $R^2$ = 3.7%|\n",
    "| Lasso with Standard scaling and gridsearch| Test $R^2$ = 3.3%|\n",
    "| Ridge with Standard scaling and gridsearch| Test $R^2$ = 4.2%|\n",
    "| Random Forest with Standard scaling | Test $R^2$ = 28.5%|\n",
    "\n",
    "\n",
    "> Simple LR or Ridge regression is best without feature selection or any data imputation\n",
    "> PCA will have reduced the number of columns from 260 to 190 with 99% variance.\n",
    "> Random forest works better than others and can be improved with gridsearch but will take lot of time to train.\n"
   ]
  },
  {
   "cell_type": "code",
   "execution_count": 2,
   "metadata": {},
   "outputs": [],
   "source": [
    "df = pd.read_csv(\"../data/train_data.zip\")"
   ]
  },
  {
   "cell_type": "code",
   "execution_count": 3,
   "metadata": {},
   "outputs": [
    {
     "data": {
      "text/html": [
       "<div>\n",
       "<style scoped>\n",
       "    .dataframe tbody tr th:only-of-type {\n",
       "        vertical-align: middle;\n",
       "    }\n",
       "\n",
       "    .dataframe tbody tr th {\n",
       "        vertical-align: top;\n",
       "    }\n",
       "\n",
       "    .dataframe thead th {\n",
       "        text-align: right;\n",
       "    }\n",
       "</style>\n",
       "<table border=\"1\" class=\"dataframe\">\n",
       "  <thead>\n",
       "    <tr style=\"text-align: right;\">\n",
       "      <th></th>\n",
       "      <th>external_id</th>\n",
       "      <th>month</th>\n",
       "      <th>year</th>\n",
       "      <th>monthly_number_of_sessions</th>\n",
       "      <th>monthly_unique_sessions</th>\n",
       "      <th>monthly_repeated_sessions</th>\n",
       "      <th>monthly_avg_length_of_session</th>\n",
       "      <th>monthly_avg_light_activity</th>\n",
       "      <th>monthly_avg_moderate_activity</th>\n",
       "      <th>monthly_avg_vigorous_activity</th>\n",
       "      <th>...</th>\n",
       "      <th>avg_wind_9_10</th>\n",
       "      <th>avg_wind_10_11</th>\n",
       "      <th>avg_wind_11_12</th>\n",
       "      <th>avg_wind_12_above</th>\n",
       "      <th>perfect_days</th>\n",
       "      <th>unacast_session_count</th>\n",
       "      <th>hpi</th>\n",
       "      <th>state_and_local_amount_per_capita</th>\n",
       "      <th>state_amount_per_capita</th>\n",
       "      <th>local_amount_per_capita</th>\n",
       "    </tr>\n",
       "  </thead>\n",
       "  <tbody>\n",
       "    <tr>\n",
       "      <th>0</th>\n",
       "      <td>1900203</td>\n",
       "      <td>3</td>\n",
       "      <td>2019</td>\n",
       "      <td>0</td>\n",
       "      <td>0</td>\n",
       "      <td>0</td>\n",
       "      <td>0.0</td>\n",
       "      <td>0.0</td>\n",
       "      <td>0.0</td>\n",
       "      <td>0.0</td>\n",
       "      <td>...</td>\n",
       "      <td>0.0</td>\n",
       "      <td>0.0</td>\n",
       "      <td>0.0</td>\n",
       "      <td>0.0</td>\n",
       "      <td>0.0</td>\n",
       "      <td>78.0</td>\n",
       "      <td>323.61</td>\n",
       "      <td>0.132207</td>\n",
       "      <td>0.018519</td>\n",
       "      <td>0.113688</td>\n",
       "    </tr>\n",
       "    <tr>\n",
       "      <th>1</th>\n",
       "      <td>1900203</td>\n",
       "      <td>6</td>\n",
       "      <td>2018</td>\n",
       "      <td>0</td>\n",
       "      <td>0</td>\n",
       "      <td>0</td>\n",
       "      <td>0.0</td>\n",
       "      <td>0.0</td>\n",
       "      <td>0.0</td>\n",
       "      <td>0.0</td>\n",
       "      <td>...</td>\n",
       "      <td>0.0</td>\n",
       "      <td>0.0</td>\n",
       "      <td>0.0</td>\n",
       "      <td>0.0</td>\n",
       "      <td>4.0</td>\n",
       "      <td>111.0</td>\n",
       "      <td>323.61</td>\n",
       "      <td>0.132207</td>\n",
       "      <td>0.018519</td>\n",
       "      <td>0.113688</td>\n",
       "    </tr>\n",
       "    <tr>\n",
       "      <th>2</th>\n",
       "      <td>1900203</td>\n",
       "      <td>8</td>\n",
       "      <td>2018</td>\n",
       "      <td>0</td>\n",
       "      <td>0</td>\n",
       "      <td>0</td>\n",
       "      <td>0.0</td>\n",
       "      <td>0.0</td>\n",
       "      <td>0.0</td>\n",
       "      <td>0.0</td>\n",
       "      <td>...</td>\n",
       "      <td>0.0</td>\n",
       "      <td>0.0</td>\n",
       "      <td>0.0</td>\n",
       "      <td>0.0</td>\n",
       "      <td>2.0</td>\n",
       "      <td>110.0</td>\n",
       "      <td>323.61</td>\n",
       "      <td>0.132207</td>\n",
       "      <td>0.018519</td>\n",
       "      <td>0.113688</td>\n",
       "    </tr>\n",
       "    <tr>\n",
       "      <th>3</th>\n",
       "      <td>MR00101775</td>\n",
       "      <td>1</td>\n",
       "      <td>2019</td>\n",
       "      <td>0</td>\n",
       "      <td>0</td>\n",
       "      <td>0</td>\n",
       "      <td>0.0</td>\n",
       "      <td>0.0</td>\n",
       "      <td>0.0</td>\n",
       "      <td>0.0</td>\n",
       "      <td>...</td>\n",
       "      <td>0.0</td>\n",
       "      <td>0.0</td>\n",
       "      <td>0.0</td>\n",
       "      <td>0.0</td>\n",
       "      <td>0.0</td>\n",
       "      <td>10.0</td>\n",
       "      <td>110.38</td>\n",
       "      <td>0.076247</td>\n",
       "      <td>0.011966</td>\n",
       "      <td>0.064281</td>\n",
       "    </tr>\n",
       "    <tr>\n",
       "      <th>4</th>\n",
       "      <td>MR00101775</td>\n",
       "      <td>8</td>\n",
       "      <td>2019</td>\n",
       "      <td>0</td>\n",
       "      <td>0</td>\n",
       "      <td>0</td>\n",
       "      <td>0.0</td>\n",
       "      <td>0.0</td>\n",
       "      <td>0.0</td>\n",
       "      <td>0.0</td>\n",
       "      <td>...</td>\n",
       "      <td>0.0</td>\n",
       "      <td>0.0</td>\n",
       "      <td>0.0</td>\n",
       "      <td>0.0</td>\n",
       "      <td>0.0</td>\n",
       "      <td>11.0</td>\n",
       "      <td>110.38</td>\n",
       "      <td>0.076247</td>\n",
       "      <td>0.011966</td>\n",
       "      <td>0.064281</td>\n",
       "    </tr>\n",
       "  </tbody>\n",
       "</table>\n",
       "<p>5 rows × 861 columns</p>\n",
       "</div>"
      ],
      "text/plain": [
       "  external_id  month  year  monthly_number_of_sessions  \\\n",
       "0     1900203      3  2019                           0   \n",
       "1     1900203      6  2018                           0   \n",
       "2     1900203      8  2018                           0   \n",
       "3  MR00101775      1  2019                           0   \n",
       "4  MR00101775      8  2019                           0   \n",
       "\n",
       "   monthly_unique_sessions  monthly_repeated_sessions  \\\n",
       "0                        0                          0   \n",
       "1                        0                          0   \n",
       "2                        0                          0   \n",
       "3                        0                          0   \n",
       "4                        0                          0   \n",
       "\n",
       "   monthly_avg_length_of_session  monthly_avg_light_activity  \\\n",
       "0                            0.0                         0.0   \n",
       "1                            0.0                         0.0   \n",
       "2                            0.0                         0.0   \n",
       "3                            0.0                         0.0   \n",
       "4                            0.0                         0.0   \n",
       "\n",
       "   monthly_avg_moderate_activity  monthly_avg_vigorous_activity  ...  \\\n",
       "0                            0.0                            0.0  ...   \n",
       "1                            0.0                            0.0  ...   \n",
       "2                            0.0                            0.0  ...   \n",
       "3                            0.0                            0.0  ...   \n",
       "4                            0.0                            0.0  ...   \n",
       "\n",
       "   avg_wind_9_10  avg_wind_10_11  avg_wind_11_12  avg_wind_12_above  \\\n",
       "0            0.0             0.0             0.0                0.0   \n",
       "1            0.0             0.0             0.0                0.0   \n",
       "2            0.0             0.0             0.0                0.0   \n",
       "3            0.0             0.0             0.0                0.0   \n",
       "4            0.0             0.0             0.0                0.0   \n",
       "\n",
       "   perfect_days  unacast_session_count     hpi  \\\n",
       "0           0.0                   78.0  323.61   \n",
       "1           4.0                  111.0  323.61   \n",
       "2           2.0                  110.0  323.61   \n",
       "3           0.0                   10.0  110.38   \n",
       "4           0.0                   11.0  110.38   \n",
       "\n",
       "   state_and_local_amount_per_capita  state_amount_per_capita  \\\n",
       "0                           0.132207                 0.018519   \n",
       "1                           0.132207                 0.018519   \n",
       "2                           0.132207                 0.018519   \n",
       "3                           0.076247                 0.011966   \n",
       "4                           0.076247                 0.011966   \n",
       "\n",
       "   local_amount_per_capita  \n",
       "0                 0.113688  \n",
       "1                 0.113688  \n",
       "2                 0.113688  \n",
       "3                 0.064281  \n",
       "4                 0.064281  \n",
       "\n",
       "[5 rows x 861 columns]"
      ]
     },
     "execution_count": 3,
     "metadata": {},
     "output_type": "execute_result"
    }
   ],
   "source": [
    "df.head()"
   ]
  },
  {
   "cell_type": "markdown",
   "metadata": {},
   "source": [
    "## Function for pre-processing data"
   ]
  },
  {
   "cell_type": "code",
   "execution_count": 4,
   "metadata": {},
   "outputs": [
    {
     "data": {
      "text/plain": [
       "(50120, 815)"
      ]
     },
     "execution_count": 4,
     "metadata": {},
     "output_type": "execute_result"
    }
   ],
   "source": [
    "clean_df = pp.preprocessing_na(df)\n",
    "clean_df.shape"
   ]
  },
  {
   "cell_type": "code",
   "execution_count": 5,
   "metadata": {},
   "outputs": [
    {
     "data": {
      "text/html": [
       "<div>\n",
       "<style scoped>\n",
       "    .dataframe tbody tr th:only-of-type {\n",
       "        vertical-align: middle;\n",
       "    }\n",
       "\n",
       "    .dataframe tbody tr th {\n",
       "        vertical-align: top;\n",
       "    }\n",
       "\n",
       "    .dataframe thead th {\n",
       "        text-align: right;\n",
       "    }\n",
       "</style>\n",
       "<table border=\"1\" class=\"dataframe\">\n",
       "  <thead>\n",
       "    <tr style=\"text-align: right;\">\n",
       "      <th></th>\n",
       "      <th>external_id</th>\n",
       "      <th>month</th>\n",
       "      <th>year</th>\n",
       "      <th>B20004e10</th>\n",
       "      <th>B11016e1</th>\n",
       "      <th>B12001e12</th>\n",
       "      <th>B20004e11</th>\n",
       "      <th>B19125e1</th>\n",
       "      <th>B12001e13</th>\n",
       "      <th>B23008e22</th>\n",
       "      <th>...</th>\n",
       "      <th>monthly_regular</th>\n",
       "      <th>monthly_accessible</th>\n",
       "      <th>monthly_variety</th>\n",
       "      <th>monthly_Monday</th>\n",
       "      <th>monthly_Friday</th>\n",
       "      <th>monthly_Thursday</th>\n",
       "      <th>monthly_Sunday</th>\n",
       "      <th>monthly_Tuesday</th>\n",
       "      <th>monthly_Saturday</th>\n",
       "      <th>monthly_Wednesday</th>\n",
       "    </tr>\n",
       "  </thead>\n",
       "  <tbody>\n",
       "    <tr>\n",
       "      <th>0</th>\n",
       "      <td>1900203</td>\n",
       "      <td>3</td>\n",
       "      <td>2019</td>\n",
       "      <td>51111</td>\n",
       "      <td>1868</td>\n",
       "      <td>688</td>\n",
       "      <td>0</td>\n",
       "      <td>78934</td>\n",
       "      <td>1342</td>\n",
       "      <td>0</td>\n",
       "      <td>...</td>\n",
       "      <td>0.0</td>\n",
       "      <td>0.0</td>\n",
       "      <td>0.0</td>\n",
       "      <td>0.0</td>\n",
       "      <td>0.0</td>\n",
       "      <td>0.0</td>\n",
       "      <td>0.0</td>\n",
       "      <td>0.0</td>\n",
       "      <td>0.0</td>\n",
       "      <td>0.0</td>\n",
       "    </tr>\n",
       "    <tr>\n",
       "      <th>1</th>\n",
       "      <td>1900203</td>\n",
       "      <td>6</td>\n",
       "      <td>2018</td>\n",
       "      <td>51111</td>\n",
       "      <td>1868</td>\n",
       "      <td>688</td>\n",
       "      <td>0</td>\n",
       "      <td>78934</td>\n",
       "      <td>1342</td>\n",
       "      <td>0</td>\n",
       "      <td>...</td>\n",
       "      <td>0.0</td>\n",
       "      <td>0.0</td>\n",
       "      <td>0.0</td>\n",
       "      <td>0.0</td>\n",
       "      <td>0.0</td>\n",
       "      <td>0.0</td>\n",
       "      <td>0.0</td>\n",
       "      <td>0.0</td>\n",
       "      <td>0.0</td>\n",
       "      <td>0.0</td>\n",
       "    </tr>\n",
       "    <tr>\n",
       "      <th>2</th>\n",
       "      <td>1900203</td>\n",
       "      <td>8</td>\n",
       "      <td>2018</td>\n",
       "      <td>51111</td>\n",
       "      <td>1868</td>\n",
       "      <td>688</td>\n",
       "      <td>0</td>\n",
       "      <td>78934</td>\n",
       "      <td>1342</td>\n",
       "      <td>0</td>\n",
       "      <td>...</td>\n",
       "      <td>0.0</td>\n",
       "      <td>0.0</td>\n",
       "      <td>0.0</td>\n",
       "      <td>0.0</td>\n",
       "      <td>0.0</td>\n",
       "      <td>0.0</td>\n",
       "      <td>0.0</td>\n",
       "      <td>0.0</td>\n",
       "      <td>0.0</td>\n",
       "      <td>0.0</td>\n",
       "    </tr>\n",
       "    <tr>\n",
       "      <th>3</th>\n",
       "      <td>MR00101775</td>\n",
       "      <td>1</td>\n",
       "      <td>2019</td>\n",
       "      <td>45484</td>\n",
       "      <td>2613</td>\n",
       "      <td>980</td>\n",
       "      <td>30417</td>\n",
       "      <td>45578</td>\n",
       "      <td>1097</td>\n",
       "      <td>66</td>\n",
       "      <td>...</td>\n",
       "      <td>0.0</td>\n",
       "      <td>0.0</td>\n",
       "      <td>0.0</td>\n",
       "      <td>0.0</td>\n",
       "      <td>0.0</td>\n",
       "      <td>0.0</td>\n",
       "      <td>0.0</td>\n",
       "      <td>0.0</td>\n",
       "      <td>0.0</td>\n",
       "      <td>0.0</td>\n",
       "    </tr>\n",
       "    <tr>\n",
       "      <th>4</th>\n",
       "      <td>MR00101775</td>\n",
       "      <td>8</td>\n",
       "      <td>2019</td>\n",
       "      <td>45484</td>\n",
       "      <td>2613</td>\n",
       "      <td>980</td>\n",
       "      <td>30417</td>\n",
       "      <td>45578</td>\n",
       "      <td>1097</td>\n",
       "      <td>66</td>\n",
       "      <td>...</td>\n",
       "      <td>0.0</td>\n",
       "      <td>0.0</td>\n",
       "      <td>0.0</td>\n",
       "      <td>0.0</td>\n",
       "      <td>0.0</td>\n",
       "      <td>0.0</td>\n",
       "      <td>0.0</td>\n",
       "      <td>0.0</td>\n",
       "      <td>0.0</td>\n",
       "      <td>0.0</td>\n",
       "    </tr>\n",
       "  </tbody>\n",
       "</table>\n",
       "<p>5 rows × 815 columns</p>\n",
       "</div>"
      ],
      "text/plain": [
       "  external_id  month  year  B20004e10  B11016e1  B12001e12  B20004e11  \\\n",
       "0     1900203      3  2019      51111      1868        688          0   \n",
       "1     1900203      6  2018      51111      1868        688          0   \n",
       "2     1900203      8  2018      51111      1868        688          0   \n",
       "3  MR00101775      1  2019      45484      2613        980      30417   \n",
       "4  MR00101775      8  2019      45484      2613        980      30417   \n",
       "\n",
       "   B19125e1  B12001e13  B23008e22  ...  monthly_regular  monthly_accessible  \\\n",
       "0     78934       1342          0  ...              0.0                 0.0   \n",
       "1     78934       1342          0  ...              0.0                 0.0   \n",
       "2     78934       1342          0  ...              0.0                 0.0   \n",
       "3     45578       1097         66  ...              0.0                 0.0   \n",
       "4     45578       1097         66  ...              0.0                 0.0   \n",
       "\n",
       "   monthly_variety  monthly_Monday  monthly_Friday  monthly_Thursday  \\\n",
       "0              0.0             0.0             0.0               0.0   \n",
       "1              0.0             0.0             0.0               0.0   \n",
       "2              0.0             0.0             0.0               0.0   \n",
       "3              0.0             0.0             0.0               0.0   \n",
       "4              0.0             0.0             0.0               0.0   \n",
       "\n",
       "   monthly_Sunday  monthly_Tuesday  monthly_Saturday  monthly_Wednesday  \n",
       "0             0.0              0.0               0.0                0.0  \n",
       "1             0.0              0.0               0.0                0.0  \n",
       "2             0.0              0.0               0.0                0.0  \n",
       "3             0.0              0.0               0.0                0.0  \n",
       "4             0.0              0.0               0.0                0.0  \n",
       "\n",
       "[5 rows x 815 columns]"
      ]
     },
     "execution_count": 5,
     "metadata": {},
     "output_type": "execute_result"
    }
   ],
   "source": [
    "clean_df.head()"
   ]
  },
  {
   "cell_type": "code",
   "execution_count": 6,
   "metadata": {},
   "outputs": [],
   "source": [
    "clean_df2 = pp.clean_categorical(clean_df.drop(columns = ['external_id', 'state']))"
   ]
  },
  {
   "cell_type": "code",
   "execution_count": 7,
   "metadata": {},
   "outputs": [
    {
     "data": {
      "text/plain": [
       "(50120, 819)"
      ]
     },
     "execution_count": 7,
     "metadata": {},
     "output_type": "execute_result"
    }
   ],
   "source": [
    "clean_df2.shape"
   ]
  },
  {
   "cell_type": "code",
   "execution_count": 7,
   "metadata": {},
   "outputs": [],
   "source": [
    "def show_scores(model, X, y, show = True):\n",
    "    \"\"\"\n",
    "    Shows classification and regression scores\n",
    "    \n",
    "    Parameters\n",
    "    ----------\n",
    "    model: The sklearn model\n",
    "    X: numpy.ndarray        \n",
    "        The X part of the data\n",
    "    y: numpy.ndarray\n",
    "        The y part of the data\n",
    "    Returns\n",
    "    -------\n",
    "        rmse: (float)\n",
    "        r2: (float)\n",
    "            \n",
    "    \"\"\"        \n",
    "        \n",
    "    y_preds = model.predict(X)                 \n",
    "    rmse = mean_squared_error(y, y_preds, squared=False)\n",
    "    r2 = r2_score(y, y_preds)\n",
    "    if show: \n",
    "        print(\"Root mean squared error: %0.3f and r^2 score: %0.3f\" % (rmse,r2))\n",
    "    return rmse, r2"
   ]
  },
  {
   "cell_type": "markdown",
   "metadata": {},
   "source": [
    "## Modelling with Linear regression"
   ]
  },
  {
   "cell_type": "code",
   "execution_count": 9,
   "metadata": {},
   "outputs": [],
   "source": [
    "X = clean_df2.drop(columns = ['unacast_session_count'])\n",
    "y = clean_df2['unacast_session_count']"
   ]
  },
  {
   "cell_type": "code",
   "execution_count": 10,
   "metadata": {},
   "outputs": [],
   "source": [
    "X_train, X_test, y_train, y_test = train_test_split(X, y, test_size = 0.2, random_state = 2020)"
   ]
  },
  {
   "cell_type": "markdown",
   "metadata": {},
   "source": [
    "### 1. Linear Regression"
   ]
  },
  {
   "cell_type": "code",
   "execution_count": 11,
   "metadata": {},
   "outputs": [
    {
     "name": "stdout",
     "output_type": "stream",
     "text": [
      "Simple linear regression scores: \n",
      "Train error: \n",
      "Root mean squared error: 412.405 and r^2 score: 0.254\n",
      "Test error: \n",
      "Root mean squared error: 668.082 and r^2 score: 0.125\n"
     ]
    },
    {
     "data": {
      "text/plain": [
       "(668.0819799558959, 0.12501648107849783)"
      ]
     },
     "execution_count": 11,
     "metadata": {},
     "output_type": "execute_result"
    }
   ],
   "source": [
    "lr = LinearRegression()\n",
    "lr.fit(X_train, y_train)\n",
    "print('Simple linear regression scores: ')\n",
    "print('Train error: ')\n",
    "show_scores(lr, X_train, y_train)\n",
    "\n",
    "print('Test error: ')    \n",
    "show_scores(lr, X_test, y_test)"
   ]
  },
  {
   "cell_type": "markdown",
   "metadata": {},
   "source": [
    "### Observations \n",
    "\n",
    "- Very poor model with $R^2 = 14.1 \\%$"
   ]
  },
  {
   "cell_type": "markdown",
   "metadata": {},
   "source": [
    "### 2. SVR"
   ]
  },
  {
   "cell_type": "markdown",
   "metadata": {},
   "source": [
    "### Observations\n",
    "- Very long train runtime. Not feasible on whole dataset\n",
    "- Very Poor model with negative $R^2$\n"
   ]
  },
  {
   "cell_type": "markdown",
   "metadata": {},
   "source": [
    "### 3. Lasso L1"
   ]
  },
  {
   "cell_type": "markdown",
   "metadata": {},
   "source": [
    "### Observations\n",
    "- Same performance as simple LR "
   ]
  },
  {
   "cell_type": "markdown",
   "metadata": {},
   "source": [
    "### 4. Ridge L2"
   ]
  },
  {
   "cell_type": "code",
   "execution_count": 14,
   "metadata": {},
   "outputs": [
    {
     "name": "stderr",
     "output_type": "stream",
     "text": [
      "C:\\Users\\saura\\Anaconda3\\lib\\site-packages\\sklearn\\linear_model\\_ridge.py:148: LinAlgWarning: Ill-conditioned matrix (rcond=1.81689e-20): result may not be accurate.\n",
      "  overwrite_a=True).T\n"
     ]
    },
    {
     "name": "stdout",
     "output_type": "stream",
     "text": [
      "Ridge regression scores: \n",
      "Train error: \n",
      "Root mean squared error: 412.451 and r^2 score: 0.254\n",
      "Test error: \n",
      "Root mean squared error: 667.956 and r^2 score: 0.125\n"
     ]
    },
    {
     "data": {
      "text/plain": [
       "(667.9557472618134, 0.12534710245549097)"
      ]
     },
     "execution_count": 14,
     "metadata": {},
     "output_type": "execute_result"
    }
   ],
   "source": [
    "ridge_lr = Ridge(max_iter=2000, random_state = 2020)\n",
    "ridge_lr.fit(X_train, y_train)\n",
    "print('Ridge regression scores: ')\n",
    "print('Train error: ')\n",
    "show_scores(ridge_lr, X_train, y_train)\n",
    "\n",
    "print('Test error: ')    \n",
    "show_scores(ridge_lr, X_test, y_test)"
   ]
  },
  {
   "cell_type": "markdown",
   "metadata": {},
   "source": [
    "### Observations\n",
    "\n",
    "- Same performance as Simple LR"
   ]
  },
  {
   "cell_type": "markdown",
   "metadata": {},
   "source": [
    "### 4. ElasticNet L1 and L2 Regression"
   ]
  },
  {
   "cell_type": "markdown",
   "metadata": {},
   "source": [
    "### Observations\n",
    "\n",
    "- Same performance as Simple LR\n",
    "- Too slow"
   ]
  },
  {
   "cell_type": "markdown",
   "metadata": {},
   "source": [
    "## Step 2: Scaling all columns with MinMaxScaler\n",
    "\n",
    "### Observations:\n",
    "- Simple LR - slight improvement from last case\n",
    "- Lasso performs worse than previous case\n",
    "- Ridge performs same as w/o scaling\n",
    "- Elastic net performs worse than all models\n"
   ]
  },
  {
   "cell_type": "markdown",
   "metadata": {},
   "source": [
    "### Step 3: Scaling all columns with Normalizer\n",
    "\n",
    "### Observation\n",
    "- All model performs worse than the minmax scaler"
   ]
  },
  {
   "cell_type": "markdown",
   "metadata": {},
   "source": [
    "### Step 4: Scaling all columns with StandardScaler"
   ]
  },
  {
   "cell_type": "code",
   "execution_count": 15,
   "metadata": {},
   "outputs": [],
   "source": [
    "scaler = StandardScaler()\n",
    "X_train_scaled = scaler.fit_transform(X_train)\n",
    "X_test_scaled = scaler.transform(X_test)"
   ]
  },
  {
   "cell_type": "markdown",
   "metadata": {},
   "source": [
    "### Observation\n",
    "- Standard Scaler works best for all models among other scalers\n",
    "- Moving on to grid search"
   ]
  },
  {
   "cell_type": "code",
   "execution_count": 16,
   "metadata": {},
   "outputs": [
    {
     "name": "stdout",
     "output_type": "stream",
     "text": [
      "Simple linear regression scores: \n",
      "Train error: \n",
      "Root mean squared error: 412.408 and r^2 score: 0.254\n",
      "Test error: \n",
      "Root mean squared error: 668.081 and r^2 score: 0.125\n"
     ]
    },
    {
     "data": {
      "text/plain": [
       "(668.0809885995218, 0.12501907782521782)"
      ]
     },
     "execution_count": 16,
     "metadata": {},
     "output_type": "execute_result"
    }
   ],
   "source": [
    "lr = LinearRegression()\n",
    "lr.fit(X_train_scaled, y_train)\n",
    "print('Simple linear regression scores: ')\n",
    "print('Train error: ')\n",
    "show_scores(lr, X_train_scaled, y_train)\n",
    "\n",
    "print('Test error: ')    \n",
    "show_scores(lr, X_test_scaled, y_test)"
   ]
  },
  {
   "cell_type": "code",
   "execution_count": 17,
   "metadata": {},
   "outputs": [],
   "source": [
    "params = {'alpha' : [0.001, 0.1, 1, 10, 100]}\n"
   ]
  },
  {
   "cell_type": "code",
   "execution_count": 18,
   "metadata": {},
   "outputs": [
    {
     "name": "stdout",
     "output_type": "stream",
     "text": [
      "Ridge regression scores: \n",
      "Train error: \n",
      "Root mean squared error: 413.193 and r^2 score: 0.251\n",
      "Test error: \n",
      "Root mean squared error: 668.456 and r^2 score: 0.124\n"
     ]
    },
    {
     "data": {
      "text/plain": [
       "(668.4563791374494, 0.12403550893358262)"
      ]
     },
     "execution_count": 18,
     "metadata": {},
     "output_type": "execute_result"
    }
   ],
   "source": [
    "ridge_lr = Ridge(max_iter=2000, random_state = 2020)\n",
    "\n",
    "clf_ridge = GridSearchCV(ridge_lr, params, cv =5)\n",
    "\n",
    "clf_ridge.fit(X_train_scaled, y_train)\n",
    "print('Ridge regression scores: ')\n",
    "print('Train error: ')\n",
    "show_scores(clf_ridge, X_train_scaled, y_train)\n",
    "\n",
    "print('Test error: ')\n",
    "show_scores(clf_ridge, X_test_scaled, y_test)"
   ]
  },
  {
   "cell_type": "code",
   "execution_count": 19,
   "metadata": {},
   "outputs": [
    {
     "data": {
      "text/plain": [
       "{'alpha': 100}"
      ]
     },
     "execution_count": 19,
     "metadata": {},
     "output_type": "execute_result"
    }
   ],
   "source": [
    "clf_ridge.best_params_"
   ]
  },
  {
   "cell_type": "markdown",
   "metadata": {},
   "source": [
    "## LGBM on this data"
   ]
  },
  {
   "cell_type": "code",
   "execution_count": 20,
   "metadata": {},
   "outputs": [
    {
     "name": "stdout",
     "output_type": "stream",
     "text": [
      "LGBM scores: \n",
      "Train error: \n",
      "Root mean squared error: 260.506 and r^2 score: 0.702\n",
      "Test error: \n",
      "Root mean squared error: 596.266 and r^2 score: 0.303\n"
     ]
    },
    {
     "data": {
      "text/plain": [
       "(596.266345373865, 0.3030189791757213)"
      ]
     },
     "execution_count": 20,
     "metadata": {},
     "output_type": "execute_result"
    }
   ],
   "source": [
    "lgbm = LGBMRegressor()\n",
    "\n",
    "lgbm.fit(X_train_scaled, y_train)\n",
    "\n",
    "print('LGBM scores: ')\n",
    "\n",
    "print('Train error: ')\n",
    "show_scores(lgbm, X_train_scaled, y_train)\n",
    "\n",
    "print('Test error: ')\n",
    "show_scores(lgbm, X_test_scaled, y_test)"
   ]
  },
  {
   "cell_type": "code",
   "execution_count": 20,
   "metadata": {},
   "outputs": [
    {
     "name": "stdout",
     "output_type": "stream",
     "text": [
      "(50120, 870)\n"
     ]
    }
   ],
   "source": [
    "#Including state column in OHE\n",
    "\n",
    "clean_df2 = pp.clean_categorical(clean_df.drop(columns = ['external_id']), to_drop= ['income_class', 'density_class', 'climate', 'state'])\n",
    "print(clean_df2.shape)\n",
    "X = clean_df2.drop(columns = ['unacast_session_count'])\n",
    "y = clean_df2['unacast_session_count']\n",
    "\n",
    "X_train, X_test, y_train, y_test = train_test_split(X, y, test_size = 0.2, random_state = 2020)\n",
    "\n",
    "scaler = StandardScaler()\n",
    "X_train_scaled = scaler.fit_transform(X_train)\n",
    "X_test_scaled = scaler.transform(X_test)"
   ]
  },
  {
   "cell_type": "code",
   "execution_count": 22,
   "metadata": {},
   "outputs": [
    {
     "name": "stdout",
     "output_type": "stream",
     "text": [
      "LGBM scores: \n",
      "Train error: \n",
      "Root mean squared error: 257.290 and r^2 score: 0.710\n",
      "Test error: \n",
      "Root mean squared error: 590.936 and r^2 score: 0.315\n"
     ]
    },
    {
     "data": {
      "text/plain": [
       "(590.936488628369, 0.31542352358410974)"
      ]
     },
     "execution_count": 22,
     "metadata": {},
     "output_type": "execute_result"
    }
   ],
   "source": [
    "lgbm = LGBMRegressor(random_state = 2020)\n",
    "\n",
    "lgbm.fit(X_train, y_train)\n",
    "\n",
    "print('LGBM scores: ')\n",
    "\n",
    "print('Train error: ')\n",
    "show_scores(lgbm, X_train, y_train)\n",
    "\n",
    "print('Test error: ')\n",
    "show_scores(lgbm, X_test, y_test)"
   ]
  },
  {
   "cell_type": "markdown",
   "metadata": {},
   "source": [
    "## Observation \n",
    "- no improvement with state columns"
   ]
  },
  {
   "cell_type": "code",
   "execution_count": 23,
   "metadata": {},
   "outputs": [
    {
     "name": "stdout",
     "output_type": "stream",
     "text": [
      "(50120, 819)\n"
     ]
    }
   ],
   "source": [
    "clean_df2 = pp.clean_categorical(clean_df.drop(columns = ['external_id', 'state']))\n",
    "print(clean_df2.shape)\n",
    "X = clean_df2.drop(columns = ['unacast_session_count'])\n",
    "y = clean_df2['unacast_session_count']\n",
    "\n",
    "X_train, X_test, y_train, y_test = train_test_split(X, y, test_size = 0.2, random_state = 2020)\n",
    "\n",
    "scaler = StandardScaler()\n",
    "X_train_scaled = scaler.fit_transform(X_train)\n",
    "X_test_scaled = scaler.transform(X_test)"
   ]
  },
  {
   "cell_type": "code",
   "execution_count": 24,
   "metadata": {},
   "outputs": [
    {
     "name": "stdout",
     "output_type": "stream",
     "text": [
      "Ridge regression scores: \n",
      "Train error: \n",
      "Root mean squared error: 253.264 and r^2 score: 0.719\n",
      "Test error: \n",
      "Root mean squared error: 586.800 and r^2 score: 0.325\n"
     ]
    },
    {
     "data": {
      "text/plain": [
       "(586.8000395444426, 0.3249738053580099)"
      ]
     },
     "execution_count": 24,
     "metadata": {},
     "output_type": "execute_result"
    }
   ],
   "source": [
    "lgbm = LGBMRegressor(random_state = 2020)\n",
    "\n",
    "lgbm.fit(X_train, y_train)\n",
    "print('Ridge regression scores: ')\n",
    "print('Train error: ')\n",
    "show_scores(lgbm, X_train, y_train)\n",
    "\n",
    "print('Test error: ')\n",
    "show_scores(lgbm, X_test, y_test)"
   ]
  },
  {
   "cell_type": "code",
   "execution_count": 11,
   "metadata": {},
   "outputs": [
    {
     "name": "stdout",
     "output_type": "stream",
     "text": [
      "Ridge regression scores: \n",
      "Train error: \n",
      "Root mean squared error: 260.506 and r^2 score: 0.702\n",
      "Test error: \n",
      "Root mean squared error: 596.266 and r^2 score: 0.303\n"
     ]
    },
    {
     "data": {
      "text/plain": [
       "(596.266345373865, 0.3030189791757213)"
      ]
     },
     "execution_count": 11,
     "metadata": {},
     "output_type": "execute_result"
    }
   ],
   "source": [
    "params = {'learning_rate' : [0.01, 0.1, 1, 10, 100], 'max_depth' : [100, 500], 'n_estimators' : [100, 500] }\n",
    "\n",
    "lgbm = LGBMRegressor(random_state = 2020)\n",
    "\n",
    "clf_lgbm = GridSearchCV(lgbm, params, cv =5)\n",
    "\n",
    "clf_lgbm.fit(X_train_scaled, y_train)\n",
    "print('Ridge regression scores: ')\n",
    "print('Train error: ')\n",
    "show_scores(clf_lgbm, X_train_scaled, y_train)\n",
    "\n",
    "print('Test error: ')\n",
    "show_scores(clf_lgbm, X_test_scaled, y_test)"
   ]
  },
  {
   "cell_type": "code",
   "execution_count": 12,
   "metadata": {},
   "outputs": [
    {
     "data": {
      "text/plain": [
       "{'learning_rate': 0.1, 'max_depth': 100, 'n_estimators': 100}"
      ]
     },
     "execution_count": 12,
     "metadata": {},
     "output_type": "execute_result"
    }
   ],
   "source": [
    "clf_lgbm.best_params_"
   ]
  },
  {
   "cell_type": "code",
   "execution_count": 18,
   "metadata": {},
   "outputs": [
    {
     "name": "stdout",
     "output_type": "stream",
     "text": [
      "Ridge regression scores: \n",
      "Train error: \n",
      "Root mean squared error: 417.963 and r^2 score: 0.234\n",
      "Test error: \n",
      "Root mean squared error: 673.646 and r^2 score: 0.110\n"
     ]
    },
    {
     "data": {
      "text/plain": [
       "(673.6455002487567, 0.11038277430663179)"
      ]
     },
     "execution_count": 18,
     "metadata": {},
     "output_type": "execute_result"
    }
   ],
   "source": [
    "#fitting lgbm with MAE\n",
    "lgbm = LGBMRegressor(objective = 'mae', random_state = 2020)\n",
    "\n",
    "lgbm.fit(X_train, y_train)\n",
    "print('Ridge regression scores: ')\n",
    "print('Train error: ')\n",
    "show_scores(lgbm, X_train, y_train)\n",
    "\n",
    "print('Test error: ')\n",
    "show_scores(lgbm, X_test, y_test)"
   ]
  },
  {
   "cell_type": "markdown",
   "metadata": {},
   "source": [
    "## Observation \n",
    " - Model performs worse with MAE"
   ]
  },
  {
   "cell_type": "code",
   "execution_count": 29,
   "metadata": {},
   "outputs": [
    {
     "name": "stdout",
     "output_type": "stream",
     "text": [
      "Test scores\n"
     ]
    }
   ],
   "source": [
    "from sklearn.neighbors import KNeighborsRegressor\n",
    "\n",
    "knn = KNeighborsRegressor(n_jobs = 3)\n",
    "knn.fit(X_train_scaled, y_train)\n",
    "\n",
    "print(\"Test scores\")\n",
    "y_pred = knn.predict(X_test_scaled)"
   ]
  },
  {
   "cell_type": "code",
   "execution_count": 30,
   "metadata": {},
   "outputs": [
    {
     "name": "stdout",
     "output_type": "stream",
     "text": [
      "Test MSE =  446407.062593775\n",
      "Test r sqare =  -2.6470167132475737\n"
     ]
    }
   ],
   "source": [
    "print(\"Test MSE = \", mean_squared_error(y_pred, y_test))\n",
    "print(\"Test r sqare = \", r2_score(y_pred, y_test))\n"
   ]
  },
  {
   "cell_type": "code",
   "execution_count": 31,
   "metadata": {},
   "outputs": [
    {
     "data": {
      "text/html": [
       "<div>\n",
       "<style scoped>\n",
       "    .dataframe tbody tr th:only-of-type {\n",
       "        vertical-align: middle;\n",
       "    }\n",
       "\n",
       "    .dataframe tbody tr th {\n",
       "        vertical-align: top;\n",
       "    }\n",
       "\n",
       "    .dataframe thead th {\n",
       "        text-align: right;\n",
       "    }\n",
       "</style>\n",
       "<table border=\"1\" class=\"dataframe\">\n",
       "  <thead>\n",
       "    <tr style=\"text-align: right;\">\n",
       "      <th></th>\n",
       "      <th>month</th>\n",
       "      <th>year</th>\n",
       "      <th>B20004e10</th>\n",
       "      <th>B11016e1</th>\n",
       "      <th>B12001e12</th>\n",
       "      <th>B20004e11</th>\n",
       "      <th>B19125e1</th>\n",
       "      <th>B12001e13</th>\n",
       "      <th>B23008e22</th>\n",
       "      <th>B11005e12</th>\n",
       "      <th>...</th>\n",
       "      <th>monthly_Tuesday</th>\n",
       "      <th>HI</th>\n",
       "      <th>LI</th>\n",
       "      <th>MI</th>\n",
       "      <th>HD</th>\n",
       "      <th>LD</th>\n",
       "      <th>MD</th>\n",
       "      <th>A</th>\n",
       "      <th>C</th>\n",
       "      <th>D</th>\n",
       "    </tr>\n",
       "  </thead>\n",
       "  <tbody>\n",
       "    <tr>\n",
       "      <th>38938</th>\n",
       "      <td>12</td>\n",
       "      <td>2018</td>\n",
       "      <td>38750</td>\n",
       "      <td>1291</td>\n",
       "      <td>223</td>\n",
       "      <td>56875</td>\n",
       "      <td>52195</td>\n",
       "      <td>804</td>\n",
       "      <td>18</td>\n",
       "      <td>512</td>\n",
       "      <td>...</td>\n",
       "      <td>0.0</td>\n",
       "      <td>0</td>\n",
       "      <td>1</td>\n",
       "      <td>0</td>\n",
       "      <td>0</td>\n",
       "      <td>1</td>\n",
       "      <td>0</td>\n",
       "      <td>0</td>\n",
       "      <td>1</td>\n",
       "      <td>0</td>\n",
       "    </tr>\n",
       "    <tr>\n",
       "      <th>6520</th>\n",
       "      <td>2</td>\n",
       "      <td>2019</td>\n",
       "      <td>38103</td>\n",
       "      <td>2027</td>\n",
       "      <td>589</td>\n",
       "      <td>31823</td>\n",
       "      <td>50521</td>\n",
       "      <td>1243</td>\n",
       "      <td>71</td>\n",
       "      <td>810</td>\n",
       "      <td>...</td>\n",
       "      <td>0.0</td>\n",
       "      <td>0</td>\n",
       "      <td>0</td>\n",
       "      <td>1</td>\n",
       "      <td>0</td>\n",
       "      <td>0</td>\n",
       "      <td>1</td>\n",
       "      <td>1</td>\n",
       "      <td>0</td>\n",
       "      <td>0</td>\n",
       "    </tr>\n",
       "    <tr>\n",
       "      <th>27027</th>\n",
       "      <td>4</td>\n",
       "      <td>2019</td>\n",
       "      <td>18984</td>\n",
       "      <td>1050</td>\n",
       "      <td>743</td>\n",
       "      <td>53333</td>\n",
       "      <td>29375</td>\n",
       "      <td>656</td>\n",
       "      <td>125</td>\n",
       "      <td>237</td>\n",
       "      <td>...</td>\n",
       "      <td>0.0</td>\n",
       "      <td>0</td>\n",
       "      <td>1</td>\n",
       "      <td>0</td>\n",
       "      <td>1</td>\n",
       "      <td>0</td>\n",
       "      <td>0</td>\n",
       "      <td>0</td>\n",
       "      <td>1</td>\n",
       "      <td>0</td>\n",
       "    </tr>\n",
       "    <tr>\n",
       "      <th>13489</th>\n",
       "      <td>11</td>\n",
       "      <td>2018</td>\n",
       "      <td>52151</td>\n",
       "      <td>2472</td>\n",
       "      <td>490</td>\n",
       "      <td>100430</td>\n",
       "      <td>100026</td>\n",
       "      <td>1563</td>\n",
       "      <td>58</td>\n",
       "      <td>1030</td>\n",
       "      <td>...</td>\n",
       "      <td>0.0</td>\n",
       "      <td>1</td>\n",
       "      <td>0</td>\n",
       "      <td>0</td>\n",
       "      <td>0</td>\n",
       "      <td>0</td>\n",
       "      <td>1</td>\n",
       "      <td>0</td>\n",
       "      <td>0</td>\n",
       "      <td>1</td>\n",
       "    </tr>\n",
       "    <tr>\n",
       "      <th>15809</th>\n",
       "      <td>2</td>\n",
       "      <td>2019</td>\n",
       "      <td>50766</td>\n",
       "      <td>3071</td>\n",
       "      <td>586</td>\n",
       "      <td>128947</td>\n",
       "      <td>167717</td>\n",
       "      <td>2350</td>\n",
       "      <td>0</td>\n",
       "      <td>721</td>\n",
       "      <td>...</td>\n",
       "      <td>0.0</td>\n",
       "      <td>1</td>\n",
       "      <td>0</td>\n",
       "      <td>0</td>\n",
       "      <td>0</td>\n",
       "      <td>0</td>\n",
       "      <td>1</td>\n",
       "      <td>0</td>\n",
       "      <td>1</td>\n",
       "      <td>0</td>\n",
       "    </tr>\n",
       "  </tbody>\n",
       "</table>\n",
       "<p>5 rows × 818 columns</p>\n",
       "</div>"
      ],
      "text/plain": [
       "       month  year  B20004e10  B11016e1  B12001e12  B20004e11  B19125e1  \\\n",
       "38938     12  2018      38750      1291        223      56875     52195   \n",
       "6520       2  2019      38103      2027        589      31823     50521   \n",
       "27027      4  2019      18984      1050        743      53333     29375   \n",
       "13489     11  2018      52151      2472        490     100430    100026   \n",
       "15809      2  2019      50766      3071        586     128947    167717   \n",
       "\n",
       "       B12001e13  B23008e22  B11005e12  ...  monthly_Tuesday  HI  LI  MI  HD  \\\n",
       "38938        804         18        512  ...              0.0   0   1   0   0   \n",
       "6520        1243         71        810  ...              0.0   0   0   1   0   \n",
       "27027        656        125        237  ...              0.0   0   1   0   1   \n",
       "13489       1563         58       1030  ...              0.0   1   0   0   0   \n",
       "15809       2350          0        721  ...              0.0   1   0   0   0   \n",
       "\n",
       "       LD  MD  A  C  D  \n",
       "38938   1   0  0  1  0  \n",
       "6520    0   1  1  0  0  \n",
       "27027   0   0  0  1  0  \n",
       "13489   0   1  0  0  1  \n",
       "15809   0   1  0  1  0  \n",
       "\n",
       "[5 rows x 818 columns]"
      ]
     },
     "execution_count": 31,
     "metadata": {},
     "output_type": "execute_result"
    }
   ],
   "source": [
    "X_train.head()"
   ]
  },
  {
   "cell_type": "code",
   "execution_count": null,
   "metadata": {},
   "outputs": [],
   "source": []
  }
 ],
 "metadata": {
  "kernelspec": {
   "display_name": "Python 3",
   "language": "python",
   "name": "python3"
  },
  "language_info": {
   "codemirror_mode": {
    "name": "ipython",
    "version": 3
   },
   "file_extension": ".py",
   "mimetype": "text/x-python",
   "name": "python",
   "nbconvert_exporter": "python",
   "pygments_lexer": "ipython3",
   "version": "3.7.3"
  }
 },
 "nbformat": 4,
 "nbformat_minor": 4
}
