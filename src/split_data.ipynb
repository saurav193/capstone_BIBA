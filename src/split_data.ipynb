{
 "cells": [
  {
   "cell_type": "code",
   "execution_count": 1,
   "metadata": {},
   "outputs": [],
   "source": [
    "import pandas as pd"
   ]
  },
  {
   "cell_type": "code",
   "execution_count": 2,
   "metadata": {},
   "outputs": [],
   "source": [
    "#Read the data and split between train and test set\n",
    "data = pd.read_csv('../data/playground_stats.zip')\n",
    "test_data = data[(data['year']==2019) & (data['month'] > 9)]\n",
    "train_data = data[~data.index.isin(test_data.index)]\n",
    "train_data.shape[0] + test_data.shape[0] == data.shape[0]\n",
    "\n",
    "#Save the files\n",
    "test_data.to_csv(\"../data/test_data.zip\", index = False, compression='gzip')\n",
    "train_data.to_csv(\"../data/train_data.zip\", index = False, compression='gzip')"
   ]
  },
  {
   "cell_type": "code",
   "execution_count": null,
   "metadata": {},
   "outputs": [],
   "source": []
  }
 ],
 "metadata": {
  "kernelspec": {
   "display_name": "Python 3",
   "language": "python",
   "name": "python3"
  },
  "language_info": {
   "codemirror_mode": {
    "name": "ipython",
    "version": 3
   },
   "file_extension": ".py",
   "mimetype": "text/x-python",
   "name": "python",
   "nbconvert_exporter": "python",
   "pygments_lexer": "ipython3",
   "version": "3.7.6"
  }
 },
 "nbformat": 4,
 "nbformat_minor": 4
}
