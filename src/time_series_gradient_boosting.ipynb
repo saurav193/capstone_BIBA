{
 "cells": [
  {
   "cell_type": "code",
   "execution_count": 92,
   "metadata": {},
   "outputs": [],
   "source": [
    "import time\n",
    "import pandas as pd\n",
    "import altair as alt\n",
    "import numpy as np\n",
    "\n",
    "from sklearn.model_selection import train_test_split, GridSearchCV, RandomizedSearchCV, TimeSeriesSplit\n",
    "from sklearn.metrics import mean_squared_error, mean_absolute_error\n",
    "from sklearn.linear_model import LinearRegression, ElasticNet\n",
    "from sklearn.ensemble import GradientBoostingRegressor\n",
    "\n",
    "from xgboost import XGBRegressor\n",
    "\n",
    "# import other functions\n",
    "from imputer import *\n",
    "from feature_eng import *\n",
    "from drop import *"
   ]
  },
  {
   "cell_type": "code",
   "execution_count": 93,
   "metadata": {},
   "outputs": [],
   "source": [
    "def add_lagged_target(df):\n",
    "    \"\"\"\n",
    "    This function takes a dataframe with the columns \n",
    "    \"external_id\", \"month\", \"year\" as primary keys.\n",
    "    Adds a column of the \"unacast_seassion_count\" at lag of 1, as \"session_lagged_1\",\n",
    "    and then deletes the first occurrence for each playground.\n",
    "\n",
    "\n",
    "    Parameters\n",
    "    ----------------\n",
    "    df : pd.DataFrame\n",
    "       A dataframe containing the columns \"external_id\", \"month\", \"year\"\n",
    "       and \"unacast_seassion_count\"\n",
    "\n",
    "\n",
    "    Returns\n",
    "    ----------------\n",
    "    pd.DataFrame\n",
    "        With the new lagged session column, and deleted first occurrence of each playground, sorted by [\"external_id\",\"year\",\"month\"]\n",
    "    \"\"\"\n",
    "    # subset and sort\n",
    "    lagged = df.loc[:,[\"external_id\",\"month\",\"year\",\"unacast_session_count\"]].sort_values(by=[\"external_id\",\"year\",\"month\"])\n",
    "\n",
    "    # creat new column shifted by one (after sorting)\n",
    "    lagged[\"session_lagged_1\"] = lagged['unacast_session_count'].shift(1)\n",
    "    \n",
    "    # join the new column into the general dataframe\n",
    "    out = pd.merge(df,lagged,how='left', left_on=['external_id','month','year',\"unacast_session_count\"], right_on =['external_id','month','year',\"unacast_session_count\"]).sort_values(by=[\"external_id\",\"year\",\"month\"])\n",
    "\n",
    "    # identify the 1st row of each playground, and subset as a df\n",
    "    to_del = out.sort_values(by=[\"external_id\",\"year\",\"month\"]).groupby('external_id',as_index=False).nth(0)\n",
    "    # join the df with the rows to delete, then delete all rows that are have duplicates (both copies)\n",
    "    out = pd.concat([out,to_del]).drop_duplicates(keep=False)\n",
    "    return out"
   ]
  },
  {
   "cell_type": "code",
   "execution_count": 94,
   "metadata": {},
   "outputs": [],
   "source": [
    "def report_performance(model, X_train, y_train, X_valid, y_valid, \n",
    "                       mode='mean'):\n",
    "    \"\"\"\n",
    "    Evaluate train and validation performance on a fitted model.\n",
    "    \n",
    "    Parameters\n",
    "    ---------     \n",
    "    model: sklearn.ensemble._gb.GradientBoostingRegressor\n",
    "        scikit-learn model\n",
    "    X_train: pandas.core.frame.DataFrame\n",
    "        X of training set\n",
    "    y_train: pandas.core.series.Series\n",
    "        y of training set\n",
    "    X_valid: pandas.core.frame.DataFrame        \n",
    "        X of validation set\n",
    "    y_valid: pandas.core.series.Series\n",
    "        y of validation set     \n",
    "    mode: string\n",
    "        'mean' or 'median'\n",
    "    \n",
    "    Returns\n",
    "    -------\n",
    "    errors: list\n",
    "        \n",
    "    \"\"\"\n",
    "    if mode == 'mean':\n",
    "        errors = [mean_squared_error(y_train, \n",
    "                                     model.predict(X_train)) ** 0.5, \n",
    "                  mean_squared_error(y_valid, \n",
    "                                     model.predict(X_valid)) ** 0.5]\n",
    "        \n",
    "        print('Training RMSE:', errors[0])\n",
    "        print('Validation RMSE:', errors[1])\n",
    "        \n",
    "        \n",
    "    elif mode == 'median':\n",
    "        errors = [mean_absolute_error(y_train, \n",
    "                                      model.predict(X_train)), \n",
    "                  mean_absolute_error(y_valid, \n",
    "                                      model.predict(X_valid))]\n",
    "        \n",
    "        print('Training MAE:', errors[0])\n",
    "        print('Validation MAE:', errors[1])"
   ]
  },
  {
   "cell_type": "code",
   "execution_count": 95,
   "metadata": {},
   "outputs": [],
   "source": [
    "def report_search(search):\n",
    "    \"\"\"\n",
    "    Print the best hyperparameter settings and\n",
    "    search.cv_results_ as a dataframe.\n",
    "    \n",
    "    Parameters\n",
    "    ----------\n",
    "    search: sklearn.model_selection.RandomizedSearchCV\n",
    "        \n",
    "    \"\"\"\n",
    "    print(search.best_params_)\n",
    "    \n",
    "    results = pd.DataFrame(search.cv_results_)\n",
    "    \n",
    "    return results"
   ]
  },
  {
   "cell_type": "code",
   "execution_count": 96,
   "metadata": {},
   "outputs": [
    {
     "data": {
      "text/plain": [
       "DataTransformerRegistry.enable('default')"
      ]
     },
     "execution_count": 96,
     "metadata": {},
     "output_type": "execute_result"
    }
   ],
   "source": [
    "alt.data_transformers.disable_max_rows()"
   ]
  },
  {
   "cell_type": "markdown",
   "metadata": {},
   "source": [
    "### Preprocess data"
   ]
  },
  {
   "cell_type": "code",
   "execution_count": 97,
   "metadata": {},
   "outputs": [],
   "source": [
    "df = pd.read_csv('../data/train_data.zip')"
   ]
  },
  {
   "cell_type": "code",
   "execution_count": 98,
   "metadata": {},
   "outputs": [],
   "source": [
    "# create lagged target variable column\n",
    "df = add_lagged_target(df)"
   ]
  },
  {
   "cell_type": "code",
   "execution_count": 99,
   "metadata": {},
   "outputs": [],
   "source": [
    "# impute missing lagged (t-1) target variable\n",
    "df['session_lagged_1'] = df.groupby('external_id')['session_lagged_1'].apply(lambda x: x.interpolate(limit_direction='both'))"
   ]
  },
  {
   "cell_type": "code",
   "execution_count": 100,
   "metadata": {},
   "outputs": [],
   "source": [
    "# drop rows missing target variable\n",
    "df = drop_missing_unacast(df)"
   ]
  },
  {
   "cell_type": "code",
   "execution_count": 101,
   "metadata": {},
   "outputs": [],
   "source": [
    "# split data into `X_train` and `X_valid`\n",
    "\n",
    "train = df[(df['year'] != 2019) | (df['month'] <= 6)]\n",
    "valid = df[(df['year'] == 2019) & (df['month'] > 6)]\n",
    "\n",
    "#train = df.query(\"year != 2019 | month <= 6\")\n",
    "#valid = df.query(\"year == 2019 & month > 6\")"
   ]
  },
  {
   "cell_type": "code",
   "execution_count": 102,
   "metadata": {},
   "outputs": [],
   "source": [
    "# create X_train and y_train\n",
    "X_train = train.drop('unacast_session_count', axis=1)\n",
    "y_train = train.loc[:, 'unacast_session_count']"
   ]
  },
  {
   "cell_type": "code",
   "execution_count": 103,
   "metadata": {},
   "outputs": [],
   "source": [
    "# create X_valid and y_valid\n",
    "X_valid = valid.drop('unacast_session_count', axis=1)\n",
    "y_valid = valid.loc[:, 'unacast_session_count']"
   ]
  },
  {
   "cell_type": "code",
   "execution_count": 104,
   "metadata": {},
   "outputs": [],
   "source": [
    "# impute NaN values\n",
    "result = impute_data(X_train, X_valid)\n",
    "X_train = result[0]\n",
    "X_valid = result[1]"
   ]
  },
  {
   "cell_type": "code",
   "execution_count": 105,
   "metadata": {},
   "outputs": [],
   "source": [
    "# perform feature engineering\n",
    "X_train = comb_cols(X_train)\n",
    "X_valid = comb_cols(X_valid)"
   ]
  },
  {
   "cell_type": "code",
   "execution_count": 106,
   "metadata": {},
   "outputs": [],
   "source": [
    "# perform dropping\n",
    "X_train = drop_columns(X_train)\n",
    "X_valid = drop_columns(X_valid)"
   ]
  },
  {
   "cell_type": "code",
   "execution_count": 107,
   "metadata": {},
   "outputs": [],
   "source": [
    "# OHE categorical columns on climate, density_class, income_class\n",
    "X_train_valid = clean_categorical(X_train, X_valid)\n",
    "X_train = X_train_valid[0]\n",
    "X_valid = X_train_valid[1]"
   ]
  },
  {
   "cell_type": "code",
   "execution_count": 108,
   "metadata": {
    "scrolled": true
   },
   "outputs": [
    {
     "name": "stdout",
     "output_type": "stream",
     "text": [
      "Training RMSE: 78.7432924136308\n",
      "Validation RMSE: 171.80114351082685\n"
     ]
    }
   ],
   "source": [
    "# evaluate basic model performance\n",
    "lr = LinearRegression()\n",
    "lr.fit(X_train, y_train)\n",
    "report_performance(lr, X_train, y_train, X_valid, y_valid)"
   ]
  },
  {
   "cell_type": "markdown",
   "metadata": {},
   "source": [
    "### Create folds for time-dependent cross validation"
   ]
  },
  {
   "cell_type": "code",
   "execution_count": 109,
   "metadata": {},
   "outputs": [],
   "source": [
    "# create `month_number` column to create indices to use in cross validation\n",
    "months_df = df.query(\"external_id == '01a78f56-5cc9-4309-8676-057933848570'\").loc[:, ['month', 'year']]\n",
    "months_df = months_df.reset_index().drop(columns='index').reset_index()\n",
    "months_df = months_df.rename(columns={'index':'cross_val_ind'})\n",
    "months_df = months_df[:16]"
   ]
  },
  {
   "cell_type": "code",
   "execution_count": 110,
   "metadata": {
    "scrolled": false
   },
   "outputs": [],
   "source": [
    "X_train_ind = X_train.reset_index().merge(months_df, how='left').set_index('index')"
   ]
  },
  {
   "cell_type": "code",
   "execution_count": 111,
   "metadata": {},
   "outputs": [],
   "source": [
    "X_train_ind = X_train_ind.reset_index()"
   ]
  },
  {
   "cell_type": "code",
   "execution_count": 112,
   "metadata": {},
   "outputs": [
    {
     "data": {
      "text/html": [
       "<div>\n",
       "<style scoped>\n",
       "    .dataframe tbody tr th:only-of-type {\n",
       "        vertical-align: middle;\n",
       "    }\n",
       "\n",
       "    .dataframe tbody tr th {\n",
       "        vertical-align: top;\n",
       "    }\n",
       "\n",
       "    .dataframe thead th {\n",
       "        text-align: right;\n",
       "    }\n",
       "</style>\n",
       "<table border=\"1\" class=\"dataframe\">\n",
       "  <thead>\n",
       "    <tr style=\"text-align: right;\">\n",
       "      <th></th>\n",
       "      <th>index</th>\n",
       "      <th>month</th>\n",
       "      <th>year</th>\n",
       "      <th>monthly_number_of_sessions</th>\n",
       "      <th>monthly_unique_sessions</th>\n",
       "      <th>monthly_repeated_sessions</th>\n",
       "      <th>monthly_avg_length_of_session</th>\n",
       "      <th>monthly_avg_light_activity</th>\n",
       "      <th>monthly_avg_moderate_activity</th>\n",
       "      <th>monthly_avg_vigorous_activity</th>\n",
       "      <th>...</th>\n",
       "      <th>HI</th>\n",
       "      <th>LI</th>\n",
       "      <th>MI</th>\n",
       "      <th>HD</th>\n",
       "      <th>LD</th>\n",
       "      <th>MD</th>\n",
       "      <th>A</th>\n",
       "      <th>C</th>\n",
       "      <th>D</th>\n",
       "      <th>cross_val_ind</th>\n",
       "    </tr>\n",
       "  </thead>\n",
       "  <tbody>\n",
       "    <tr>\n",
       "      <th>0</th>\n",
       "      <td>2445</td>\n",
       "      <td>3</td>\n",
       "      <td>2018</td>\n",
       "      <td>13</td>\n",
       "      <td>2</td>\n",
       "      <td>11</td>\n",
       "      <td>392153.846154</td>\n",
       "      <td>91923.076923</td>\n",
       "      <td>60769.230769</td>\n",
       "      <td>0.0</td>\n",
       "      <td>...</td>\n",
       "      <td>0</td>\n",
       "      <td>0</td>\n",
       "      <td>1</td>\n",
       "      <td>1</td>\n",
       "      <td>0</td>\n",
       "      <td>0</td>\n",
       "      <td>1</td>\n",
       "      <td>0</td>\n",
       "      <td>0</td>\n",
       "      <td>0</td>\n",
       "    </tr>\n",
       "    <tr>\n",
       "      <th>1</th>\n",
       "      <td>47628</td>\n",
       "      <td>4</td>\n",
       "      <td>2018</td>\n",
       "      <td>0</td>\n",
       "      <td>0</td>\n",
       "      <td>0</td>\n",
       "      <td>0.000000</td>\n",
       "      <td>0.000000</td>\n",
       "      <td>0.000000</td>\n",
       "      <td>0.0</td>\n",
       "      <td>...</td>\n",
       "      <td>0</td>\n",
       "      <td>0</td>\n",
       "      <td>1</td>\n",
       "      <td>1</td>\n",
       "      <td>0</td>\n",
       "      <td>0</td>\n",
       "      <td>1</td>\n",
       "      <td>0</td>\n",
       "      <td>0</td>\n",
       "      <td>1</td>\n",
       "    </tr>\n",
       "    <tr>\n",
       "      <th>2</th>\n",
       "      <td>42531</td>\n",
       "      <td>5</td>\n",
       "      <td>2018</td>\n",
       "      <td>4</td>\n",
       "      <td>1</td>\n",
       "      <td>3</td>\n",
       "      <td>319000.000000</td>\n",
       "      <td>60000.000000</td>\n",
       "      <td>40000.000000</td>\n",
       "      <td>0.0</td>\n",
       "      <td>...</td>\n",
       "      <td>0</td>\n",
       "      <td>0</td>\n",
       "      <td>1</td>\n",
       "      <td>1</td>\n",
       "      <td>0</td>\n",
       "      <td>0</td>\n",
       "      <td>1</td>\n",
       "      <td>0</td>\n",
       "      <td>0</td>\n",
       "      <td>2</td>\n",
       "    </tr>\n",
       "    <tr>\n",
       "      <th>3</th>\n",
       "      <td>2443</td>\n",
       "      <td>6</td>\n",
       "      <td>2018</td>\n",
       "      <td>0</td>\n",
       "      <td>0</td>\n",
       "      <td>0</td>\n",
       "      <td>0.000000</td>\n",
       "      <td>0.000000</td>\n",
       "      <td>0.000000</td>\n",
       "      <td>0.0</td>\n",
       "      <td>...</td>\n",
       "      <td>0</td>\n",
       "      <td>0</td>\n",
       "      <td>1</td>\n",
       "      <td>1</td>\n",
       "      <td>0</td>\n",
       "      <td>0</td>\n",
       "      <td>1</td>\n",
       "      <td>0</td>\n",
       "      <td>0</td>\n",
       "      <td>3</td>\n",
       "    </tr>\n",
       "    <tr>\n",
       "      <th>4</th>\n",
       "      <td>42530</td>\n",
       "      <td>7</td>\n",
       "      <td>2018</td>\n",
       "      <td>0</td>\n",
       "      <td>0</td>\n",
       "      <td>0</td>\n",
       "      <td>0.000000</td>\n",
       "      <td>0.000000</td>\n",
       "      <td>0.000000</td>\n",
       "      <td>0.0</td>\n",
       "      <td>...</td>\n",
       "      <td>0</td>\n",
       "      <td>0</td>\n",
       "      <td>1</td>\n",
       "      <td>1</td>\n",
       "      <td>0</td>\n",
       "      <td>0</td>\n",
       "      <td>1</td>\n",
       "      <td>0</td>\n",
       "      <td>0</td>\n",
       "      <td>4</td>\n",
       "    </tr>\n",
       "  </tbody>\n",
       "</table>\n",
       "<p>5 rows × 635 columns</p>\n",
       "</div>"
      ],
      "text/plain": [
       "   index  month  year  monthly_number_of_sessions  monthly_unique_sessions  \\\n",
       "0   2445      3  2018                          13                        2   \n",
       "1  47628      4  2018                           0                        0   \n",
       "2  42531      5  2018                           4                        1   \n",
       "3   2443      6  2018                           0                        0   \n",
       "4  42530      7  2018                           0                        0   \n",
       "\n",
       "   monthly_repeated_sessions  monthly_avg_length_of_session  \\\n",
       "0                         11                  392153.846154   \n",
       "1                          0                       0.000000   \n",
       "2                          3                  319000.000000   \n",
       "3                          0                       0.000000   \n",
       "4                          0                       0.000000   \n",
       "\n",
       "   monthly_avg_light_activity  monthly_avg_moderate_activity  \\\n",
       "0                91923.076923                   60769.230769   \n",
       "1                    0.000000                       0.000000   \n",
       "2                60000.000000                   40000.000000   \n",
       "3                    0.000000                       0.000000   \n",
       "4                    0.000000                       0.000000   \n",
       "\n",
       "   monthly_avg_vigorous_activity  ...  HI  LI  MI  HD  LD  MD  A  C  D  \\\n",
       "0                            0.0  ...   0   0   1   1   0   0  1  0  0   \n",
       "1                            0.0  ...   0   0   1   1   0   0  1  0  0   \n",
       "2                            0.0  ...   0   0   1   1   0   0  1  0  0   \n",
       "3                            0.0  ...   0   0   1   1   0   0  1  0  0   \n",
       "4                            0.0  ...   0   0   1   1   0   0  1  0  0   \n",
       "\n",
       "   cross_val_ind  \n",
       "0              0  \n",
       "1              1  \n",
       "2              2  \n",
       "3              3  \n",
       "4              4  \n",
       "\n",
       "[5 rows x 635 columns]"
      ]
     },
     "execution_count": 112,
     "metadata": {},
     "output_type": "execute_result"
    }
   ],
   "source": [
    "X_train_ind.head()"
   ]
  },
  {
   "cell_type": "code",
   "execution_count": 113,
   "metadata": {},
   "outputs": [],
   "source": [
    "# NEW SPLITS: get indices for time dependent modeling \n",
    "\n",
    "# split 0\n",
    "# train: 2018-03 to 2019-01; test: 2019-02\n",
    "train_0 = X_train_ind[(X_train_ind['cross_val_ind'] < 11)].index\n",
    "test_0 = X_train_ind[(X_train_ind['cross_val_ind'] == 11)].index\n",
    "\n",
    "# split 1\n",
    "# train: 2018-03 to 2019-02; test: 2019-03\n",
    "train_1 = train_0.union(test_0)\n",
    "test_1 = X_train_ind[(X_train_ind['cross_val_ind'] == 12)].index\n",
    "\n",
    "# split 2\n",
    "# train: 2018-03 to 2019-03; test: 2019-04\n",
    "train_2 = train_1.union(test_1)\n",
    "test_2 = X_train_ind[(X_train_ind['cross_val_ind'] == 13)].index\n",
    "\n",
    "# split 3\n",
    "# train: 2018-03 to 2019-04; test: 2019-05\n",
    "train_3 = train_2.union(test_2)\n",
    "test_3 = X_train_ind[(X_train_ind['cross_val_ind'] == 14)].index\n",
    "\n",
    "# split 4\n",
    "# train: 2018-03 to 2019-05; test: 2019-04 to 2019-06\n",
    "train_4 = train_3.union(test_3)\n",
    "test_4 = X_train_ind[(X_train_ind['cross_val_ind'] == 15)].index"
   ]
  },
  {
   "cell_type": "code",
   "execution_count": 23,
   "metadata": {},
   "outputs": [],
   "source": [
    "# create a list of folds\n",
    "folds = [(train_0, test_0), (train_1, test_1), (train_2, test_2), \n",
    "         (train_3, test_3), (train_4, test_4)]"
   ]
  },
  {
   "cell_type": "markdown",
   "metadata": {},
   "source": [
    "### Train gradient boosting models"
   ]
  },
  {
   "cell_type": "markdown",
   "metadata": {},
   "source": [
    "#### Fit a default `XGBRegressor()`"
   ]
  },
  {
   "cell_type": "code",
   "execution_count": 25,
   "metadata": {},
   "outputs": [
    {
     "data": {
      "text/plain": [
       "XGBRegressor(base_score=0.5, booster='gbtree', colsample_bylevel=1,\n",
       "             colsample_bynode=1, colsample_bytree=1, gamma=0, gpu_id=-1,\n",
       "             importance_type='gain', interaction_constraints='',\n",
       "             learning_rate=0.300000012, max_delta_step=0, max_depth=6,\n",
       "             min_child_weight=1, missing=nan, monotone_constraints='()',\n",
       "             n_estimators=100, n_jobs=0, num_parallel_tree=1, random_state=2020,\n",
       "             reg_alpha=0, reg_lambda=1, scale_pos_weight=1, subsample=1,\n",
       "             tree_method='exact', validate_parameters=1, verbosity=1)"
      ]
     },
     "execution_count": 25,
     "metadata": {},
     "output_type": "execute_result"
    }
   ],
   "source": [
    "xgbr = XGBRegressor(verbosity=1, random_state=2020)\n",
    "xgbr.fit(X_train, y_train)"
   ]
  },
  {
   "cell_type": "code",
   "execution_count": 27,
   "metadata": {},
   "outputs": [
    {
     "name": "stdout",
     "output_type": "stream",
     "text": [
      "Training RMSE: 25.318972957117463\n",
      "Validation RMSE: 183.399891758579\n"
     ]
    }
   ],
   "source": [
    "# calculate MSE\n",
    "report_performance(xgbr, X_train, y_train, X_valid, y_valid)"
   ]
  },
  {
   "cell_type": "markdown",
   "metadata": {},
   "source": [
    "#### Perform a random search using ~10% of the dataset"
   ]
  },
  {
   "cell_type": "code",
   "execution_count": 153,
   "metadata": {},
   "outputs": [],
   "source": [
    "# create sample of X_train\n",
    "sub_X_train = X_train_ind.sample(4000, random_state=2020).sort_index()\n",
    "\n",
    "# create index used to sample y_train respectively\n",
    "idx = sub_X_train.index.tolist()\n",
    "\n",
    "# reset row index for creating folds\n",
    "sub_X_train = sub_X_train.reset_index()"
   ]
  },
  {
   "cell_type": "code",
   "execution_count": 127,
   "metadata": {},
   "outputs": [],
   "source": [
    "# create sample of y_train\n",
    "sub_y_train = y_train.reset_index().iloc[idx, :]['unacast_session_count']"
   ]
  },
  {
   "cell_type": "code",
   "execution_count": 165,
   "metadata": {},
   "outputs": [],
   "source": [
    "# Splits for sampled data: get indices for time dependent modeling \n",
    "\n",
    "# split 0\n",
    "# train: 2018-03 to 2019-01; test: 2019-02\n",
    "sub_train_0 = sub_X_train[(sub_X_train['cross_val_ind'] < 11)].index\n",
    "sub_test_0 = sub_X_train[(sub_X_train['cross_val_ind'] == 11)].index\n",
    "\n",
    "# split 1\n",
    "# train: 2018-03 to 2019-02; test: 2019-03\n",
    "sub_train_1 = sub_train_0.union(sub_test_0)\n",
    "sub_test_1 = sub_X_train[(sub_X_train['cross_val_ind'] == 12)].index\n",
    "\n",
    "# split 2\n",
    "# train: 2018-03 to 2019-03; test: 2019-04\n",
    "sub_train_2 = sub_train_1.union(sub_test_1)\n",
    "sub_test_2 = sub_X_train[(sub_X_train['cross_val_ind'] == 13)].index\n",
    "\n",
    "# split 3\n",
    "# train: 2018-03 to 2019-04; test: 2019-05\n",
    "sub_train_3 = sub_train_2.union(sub_test_2)\n",
    "sub_test_3 = sub_X_train[(sub_X_train['cross_val_ind'] == 14)].index\n",
    "\n",
    "# split 4\n",
    "# train: 2018-03 to 2019-05; test: 2019-04 to 2019-06\n",
    "sub_train_4 = train_3.union(sub_test_3)\n",
    "sub_test_4 = sub_X_train[(sub_X_train['cross_val_ind'] == 15)].index"
   ]
  },
  {
   "cell_type": "code",
   "execution_count": 166,
   "metadata": {},
   "outputs": [],
   "source": [
    "# create a list of folds\n",
    "sub_folds = [(sub_train_0, sub_test_0), (sub_train_1, sub_test_1), (sub_train_2, sub_test_2), \n",
    "             (sub_train_3, sub_test_3), (sub_train_4, sub_test_4)]"
   ]
  },
  {
   "cell_type": "code",
   "execution_count": 168,
   "metadata": {},
   "outputs": [],
   "source": [
    "param_grid = {'n_estimators': [100, 200, 300, 400, 500],\n",
    "              'learning_rate': [0.01, 0.03, 0.05, 0.1],\n",
    "              'max_depth': [3, 4, 5, 6, 7],\n",
    "              'colsample_bytree': [0.2, 0.4, 0.6, 0.8, 1]}"
   ]
  },
  {
   "cell_type": "code",
   "execution_count": 170,
   "metadata": {},
   "outputs": [
    {
     "name": "stdout",
     "output_type": "stream",
     "text": [
      "Fitting 5 folds for each of 500 candidates, totalling 2500 fits\n"
     ]
    },
    {
     "name": "stderr",
     "output_type": "stream",
     "text": [
      "[Parallel(n_jobs=-1)]: Using backend LokyBackend with 4 concurrent workers.\n",
      "[Parallel(n_jobs=-1)]: Done   5 tasks      | elapsed:    9.3s\n",
      "[Parallel(n_jobs=-1)]: Done   6 tasks      | elapsed:    9.3s\n",
      "[Parallel(n_jobs=-1)]: Done   7 tasks      | elapsed:    9.3s\n",
      "[Parallel(n_jobs=-1)]: Done   8 tasks      | elapsed:    9.3s\n",
      "[Parallel(n_jobs=-1)]: Done   9 tasks      | elapsed:    9.3s\n",
      "[Parallel(n_jobs=-1)]: Done  10 tasks      | elapsed:    9.3s\n",
      "[Parallel(n_jobs=-1)]: Done  11 tasks      | elapsed:    9.3s\n",
      "[Parallel(n_jobs=-1)]: Done  12 tasks      | elapsed:    9.3s\n"
     ]
    },
    {
     "ename": "IndexError",
     "evalue": "positional indexers are out-of-bounds",
     "output_type": "error",
     "traceback": [
      "\u001b[1;31m---------------------------------------------------------------------------\u001b[0m",
      "\u001b[1;31m_RemoteTraceback\u001b[0m                          Traceback (most recent call last)",
      "\u001b[1;31m_RemoteTraceback\u001b[0m: \n\"\"\"\nTraceback (most recent call last):\n  File \"C:\\Users\\reiko\\.virtualenvs\\capstone_machine_learning-9RBodirp\\lib\\site-packages\\pandas\\core\\indexing.py\", line 2111, in _get_list_axis\n    return self.obj._take_with_is_copy(key, axis=axis)\n  File \"C:\\Users\\reiko\\.virtualenvs\\capstone_machine_learning-9RBodirp\\lib\\site-packages\\pandas\\core\\generic.py\", line 3409, in _take_with_is_copy\n    result = self.take(indices=indices, axis=axis, **kwargs)\n  File \"C:\\Users\\reiko\\.virtualenvs\\capstone_machine_learning-9RBodirp\\lib\\site-packages\\pandas\\core\\generic.py\", line 3395, in take\n    indices, axis=self._get_block_manager_axis(axis), verify=True\n  File \"C:\\Users\\reiko\\.virtualenvs\\capstone_machine_learning-9RBodirp\\lib\\site-packages\\pandas\\core\\internals\\managers.py\", line 1386, in take\n    indexer = maybe_convert_indices(indexer, n)\n  File \"C:\\Users\\reiko\\.virtualenvs\\capstone_machine_learning-9RBodirp\\lib\\site-packages\\pandas\\core\\indexers.py\", line 213, in maybe_convert_indices\n    raise IndexError(\"indices are out-of-bounds\")\nIndexError: indices are out-of-bounds\n\nDuring handling of the above exception, another exception occurred:\n\nTraceback (most recent call last):\n  File \"C:\\Users\\reiko\\.virtualenvs\\capstone_machine_learning-9RBodirp\\lib\\site-packages\\joblib\\externals\\loky\\process_executor.py\", line 431, in _process_worker\n    r = call_item()\n  File \"C:\\Users\\reiko\\.virtualenvs\\capstone_machine_learning-9RBodirp\\lib\\site-packages\\joblib\\externals\\loky\\process_executor.py\", line 285, in __call__\n    return self.fn(*self.args, **self.kwargs)\n  File \"C:\\Users\\reiko\\.virtualenvs\\capstone_machine_learning-9RBodirp\\lib\\site-packages\\joblib\\_parallel_backends.py\", line 593, in __call__\n    return self.func(*args, **kwargs)\n  File \"C:\\Users\\reiko\\.virtualenvs\\capstone_machine_learning-9RBodirp\\lib\\site-packages\\joblib\\parallel.py\", line 253, in __call__\n    for func, args, kwargs in self.items]\n  File \"C:\\Users\\reiko\\.virtualenvs\\capstone_machine_learning-9RBodirp\\lib\\site-packages\\joblib\\parallel.py\", line 253, in <listcomp>\n    for func, args, kwargs in self.items]\n  File \"C:\\Users\\reiko\\.virtualenvs\\capstone_machine_learning-9RBodirp\\lib\\site-packages\\sklearn\\model_selection\\_validation.py\", line 524, in _fit_and_score\n    X_train, y_train = _safe_split(estimator, X, y, train)\n  File \"C:\\Users\\reiko\\.virtualenvs\\capstone_machine_learning-9RBodirp\\lib\\site-packages\\sklearn\\utils\\metaestimators.py\", line 204, in _safe_split\n    X_subset = _safe_indexing(X, indices)\n  File \"C:\\Users\\reiko\\.virtualenvs\\capstone_machine_learning-9RBodirp\\lib\\site-packages\\sklearn\\utils\\__init__.py\", line 393, in _safe_indexing\n    return _pandas_indexing(X, indices, indices_dtype, axis=axis)\n  File \"C:\\Users\\reiko\\.virtualenvs\\capstone_machine_learning-9RBodirp\\lib\\site-packages\\sklearn\\utils\\__init__.py\", line 195, in _pandas_indexing\n    return indexer[:, key] if axis else indexer[key]\n  File \"C:\\Users\\reiko\\.virtualenvs\\capstone_machine_learning-9RBodirp\\lib\\site-packages\\pandas\\core\\indexing.py\", line 1768, in __getitem__\n    return self._getitem_axis(maybe_callable, axis=axis)\n  File \"C:\\Users\\reiko\\.virtualenvs\\capstone_machine_learning-9RBodirp\\lib\\site-packages\\pandas\\core\\indexing.py\", line 2129, in _getitem_axis\n    return self._get_list_axis(key, axis=axis)\n  File \"C:\\Users\\reiko\\.virtualenvs\\capstone_machine_learning-9RBodirp\\lib\\site-packages\\pandas\\core\\indexing.py\", line 2114, in _get_list_axis\n    raise IndexError(\"positional indexers are out-of-bounds\")\nIndexError: positional indexers are out-of-bounds\n\"\"\"",
      "\nThe above exception was the direct cause of the following exception:\n",
      "\u001b[1;31mIndexError\u001b[0m                                Traceback (most recent call last)",
      "\u001b[1;32m<ipython-input-170-355d2729db3f>\u001b[0m in \u001b[0;36m<module>\u001b[1;34m\u001b[0m\n\u001b[0;32m      5\u001b[0m                            n_jobs=-1, cv=sub_folds, verbose=10)\n\u001b[0;32m      6\u001b[0m \u001b[1;33m\u001b[0m\u001b[0m\n\u001b[1;32m----> 7\u001b[1;33m \u001b[0mxgbr_rs_sub\u001b[0m\u001b[1;33m.\u001b[0m\u001b[0mfit\u001b[0m\u001b[1;33m(\u001b[0m\u001b[0msub_X_train\u001b[0m\u001b[1;33m,\u001b[0m \u001b[0msub_y_train\u001b[0m\u001b[1;33m)\u001b[0m\u001b[1;33m\u001b[0m\u001b[1;33m\u001b[0m\u001b[0m\n\u001b[0m",
      "\u001b[1;32m~\\.virtualenvs\\capstone_machine_learning-9RBodirp\\lib\\site-packages\\sklearn\\utils\\validation.py\u001b[0m in \u001b[0;36minner_f\u001b[1;34m(*args, **kwargs)\u001b[0m\n\u001b[0;32m     71\u001b[0m                           FutureWarning)\n\u001b[0;32m     72\u001b[0m         \u001b[0mkwargs\u001b[0m\u001b[1;33m.\u001b[0m\u001b[0mupdate\u001b[0m\u001b[1;33m(\u001b[0m\u001b[1;33m{\u001b[0m\u001b[0mk\u001b[0m\u001b[1;33m:\u001b[0m \u001b[0marg\u001b[0m \u001b[1;32mfor\u001b[0m \u001b[0mk\u001b[0m\u001b[1;33m,\u001b[0m \u001b[0marg\u001b[0m \u001b[1;32min\u001b[0m \u001b[0mzip\u001b[0m\u001b[1;33m(\u001b[0m\u001b[0msig\u001b[0m\u001b[1;33m.\u001b[0m\u001b[0mparameters\u001b[0m\u001b[1;33m,\u001b[0m \u001b[0margs\u001b[0m\u001b[1;33m)\u001b[0m\u001b[1;33m}\u001b[0m\u001b[1;33m)\u001b[0m\u001b[1;33m\u001b[0m\u001b[1;33m\u001b[0m\u001b[0m\n\u001b[1;32m---> 73\u001b[1;33m         \u001b[1;32mreturn\u001b[0m \u001b[0mf\u001b[0m\u001b[1;33m(\u001b[0m\u001b[1;33m**\u001b[0m\u001b[0mkwargs\u001b[0m\u001b[1;33m)\u001b[0m\u001b[1;33m\u001b[0m\u001b[1;33m\u001b[0m\u001b[0m\n\u001b[0m\u001b[0;32m     74\u001b[0m     \u001b[1;32mreturn\u001b[0m \u001b[0minner_f\u001b[0m\u001b[1;33m\u001b[0m\u001b[1;33m\u001b[0m\u001b[0m\n\u001b[0;32m     75\u001b[0m \u001b[1;33m\u001b[0m\u001b[0m\n",
      "\u001b[1;32m~\\.virtualenvs\\capstone_machine_learning-9RBodirp\\lib\\site-packages\\sklearn\\model_selection\\_search.py\u001b[0m in \u001b[0;36mfit\u001b[1;34m(self, X, y, groups, **fit_params)\u001b[0m\n\u001b[0;32m    734\u001b[0m                 \u001b[1;32mreturn\u001b[0m \u001b[0mresults\u001b[0m\u001b[1;33m\u001b[0m\u001b[1;33m\u001b[0m\u001b[0m\n\u001b[0;32m    735\u001b[0m \u001b[1;33m\u001b[0m\u001b[0m\n\u001b[1;32m--> 736\u001b[1;33m             \u001b[0mself\u001b[0m\u001b[1;33m.\u001b[0m\u001b[0m_run_search\u001b[0m\u001b[1;33m(\u001b[0m\u001b[0mevaluate_candidates\u001b[0m\u001b[1;33m)\u001b[0m\u001b[1;33m\u001b[0m\u001b[1;33m\u001b[0m\u001b[0m\n\u001b[0m\u001b[0;32m    737\u001b[0m \u001b[1;33m\u001b[0m\u001b[0m\n\u001b[0;32m    738\u001b[0m         \u001b[1;31m# For multi-metric evaluation, store the best_index_, best_params_ and\u001b[0m\u001b[1;33m\u001b[0m\u001b[1;33m\u001b[0m\u001b[1;33m\u001b[0m\u001b[0m\n",
      "\u001b[1;32m~\\.virtualenvs\\capstone_machine_learning-9RBodirp\\lib\\site-packages\\sklearn\\model_selection\\_search.py\u001b[0m in \u001b[0;36m_run_search\u001b[1;34m(self, evaluate_candidates)\u001b[0m\n\u001b[0;32m   1186\u001b[0m     \u001b[1;32mdef\u001b[0m \u001b[0m_run_search\u001b[0m\u001b[1;33m(\u001b[0m\u001b[0mself\u001b[0m\u001b[1;33m,\u001b[0m \u001b[0mevaluate_candidates\u001b[0m\u001b[1;33m)\u001b[0m\u001b[1;33m:\u001b[0m\u001b[1;33m\u001b[0m\u001b[1;33m\u001b[0m\u001b[0m\n\u001b[0;32m   1187\u001b[0m         \u001b[1;34m\"\"\"Search all candidates in param_grid\"\"\"\u001b[0m\u001b[1;33m\u001b[0m\u001b[1;33m\u001b[0m\u001b[0m\n\u001b[1;32m-> 1188\u001b[1;33m         \u001b[0mevaluate_candidates\u001b[0m\u001b[1;33m(\u001b[0m\u001b[0mParameterGrid\u001b[0m\u001b[1;33m(\u001b[0m\u001b[0mself\u001b[0m\u001b[1;33m.\u001b[0m\u001b[0mparam_grid\u001b[0m\u001b[1;33m)\u001b[0m\u001b[1;33m)\u001b[0m\u001b[1;33m\u001b[0m\u001b[1;33m\u001b[0m\u001b[0m\n\u001b[0m\u001b[0;32m   1189\u001b[0m \u001b[1;33m\u001b[0m\u001b[0m\n\u001b[0;32m   1190\u001b[0m \u001b[1;33m\u001b[0m\u001b[0m\n",
      "\u001b[1;32m~\\.virtualenvs\\capstone_machine_learning-9RBodirp\\lib\\site-packages\\sklearn\\model_selection\\_search.py\u001b[0m in \u001b[0;36mevaluate_candidates\u001b[1;34m(candidate_params)\u001b[0m\n\u001b[0;32m    713\u001b[0m                                \u001b[1;32mfor\u001b[0m \u001b[0mparameters\u001b[0m\u001b[1;33m,\u001b[0m \u001b[1;33m(\u001b[0m\u001b[0mtrain\u001b[0m\u001b[1;33m,\u001b[0m \u001b[0mtest\u001b[0m\u001b[1;33m)\u001b[0m\u001b[1;33m\u001b[0m\u001b[1;33m\u001b[0m\u001b[0m\n\u001b[0;32m    714\u001b[0m                                in product(candidate_params,\n\u001b[1;32m--> 715\u001b[1;33m                                           cv.split(X, y, groups)))\n\u001b[0m\u001b[0;32m    716\u001b[0m \u001b[1;33m\u001b[0m\u001b[0m\n\u001b[0;32m    717\u001b[0m                 \u001b[1;32mif\u001b[0m \u001b[0mlen\u001b[0m\u001b[1;33m(\u001b[0m\u001b[0mout\u001b[0m\u001b[1;33m)\u001b[0m \u001b[1;33m<\u001b[0m \u001b[1;36m1\u001b[0m\u001b[1;33m:\u001b[0m\u001b[1;33m\u001b[0m\u001b[1;33m\u001b[0m\u001b[0m\n",
      "\u001b[1;32m~\\.virtualenvs\\capstone_machine_learning-9RBodirp\\lib\\site-packages\\joblib\\parallel.py\u001b[0m in \u001b[0;36m__call__\u001b[1;34m(self, iterable)\u001b[0m\n\u001b[0;32m   1040\u001b[0m \u001b[1;33m\u001b[0m\u001b[0m\n\u001b[0;32m   1041\u001b[0m             \u001b[1;32mwith\u001b[0m \u001b[0mself\u001b[0m\u001b[1;33m.\u001b[0m\u001b[0m_backend\u001b[0m\u001b[1;33m.\u001b[0m\u001b[0mretrieval_context\u001b[0m\u001b[1;33m(\u001b[0m\u001b[1;33m)\u001b[0m\u001b[1;33m:\u001b[0m\u001b[1;33m\u001b[0m\u001b[1;33m\u001b[0m\u001b[0m\n\u001b[1;32m-> 1042\u001b[1;33m                 \u001b[0mself\u001b[0m\u001b[1;33m.\u001b[0m\u001b[0mretrieve\u001b[0m\u001b[1;33m(\u001b[0m\u001b[1;33m)\u001b[0m\u001b[1;33m\u001b[0m\u001b[1;33m\u001b[0m\u001b[0m\n\u001b[0m\u001b[0;32m   1043\u001b[0m             \u001b[1;31m# Make sure that we get a last message telling us we are done\u001b[0m\u001b[1;33m\u001b[0m\u001b[1;33m\u001b[0m\u001b[1;33m\u001b[0m\u001b[0m\n\u001b[0;32m   1044\u001b[0m             \u001b[0melapsed_time\u001b[0m \u001b[1;33m=\u001b[0m \u001b[0mtime\u001b[0m\u001b[1;33m.\u001b[0m\u001b[0mtime\u001b[0m\u001b[1;33m(\u001b[0m\u001b[1;33m)\u001b[0m \u001b[1;33m-\u001b[0m \u001b[0mself\u001b[0m\u001b[1;33m.\u001b[0m\u001b[0m_start_time\u001b[0m\u001b[1;33m\u001b[0m\u001b[1;33m\u001b[0m\u001b[0m\n",
      "\u001b[1;32m~\\.virtualenvs\\capstone_machine_learning-9RBodirp\\lib\\site-packages\\joblib\\parallel.py\u001b[0m in \u001b[0;36mretrieve\u001b[1;34m(self)\u001b[0m\n\u001b[0;32m    919\u001b[0m             \u001b[1;32mtry\u001b[0m\u001b[1;33m:\u001b[0m\u001b[1;33m\u001b[0m\u001b[1;33m\u001b[0m\u001b[0m\n\u001b[0;32m    920\u001b[0m                 \u001b[1;32mif\u001b[0m \u001b[0mgetattr\u001b[0m\u001b[1;33m(\u001b[0m\u001b[0mself\u001b[0m\u001b[1;33m.\u001b[0m\u001b[0m_backend\u001b[0m\u001b[1;33m,\u001b[0m \u001b[1;34m'supports_timeout'\u001b[0m\u001b[1;33m,\u001b[0m \u001b[1;32mFalse\u001b[0m\u001b[1;33m)\u001b[0m\u001b[1;33m:\u001b[0m\u001b[1;33m\u001b[0m\u001b[1;33m\u001b[0m\u001b[0m\n\u001b[1;32m--> 921\u001b[1;33m                     \u001b[0mself\u001b[0m\u001b[1;33m.\u001b[0m\u001b[0m_output\u001b[0m\u001b[1;33m.\u001b[0m\u001b[0mextend\u001b[0m\u001b[1;33m(\u001b[0m\u001b[0mjob\u001b[0m\u001b[1;33m.\u001b[0m\u001b[0mget\u001b[0m\u001b[1;33m(\u001b[0m\u001b[0mtimeout\u001b[0m\u001b[1;33m=\u001b[0m\u001b[0mself\u001b[0m\u001b[1;33m.\u001b[0m\u001b[0mtimeout\u001b[0m\u001b[1;33m)\u001b[0m\u001b[1;33m)\u001b[0m\u001b[1;33m\u001b[0m\u001b[1;33m\u001b[0m\u001b[0m\n\u001b[0m\u001b[0;32m    922\u001b[0m                 \u001b[1;32melse\u001b[0m\u001b[1;33m:\u001b[0m\u001b[1;33m\u001b[0m\u001b[1;33m\u001b[0m\u001b[0m\n\u001b[0;32m    923\u001b[0m                     \u001b[0mself\u001b[0m\u001b[1;33m.\u001b[0m\u001b[0m_output\u001b[0m\u001b[1;33m.\u001b[0m\u001b[0mextend\u001b[0m\u001b[1;33m(\u001b[0m\u001b[0mjob\u001b[0m\u001b[1;33m.\u001b[0m\u001b[0mget\u001b[0m\u001b[1;33m(\u001b[0m\u001b[1;33m)\u001b[0m\u001b[1;33m)\u001b[0m\u001b[1;33m\u001b[0m\u001b[1;33m\u001b[0m\u001b[0m\n",
      "\u001b[1;32m~\\.virtualenvs\\capstone_machine_learning-9RBodirp\\lib\\site-packages\\joblib\\_parallel_backends.py\u001b[0m in \u001b[0;36mwrap_future_result\u001b[1;34m(future, timeout)\u001b[0m\n\u001b[0;32m    538\u001b[0m         AsyncResults.get from multiprocessing.\"\"\"\n\u001b[0;32m    539\u001b[0m         \u001b[1;32mtry\u001b[0m\u001b[1;33m:\u001b[0m\u001b[1;33m\u001b[0m\u001b[1;33m\u001b[0m\u001b[0m\n\u001b[1;32m--> 540\u001b[1;33m             \u001b[1;32mreturn\u001b[0m \u001b[0mfuture\u001b[0m\u001b[1;33m.\u001b[0m\u001b[0mresult\u001b[0m\u001b[1;33m(\u001b[0m\u001b[0mtimeout\u001b[0m\u001b[1;33m=\u001b[0m\u001b[0mtimeout\u001b[0m\u001b[1;33m)\u001b[0m\u001b[1;33m\u001b[0m\u001b[1;33m\u001b[0m\u001b[0m\n\u001b[0m\u001b[0;32m    541\u001b[0m         \u001b[1;32mexcept\u001b[0m \u001b[0mCfTimeoutError\u001b[0m\u001b[1;33m:\u001b[0m\u001b[1;33m\u001b[0m\u001b[1;33m\u001b[0m\u001b[0m\n\u001b[0;32m    542\u001b[0m             \u001b[1;32mraise\u001b[0m \u001b[0mTimeoutError\u001b[0m\u001b[1;33m(\u001b[0m\u001b[1;33m)\u001b[0m\u001b[1;33m\u001b[0m\u001b[1;33m\u001b[0m\u001b[0m\n",
      "\u001b[1;32mc:\\users\\reiko\\anaconda3\\lib\\concurrent\\futures\\_base.py\u001b[0m in \u001b[0;36mresult\u001b[1;34m(self, timeout)\u001b[0m\n\u001b[0;32m    426\u001b[0m                 \u001b[1;32mraise\u001b[0m \u001b[0mCancelledError\u001b[0m\u001b[1;33m(\u001b[0m\u001b[1;33m)\u001b[0m\u001b[1;33m\u001b[0m\u001b[1;33m\u001b[0m\u001b[0m\n\u001b[0;32m    427\u001b[0m             \u001b[1;32melif\u001b[0m \u001b[0mself\u001b[0m\u001b[1;33m.\u001b[0m\u001b[0m_state\u001b[0m \u001b[1;33m==\u001b[0m \u001b[0mFINISHED\u001b[0m\u001b[1;33m:\u001b[0m\u001b[1;33m\u001b[0m\u001b[1;33m\u001b[0m\u001b[0m\n\u001b[1;32m--> 428\u001b[1;33m                 \u001b[1;32mreturn\u001b[0m \u001b[0mself\u001b[0m\u001b[1;33m.\u001b[0m\u001b[0m__get_result\u001b[0m\u001b[1;33m(\u001b[0m\u001b[1;33m)\u001b[0m\u001b[1;33m\u001b[0m\u001b[1;33m\u001b[0m\u001b[0m\n\u001b[0m\u001b[0;32m    429\u001b[0m \u001b[1;33m\u001b[0m\u001b[0m\n\u001b[0;32m    430\u001b[0m             \u001b[0mself\u001b[0m\u001b[1;33m.\u001b[0m\u001b[0m_condition\u001b[0m\u001b[1;33m.\u001b[0m\u001b[0mwait\u001b[0m\u001b[1;33m(\u001b[0m\u001b[0mtimeout\u001b[0m\u001b[1;33m)\u001b[0m\u001b[1;33m\u001b[0m\u001b[1;33m\u001b[0m\u001b[0m\n",
      "\u001b[1;32mc:\\users\\reiko\\anaconda3\\lib\\concurrent\\futures\\_base.py\u001b[0m in \u001b[0;36m__get_result\u001b[1;34m(self)\u001b[0m\n\u001b[0;32m    382\u001b[0m     \u001b[1;32mdef\u001b[0m \u001b[0m__get_result\u001b[0m\u001b[1;33m(\u001b[0m\u001b[0mself\u001b[0m\u001b[1;33m)\u001b[0m\u001b[1;33m:\u001b[0m\u001b[1;33m\u001b[0m\u001b[1;33m\u001b[0m\u001b[0m\n\u001b[0;32m    383\u001b[0m         \u001b[1;32mif\u001b[0m \u001b[0mself\u001b[0m\u001b[1;33m.\u001b[0m\u001b[0m_exception\u001b[0m\u001b[1;33m:\u001b[0m\u001b[1;33m\u001b[0m\u001b[1;33m\u001b[0m\u001b[0m\n\u001b[1;32m--> 384\u001b[1;33m             \u001b[1;32mraise\u001b[0m \u001b[0mself\u001b[0m\u001b[1;33m.\u001b[0m\u001b[0m_exception\u001b[0m\u001b[1;33m\u001b[0m\u001b[1;33m\u001b[0m\u001b[0m\n\u001b[0m\u001b[0;32m    385\u001b[0m         \u001b[1;32melse\u001b[0m\u001b[1;33m:\u001b[0m\u001b[1;33m\u001b[0m\u001b[1;33m\u001b[0m\u001b[0m\n\u001b[0;32m    386\u001b[0m             \u001b[1;32mreturn\u001b[0m \u001b[0mself\u001b[0m\u001b[1;33m.\u001b[0m\u001b[0m_result\u001b[0m\u001b[1;33m\u001b[0m\u001b[1;33m\u001b[0m\u001b[0m\n",
      "\u001b[1;31mIndexError\u001b[0m: positional indexers are out-of-bounds"
     ]
    }
   ],
   "source": [
    "# perform random search\n",
    "xgbr_sub = XGBRegressor(verbosity=1, random_state=2020)\n",
    "\n",
    "xgbr_rs_sub = GridSearchCV(xgbr_sub, param_grid, scoring='neg_mean_squared_error',\n",
    "                           n_jobs=-1, cv=sub_folds, verbose=10)\n",
    "\n",
    "xgbr_rs_sub.fit(sub_X_train, sub_y_train)"
   ]
  },
  {
   "cell_type": "markdown",
   "metadata": {},
   "source": [
    "#### Perform a random search using the whole dataset"
   ]
  },
  {
   "cell_type": "code",
   "execution_count": 28,
   "metadata": {},
   "outputs": [],
   "source": [
    "xgbr_params = {'n_estimators': [200, 250, 300, 350, 400],\n",
    "               'max_depth': [3, 4, 5, 6, 7],\n",
    "               'colsample_bytree': [0.6, 0.8, 1],\n",
    "               'subsample': [0.8, 0.9, 1]}"
   ]
  },
  {
   "cell_type": "code",
   "execution_count": 30,
   "metadata": {},
   "outputs": [
    {
     "name": "stdout",
     "output_type": "stream",
     "text": [
      "Fitting 5 folds for each of 10 candidates, totalling 50 fits\n"
     ]
    },
    {
     "name": "stderr",
     "output_type": "stream",
     "text": [
      "[Parallel(n_jobs=-1)]: Using backend LokyBackend with 8 concurrent workers.\n",
      "[Parallel(n_jobs=-1)]: Done   2 tasks      | elapsed:  2.3min\n",
      "[Parallel(n_jobs=-1)]: Done   9 tasks      | elapsed:  4.5min\n",
      "[Parallel(n_jobs=-1)]: Done  16 tasks      | elapsed:  6.4min\n",
      "[Parallel(n_jobs=-1)]: Done  25 tasks      | elapsed: 10.2min\n",
      "[Parallel(n_jobs=-1)]: Done  34 tasks      | elapsed: 13.8min\n",
      "[Parallel(n_jobs=-1)]: Done  41 out of  50 | elapsed: 15.8min remaining:  3.5min\n",
      "[Parallel(n_jobs=-1)]: Done  47 out of  50 | elapsed: 17.5min remaining:  1.1min\n",
      "[Parallel(n_jobs=-1)]: Done  50 out of  50 | elapsed: 18.4min finished\n"
     ]
    },
    {
     "data": {
      "text/plain": [
       "RandomizedSearchCV(cv=[(Int64Index([    0,     1,     2,     3,     4,     5,     6,     7,     8,\n",
       "                9,\n",
       "            ...\n",
       "            39619, 39620, 39621, 39622, 39623, 39624, 39625, 39626, 39627,\n",
       "            39628],\n",
       "           dtype='int64', length=27244),\n",
       "                        Int64Index([   11,    26,    42,    58,    73,    89,   105,   121,   137,\n",
       "              153,\n",
       "            ...\n",
       "            39488, 39504, 39518, 39534, 39550, 39566, 39581, 39597, 39613,\n",
       "            39629],\n",
       "           dtype='int64', length=2451)),\n",
       "                       (Int64Index([    0,     1,     2,     3,     4,     5,     6,     7,     8,\n",
       "                9,\n",
       "            ...\n",
       "            39620, 39621, 39622, 39623, 3962...\n",
       "                                          random_state=2020, reg_alpha=None,\n",
       "                                          reg_lambda=None,\n",
       "                                          scale_pos_weight=None, subsample=None,\n",
       "                                          tree_method=None,\n",
       "                                          validate_parameters=None,\n",
       "                                          verbosity=1),\n",
       "                   n_jobs=-1,\n",
       "                   param_distributions={'colsample_bytree': [0.6, 0.8, 1],\n",
       "                                        'max_depth': [3, 4, 5, 6, 7],\n",
       "                                        'n_estimators': [200, 250, 300, 350,\n",
       "                                                         400],\n",
       "                                        'subsample': [0.8, 0.9, 1]},\n",
       "                   random_state=2020, scoring='neg_mean_squared_error',\n",
       "                   verbose=10)"
      ]
     },
     "execution_count": 30,
     "metadata": {},
     "output_type": "execute_result"
    }
   ],
   "source": [
    "xgbr_opt = XGBRegressor(verbosity=1, random_state=2020)\n",
    "\n",
    "xgbr_rs = RandomizedSearchCV(xgbr_opt, xgbr_params, scoring='neg_mean_squared_error',\n",
    "                             n_jobs=-1, cv=folds, verbose=10, random_state=2020)\n",
    "\n",
    "xgbr_rs.fit(X_train, y_train)"
   ]
  },
  {
   "cell_type": "code",
   "execution_count": 31,
   "metadata": {},
   "outputs": [
    {
     "name": "stdout",
     "output_type": "stream",
     "text": [
      "{'subsample': 0.9, 'n_estimators': 350, 'max_depth': 3, 'colsample_bytree': 0.8}\n"
     ]
    },
    {
     "data": {
      "text/html": [
       "<div>\n",
       "<style scoped>\n",
       "    .dataframe tbody tr th:only-of-type {\n",
       "        vertical-align: middle;\n",
       "    }\n",
       "\n",
       "    .dataframe tbody tr th {\n",
       "        vertical-align: top;\n",
       "    }\n",
       "\n",
       "    .dataframe thead th {\n",
       "        text-align: right;\n",
       "    }\n",
       "</style>\n",
       "<table border=\"1\" class=\"dataframe\">\n",
       "  <thead>\n",
       "    <tr style=\"text-align: right;\">\n",
       "      <th></th>\n",
       "      <th>mean_fit_time</th>\n",
       "      <th>std_fit_time</th>\n",
       "      <th>mean_score_time</th>\n",
       "      <th>std_score_time</th>\n",
       "      <th>param_subsample</th>\n",
       "      <th>param_n_estimators</th>\n",
       "      <th>param_max_depth</th>\n",
       "      <th>param_colsample_bytree</th>\n",
       "      <th>params</th>\n",
       "      <th>split0_test_score</th>\n",
       "      <th>split1_test_score</th>\n",
       "      <th>split2_test_score</th>\n",
       "      <th>split3_test_score</th>\n",
       "      <th>split4_test_score</th>\n",
       "      <th>mean_test_score</th>\n",
       "      <th>std_test_score</th>\n",
       "      <th>rank_test_score</th>\n",
       "    </tr>\n",
       "  </thead>\n",
       "  <tbody>\n",
       "    <tr>\n",
       "      <th>0</th>\n",
       "      <td>220.838542</td>\n",
       "      <td>22.724874</td>\n",
       "      <td>0.096678</td>\n",
       "      <td>0.002695</td>\n",
       "      <td>1</td>\n",
       "      <td>200</td>\n",
       "      <td>7</td>\n",
       "      <td>1</td>\n",
       "      <td>{'subsample': 1, 'n_estimators': 200, 'max_dep...</td>\n",
       "      <td>-20065.145285</td>\n",
       "      <td>-9027.983180</td>\n",
       "      <td>-11370.974153</td>\n",
       "      <td>-9215.453433</td>\n",
       "      <td>-4430.646272</td>\n",
       "      <td>-10822.040465</td>\n",
       "      <td>5145.600025</td>\n",
       "      <td>7</td>\n",
       "    </tr>\n",
       "    <tr>\n",
       "      <th>1</th>\n",
       "      <td>151.054087</td>\n",
       "      <td>14.786485</td>\n",
       "      <td>0.096268</td>\n",
       "      <td>0.001745</td>\n",
       "      <td>0.8</td>\n",
       "      <td>200</td>\n",
       "      <td>7</td>\n",
       "      <td>0.6</td>\n",
       "      <td>{'subsample': 0.8, 'n_estimators': 200, 'max_d...</td>\n",
       "      <td>-16219.405693</td>\n",
       "      <td>-10183.856125</td>\n",
       "      <td>-12281.999778</td>\n",
       "      <td>-10014.608507</td>\n",
       "      <td>-4472.951962</td>\n",
       "      <td>-10634.564413</td>\n",
       "      <td>3806.768884</td>\n",
       "      <td>4</td>\n",
       "    </tr>\n",
       "    <tr>\n",
       "      <th>2</th>\n",
       "      <td>140.526189</td>\n",
       "      <td>14.320026</td>\n",
       "      <td>0.077465</td>\n",
       "      <td>0.001324</td>\n",
       "      <td>0.9</td>\n",
       "      <td>350</td>\n",
       "      <td>3</td>\n",
       "      <td>0.8</td>\n",
       "      <td>{'subsample': 0.9, 'n_estimators': 350, 'max_d...</td>\n",
       "      <td>-15795.112396</td>\n",
       "      <td>-9514.406416</td>\n",
       "      <td>-14007.885503</td>\n",
       "      <td>-8989.360773</td>\n",
       "      <td>-4449.994538</td>\n",
       "      <td>-10551.351925</td>\n",
       "      <td>4004.654356</td>\n",
       "      <td>1</td>\n",
       "    </tr>\n",
       "    <tr>\n",
       "      <th>3</th>\n",
       "      <td>120.635959</td>\n",
       "      <td>12.225603</td>\n",
       "      <td>0.085755</td>\n",
       "      <td>0.002555</td>\n",
       "      <td>1</td>\n",
       "      <td>250</td>\n",
       "      <td>5</td>\n",
       "      <td>0.6</td>\n",
       "      <td>{'subsample': 1, 'n_estimators': 250, 'max_dep...</td>\n",
       "      <td>-15271.444695</td>\n",
       "      <td>-9013.463906</td>\n",
       "      <td>-14648.179291</td>\n",
       "      <td>-9205.560764</td>\n",
       "      <td>-4626.118175</td>\n",
       "      <td>-10552.953366</td>\n",
       "      <td>3958.482179</td>\n",
       "      <td>2</td>\n",
       "    </tr>\n",
       "    <tr>\n",
       "      <th>4</th>\n",
       "      <td>270.276698</td>\n",
       "      <td>26.106677</td>\n",
       "      <td>0.125483</td>\n",
       "      <td>0.004688</td>\n",
       "      <td>1</td>\n",
       "      <td>300</td>\n",
       "      <td>7</td>\n",
       "      <td>0.8</td>\n",
       "      <td>{'subsample': 1, 'n_estimators': 300, 'max_dep...</td>\n",
       "      <td>-17880.296096</td>\n",
       "      <td>-9827.312542</td>\n",
       "      <td>-11432.365759</td>\n",
       "      <td>-9343.190495</td>\n",
       "      <td>-4658.877765</td>\n",
       "      <td>-10628.408532</td>\n",
       "      <td>4270.013073</td>\n",
       "      <td>3</td>\n",
       "    </tr>\n",
       "    <tr>\n",
       "      <th>5</th>\n",
       "      <td>127.199297</td>\n",
       "      <td>12.590215</td>\n",
       "      <td>0.072685</td>\n",
       "      <td>0.001872</td>\n",
       "      <td>0.8</td>\n",
       "      <td>300</td>\n",
       "      <td>3</td>\n",
       "      <td>0.8</td>\n",
       "      <td>{'subsample': 0.8, 'n_estimators': 300, 'max_d...</td>\n",
       "      <td>-15108.211548</td>\n",
       "      <td>-8430.342703</td>\n",
       "      <td>-17446.547298</td>\n",
       "      <td>-11956.454632</td>\n",
       "      <td>-4788.613208</td>\n",
       "      <td>-11546.033878</td>\n",
       "      <td>4539.688958</td>\n",
       "      <td>10</td>\n",
       "    </tr>\n",
       "    <tr>\n",
       "      <th>6</th>\n",
       "      <td>176.629278</td>\n",
       "      <td>20.005571</td>\n",
       "      <td>0.088518</td>\n",
       "      <td>0.001110</td>\n",
       "      <td>1</td>\n",
       "      <td>350</td>\n",
       "      <td>4</td>\n",
       "      <td>0.8</td>\n",
       "      <td>{'subsample': 1, 'n_estimators': 350, 'max_dep...</td>\n",
       "      <td>-18149.158921</td>\n",
       "      <td>-10684.066914</td>\n",
       "      <td>-12778.822701</td>\n",
       "      <td>-10754.755026</td>\n",
       "      <td>-4413.035003</td>\n",
       "      <td>-11355.967713</td>\n",
       "      <td>4408.836243</td>\n",
       "      <td>9</td>\n",
       "    </tr>\n",
       "    <tr>\n",
       "      <th>7</th>\n",
       "      <td>242.885517</td>\n",
       "      <td>23.901205</td>\n",
       "      <td>0.093997</td>\n",
       "      <td>0.003844</td>\n",
       "      <td>0.8</td>\n",
       "      <td>200</td>\n",
       "      <td>7</td>\n",
       "      <td>1</td>\n",
       "      <td>{'subsample': 0.8, 'n_estimators': 200, 'max_d...</td>\n",
       "      <td>-19715.947411</td>\n",
       "      <td>-10069.292180</td>\n",
       "      <td>-11879.337604</td>\n",
       "      <td>-9241.098796</td>\n",
       "      <td>-5218.845337</td>\n",
       "      <td>-11224.904266</td>\n",
       "      <td>4772.206282</td>\n",
       "      <td>8</td>\n",
       "    </tr>\n",
       "    <tr>\n",
       "      <th>8</th>\n",
       "      <td>86.195784</td>\n",
       "      <td>8.558522</td>\n",
       "      <td>0.072209</td>\n",
       "      <td>0.001906</td>\n",
       "      <td>0.8</td>\n",
       "      <td>200</td>\n",
       "      <td>4</td>\n",
       "      <td>0.6</td>\n",
       "      <td>{'subsample': 0.8, 'n_estimators': 200, 'max_d...</td>\n",
       "      <td>-15490.366530</td>\n",
       "      <td>-10441.397038</td>\n",
       "      <td>-12960.343968</td>\n",
       "      <td>-10012.342801</td>\n",
       "      <td>-4946.020483</td>\n",
       "      <td>-10770.094164</td>\n",
       "      <td>3512.270735</td>\n",
       "      <td>6</td>\n",
       "    </tr>\n",
       "    <tr>\n",
       "      <th>9</th>\n",
       "      <td>124.806329</td>\n",
       "      <td>12.796169</td>\n",
       "      <td>0.074029</td>\n",
       "      <td>0.003913</td>\n",
       "      <td>1</td>\n",
       "      <td>200</td>\n",
       "      <td>5</td>\n",
       "      <td>0.8</td>\n",
       "      <td>{'subsample': 1, 'n_estimators': 200, 'max_dep...</td>\n",
       "      <td>-17507.301754</td>\n",
       "      <td>-9334.313963</td>\n",
       "      <td>-12706.096260</td>\n",
       "      <td>-9144.183199</td>\n",
       "      <td>-4729.318328</td>\n",
       "      <td>-10684.242701</td>\n",
       "      <td>4249.640969</td>\n",
       "      <td>5</td>\n",
       "    </tr>\n",
       "  </tbody>\n",
       "</table>\n",
       "</div>"
      ],
      "text/plain": [
       "   mean_fit_time  std_fit_time  mean_score_time  std_score_time  \\\n",
       "0     220.838542     22.724874         0.096678        0.002695   \n",
       "1     151.054087     14.786485         0.096268        0.001745   \n",
       "2     140.526189     14.320026         0.077465        0.001324   \n",
       "3     120.635959     12.225603         0.085755        0.002555   \n",
       "4     270.276698     26.106677         0.125483        0.004688   \n",
       "5     127.199297     12.590215         0.072685        0.001872   \n",
       "6     176.629278     20.005571         0.088518        0.001110   \n",
       "7     242.885517     23.901205         0.093997        0.003844   \n",
       "8      86.195784      8.558522         0.072209        0.001906   \n",
       "9     124.806329     12.796169         0.074029        0.003913   \n",
       "\n",
       "  param_subsample param_n_estimators param_max_depth param_colsample_bytree  \\\n",
       "0               1                200               7                      1   \n",
       "1             0.8                200               7                    0.6   \n",
       "2             0.9                350               3                    0.8   \n",
       "3               1                250               5                    0.6   \n",
       "4               1                300               7                    0.8   \n",
       "5             0.8                300               3                    0.8   \n",
       "6               1                350               4                    0.8   \n",
       "7             0.8                200               7                      1   \n",
       "8             0.8                200               4                    0.6   \n",
       "9               1                200               5                    0.8   \n",
       "\n",
       "                                              params  split0_test_score  \\\n",
       "0  {'subsample': 1, 'n_estimators': 200, 'max_dep...      -20065.145285   \n",
       "1  {'subsample': 0.8, 'n_estimators': 200, 'max_d...      -16219.405693   \n",
       "2  {'subsample': 0.9, 'n_estimators': 350, 'max_d...      -15795.112396   \n",
       "3  {'subsample': 1, 'n_estimators': 250, 'max_dep...      -15271.444695   \n",
       "4  {'subsample': 1, 'n_estimators': 300, 'max_dep...      -17880.296096   \n",
       "5  {'subsample': 0.8, 'n_estimators': 300, 'max_d...      -15108.211548   \n",
       "6  {'subsample': 1, 'n_estimators': 350, 'max_dep...      -18149.158921   \n",
       "7  {'subsample': 0.8, 'n_estimators': 200, 'max_d...      -19715.947411   \n",
       "8  {'subsample': 0.8, 'n_estimators': 200, 'max_d...      -15490.366530   \n",
       "9  {'subsample': 1, 'n_estimators': 200, 'max_dep...      -17507.301754   \n",
       "\n",
       "   split1_test_score  split2_test_score  split3_test_score  split4_test_score  \\\n",
       "0       -9027.983180      -11370.974153       -9215.453433       -4430.646272   \n",
       "1      -10183.856125      -12281.999778      -10014.608507       -4472.951962   \n",
       "2       -9514.406416      -14007.885503       -8989.360773       -4449.994538   \n",
       "3       -9013.463906      -14648.179291       -9205.560764       -4626.118175   \n",
       "4       -9827.312542      -11432.365759       -9343.190495       -4658.877765   \n",
       "5       -8430.342703      -17446.547298      -11956.454632       -4788.613208   \n",
       "6      -10684.066914      -12778.822701      -10754.755026       -4413.035003   \n",
       "7      -10069.292180      -11879.337604       -9241.098796       -5218.845337   \n",
       "8      -10441.397038      -12960.343968      -10012.342801       -4946.020483   \n",
       "9       -9334.313963      -12706.096260       -9144.183199       -4729.318328   \n",
       "\n",
       "   mean_test_score  std_test_score  rank_test_score  \n",
       "0    -10822.040465     5145.600025                7  \n",
       "1    -10634.564413     3806.768884                4  \n",
       "2    -10551.351925     4004.654356                1  \n",
       "3    -10552.953366     3958.482179                2  \n",
       "4    -10628.408532     4270.013073                3  \n",
       "5    -11546.033878     4539.688958               10  \n",
       "6    -11355.967713     4408.836243                9  \n",
       "7    -11224.904266     4772.206282                8  \n",
       "8    -10770.094164     3512.270735                6  \n",
       "9    -10684.242701     4249.640969                5  "
      ]
     },
     "execution_count": 31,
     "metadata": {},
     "output_type": "execute_result"
    }
   ],
   "source": [
    "report_search(xgbr_rs)"
   ]
  },
  {
   "cell_type": "code",
   "execution_count": 32,
   "metadata": {},
   "outputs": [
    {
     "name": "stdout",
     "output_type": "stream",
     "text": [
      "Training RMSE: 43.88789677620338\n",
      "Validation RMSE: 179.13805122349103\n"
     ]
    }
   ],
   "source": [
    "report_performance(xgbr_rs, X_train, y_train, X_valid, y_valid)"
   ]
  }
 ],
 "metadata": {
  "kernelspec": {
   "display_name": "capstone_machine_learning",
   "language": "python",
   "name": "capstone_machine_learning"
  },
  "language_info": {
   "codemirror_mode": {
    "name": "ipython",
    "version": 3
   },
   "file_extension": ".py",
   "mimetype": "text/x-python",
   "name": "python",
   "nbconvert_exporter": "python",
   "pygments_lexer": "ipython3",
   "version": "3.7.6"
  }
 },
 "nbformat": 4,
 "nbformat_minor": 4
}
