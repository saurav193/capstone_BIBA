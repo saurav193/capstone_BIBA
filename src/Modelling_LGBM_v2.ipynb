{
 "cells": [
  {
   "cell_type": "code",
   "execution_count": 1,
   "metadata": {},
   "outputs": [],
   "source": [
    "import pandas as pd\n",
    "import numpy as np\n",
    "import re\n",
    "import matplotlib.pyplot as plt\n",
    "\n",
    "from sklearn.model_selection import train_test_split \n",
    "from sklearn.model_selection import GridSearchCV, RandomizedSearchCV\n",
    "from sklearn.linear_model import LinearRegression\n",
    "from sklearn.linear_model import Ridge\n",
    "from lightgbm.sklearn import LGBMRegressor\n",
    "\n",
    "from sklearn.metrics import mean_squared_error, mean_absolute_error, make_scorer\n",
    "\n",
    "from sklearn.decomposition import PCA\n",
    "from sklearn.preprocessing import OneHotEncoder\n",
    "\n",
    "# import other functions\n",
    "from imputer import *\n",
    "from feature_eng import *\n",
    "from drop import *"
   ]
  },
  {
   "cell_type": "markdown",
   "metadata": {},
   "source": [
    "## Summary\n",
    "\n",
    "|Model| Test MAE| Test MSE|\n",
    "|-----|---------|---------|\n",
    "| Simple LR | 99.675 | 190.922| \n",
    "| Ridge regression| 99.631 |190.895|\n",
    "| Simple LGBM | 53.161 | 110.994 |\n",
    "| LGBM with gridsearch | \n",
    "| LGBM with log transformed y | 51.2 | NA |\n",
    "\n",
    "\n",
    "**Comments -** \n"
   ]
  },
  {
   "cell_type": "code",
   "execution_count": 2,
   "metadata": {},
   "outputs": [],
   "source": [
    "df = pd.read_csv(\"../data/train_data.zip\")"
   ]
  },
  {
   "cell_type": "code",
   "execution_count": 3,
   "metadata": {},
   "outputs": [
    {
     "data": {
      "text/html": [
       "<div>\n",
       "<style scoped>\n",
       "    .dataframe tbody tr th:only-of-type {\n",
       "        vertical-align: middle;\n",
       "    }\n",
       "\n",
       "    .dataframe tbody tr th {\n",
       "        vertical-align: top;\n",
       "    }\n",
       "\n",
       "    .dataframe thead th {\n",
       "        text-align: right;\n",
       "    }\n",
       "</style>\n",
       "<table border=\"1\" class=\"dataframe\">\n",
       "  <thead>\n",
       "    <tr style=\"text-align: right;\">\n",
       "      <th></th>\n",
       "      <th>external_id</th>\n",
       "      <th>month</th>\n",
       "      <th>year</th>\n",
       "      <th>monthly_number_of_sessions</th>\n",
       "      <th>monthly_unique_sessions</th>\n",
       "      <th>monthly_repeated_sessions</th>\n",
       "      <th>monthly_avg_length_of_session</th>\n",
       "      <th>monthly_avg_light_activity</th>\n",
       "      <th>monthly_avg_moderate_activity</th>\n",
       "      <th>monthly_avg_vigorous_activity</th>\n",
       "      <th>...</th>\n",
       "      <th>avg_wind_9_10</th>\n",
       "      <th>avg_wind_10_11</th>\n",
       "      <th>avg_wind_11_12</th>\n",
       "      <th>avg_wind_12_above</th>\n",
       "      <th>perfect_days</th>\n",
       "      <th>unacast_session_count</th>\n",
       "      <th>hpi</th>\n",
       "      <th>state_and_local_amount_per_capita</th>\n",
       "      <th>state_amount_per_capita</th>\n",
       "      <th>local_amount_per_capita</th>\n",
       "    </tr>\n",
       "  </thead>\n",
       "  <tbody>\n",
       "    <tr>\n",
       "      <th>0</th>\n",
       "      <td>1804425</td>\n",
       "      <td>8</td>\n",
       "      <td>2018</td>\n",
       "      <td>0</td>\n",
       "      <td>0</td>\n",
       "      <td>0</td>\n",
       "      <td>0.0</td>\n",
       "      <td>0.0</td>\n",
       "      <td>0.0</td>\n",
       "      <td>0.0</td>\n",
       "      <td>...</td>\n",
       "      <td>0.0</td>\n",
       "      <td>0.0</td>\n",
       "      <td>0.0</td>\n",
       "      <td>0.0</td>\n",
       "      <td>0.0</td>\n",
       "      <td>90.0</td>\n",
       "      <td>244.20</td>\n",
       "      <td>0.157475</td>\n",
       "      <td>0.009783</td>\n",
       "      <td>0.147692</td>\n",
       "    </tr>\n",
       "    <tr>\n",
       "      <th>1</th>\n",
       "      <td>1812706</td>\n",
       "      <td>2</td>\n",
       "      <td>2019</td>\n",
       "      <td>0</td>\n",
       "      <td>0</td>\n",
       "      <td>0</td>\n",
       "      <td>0.0</td>\n",
       "      <td>0.0</td>\n",
       "      <td>0.0</td>\n",
       "      <td>0.0</td>\n",
       "      <td>...</td>\n",
       "      <td>0.0</td>\n",
       "      <td>0.0</td>\n",
       "      <td>0.0</td>\n",
       "      <td>0.0</td>\n",
       "      <td>4.0</td>\n",
       "      <td>27.0</td>\n",
       "      <td>258.95</td>\n",
       "      <td>0.157475</td>\n",
       "      <td>0.009783</td>\n",
       "      <td>0.147692</td>\n",
       "    </tr>\n",
       "    <tr>\n",
       "      <th>2</th>\n",
       "      <td>1812706</td>\n",
       "      <td>3</td>\n",
       "      <td>2019</td>\n",
       "      <td>0</td>\n",
       "      <td>0</td>\n",
       "      <td>0</td>\n",
       "      <td>0.0</td>\n",
       "      <td>0.0</td>\n",
       "      <td>0.0</td>\n",
       "      <td>0.0</td>\n",
       "      <td>...</td>\n",
       "      <td>0.0</td>\n",
       "      <td>0.0</td>\n",
       "      <td>0.0</td>\n",
       "      <td>0.0</td>\n",
       "      <td>4.0</td>\n",
       "      <td>27.0</td>\n",
       "      <td>258.95</td>\n",
       "      <td>0.157475</td>\n",
       "      <td>0.009783</td>\n",
       "      <td>0.147692</td>\n",
       "    </tr>\n",
       "    <tr>\n",
       "      <th>3</th>\n",
       "      <td>1812706</td>\n",
       "      <td>11</td>\n",
       "      <td>2018</td>\n",
       "      <td>0</td>\n",
       "      <td>0</td>\n",
       "      <td>0</td>\n",
       "      <td>0.0</td>\n",
       "      <td>0.0</td>\n",
       "      <td>0.0</td>\n",
       "      <td>0.0</td>\n",
       "      <td>...</td>\n",
       "      <td>0.0</td>\n",
       "      <td>0.0</td>\n",
       "      <td>0.0</td>\n",
       "      <td>0.0</td>\n",
       "      <td>3.0</td>\n",
       "      <td>24.0</td>\n",
       "      <td>258.95</td>\n",
       "      <td>0.157475</td>\n",
       "      <td>0.009783</td>\n",
       "      <td>0.147692</td>\n",
       "    </tr>\n",
       "    <tr>\n",
       "      <th>4</th>\n",
       "      <td>1812706</td>\n",
       "      <td>9</td>\n",
       "      <td>2018</td>\n",
       "      <td>0</td>\n",
       "      <td>0</td>\n",
       "      <td>0</td>\n",
       "      <td>0.0</td>\n",
       "      <td>0.0</td>\n",
       "      <td>0.0</td>\n",
       "      <td>0.0</td>\n",
       "      <td>...</td>\n",
       "      <td>0.0</td>\n",
       "      <td>0.0</td>\n",
       "      <td>0.0</td>\n",
       "      <td>0.0</td>\n",
       "      <td>0.0</td>\n",
       "      <td>12.0</td>\n",
       "      <td>258.95</td>\n",
       "      <td>0.157475</td>\n",
       "      <td>0.009783</td>\n",
       "      <td>0.147692</td>\n",
       "    </tr>\n",
       "  </tbody>\n",
       "</table>\n",
       "<p>5 rows × 861 columns</p>\n",
       "</div>"
      ],
      "text/plain": [
       "  external_id  month  year  monthly_number_of_sessions  \\\n",
       "0     1804425      8  2018                           0   \n",
       "1     1812706      2  2019                           0   \n",
       "2     1812706      3  2019                           0   \n",
       "3     1812706     11  2018                           0   \n",
       "4     1812706      9  2018                           0   \n",
       "\n",
       "   monthly_unique_sessions  monthly_repeated_sessions  \\\n",
       "0                        0                          0   \n",
       "1                        0                          0   \n",
       "2                        0                          0   \n",
       "3                        0                          0   \n",
       "4                        0                          0   \n",
       "\n",
       "   monthly_avg_length_of_session  monthly_avg_light_activity  \\\n",
       "0                            0.0                         0.0   \n",
       "1                            0.0                         0.0   \n",
       "2                            0.0                         0.0   \n",
       "3                            0.0                         0.0   \n",
       "4                            0.0                         0.0   \n",
       "\n",
       "   monthly_avg_moderate_activity  monthly_avg_vigorous_activity  ...  \\\n",
       "0                            0.0                            0.0  ...   \n",
       "1                            0.0                            0.0  ...   \n",
       "2                            0.0                            0.0  ...   \n",
       "3                            0.0                            0.0  ...   \n",
       "4                            0.0                            0.0  ...   \n",
       "\n",
       "   avg_wind_9_10  avg_wind_10_11  avg_wind_11_12  avg_wind_12_above  \\\n",
       "0            0.0             0.0             0.0                0.0   \n",
       "1            0.0             0.0             0.0                0.0   \n",
       "2            0.0             0.0             0.0                0.0   \n",
       "3            0.0             0.0             0.0                0.0   \n",
       "4            0.0             0.0             0.0                0.0   \n",
       "\n",
       "   perfect_days  unacast_session_count     hpi  \\\n",
       "0           0.0                   90.0  244.20   \n",
       "1           4.0                   27.0  258.95   \n",
       "2           4.0                   27.0  258.95   \n",
       "3           3.0                   24.0  258.95   \n",
       "4           0.0                   12.0  258.95   \n",
       "\n",
       "   state_and_local_amount_per_capita  state_amount_per_capita  \\\n",
       "0                           0.157475                 0.009783   \n",
       "1                           0.157475                 0.009783   \n",
       "2                           0.157475                 0.009783   \n",
       "3                           0.157475                 0.009783   \n",
       "4                           0.157475                 0.009783   \n",
       "\n",
       "   local_amount_per_capita  \n",
       "0                 0.147692  \n",
       "1                 0.147692  \n",
       "2                 0.147692  \n",
       "3                 0.147692  \n",
       "4                 0.147692  \n",
       "\n",
       "[5 rows x 861 columns]"
      ]
     },
     "execution_count": 3,
     "metadata": {},
     "output_type": "execute_result"
    }
   ],
   "source": [
    "df.head()"
   ]
  },
  {
   "cell_type": "markdown",
   "metadata": {},
   "source": [
    "## Pre-processing data"
   ]
  },
  {
   "cell_type": "code",
   "execution_count": 4,
   "metadata": {},
   "outputs": [],
   "source": [
    "# drop rows missing target variable\n",
    "df = drop_missing_unacast(df)\n",
    "\n",
    "# create X and y\n",
    "X = df.drop(columns = ['unacast_session_count'], axis=1)\n",
    "y = df.loc[:, 'unacast_session_count']\n",
    "# split the data\n",
    "X_train, X_valid, y_train, y_valid = train_test_split(X, y, \n",
    "                                                    test_size=0.2,\n",
    "                                                      random_state=2020)\n",
    "# impute NaN values\n",
    "result = impute_data(X_train, X_valid)\n",
    "X_train = result[0]\n",
    "X_valid = result[1] \n",
    "# perform feature eng\n",
    "X_train = comb_cols(X_train)\n",
    "X_valid = comb_cols(X_valid)\n",
    "# perform dropping\n",
    "X_train = drop_columns(X_train)\n",
    "X_valid = drop_columns(X_valid)\n",
    "\n",
    "# perform OHE (climate, density_class, income_class)\n",
    "X_train_valid = clean_categorical(X_train, X_valid)\n",
    "X_train = X_train_valid[0]\n",
    "X_valid = X_train_valid[1]"
   ]
  },
  {
   "cell_type": "code",
   "execution_count": 5,
   "metadata": {},
   "outputs": [],
   "source": [
    "def show_scores(model, X, y, error = 'mse'):\n",
    "    \"\"\"\n",
    "    Shows the mean squared error and mean absolute error for a given model\n",
    "    and predictors and response\n",
    "    \n",
    "    Parameters\n",
    "    ----------\n",
    "    model: The sklearn model object\n",
    "    X: numpy.ndarray        \n",
    "        The predictors(independent variables) part of the data\n",
    "    y: numpy.ndarray\n",
    "        The response(target variable)of the data\n",
    "    error: string,\n",
    "        'mse' or 'mae' depending upon the type of error\n",
    "        we are interested in\n",
    "        \n",
    "    Returns\n",
    "    ------- \n",
    "    \"\"\"            \n",
    "    y_preds = model.predict(X)\n",
    "    \n",
    "    if error == 'mse':\n",
    "        rmse = mean_squared_error(y, y_preds, squared = False)\n",
    "        print(\"Root mean squared error: %0.3f\" % rmse)\n",
    "        return\n",
    "    if error == 'mae':\n",
    "        mae = mean_absolute_error(y, y_preds)\n",
    "        print(\"Mean absolute error: %0.3f\" % mae)\n",
    "        return\n",
    "    else:\n",
    "        print(\"Wrong choice\")"
   ]
  },
  {
   "cell_type": "markdown",
   "metadata": {},
   "source": [
    "## Modelling with Linear regression"
   ]
  },
  {
   "cell_type": "code",
   "execution_count": 9,
   "metadata": {},
   "outputs": [
    {
     "data": {
      "text/plain": [
       "monthly_rain               0.0\n",
       "monthly_avg_rain_length    0.0\n",
       "dtype: float64"
      ]
     },
     "execution_count": 9,
     "metadata": {},
     "output_type": "execute_result"
    }
   ],
   "source": [
    "cols_sum = np.sum(X_train, axis = 0)\n",
    "cols_sum[cols_sum ==0]"
   ]
  },
  {
   "cell_type": "code",
   "execution_count": 6,
   "metadata": {},
   "outputs": [
    {
     "name": "stdout",
     "output_type": "stream",
     "text": [
      "(39592, 632)\n",
      "(9898, 632)\n"
     ]
    }
   ],
   "source": [
    "print(X_train.shape)\n",
    "print(X_valid.shape)"
   ]
  },
  {
   "cell_type": "markdown",
   "metadata": {},
   "source": [
    "### 1. Linear Regression"
   ]
  },
  {
   "cell_type": "code",
   "execution_count": 7,
   "metadata": {},
   "outputs": [
    {
     "name": "stdout",
     "output_type": "stream",
     "text": [
      "Simple linear regression scores: \n",
      "Train error: \n",
      "Root mean squared error: 182.973\n",
      "Test error: \n",
      "Root mean squared error: 190.922\n"
     ]
    }
   ],
   "source": [
    "lr = LinearRegression()\n",
    "lr.fit(X_train, y_train)\n",
    "print('Simple linear regression scores: ')\n",
    "print('Train error: ')\n",
    "show_scores(lr, X_train, y_train, 'mse')\n",
    "\n",
    "print('Test error: ')    \n",
    "show_scores(lr, X_valid, y_valid, 'mse')"
   ]
  },
  {
   "cell_type": "code",
   "execution_count": 17,
   "metadata": {},
   "outputs": [
    {
     "name": "stdout",
     "output_type": "stream",
     "text": [
      "Simple linear regression scores: \n",
      "Train error: \n",
      "Mean absolute error: 96.979\n",
      "Test error: \n",
      "Mean absolute error: 99.675\n"
     ]
    }
   ],
   "source": [
    "lr = LinearRegression()\n",
    "lr.fit(X_train, y_train)\n",
    "print('Simple linear regression scores: ')\n",
    "print('Train error: ')\n",
    "show_scores(lr, X_train, y_train, 'mae')\n",
    "\n",
    "print('Test error: ')    \n",
    "show_scores(lr, X_valid, y_valid, 'mae')"
   ]
  },
  {
   "cell_type": "code",
   "execution_count": 16,
   "metadata": {},
   "outputs": [
    {
     "data": {
      "text/plain": [
       "(1284,)"
      ]
     },
     "execution_count": 16,
     "metadata": {},
     "output_type": "execute_result"
    }
   ],
   "source": [
    "y_pred = lr.predict(X_valid)\n",
    "y_pred[y_pred < 0].shape"
   ]
  },
  {
   "cell_type": "markdown",
   "metadata": {},
   "source": [
    "### Observations \n",
    "- Better than last run. Proabably due to improved target.\n"
   ]
  },
  {
   "cell_type": "markdown",
   "metadata": {},
   "source": [
    "### 4. Ridge L2"
   ]
  },
  {
   "cell_type": "code",
   "execution_count": 18,
   "metadata": {},
   "outputs": [
    {
     "name": "stderr",
     "output_type": "stream",
     "text": [
      "C:\\Users\\saura\\.virtualenvs\\capstone_machine_learning-a37y-TX3\\lib\\site-packages\\sklearn\\linear_model\\_ridge.py:148: LinAlgWarning: Ill-conditioned matrix (rcond=1.07072e-20): result may not be accurate.\n",
      "  overwrite_a=True).T\n"
     ]
    },
    {
     "name": "stdout",
     "output_type": "stream",
     "text": [
      "Ridge regression scores: \n",
      "Train error: \n",
      "Root mean squared error: 182.989\n",
      "Test error: \n",
      "Root mean squared error: 190.895\n"
     ]
    }
   ],
   "source": [
    "ridge_lr = Ridge(max_iter=2000, random_state = 2020)\n",
    "ridge_lr.fit(X_train, y_train)\n",
    "print('Ridge regression scores: ')\n",
    "print('Train error: ')\n",
    "show_scores(ridge_lr, X_train, y_train)\n",
    "\n",
    "print('Test error: ')    \n",
    "show_scores(ridge_lr, X_valid, y_valid)"
   ]
  },
  {
   "cell_type": "code",
   "execution_count": 22,
   "metadata": {},
   "outputs": [
    {
     "name": "stderr",
     "output_type": "stream",
     "text": [
      "C:\\Users\\saura\\.virtualenvs\\capstone_machine_learning-a37y-TX3\\lib\\site-packages\\sklearn\\linear_model\\_ridge.py:148: LinAlgWarning: Ill-conditioned matrix (rcond=1.07072e-20): result may not be accurate.\n",
      "  overwrite_a=True).T\n"
     ]
    },
    {
     "name": "stdout",
     "output_type": "stream",
     "text": [
      "Ridge regression scores: \n",
      "Train error: \n",
      "Mean absolute error: 96.934\n",
      "Test error: \n",
      "Mean absolute error: 99.631\n"
     ]
    }
   ],
   "source": [
    "ridge_lr = Ridge(max_iter=2000, random_state = 2020)\n",
    "ridge_lr.fit(X_train, y_train)\n",
    "print('Ridge regression scores: ')\n",
    "print('Train error: ')\n",
    "show_scores(ridge_lr, X_train, y_train, 'mae')\n",
    "\n",
    "print('Test error: ')    \n",
    "show_scores(ridge_lr, X_valid, y_valid, 'mae')"
   ]
  },
  {
   "cell_type": "markdown",
   "metadata": {},
   "source": [
    "### Observations\n",
    "- Same as LR\n"
   ]
  },
  {
   "cell_type": "markdown",
   "metadata": {},
   "source": [
    "## LGBM on this data with Mean objective function"
   ]
  },
  {
   "cell_type": "code",
   "execution_count": 8,
   "metadata": {},
   "outputs": [
    {
     "name": "stdout",
     "output_type": "stream",
     "text": [
      "LGBM scores: \n",
      "Train error: \n",
      "Root mean squared error: 89.408\n",
      "Test error: \n",
      "Root mean squared error: 110.994\n"
     ]
    }
   ],
   "source": [
    "lgbm = LGBMRegressor(random_state = 2020)\n",
    "\n",
    "lgbm.fit(X_train, y_train)\n",
    "\n",
    "print('LGBM scores: ')\n",
    "\n",
    "print('Train error: ')\n",
    "show_scores(lgbm, X_train, y_train)\n",
    "\n",
    "print('Test error: ')\n",
    "show_scores(lgbm, X_valid, y_valid)"
   ]
  },
  {
   "cell_type": "markdown",
   "metadata": {},
   "source": [
    "**performing grid search**"
   ]
  },
  {
   "cell_type": "code",
   "execution_count": 12,
   "metadata": {},
   "outputs": [
    {
     "name": "stdout",
     "output_type": "stream",
     "text": [
      "LGBM scores: \n",
      "Train error: \n",
      "Root mean squared error: 89.408\n",
      "Test error: \n",
      "Root mean squared error: 110.994\n"
     ]
    }
   ],
   "source": [
    "params = {'max_depth' : [100, 500], 'n_estimators' : [100, 200] }\n",
    "\n",
    "lgbm = LGBMRegressor(random_state = 2020)\n",
    "\n",
    "mae_scorer = make_scorer(mean_absolute_error)\n",
    "\n",
    "clf_lgbm = GridSearchCV(lgbm, params, scoring = mae_scorer, n_jobs = 16)\n",
    "\n",
    "clf_lgbm.fit(X_train, y_train)\n",
    "print('LGBM scores: ')\n",
    "print('Train error: ')\n",
    "show_scores(clf_lgbm, X_train, y_train)\n",
    "\n",
    "print('Test error: ')\n",
    "show_scores(clf_lgbm, X_valid, y_valid)"
   ]
  },
  {
   "cell_type": "code",
   "execution_count": 13,
   "metadata": {},
   "outputs": [
    {
     "name": "stdout",
     "output_type": "stream",
     "text": [
      "Train error: \n",
      "Mean absolute error: 46.033\n",
      "Test error: \n",
      "Mean absolute error: 50.208\n"
     ]
    }
   ],
   "source": [
    "print('Train error: ')\n",
    "show_scores(clf_lgbm, X_train, y_train, 'mae')\n",
    "\n",
    "print('Test error: ')\n",
    "show_scores(clf_lgbm, X_valid, y_valid, 'mae')"
   ]
  },
  {
   "cell_type": "code",
   "execution_count": 14,
   "metadata": {},
   "outputs": [
    {
     "data": {
      "text/plain": [
       "{'max_depth': 100, 'n_estimators': 100}"
      ]
     },
     "execution_count": 14,
     "metadata": {},
     "output_type": "execute_result"
    }
   ],
   "source": [
    "clf_lgbm.best_params_"
   ]
  },
  {
   "cell_type": "markdown",
   "metadata": {},
   "source": [
    "### Hyperparameter tuning using hyperopt - run on AWS EC2 only"
   ]
  },
  {
   "cell_type": "code",
   "execution_count": 17,
   "metadata": {},
   "outputs": [],
   "source": [
    "import csv\n",
    "\n",
    "# File to save first results\n",
    "out_file = '../results/lgbm_trials.csv'\n",
    "of_connection = open(out_file, 'w')\n",
    "writer = csv.writer(of_connection)\n",
    "\n",
    "# Write the headers to the file\n",
    "writer.writerow(['loss', 'params', 'iteration', 'estimators', 'train_time'])\n",
    "of_connection.close()"
   ]
  },
  {
   "cell_type": "code",
   "execution_count": 58,
   "metadata": {},
   "outputs": [
    {
     "name": "stdout",
     "output_type": "stream",
     "text": [
      "{'boosting_type': 'goss', 'learning_rate': 0.03183805705025734, 'max_dept': 155.0, 'num_leaves': 200, 'objective': 'regression'}\n",
      "{'boosting_type': 'goss', 'learning_rate': 0.024214896327248357, 'max_dept': 100.0, 'num_leaves': 50, 'objective': 'regression'}\n",
      "{'boosting_type': 'goss', 'learning_rate': 0.06368097971321597, 'max_dept': 60.0, 'num_leaves': 150, 'objective': 'regression'}\n",
      "{'boosting_type': 'goss', 'learning_rate': 0.046370247251339126, 'max_dept': 60.0, 'num_leaves': 150, 'objective': 'regression'}\n",
      "{'boosting_type': 'gbdt', 'learning_rate': 0.0383698171002965, 'max_dept': 110.0, 'num_leaves': 150, 'objective': 'regression'}\n",
      "{'boosting_type': 'goss', 'learning_rate': 0.024050460617609765, 'max_dept': 115.0, 'num_leaves': 50, 'objective': 'regression'}\n",
      "{'boosting_type': 'goss', 'learning_rate': 0.016083701327428673, 'max_dept': 180.0, 'num_leaves': 200, 'objective': 'regression'}\n",
      "{'boosting_type': 'dart', 'learning_rate': 0.020108895325379204, 'max_dept': 115.0, 'num_leaves': 300, 'objective': 'regression'}\n",
      "  1%|▏         | 7/500 [03:49<4:53:51, 35.76s/trial, best loss: 116.6363903387116]"
     ]
    },
    {
     "name": "stderr",
     "output_type": "stream",
     "text": [
      "/home/ubuntu/.local/share/virtualenvs/capstone_machine_learning-9cUIoDBU/lib/python3.7/site-packages/lightgbm/callback.py:188: UserWarning: Early stopping is not available in dart mode\n",
      "  warnings.warn('Early stopping is not available in dart mode')\n",
      "\n"
     ]
    },
    {
     "name": "stdout",
     "output_type": "stream",
     "text": [
      "{'boosting_type': 'dart', 'learning_rate': 0.03735590575120143, 'max_dept': 125.0, 'num_leaves': 100, 'objective': 'regression'}\n",
      "{'boosting_type': 'goss', 'learning_rate': 0.03862064318068387, 'max_dept': 160.0, 'num_leaves': 300, 'objective': 'regression'}\n",
      "{'boosting_type': 'goss', 'learning_rate': 0.05937573444340072, 'max_dept': 120.0, 'num_leaves': 150, 'objective': 'regression'}\n",
      "{'boosting_type': 'goss', 'learning_rate': 0.018842923052891866, 'max_dept': 150.0, 'num_leaves': 50, 'objective': 'regression'}\n",
      "{'boosting_type': 'dart', 'learning_rate': 0.017341979262825123, 'max_dept': 140.0, 'num_leaves': 50, 'objective': 'regression'}\n",
      "{'boosting_type': 'dart', 'learning_rate': 0.010927427841269216, 'max_dept': 165.0, 'num_leaves': 50, 'objective': 'regression'}\n",
      "{'boosting_type': 'gbdt', 'learning_rate': 0.01308419895509093, 'max_dept': 100.0, 'num_leaves': 100, 'objective': 'regression'}\n",
      "{'boosting_type': 'goss', 'learning_rate': 0.11342403147451176, 'max_dept': 60.0, 'num_leaves': 100, 'objective': 'regression'}\n",
      "{'boosting_type': 'gbdt', 'learning_rate': 0.013660944433692049, 'max_dept': 110.0, 'num_leaves': 100, 'objective': 'regression'}\n",
      "{'boosting_type': 'goss', 'learning_rate': 0.02904894749464115, 'max_dept': 125.0, 'num_leaves': 70, 'objective': 'regression'}\n",
      "{'boosting_type': 'gbdt', 'learning_rate': 0.19327690355625385, 'max_dept': 120.0, 'num_leaves': 200, 'objective': 'regression'}\n",
      "{'boosting_type': 'gbdt', 'learning_rate': 0.06433131242400676, 'max_dept': 150.0, 'num_leaves': 200, 'objective': 'regression'}\n",
      "{'boosting_type': 'gbdt', 'learning_rate': 0.18286933304884653, 'max_dept': 80.0, 'num_leaves': 70, 'objective': 'regression'}\n",
      "{'boosting_type': 'gbdt', 'learning_rate': 0.17441372326938293, 'max_dept': 80.0, 'num_leaves': 70, 'objective': 'regression'}\n",
      "{'boosting_type': 'gbdt', 'learning_rate': 0.19829388217352895, 'max_dept': 80.0, 'num_leaves': 70, 'objective': 'regression'}\n",
      "{'boosting_type': 'gbdt', 'learning_rate': 0.14207967150394338, 'max_dept': 80.0, 'num_leaves': 70, 'objective': 'regression'}\n",
      "{'boosting_type': 'gbdt', 'learning_rate': 0.09602674850347191, 'max_dept': 90.0, 'num_leaves': 200, 'objective': 'regression'}\n",
      "{'boosting_type': 'gbdt', 'learning_rate': 0.09450853364683033, 'max_dept': 195.0, 'num_leaves': 200, 'objective': 'regression'}\n",
      "{'boosting_type': 'gbdt', 'learning_rate': 0.1953662651127319, 'max_dept': 135.0, 'num_leaves': 70, 'objective': 'regression'}\n",
      "{'boosting_type': 'gbdt', 'learning_rate': 0.14363008021948953, 'max_dept': 95.0, 'num_leaves': 300, 'objective': 'regression'}\n",
      "{'boosting_type': 'gbdt', 'learning_rate': 0.0826191295983259, 'max_dept': 75.0, 'num_leaves': 200, 'objective': 'regression'}\n",
      "{'boosting_type': 'gbdt', 'learning_rate': 0.1424961303310572, 'max_dept': 50.0, 'num_leaves': 70, 'objective': 'regression'}\n",
      "{'boosting_type': 'gbdt', 'learning_rate': 0.12409802039725125, 'max_dept': 135.0, 'num_leaves': 200, 'objective': 'regression'}\n",
      "{'boosting_type': 'dart', 'learning_rate': 0.1965449890796238, 'max_dept': 70.0, 'num_leaves': 70, 'objective': 'regression'}\n",
      "{'boosting_type': 'gbdt', 'learning_rate': 0.08450457152216492, 'max_dept': 50.0, 'num_leaves': 200, 'objective': 'regression'}\n",
      "{'boosting_type': 'gbdt', 'learning_rate': 0.052427818939212646, 'max_dept': 90.0, 'num_leaves': 150, 'objective': 'regression'}\n",
      "{'boosting_type': 'gbdt', 'learning_rate': 0.17235628996334396, 'max_dept': 105.0, 'num_leaves': 70, 'objective': 'regression'}\n",
      "{'boosting_type': 'gbdt', 'learning_rate': 0.11080251246011727, 'max_dept': 65.0, 'num_leaves': 200, 'objective': 'regression'}\n",
      "{'boosting_type': 'dart', 'learning_rate': 0.07595804796539252, 'max_dept': 175.0, 'num_leaves': 300, 'objective': 'regression'}\n",
      "{'boosting_type': 'gbdt', 'learning_rate': 0.1548240930414499, 'max_dept': 195.0, 'num_leaves': 150, 'objective': 'regression'}\n",
      "{'boosting_type': 'gbdt', 'learning_rate': 0.07133594825463994, 'max_dept': 90.0, 'num_leaves': 200, 'objective': 'regression'}\n",
      "{'boosting_type': 'dart', 'learning_rate': 0.04490504193834308, 'max_dept': 130.0, 'num_leaves': 300, 'objective': 'regression'}\n",
      "{'boosting_type': 'gbdt', 'learning_rate': 0.026171750737345106, 'max_dept': 145.0, 'num_leaves': 70, 'objective': 'regression'}\n",
      "{'boosting_type': 'goss', 'learning_rate': 0.12853262310055827, 'max_dept': 115.0, 'num_leaves': 50, 'objective': 'regression'}\n",
      "{'boosting_type': 'dart', 'learning_rate': 0.055042264035911725, 'max_dept': 105.0, 'num_leaves': 150, 'objective': 'regression'}\n",
      "{'boosting_type': 'gbdt', 'learning_rate': 0.09569385447763762, 'max_dept': 170.0, 'num_leaves': 100, 'objective': 'regression'}\n",
      "{'boosting_type': 'goss', 'learning_rate': 0.16287610806752315, 'max_dept': 55.0, 'num_leaves': 50, 'objective': 'regression'}\n",
      "{'boosting_type': 'gbdt', 'learning_rate': 0.03492817469633058, 'max_dept': 155.0, 'num_leaves': 200, 'objective': 'regression'}\n",
      "{'boosting_type': 'dart', 'learning_rate': 0.021639248318871727, 'max_dept': 120.0, 'num_leaves': 300, 'objective': 'regression'}\n",
      "{'boosting_type': 'goss', 'learning_rate': 0.10833385871772504, 'max_dept': 70.0, 'num_leaves': 100, 'objective': 'regression'}\n",
      "{'boosting_type': 'gbdt', 'learning_rate': 0.010307501420310469, 'max_dept': 100.0, 'num_leaves': 70, 'objective': 'regression'}\n",
      "{'boosting_type': 'gbdt', 'learning_rate': 0.19723175004419624, 'max_dept': 185.0, 'num_leaves': 150, 'objective': 'regression'}\n",
      "{'boosting_type': 'goss', 'learning_rate': 0.06828022421389679, 'max_dept': 190.0, 'num_leaves': 150, 'objective': 'regression'}\n",
      "{'boosting_type': 'dart', 'learning_rate': 0.05040772032209208, 'max_dept': 180.0, 'num_leaves': 150, 'objective': 'regression'}\n",
      "{'boosting_type': 'gbdt', 'learning_rate': 0.04082820622078457, 'max_dept': 185.0, 'num_leaves': 150, 'objective': 'regression'}\n",
      "{'boosting_type': 'gbdt', 'learning_rate': 0.12265867504802042, 'max_dept': 160.0, 'num_leaves': 150, 'objective': 'regression'}\n",
      "{'boosting_type': 'goss', 'learning_rate': 0.030344554739135634, 'max_dept': 145.0, 'num_leaves': 150, 'objective': 'regression'}\n",
      "{'boosting_type': 'gbdt', 'learning_rate': 0.012244015896965646, 'max_dept': 130.0, 'num_leaves': 200, 'objective': 'regression'}\n",
      "{'boosting_type': 'gbdt', 'learning_rate': 0.060795333483070486, 'max_dept': 155.0, 'num_leaves': 50, 'objective': 'regression'}\n",
      "{'boosting_type': 'dart', 'learning_rate': 0.015712552196200383, 'max_dept': 165.0, 'num_leaves': 150, 'objective': 'regression'}\n",
      "{'boosting_type': 'gbdt', 'learning_rate': 0.15512527354146846, 'max_dept': 200.0, 'num_leaves': 100, 'objective': 'regression'}\n",
      "{'boosting_type': 'goss', 'learning_rate': 0.08558804831166, 'max_dept': 120.0, 'num_leaves': 200, 'objective': 'regression'}\n",
      "{'boosting_type': 'gbdt', 'learning_rate': 0.1892594569023284, 'max_dept': 110.0, 'num_leaves': 150, 'objective': 'regression'}\n",
      "{'boosting_type': 'gbdt', 'learning_rate': 0.10254915119311359, 'max_dept': 140.0, 'num_leaves': 300, 'objective': 'regression'}\n",
      "{'boosting_type': 'gbdt', 'learning_rate': 0.12619864894307942, 'max_dept': 175.0, 'num_leaves': 50, 'objective': 'regression'}\n",
      "{'boosting_type': 'dart', 'learning_rate': 0.034536965043447075, 'max_dept': 130.0, 'num_leaves': 200, 'objective': 'regression'}\n",
      "{'boosting_type': 'gbdt', 'learning_rate': 0.1750886034224868, 'max_dept': 150.0, 'num_leaves': 100, 'objective': 'regression'}\n",
      "{'boosting_type': 'gbdt', 'learning_rate': 0.19165252520543347, 'max_dept': 110.0, 'num_leaves': 150, 'objective': 'regression'}\n",
      "{'boosting_type': 'gbdt', 'learning_rate': 0.1366508274530848, 'max_dept': 95.0, 'num_leaves': 150, 'objective': 'regression'}\n",
      "{'boosting_type': 'gbdt', 'learning_rate': 0.15701599197226496, 'max_dept': 115.0, 'num_leaves': 150, 'objective': 'regression'}\n",
      "{'boosting_type': 'gbdt', 'learning_rate': 0.11772975097003692, 'max_dept': 125.0, 'num_leaves': 150, 'objective': 'regression'}\n",
      "{'boosting_type': 'gbdt', 'learning_rate': 0.18567833240695847, 'max_dept': 85.0, 'num_leaves': 150, 'objective': 'regression'}\n",
      "{'boosting_type': 'gbdt', 'learning_rate': 0.14301938947023748, 'max_dept': 105.0, 'num_leaves': 150, 'objective': 'regression'}\n",
      "{'boosting_type': 'gbdt', 'learning_rate': 0.07865897355942154, 'max_dept': 135.0, 'num_leaves': 200, 'objective': 'regression'}\n"
     ]
    },
    {
     "name": "stdout",
     "output_type": "stream",
     "text": [
      "{'boosting_type': 'gbdt', 'learning_rate': 0.09016248961256623, 'max_dept': 120.0, 'num_leaves': 150, 'objective': 'regression'}\n",
      "{'boosting_type': 'gbdt', 'learning_rate': 0.1654431549132049, 'max_dept': 115.0, 'num_leaves': 200, 'objective': 'regression'}\n",
      "{'boosting_type': 'gbdt', 'learning_rate': 0.10149258164775274, 'max_dept': 100.0, 'num_leaves': 300, 'objective': 'regression'}\n",
      "{'boosting_type': 'gbdt', 'learning_rate': 0.1960192339693318, 'max_dept': 140.0, 'num_leaves': 150, 'objective': 'regression'}\n",
      "{'boosting_type': 'goss', 'learning_rate': 0.13306288641251207, 'max_dept': 165.0, 'num_leaves': 50, 'objective': 'regression'}\n",
      "{'boosting_type': 'gbdt', 'learning_rate': 0.1989273185737521, 'max_dept': 145.0, 'num_leaves': 200, 'objective': 'regression'}\n",
      "{'boosting_type': 'dart', 'learning_rate': 0.11386623003132408, 'max_dept': 200.0, 'num_leaves': 200, 'objective': 'regression'}\n",
      "{'boosting_type': 'gbdt', 'learning_rate': 0.16958556301100564, 'max_dept': 160.0, 'num_leaves': 200, 'objective': 'regression'}\n",
      "{'boosting_type': 'gbdt', 'learning_rate': 0.14920812131249317, 'max_dept': 190.0, 'num_leaves': 200, 'objective': 'regression'}\n",
      "{'boosting_type': 'goss', 'learning_rate': 0.07222250481082204, 'max_dept': 145.0, 'num_leaves': 200, 'objective': 'regression'}\n",
      "{'boosting_type': 'gbdt', 'learning_rate': 0.1785029500362135, 'max_dept': 170.0, 'num_leaves': 200, 'objective': 'regression'}\n",
      "{'boosting_type': 'gbdt', 'learning_rate': 0.0234677888830717, 'max_dept': 180.0, 'num_leaves': 200, 'objective': 'regression'}\n",
      "{'boosting_type': 'dart', 'learning_rate': 0.04794892139754434, 'max_dept': 170.0, 'num_leaves': 100, 'objective': 'regression'}\n",
      "{'boosting_type': 'gbdt', 'learning_rate': 0.10520499918370012, 'max_dept': 155.0, 'num_leaves': 200, 'objective': 'regression'}\n",
      "{'boosting_type': 'gbdt', 'learning_rate': 0.040744035817654754, 'max_dept': 135.0, 'num_leaves': 300, 'objective': 'regression'}\n",
      "{'boosting_type': 'goss', 'learning_rate': 0.019114523771669282, 'max_dept': 185.0, 'num_leaves': 200, 'objective': 'regression'}\n",
      "{'boosting_type': 'gbdt', 'learning_rate': 0.06502749069390855, 'max_dept': 150.0, 'num_leaves': 50, 'objective': 'regression'}\n",
      "{'boosting_type': 'dart', 'learning_rate': 0.09051128748335659, 'max_dept': 195.0, 'num_leaves': 70, 'objective': 'regression'}\n",
      "{'boosting_type': 'gbdt', 'learning_rate': 0.0578938181144386, 'max_dept': 145.0, 'num_leaves': 200, 'objective': 'regression'}\n",
      "{'boosting_type': 'gbdt', 'learning_rate': 0.13336462478617067, 'max_dept': 95.0, 'num_leaves': 100, 'objective': 'regression'}\n",
      "{'boosting_type': 'goss', 'learning_rate': 0.1993042005872385, 'max_dept': 85.0, 'num_leaves': 200, 'objective': 'regression'}\n",
      "{'boosting_type': 'goss', 'learning_rate': 0.12061408482768751, 'max_dept': 75.0, 'num_leaves': 200, 'objective': 'regression'}\n",
      "{'boosting_type': 'goss', 'learning_rate': 0.16187280893265008, 'max_dept': 55.0, 'num_leaves': 200, 'objective': 'regression'}\n",
      "{'boosting_type': 'goss', 'learning_rate': 0.14898241675315588, 'max_dept': 105.0, 'num_leaves': 200, 'objective': 'regression'}\n",
      "{'boosting_type': 'goss', 'learning_rate': 0.028467169579378407, 'max_dept': 70.0, 'num_leaves': 200, 'objective': 'regression'}\n",
      "{'boosting_type': 'goss', 'learning_rate': 0.11216802602412501, 'max_dept': 85.0, 'num_leaves': 200, 'objective': 'regression'}\n",
      "{'boosting_type': 'goss', 'learning_rate': 0.176166140884753, 'max_dept': 65.0, 'num_leaves': 200, 'objective': 'regression'}\n",
      "{'boosting_type': 'goss', 'learning_rate': 0.011623943596042224, 'max_dept': 85.0, 'num_leaves': 200, 'objective': 'regression'}\n",
      "{'boosting_type': 'goss', 'learning_rate': 0.015449128607653689, 'max_dept': 130.0, 'num_leaves': 300, 'objective': 'regression'}\n",
      "{'boosting_type': 'goss', 'learning_rate': 0.07854639312605087, 'max_dept': 125.0, 'num_leaves': 70, 'objective': 'regression'}\n",
      "{'boosting_type': 'goss', 'learning_rate': 0.18501559331308676, 'max_dept': 75.0, 'num_leaves': 200, 'objective': 'regression'}\n",
      "{'boosting_type': 'dart', 'learning_rate': 0.1382701498329503, 'max_dept': 90.0, 'num_leaves': 50, 'objective': 'regression'}\n",
      "{'boosting_type': 'goss', 'learning_rate': 0.08968266715576019, 'max_dept': 95.0, 'num_leaves': 200, 'objective': 'regression'}\n",
      "{'boosting_type': 'goss', 'learning_rate': 0.1291938893203027, 'max_dept': 100.0, 'num_leaves': 100, 'objective': 'regression'}\n",
      "{'boosting_type': 'dart', 'learning_rate': 0.09708874676359548, 'max_dept': 60.0, 'num_leaves': 200, 'objective': 'regression'}\n",
      "{'boosting_type': 'goss', 'learning_rate': 0.19854868595644787, 'max_dept': 65.0, 'num_leaves': 300, 'objective': 'regression'}\n",
      "{'boosting_type': 'goss', 'learning_rate': 0.153768575270782, 'max_dept': 55.0, 'num_leaves': 300, 'objective': 'regression'}\n",
      "{'boosting_type': 'goss', 'learning_rate': 0.053239441757822484, 'max_dept': 65.0, 'num_leaves': 300, 'objective': 'regression'}\n",
      "{'boosting_type': 'goss', 'learning_rate': 0.19836943358254272, 'max_dept': 50.0, 'num_leaves': 300, 'objective': 'regression'}\n",
      "{'boosting_type': 'goss', 'learning_rate': 0.16447577236549302, 'max_dept': 50.0, 'num_leaves': 300, 'objective': 'regression'}\n",
      "{'boosting_type': 'goss', 'learning_rate': 0.11832884964101656, 'max_dept': 60.0, 'num_leaves': 300, 'objective': 'regression'}\n",
      "{'boosting_type': 'goss', 'learning_rate': 0.013775854248655506, 'max_dept': 55.0, 'num_leaves': 300, 'objective': 'regression'}\n",
      "{'boosting_type': 'goss', 'learning_rate': 0.034068526061941336, 'max_dept': 75.0, 'num_leaves': 300, 'objective': 'regression'}\n",
      "{'boosting_type': 'goss', 'learning_rate': 0.14730023461952982, 'max_dept': 50.0, 'num_leaves': 300, 'objective': 'regression'}\n",
      "{'boosting_type': 'goss', 'learning_rate': 0.19953453297249596, 'max_dept': 80.0, 'num_leaves': 300, 'objective': 'regression'}\n",
      "{'boosting_type': 'goss', 'learning_rate': 0.10169630826230823, 'max_dept': 70.0, 'num_leaves': 300, 'objective': 'regression'}\n",
      "{'boosting_type': 'goss', 'learning_rate': 0.04289765670473189, 'max_dept': 65.0, 'num_leaves': 300, 'objective': 'regression'}\n",
      "{'boosting_type': 'goss', 'learning_rate': 0.07338122528048194, 'max_dept': 80.0, 'num_leaves': 300, 'objective': 'regression'}\n",
      "{'boosting_type': 'goss', 'learning_rate': 0.08174745559411463, 'max_dept': 80.0, 'num_leaves': 300, 'objective': 'regression'}\n",
      "{'boosting_type': 'goss', 'learning_rate': 0.06185227181624445, 'max_dept': 65.0, 'num_leaves': 300, 'objective': 'regression'}\n",
      "{'boosting_type': 'goss', 'learning_rate': 0.02223786318000532, 'max_dept': 60.0, 'num_leaves': 300, 'objective': 'regression'}\n",
      "{'boosting_type': 'goss', 'learning_rate': 0.10796257854619112, 'max_dept': 70.0, 'num_leaves': 300, 'objective': 'regression'}\n",
      "{'boosting_type': 'goss', 'learning_rate': 0.06560683027273809, 'max_dept': 90.0, 'num_leaves': 300, 'objective': 'regression'}\n",
      "{'boosting_type': 'goss', 'learning_rate': 0.18237771676686393, 'max_dept': 55.0, 'num_leaves': 300, 'objective': 'regression'}\n",
      "{'boosting_type': 'goss', 'learning_rate': 0.03736128061903971, 'max_dept': 75.0, 'num_leaves': 300, 'objective': 'regression'}\n",
      "{'boosting_type': 'goss', 'learning_rate': 0.017349551358848265, 'max_dept': 50.0, 'num_leaves': 300, 'objective': 'regression'}\n",
      "{'boosting_type': 'goss', 'learning_rate': 0.05785787743103733, 'max_dept': 60.0, 'num_leaves': 300, 'objective': 'regression'}\n",
      "{'boosting_type': 'dart', 'learning_rate': 0.02701252699549255, 'max_dept': 80.0, 'num_leaves': 70, 'objective': 'regression'}\n",
      "{'boosting_type': 'goss', 'learning_rate': 0.17028034455501032, 'max_dept': 90.0, 'num_leaves': 50, 'objective': 'regression'}\n",
      "{'boosting_type': 'goss', 'learning_rate': 0.12822433497664007, 'max_dept': 70.0, 'num_leaves': 300, 'objective': 'regression'}\n",
      "{'boosting_type': 'goss', 'learning_rate': 0.1383673378495833, 'max_dept': 55.0, 'num_leaves': 100, 'objective': 'regression'}\n",
      "{'boosting_type': 'goss', 'learning_rate': 0.04857978266829499, 'max_dept': 85.0, 'num_leaves': 300, 'objective': 'regression'}\n",
      "{'boosting_type': 'dart', 'learning_rate': 0.06953780848206914, 'max_dept': 110.0, 'num_leaves': 300, 'objective': 'regression'}\n",
      "{'boosting_type': 'goss', 'learning_rate': 0.15767520583213399, 'max_dept': 50.0, 'num_leaves': 70, 'objective': 'regression'}\n"
     ]
    },
    {
     "name": "stdout",
     "output_type": "stream",
     "text": [
      "{'boosting_type': 'goss', 'learning_rate': 0.09660954850878471, 'max_dept': 60.0, 'num_leaves': 50, 'objective': 'regression'}\n",
      "{'boosting_type': 'goss', 'learning_rate': 0.03164450558591146, 'max_dept': 100.0, 'num_leaves': 300, 'objective': 'regression'}\n",
      "{'boosting_type': 'dart', 'learning_rate': 0.11529796157448825, 'max_dept': 65.0, 'num_leaves': 100, 'objective': 'regression'}\n",
      "{'boosting_type': 'goss', 'learning_rate': 0.08723111061193087, 'max_dept': 75.0, 'num_leaves': 300, 'objective': 'regression'}\n",
      "{'boosting_type': 'goss', 'learning_rate': 0.19972641380659503, 'max_dept': 105.0, 'num_leaves': 300, 'objective': 'regression'}\n",
      "{'boosting_type': 'goss', 'learning_rate': 0.14205503297676522, 'max_dept': 115.0, 'num_leaves': 300, 'objective': 'regression'}\n",
      "{'boosting_type': 'goss', 'learning_rate': 0.18158422102643548, 'max_dept': 105.0, 'num_leaves': 70, 'objective': 'regression'}\n",
      "{'boosting_type': 'dart', 'learning_rate': 0.08146230997646264, 'max_dept': 95.0, 'num_leaves': 50, 'objective': 'regression'}\n",
      "{'boosting_type': 'goss', 'learning_rate': 0.16481849935188223, 'max_dept': 95.0, 'num_leaves': 300, 'objective': 'regression'}\n",
      "{'boosting_type': 'goss', 'learning_rate': 0.19452296865577814, 'max_dept': 80.0, 'num_leaves': 300, 'objective': 'regression'}\n",
      "{'boosting_type': 'goss', 'learning_rate': 0.1974150955564928, 'max_dept': 100.0, 'num_leaves': 300, 'objective': 'regression'}\n",
      "{'boosting_type': 'goss', 'learning_rate': 0.17487979242952315, 'max_dept': 120.0, 'num_leaves': 300, 'objective': 'regression'}\n",
      "{'boosting_type': 'goss', 'learning_rate': 0.12472714794877347, 'max_dept': 110.0, 'num_leaves': 300, 'objective': 'regression'}\n",
      "{'boosting_type': 'goss', 'learning_rate': 0.15004450651819454, 'max_dept': 85.0, 'num_leaves': 300, 'objective': 'regression'}\n",
      "{'boosting_type': 'goss', 'learning_rate': 0.1329908397215513, 'max_dept': 70.0, 'num_leaves': 300, 'objective': 'regression'}\n",
      "{'boosting_type': 'goss', 'learning_rate': 0.18965941975099665, 'max_dept': 90.0, 'num_leaves': 300, 'objective': 'regression'}\n",
      "{'boosting_type': 'goss', 'learning_rate': 0.15985952105908197, 'max_dept': 65.0, 'num_leaves': 300, 'objective': 'regression'}\n",
      "{'boosting_type': 'goss', 'learning_rate': 0.10800161473706428, 'max_dept': 80.0, 'num_leaves': 100, 'objective': 'regression'}\n",
      "{'boosting_type': 'goss', 'learning_rate': 0.1449497247494664, 'max_dept': 75.0, 'num_leaves': 300, 'objective': 'regression'}\n",
      "{'boosting_type': 'goss', 'learning_rate': 0.19981387712135354, 'max_dept': 105.0, 'num_leaves': 300, 'objective': 'regression'}\n",
      "{'boosting_type': 'goss', 'learning_rate': 0.12099735525745534, 'max_dept': 105.0, 'num_leaves': 300, 'objective': 'regression'}\n",
      "{'boosting_type': 'goss', 'learning_rate': 0.17185734506206607, 'max_dept': 125.0, 'num_leaves': 70, 'objective': 'regression'}\n",
      "{'boosting_type': 'goss', 'learning_rate': 0.183857003281384, 'max_dept': 115.0, 'num_leaves': 300, 'objective': 'regression'}\n",
      "{'boosting_type': 'goss', 'learning_rate': 0.15721880148898595, 'max_dept': 120.0, 'num_leaves': 50, 'objective': 'regression'}\n",
      "{'boosting_type': 'dart', 'learning_rate': 0.19926840725409187, 'max_dept': 110.0, 'num_leaves': 300, 'objective': 'regression'}\n",
      "{'boosting_type': 'dart', 'learning_rate': 0.10227887614568232, 'max_dept': 130.0, 'num_leaves': 100, 'objective': 'regression'}\n",
      "{'boosting_type': 'dart', 'learning_rate': 0.0938608175818892, 'max_dept': 140.0, 'num_leaves': 300, 'objective': 'regression'}\n",
      "{'boosting_type': 'dart', 'learning_rate': 0.13766067183283112, 'max_dept': 110.0, 'num_leaves': 300, 'objective': 'regression'}\n",
      "{'boosting_type': 'dart', 'learning_rate': 0.1137229125936746, 'max_dept': 135.0, 'num_leaves': 300, 'objective': 'regression'}\n",
      "{'boosting_type': 'dart', 'learning_rate': 0.12944784479408147, 'max_dept': 100.0, 'num_leaves': 300, 'objective': 'regression'}\n",
      "{'boosting_type': 'dart', 'learning_rate': 0.16838250833958332, 'max_dept': 105.0, 'num_leaves': 70, 'objective': 'regression'}\n",
      "{'boosting_type': 'dart', 'learning_rate': 0.14773125835477663, 'max_dept': 110.0, 'num_leaves': 50, 'objective': 'regression'}\n",
      "{'boosting_type': 'dart', 'learning_rate': 0.18654547091487753, 'max_dept': 95.0, 'num_leaves': 300, 'objective': 'regression'}\n",
      "{'boosting_type': 'dart', 'learning_rate': 0.199519066573373, 'max_dept': 125.0, 'num_leaves': 100, 'objective': 'regression'}\n",
      "{'boosting_type': 'dart', 'learning_rate': 0.1804735532017633, 'max_dept': 115.0, 'num_leaves': 300, 'objective': 'regression'}\n",
      "{'boosting_type': 'dart', 'learning_rate': 0.15459538621070618, 'max_dept': 90.0, 'num_leaves': 150, 'objective': 'regression'}\n",
      "{'boosting_type': 'dart', 'learning_rate': 0.07649146699157947, 'max_dept': 130.0, 'num_leaves': 300, 'objective': 'regression'}\n",
      "{'boosting_type': 'dart', 'learning_rate': 0.12069385151633404, 'max_dept': 120.0, 'num_leaves': 300, 'objective': 'regression'}\n",
      "{'boosting_type': 'dart', 'learning_rate': 0.1992538685857491, 'max_dept': 135.0, 'num_leaves': 70, 'objective': 'regression'}\n",
      "{'boosting_type': 'dart', 'learning_rate': 0.16692857583727308, 'max_dept': 105.0, 'num_leaves': 50, 'objective': 'regression'}\n",
      "{'boosting_type': 'dart', 'learning_rate': 0.131934594802574, 'max_dept': 115.0, 'num_leaves': 300, 'objective': 'regression'}\n",
      "{'boosting_type': 'dart', 'learning_rate': 0.04469892543532432, 'max_dept': 140.0, 'num_leaves': 300, 'objective': 'regression'}\n",
      "{'boosting_type': 'goss', 'learning_rate': 0.024430324748020458, 'max_dept': 100.0, 'num_leaves': 100, 'objective': 'regression'}\n",
      "{'boosting_type': 'dart', 'learning_rate': 0.010753160783166805, 'max_dept': 85.0, 'num_leaves': 150, 'objective': 'regression'}\n",
      "{'boosting_type': 'goss', 'learning_rate': 0.10931351371069034, 'max_dept': 100.0, 'num_leaves': 300, 'objective': 'regression'}\n",
      "{'boosting_type': 'goss', 'learning_rate': 0.014380260620388285, 'max_dept': 95.0, 'num_leaves': 300, 'objective': 'regression'}\n",
      "{'boosting_type': 'goss', 'learning_rate': 0.1411831456258359, 'max_dept': 110.0, 'num_leaves': 300, 'objective': 'regression'}\n",
      "{'boosting_type': 'dart', 'learning_rate': 0.02066711415547328, 'max_dept': 125.0, 'num_leaves': 70, 'objective': 'regression'}\n",
      "{'boosting_type': 'goss', 'learning_rate': 0.09742575117734795, 'max_dept': 120.0, 'num_leaves': 300, 'objective': 'regression'}\n",
      "{'boosting_type': 'goss', 'learning_rate': 0.17334264338075697, 'max_dept': 90.0, 'num_leaves': 50, 'objective': 'regression'}\n",
      "{'boosting_type': 'goss', 'learning_rate': 0.08735836080859267, 'max_dept': 115.0, 'num_leaves': 300, 'objective': 'regression'}\n",
      "{'boosting_type': 'dart', 'learning_rate': 0.012451527153051544, 'max_dept': 105.0, 'num_leaves': 150, 'objective': 'regression'}\n",
      "{'boosting_type': 'goss', 'learning_rate': 0.1594382510660996, 'max_dept': 95.0, 'num_leaves': 100, 'objective': 'regression'}\n",
      "{'boosting_type': 'goss', 'learning_rate': 0.05417381564883105, 'max_dept': 120.0, 'num_leaves': 300, 'objective': 'regression'}\n",
      "{'boosting_type': 'dart', 'learning_rate': 0.12495837195275329, 'max_dept': 130.0, 'num_leaves': 300, 'objective': 'regression'}\n",
      "{'boosting_type': 'goss', 'learning_rate': 0.01687352729999058, 'max_dept': 150.0, 'num_leaves': 300, 'objective': 'regression'}\n",
      "{'boosting_type': 'goss', 'learning_rate': 0.04037323912798529, 'max_dept': 85.0, 'num_leaves': 70, 'objective': 'regression'}\n",
      "{'boosting_type': 'goss', 'learning_rate': 0.18935281574082788, 'max_dept': 90.0, 'num_leaves': 300, 'objective': 'regression'}\n",
      "{'boosting_type': 'dart', 'learning_rate': 0.15106236149325417, 'max_dept': 105.0, 'num_leaves': 50, 'objective': 'regression'}\n",
      "{'boosting_type': 'goss', 'learning_rate': 0.1168979054287576, 'max_dept': 110.0, 'num_leaves': 300, 'objective': 'regression'}\n",
      "{'boosting_type': 'goss', 'learning_rate': 0.10501651545789539, 'max_dept': 100.0, 'num_leaves': 100, 'objective': 'regression'}\n",
      "{'boosting_type': 'dart', 'learning_rate': 0.09257636923954138, 'max_dept': 80.0, 'num_leaves': 150, 'objective': 'regression'}\n",
      " 39%|███▉      | 197/500 [9:36:08<14:46:08, 175.47s/trial, best loss: 104.58321744635361]\n"
     ]
    },
    {
     "ename": "KeyboardInterrupt",
     "evalue": "",
     "output_type": "error",
     "traceback": [
      "\u001b[0;31m---------------------------------------------------------------------------\u001b[0m",
      "\u001b[0;31mKeyboardInterrupt\u001b[0m                         Traceback (most recent call last)",
      "\u001b[0;32m<ipython-input-58-c2c0ee31d42d>\u001b[0m in \u001b[0;36m<module>\u001b[0;34m\u001b[0m\n\u001b[1;32m     59\u001b[0m \u001b[0;31m# Optimize\u001b[0m\u001b[0;34m\u001b[0m\u001b[0;34m\u001b[0m\u001b[0;34m\u001b[0m\u001b[0m\n\u001b[1;32m     60\u001b[0m best = fmin(fn = objective, space = space, algo = tpe.suggest, \n\u001b[0;32m---> 61\u001b[0;31m             max_evals = MAX_EVALS, trials = bayes_trials)\n\u001b[0m",
      "\u001b[0;32m~/.local/share/virtualenvs/capstone_machine_learning-9cUIoDBU/lib/python3.7/site-packages/hyperopt/fmin.py\u001b[0m in \u001b[0;36mfmin\u001b[0;34m(fn, space, algo, max_evals, timeout, loss_threshold, trials, rstate, allow_trials_fmin, pass_expr_memo_ctrl, catch_eval_exceptions, verbose, return_argmin, points_to_evaluate, max_queue_len, show_progressbar)\u001b[0m\n\u001b[1;32m    480\u001b[0m             \u001b[0mcatch_eval_exceptions\u001b[0m\u001b[0;34m=\u001b[0m\u001b[0mcatch_eval_exceptions\u001b[0m\u001b[0;34m,\u001b[0m\u001b[0;34m\u001b[0m\u001b[0;34m\u001b[0m\u001b[0m\n\u001b[1;32m    481\u001b[0m             \u001b[0mreturn_argmin\u001b[0m\u001b[0;34m=\u001b[0m\u001b[0mreturn_argmin\u001b[0m\u001b[0;34m,\u001b[0m\u001b[0;34m\u001b[0m\u001b[0;34m\u001b[0m\u001b[0m\n\u001b[0;32m--> 482\u001b[0;31m             \u001b[0mshow_progressbar\u001b[0m\u001b[0;34m=\u001b[0m\u001b[0mshow_progressbar\u001b[0m\u001b[0;34m,\u001b[0m\u001b[0;34m\u001b[0m\u001b[0;34m\u001b[0m\u001b[0m\n\u001b[0m\u001b[1;32m    483\u001b[0m         )\n\u001b[1;32m    484\u001b[0m \u001b[0;34m\u001b[0m\u001b[0m\n",
      "\u001b[0;32m~/.local/share/virtualenvs/capstone_machine_learning-9cUIoDBU/lib/python3.7/site-packages/hyperopt/base.py\u001b[0m in \u001b[0;36mfmin\u001b[0;34m(self, fn, space, algo, max_evals, timeout, loss_threshold, max_queue_len, rstate, verbose, pass_expr_memo_ctrl, catch_eval_exceptions, return_argmin, show_progressbar)\u001b[0m\n\u001b[1;32m    684\u001b[0m             \u001b[0mcatch_eval_exceptions\u001b[0m\u001b[0;34m=\u001b[0m\u001b[0mcatch_eval_exceptions\u001b[0m\u001b[0;34m,\u001b[0m\u001b[0;34m\u001b[0m\u001b[0;34m\u001b[0m\u001b[0m\n\u001b[1;32m    685\u001b[0m             \u001b[0mreturn_argmin\u001b[0m\u001b[0;34m=\u001b[0m\u001b[0mreturn_argmin\u001b[0m\u001b[0;34m,\u001b[0m\u001b[0;34m\u001b[0m\u001b[0;34m\u001b[0m\u001b[0m\n\u001b[0;32m--> 686\u001b[0;31m             \u001b[0mshow_progressbar\u001b[0m\u001b[0;34m=\u001b[0m\u001b[0mshow_progressbar\u001b[0m\u001b[0;34m,\u001b[0m\u001b[0;34m\u001b[0m\u001b[0;34m\u001b[0m\u001b[0m\n\u001b[0m\u001b[1;32m    687\u001b[0m         )\n\u001b[1;32m    688\u001b[0m \u001b[0;34m\u001b[0m\u001b[0m\n",
      "\u001b[0;32m~/.local/share/virtualenvs/capstone_machine_learning-9cUIoDBU/lib/python3.7/site-packages/hyperopt/fmin.py\u001b[0m in \u001b[0;36mfmin\u001b[0;34m(fn, space, algo, max_evals, timeout, loss_threshold, trials, rstate, allow_trials_fmin, pass_expr_memo_ctrl, catch_eval_exceptions, verbose, return_argmin, points_to_evaluate, max_queue_len, show_progressbar)\u001b[0m\n\u001b[1;32m    507\u001b[0m \u001b[0;34m\u001b[0m\u001b[0m\n\u001b[1;32m    508\u001b[0m     \u001b[0;31m# next line is where the fmin is actually executed\u001b[0m\u001b[0;34m\u001b[0m\u001b[0;34m\u001b[0m\u001b[0;34m\u001b[0m\u001b[0m\n\u001b[0;32m--> 509\u001b[0;31m     \u001b[0mrval\u001b[0m\u001b[0;34m.\u001b[0m\u001b[0mexhaust\u001b[0m\u001b[0;34m(\u001b[0m\u001b[0;34m)\u001b[0m\u001b[0;34m\u001b[0m\u001b[0;34m\u001b[0m\u001b[0m\n\u001b[0m\u001b[1;32m    510\u001b[0m \u001b[0;34m\u001b[0m\u001b[0m\n\u001b[1;32m    511\u001b[0m     \u001b[0;32mif\u001b[0m \u001b[0mreturn_argmin\u001b[0m\u001b[0;34m:\u001b[0m\u001b[0;34m\u001b[0m\u001b[0;34m\u001b[0m\u001b[0m\n",
      "\u001b[0;32m~/.local/share/virtualenvs/capstone_machine_learning-9cUIoDBU/lib/python3.7/site-packages/hyperopt/fmin.py\u001b[0m in \u001b[0;36mexhaust\u001b[0;34m(self)\u001b[0m\n\u001b[1;32m    328\u001b[0m     \u001b[0;32mdef\u001b[0m \u001b[0mexhaust\u001b[0m\u001b[0;34m(\u001b[0m\u001b[0mself\u001b[0m\u001b[0;34m)\u001b[0m\u001b[0;34m:\u001b[0m\u001b[0;34m\u001b[0m\u001b[0;34m\u001b[0m\u001b[0m\n\u001b[1;32m    329\u001b[0m         \u001b[0mn_done\u001b[0m \u001b[0;34m=\u001b[0m \u001b[0mlen\u001b[0m\u001b[0;34m(\u001b[0m\u001b[0mself\u001b[0m\u001b[0;34m.\u001b[0m\u001b[0mtrials\u001b[0m\u001b[0;34m)\u001b[0m\u001b[0;34m\u001b[0m\u001b[0;34m\u001b[0m\u001b[0m\n\u001b[0;32m--> 330\u001b[0;31m         \u001b[0mself\u001b[0m\u001b[0;34m.\u001b[0m\u001b[0mrun\u001b[0m\u001b[0;34m(\u001b[0m\u001b[0mself\u001b[0m\u001b[0;34m.\u001b[0m\u001b[0mmax_evals\u001b[0m \u001b[0;34m-\u001b[0m \u001b[0mn_done\u001b[0m\u001b[0;34m,\u001b[0m \u001b[0mblock_until_done\u001b[0m\u001b[0;34m=\u001b[0m\u001b[0mself\u001b[0m\u001b[0;34m.\u001b[0m\u001b[0masynchronous\u001b[0m\u001b[0;34m)\u001b[0m\u001b[0;34m\u001b[0m\u001b[0;34m\u001b[0m\u001b[0m\n\u001b[0m\u001b[1;32m    331\u001b[0m         \u001b[0mself\u001b[0m\u001b[0;34m.\u001b[0m\u001b[0mtrials\u001b[0m\u001b[0;34m.\u001b[0m\u001b[0mrefresh\u001b[0m\u001b[0;34m(\u001b[0m\u001b[0;34m)\u001b[0m\u001b[0;34m\u001b[0m\u001b[0;34m\u001b[0m\u001b[0m\n\u001b[1;32m    332\u001b[0m         \u001b[0;32mreturn\u001b[0m \u001b[0mself\u001b[0m\u001b[0;34m\u001b[0m\u001b[0;34m\u001b[0m\u001b[0m\n",
      "\u001b[0;32m~/.local/share/virtualenvs/capstone_machine_learning-9cUIoDBU/lib/python3.7/site-packages/hyperopt/fmin.py\u001b[0m in \u001b[0;36mrun\u001b[0;34m(self, N, block_until_done)\u001b[0m\n\u001b[1;32m    284\u001b[0m                 \u001b[0;32melse\u001b[0m\u001b[0;34m:\u001b[0m\u001b[0;34m\u001b[0m\u001b[0;34m\u001b[0m\u001b[0m\n\u001b[1;32m    285\u001b[0m                     \u001b[0;31m# -- loop over trials and do the jobs directly\u001b[0m\u001b[0;34m\u001b[0m\u001b[0;34m\u001b[0m\u001b[0;34m\u001b[0m\u001b[0m\n\u001b[0;32m--> 286\u001b[0;31m                     \u001b[0mself\u001b[0m\u001b[0;34m.\u001b[0m\u001b[0mserial_evaluate\u001b[0m\u001b[0;34m(\u001b[0m\u001b[0;34m)\u001b[0m\u001b[0;34m\u001b[0m\u001b[0;34m\u001b[0m\u001b[0m\n\u001b[0m\u001b[1;32m    287\u001b[0m \u001b[0;34m\u001b[0m\u001b[0m\n\u001b[1;32m    288\u001b[0m                 \u001b[0mself\u001b[0m\u001b[0;34m.\u001b[0m\u001b[0mtrials\u001b[0m\u001b[0;34m.\u001b[0m\u001b[0mrefresh\u001b[0m\u001b[0;34m(\u001b[0m\u001b[0;34m)\u001b[0m\u001b[0;34m\u001b[0m\u001b[0;34m\u001b[0m\u001b[0m\n",
      "\u001b[0;32m~/.local/share/virtualenvs/capstone_machine_learning-9cUIoDBU/lib/python3.7/site-packages/hyperopt/fmin.py\u001b[0m in \u001b[0;36mserial_evaluate\u001b[0;34m(self, N)\u001b[0m\n\u001b[1;32m    163\u001b[0m                 \u001b[0mctrl\u001b[0m \u001b[0;34m=\u001b[0m \u001b[0mbase\u001b[0m\u001b[0;34m.\u001b[0m\u001b[0mCtrl\u001b[0m\u001b[0;34m(\u001b[0m\u001b[0mself\u001b[0m\u001b[0;34m.\u001b[0m\u001b[0mtrials\u001b[0m\u001b[0;34m,\u001b[0m \u001b[0mcurrent_trial\u001b[0m\u001b[0;34m=\u001b[0m\u001b[0mtrial\u001b[0m\u001b[0;34m)\u001b[0m\u001b[0;34m\u001b[0m\u001b[0;34m\u001b[0m\u001b[0m\n\u001b[1;32m    164\u001b[0m                 \u001b[0;32mtry\u001b[0m\u001b[0;34m:\u001b[0m\u001b[0;34m\u001b[0m\u001b[0;34m\u001b[0m\u001b[0m\n\u001b[0;32m--> 165\u001b[0;31m                     \u001b[0mresult\u001b[0m \u001b[0;34m=\u001b[0m \u001b[0mself\u001b[0m\u001b[0;34m.\u001b[0m\u001b[0mdomain\u001b[0m\u001b[0;34m.\u001b[0m\u001b[0mevaluate\u001b[0m\u001b[0;34m(\u001b[0m\u001b[0mspec\u001b[0m\u001b[0;34m,\u001b[0m \u001b[0mctrl\u001b[0m\u001b[0;34m)\u001b[0m\u001b[0;34m\u001b[0m\u001b[0;34m\u001b[0m\u001b[0m\n\u001b[0m\u001b[1;32m    166\u001b[0m                 \u001b[0;32mexcept\u001b[0m \u001b[0mException\u001b[0m \u001b[0;32mas\u001b[0m \u001b[0me\u001b[0m\u001b[0;34m:\u001b[0m\u001b[0;34m\u001b[0m\u001b[0;34m\u001b[0m\u001b[0m\n\u001b[1;32m    167\u001b[0m                     \u001b[0mlogger\u001b[0m\u001b[0;34m.\u001b[0m\u001b[0merror\u001b[0m\u001b[0;34m(\u001b[0m\u001b[0;34m\"job exception: %s\"\u001b[0m \u001b[0;34m%\u001b[0m \u001b[0mstr\u001b[0m\u001b[0;34m(\u001b[0m\u001b[0me\u001b[0m\u001b[0;34m)\u001b[0m\u001b[0;34m)\u001b[0m\u001b[0;34m\u001b[0m\u001b[0;34m\u001b[0m\u001b[0m\n",
      "\u001b[0;32m~/.local/share/virtualenvs/capstone_machine_learning-9cUIoDBU/lib/python3.7/site-packages/hyperopt/base.py\u001b[0m in \u001b[0;36mevaluate\u001b[0;34m(self, config, ctrl, attach_attachments)\u001b[0m\n\u001b[1;32m    892\u001b[0m                 \u001b[0mprint_node_on_error\u001b[0m\u001b[0;34m=\u001b[0m\u001b[0mself\u001b[0m\u001b[0;34m.\u001b[0m\u001b[0mrec_eval_print_node_on_error\u001b[0m\u001b[0;34m,\u001b[0m\u001b[0;34m\u001b[0m\u001b[0;34m\u001b[0m\u001b[0m\n\u001b[1;32m    893\u001b[0m             )\n\u001b[0;32m--> 894\u001b[0;31m             \u001b[0mrval\u001b[0m \u001b[0;34m=\u001b[0m \u001b[0mself\u001b[0m\u001b[0;34m.\u001b[0m\u001b[0mfn\u001b[0m\u001b[0;34m(\u001b[0m\u001b[0mpyll_rval\u001b[0m\u001b[0;34m)\u001b[0m\u001b[0;34m\u001b[0m\u001b[0;34m\u001b[0m\u001b[0m\n\u001b[0m\u001b[1;32m    895\u001b[0m \u001b[0;34m\u001b[0m\u001b[0m\n\u001b[1;32m    896\u001b[0m         \u001b[0;32mif\u001b[0m \u001b[0misinstance\u001b[0m\u001b[0;34m(\u001b[0m\u001b[0mrval\u001b[0m\u001b[0;34m,\u001b[0m \u001b[0;34m(\u001b[0m\u001b[0mfloat\u001b[0m\u001b[0;34m,\u001b[0m \u001b[0mint\u001b[0m\u001b[0;34m,\u001b[0m \u001b[0mnp\u001b[0m\u001b[0;34m.\u001b[0m\u001b[0mnumber\u001b[0m\u001b[0;34m)\u001b[0m\u001b[0;34m)\u001b[0m\u001b[0;34m:\u001b[0m\u001b[0;34m\u001b[0m\u001b[0;34m\u001b[0m\u001b[0m\n",
      "\u001b[0;32m<ipython-input-58-c2c0ee31d42d>\u001b[0m in \u001b[0;36mobjective\u001b[0;34m(params, n_folds)\u001b[0m\n\u001b[1;32m     23\u001b[0m     \u001b[0mprint\u001b[0m\u001b[0;34m(\u001b[0m\u001b[0mparams\u001b[0m\u001b[0;34m)\u001b[0m\u001b[0;34m\u001b[0m\u001b[0;34m\u001b[0m\u001b[0m\n\u001b[1;32m     24\u001b[0m     cv_results = lgb.cv(params, train_set, nfold = N, stratified=False,\n\u001b[0;32m---> 25\u001b[0;31m                         early_stopping_rounds = 100, metrics = 'mae', seed = 50)\n\u001b[0m\u001b[1;32m     26\u001b[0m \u001b[0;34m\u001b[0m\u001b[0m\n\u001b[1;32m     27\u001b[0m     \u001b[0mloss\u001b[0m \u001b[0;34m=\u001b[0m \u001b[0mmax\u001b[0m\u001b[0;34m(\u001b[0m\u001b[0mcv_results\u001b[0m\u001b[0;34m[\u001b[0m\u001b[0;34m'l1-mean'\u001b[0m\u001b[0;34m]\u001b[0m\u001b[0;34m)\u001b[0m\u001b[0;34m\u001b[0m\u001b[0;34m\u001b[0m\u001b[0m\n",
      "\u001b[0;32m~/.local/share/virtualenvs/capstone_machine_learning-9cUIoDBU/lib/python3.7/site-packages/lightgbm/engine.py\u001b[0m in \u001b[0;36mcv\u001b[0;34m(params, train_set, num_boost_round, folds, nfold, stratified, shuffle, metrics, fobj, feval, init_model, feature_name, categorical_feature, early_stopping_rounds, fpreproc, verbose_eval, show_stdv, seed, callbacks, eval_train_metric)\u001b[0m\n\u001b[1;32m    562\u001b[0m                                     \u001b[0mend_iteration\u001b[0m\u001b[0;34m=\u001b[0m\u001b[0mnum_boost_round\u001b[0m\u001b[0;34m,\u001b[0m\u001b[0;34m\u001b[0m\u001b[0;34m\u001b[0m\u001b[0m\n\u001b[1;32m    563\u001b[0m                                     evaluation_result_list=None))\n\u001b[0;32m--> 564\u001b[0;31m         \u001b[0mcvfolds\u001b[0m\u001b[0;34m.\u001b[0m\u001b[0mupdate\u001b[0m\u001b[0;34m(\u001b[0m\u001b[0mfobj\u001b[0m\u001b[0;34m=\u001b[0m\u001b[0mfobj\u001b[0m\u001b[0;34m)\u001b[0m\u001b[0;34m\u001b[0m\u001b[0;34m\u001b[0m\u001b[0m\n\u001b[0m\u001b[1;32m    565\u001b[0m         \u001b[0mres\u001b[0m \u001b[0;34m=\u001b[0m \u001b[0m_agg_cv_result\u001b[0m\u001b[0;34m(\u001b[0m\u001b[0mcvfolds\u001b[0m\u001b[0;34m.\u001b[0m\u001b[0meval_valid\u001b[0m\u001b[0;34m(\u001b[0m\u001b[0mfeval\u001b[0m\u001b[0;34m)\u001b[0m\u001b[0;34m,\u001b[0m \u001b[0meval_train_metric\u001b[0m\u001b[0;34m)\u001b[0m\u001b[0;34m\u001b[0m\u001b[0;34m\u001b[0m\u001b[0m\n\u001b[1;32m    566\u001b[0m         \u001b[0;32mfor\u001b[0m \u001b[0m_\u001b[0m\u001b[0;34m,\u001b[0m \u001b[0mkey\u001b[0m\u001b[0;34m,\u001b[0m \u001b[0mmean\u001b[0m\u001b[0;34m,\u001b[0m \u001b[0m_\u001b[0m\u001b[0;34m,\u001b[0m \u001b[0mstd\u001b[0m \u001b[0;32min\u001b[0m \u001b[0mres\u001b[0m\u001b[0;34m:\u001b[0m\u001b[0;34m\u001b[0m\u001b[0;34m\u001b[0m\u001b[0m\n",
      "\u001b[0;32m~/.local/share/virtualenvs/capstone_machine_learning-9cUIoDBU/lib/python3.7/site-packages/lightgbm/engine.py\u001b[0m in \u001b[0;36mhandler_function\u001b[0;34m(*args, **kwargs)\u001b[0m\n\u001b[1;32m    292\u001b[0m             \u001b[0mret\u001b[0m \u001b[0;34m=\u001b[0m \u001b[0;34m[\u001b[0m\u001b[0;34m]\u001b[0m\u001b[0;34m\u001b[0m\u001b[0;34m\u001b[0m\u001b[0m\n\u001b[1;32m    293\u001b[0m             \u001b[0;32mfor\u001b[0m \u001b[0mbooster\u001b[0m \u001b[0;32min\u001b[0m \u001b[0mself\u001b[0m\u001b[0;34m.\u001b[0m\u001b[0mboosters\u001b[0m\u001b[0;34m:\u001b[0m\u001b[0;34m\u001b[0m\u001b[0;34m\u001b[0m\u001b[0m\n\u001b[0;32m--> 294\u001b[0;31m                 \u001b[0mret\u001b[0m\u001b[0;34m.\u001b[0m\u001b[0mappend\u001b[0m\u001b[0;34m(\u001b[0m\u001b[0mgetattr\u001b[0m\u001b[0;34m(\u001b[0m\u001b[0mbooster\u001b[0m\u001b[0;34m,\u001b[0m \u001b[0mname\u001b[0m\u001b[0;34m)\u001b[0m\u001b[0;34m(\u001b[0m\u001b[0;34m*\u001b[0m\u001b[0margs\u001b[0m\u001b[0;34m,\u001b[0m \u001b[0;34m**\u001b[0m\u001b[0mkwargs\u001b[0m\u001b[0;34m)\u001b[0m\u001b[0;34m)\u001b[0m\u001b[0;34m\u001b[0m\u001b[0;34m\u001b[0m\u001b[0m\n\u001b[0m\u001b[1;32m    295\u001b[0m             \u001b[0;32mreturn\u001b[0m \u001b[0mret\u001b[0m\u001b[0;34m\u001b[0m\u001b[0;34m\u001b[0m\u001b[0m\n\u001b[1;32m    296\u001b[0m         \u001b[0;32mreturn\u001b[0m \u001b[0mhandler_function\u001b[0m\u001b[0;34m\u001b[0m\u001b[0;34m\u001b[0m\u001b[0m\n",
      "\u001b[0;32m~/.local/share/virtualenvs/capstone_machine_learning-9cUIoDBU/lib/python3.7/site-packages/lightgbm/basic.py\u001b[0m in \u001b[0;36mupdate\u001b[0;34m(self, train_set, fobj)\u001b[0m\n\u001b[1;32m   1974\u001b[0m             _safe_call(_LIB.LGBM_BoosterUpdateOneIter(\n\u001b[1;32m   1975\u001b[0m                 \u001b[0mself\u001b[0m\u001b[0;34m.\u001b[0m\u001b[0mhandle\u001b[0m\u001b[0;34m,\u001b[0m\u001b[0;34m\u001b[0m\u001b[0;34m\u001b[0m\u001b[0m\n\u001b[0;32m-> 1976\u001b[0;31m                 ctypes.byref(is_finished)))\n\u001b[0m\u001b[1;32m   1977\u001b[0m             \u001b[0mself\u001b[0m\u001b[0;34m.\u001b[0m\u001b[0m__is_predicted_cur_iter\u001b[0m \u001b[0;34m=\u001b[0m \u001b[0;34m[\u001b[0m\u001b[0;32mFalse\u001b[0m \u001b[0;32mfor\u001b[0m \u001b[0m_\u001b[0m \u001b[0;32min\u001b[0m \u001b[0mrange_\u001b[0m\u001b[0;34m(\u001b[0m\u001b[0mself\u001b[0m\u001b[0;34m.\u001b[0m\u001b[0m__num_dataset\u001b[0m\u001b[0;34m)\u001b[0m\u001b[0;34m]\u001b[0m\u001b[0;34m\u001b[0m\u001b[0;34m\u001b[0m\u001b[0m\n\u001b[1;32m   1978\u001b[0m             \u001b[0;32mreturn\u001b[0m \u001b[0mis_finished\u001b[0m\u001b[0;34m.\u001b[0m\u001b[0mvalue\u001b[0m \u001b[0;34m==\u001b[0m \u001b[0;36m1\u001b[0m\u001b[0;34m\u001b[0m\u001b[0;34m\u001b[0m\u001b[0m\n",
      "\u001b[0;31mKeyboardInterrupt\u001b[0m: "
     ]
    }
   ],
   "source": [
    "import lightgbm as lgb\n",
    "from hyperopt import STATUS_OK\n",
    "from hyperopt import hp\n",
    "from hyperopt import tpe\n",
    "from hyperopt import Trials\n",
    "from hyperopt import fmin\n",
    "import time\n",
    "\n",
    "MAX_EVALS = 500\n",
    "\n",
    "N = 5\n",
    "\n",
    "# Create the dataset\n",
    "train_set = lgb.Dataset(X_train, y_train)\n",
    "iteration = 0\n",
    "start = time.time()\n",
    "\n",
    "def objective(params, n_folds = N):\n",
    "    \n",
    "    global iteration\n",
    "    \n",
    "    params['objective'] = 'regression'\n",
    "    print(params)\n",
    "    cv_results = lgb.cv(params, train_set, nfold = N, stratified=False,\n",
    "                        early_stopping_rounds = 100, metrics = 'mae', seed = 50)\n",
    "    \n",
    "    loss = max(cv_results['l1-mean'])\n",
    "    \n",
    "    # computing runtime\n",
    "    run_time = time.time() - start\n",
    "    \n",
    "    # Boosting rounds that returned the highest cv score\n",
    "    n_estimators = int(np.argmax(cv_results['l1-mean']) + 1)\n",
    "\n",
    "    # Write to the csv file ('a' means append)\n",
    "    out_file = '../results/lgbm_trials.csv'\n",
    "    of_connection = open(out_file, 'a')\n",
    "    writer = csv.writer(of_connection)\n",
    "    writer.writerow([loss, params, iteration, n_estimators, run_time])\n",
    "    of_connection.close()\n",
    "    \n",
    "    iteration+=1\n",
    "    # Dictionary with information for evaluation\n",
    "    return {'loss': loss, 'params': params, 'status': STATUS_OK}\n",
    "\n",
    "space = {\n",
    "    'boosting_type': hp.choice('boosting_type',['gbdt', 'dart', 'goss']),\n",
    "    'num_leaves': hp.choice('num_leaves', [50, 70, 100, 150, 200, 300]),\n",
    "    'learning_rate': hp.loguniform('learning_rate', np.log(0.01), np.log(0.2)),\n",
    "    'max_dept': hp.quniform('max_dept', 50, 200, 5)\n",
    "}\n",
    "\n",
    "# Algorithm\n",
    "tpe_algorithm = tpe.suggest\n",
    "\n",
    "# Trials object to track progress\n",
    "bayes_trials = Trials()\n",
    "\n",
    "# Optimize\n",
    "best = fmin(fn = objective, space = space, algo = tpe.suggest, \n",
    "            max_evals = MAX_EVALS, trials = bayes_trials)"
   ]
  },
  {
   "cell_type": "code",
   "execution_count": 59,
   "metadata": {},
   "outputs": [
    {
     "data": {
      "text/html": [
       "<div>\n",
       "<style scoped>\n",
       "    .dataframe tbody tr th:only-of-type {\n",
       "        vertical-align: middle;\n",
       "    }\n",
       "\n",
       "    .dataframe tbody tr th {\n",
       "        vertical-align: top;\n",
       "    }\n",
       "\n",
       "    .dataframe thead th {\n",
       "        text-align: right;\n",
       "    }\n",
       "</style>\n",
       "<table border=\"1\" class=\"dataframe\">\n",
       "  <thead>\n",
       "    <tr style=\"text-align: right;\">\n",
       "      <th></th>\n",
       "      <th>loss</th>\n",
       "      <th>params</th>\n",
       "      <th>iteration</th>\n",
       "      <th>estimators</th>\n",
       "      <th>train_time</th>\n",
       "    </tr>\n",
       "  </thead>\n",
       "  <tbody>\n",
       "    <tr>\n",
       "      <th>0</th>\n",
       "      <td>119.060126</td>\n",
       "      <td>{'boosting_type': 'goss', 'learning_rate': 0.0...</td>\n",
       "      <td>0</td>\n",
       "      <td>1</td>\n",
       "      <td>45.307489</td>\n",
       "    </tr>\n",
       "    <tr>\n",
       "      <th>1</th>\n",
       "      <td>120.200140</td>\n",
       "      <td>{'boosting_type': 'goss', 'learning_rate': 0.0...</td>\n",
       "      <td>1</td>\n",
       "      <td>1</td>\n",
       "      <td>60.516712</td>\n",
       "    </tr>\n",
       "    <tr>\n",
       "      <th>2</th>\n",
       "      <td>116.636390</td>\n",
       "      <td>{'boosting_type': 'goss', 'learning_rate': 0.0...</td>\n",
       "      <td>2</td>\n",
       "      <td>1</td>\n",
       "      <td>89.212210</td>\n",
       "    </tr>\n",
       "    <tr>\n",
       "      <th>3</th>\n",
       "      <td>118.014573</td>\n",
       "      <td>{'boosting_type': 'goss', 'learning_rate': 0.0...</td>\n",
       "      <td>3</td>\n",
       "      <td>1</td>\n",
       "      <td>120.791389</td>\n",
       "    </tr>\n",
       "    <tr>\n",
       "      <th>4</th>\n",
       "      <td>118.656670</td>\n",
       "      <td>{'boosting_type': 'gbdt', 'learning_rate': 0.0...</td>\n",
       "      <td>4</td>\n",
       "      <td>1</td>\n",
       "      <td>165.154807</td>\n",
       "    </tr>\n",
       "  </tbody>\n",
       "</table>\n",
       "</div>"
      ],
      "text/plain": [
       "         loss                                             params  iteration  \\\n",
       "0  119.060126  {'boosting_type': 'goss', 'learning_rate': 0.0...          0   \n",
       "1  120.200140  {'boosting_type': 'goss', 'learning_rate': 0.0...          1   \n",
       "2  116.636390  {'boosting_type': 'goss', 'learning_rate': 0.0...          2   \n",
       "3  118.014573  {'boosting_type': 'goss', 'learning_rate': 0.0...          3   \n",
       "4  118.656670  {'boosting_type': 'gbdt', 'learning_rate': 0.0...          4   \n",
       "\n",
       "   estimators  train_time  \n",
       "0           1   45.307489  \n",
       "1           1   60.516712  \n",
       "2           1   89.212210  \n",
       "3           1  120.791389  \n",
       "4           1  165.154807  "
      ]
     },
     "execution_count": 59,
     "metadata": {},
     "output_type": "execute_result"
    }
   ],
   "source": [
    "df_lgbm = pd.read_csv('../results/lgbm_trials.csv')\n",
    "df_lgbm.head()"
   ]
  },
  {
   "cell_type": "code",
   "execution_count": 60,
   "metadata": {},
   "outputs": [],
   "source": [
    "compression_opts = dict(method='zip',archive_name='out.csv')  \n",
    "df_lgbm.to_csv(\"../results/lgbm_trials.zip\", index = False, compression=compression_opts)"
   ]
  },
  {
   "cell_type": "markdown",
   "metadata": {},
   "source": [
    "## LGBM on this data with Median objective function"
   ]
  },
  {
   "cell_type": "code",
   "execution_count": 13,
   "metadata": {},
   "outputs": [
    {
     "name": "stdout",
     "output_type": "stream",
     "text": [
      "LGBM scores: \n",
      "Train error: \n",
      "Mean absolute error: 49.819\n",
      "Test error: \n",
      "Mean absolute error: 53.161\n"
     ]
    }
   ],
   "source": [
    "#fitting lgbm with MAE without scaling\n",
    "lgbm = LGBMRegressor(objective = 'mae', random_state = 2020)\n",
    "\n",
    "lgbm.fit(X_train, y_train)\n",
    "print('LGBM scores: ')\n",
    "print('Train error: ')\n",
    "show_scores(lgbm, X_train, y_train, 'mae')\n",
    "\n",
    "print('Test error: ')\n",
    "show_scores(lgbm, X_valid, y_valid, 'mae')"
   ]
  },
  {
   "cell_type": "code",
   "execution_count": 18,
   "metadata": {},
   "outputs": [
    {
     "data": {
      "image/png": "[encoded data removed]",
      "text/plain": [
       "<Figure size 432x288 with 1 Axes>"
      ]
     },
     "metadata": {
      "needs_background": "light"
     },
     "output_type": "display_data"
    }
   ],
   "source": [
    "plt.hist(y_train, bins = 50)\n",
    "plt.show()"
   ]
  },
  {
   "cell_type": "markdown",
   "metadata": {},
   "source": [
    "## LGBM with log transformed target and Median objective function"
   ]
  },
  {
   "cell_type": "code",
   "execution_count": 12,
   "metadata": {},
   "outputs": [
    {
     "data": {
      "image/png": "[encoded data removed]",
      "text/plain": [
       "<Figure size 432x288 with 1 Axes>"
      ]
     },
     "metadata": {
      "needs_background": "light"
     },
     "output_type": "display_data"
    }
   ],
   "source": [
    "y_log = np.log(y)\n",
    "\n",
    "plt.hist(y_log, bins = 50)\n",
    "plt.show()"
   ]
  },
  {
   "cell_type": "code",
   "execution_count": 16,
   "metadata": {},
   "outputs": [
    {
     "name": "stdout",
     "output_type": "stream",
     "text": [
      "LGBM scores: \n",
      "Train error: \n",
      "Mean absolute error: 47.603\n",
      "Test error: \n",
      "Mean absolute error: 51.274\n"
     ]
    }
   ],
   "source": [
    "y_train_log = np.log(y_train)\n",
    "\n",
    "lgbm = LGBMRegressor(objective = 'mae', random_state = 2020)\n",
    "lgbm.fit(X_train, y_train_log)\n",
    "\n",
    "print('LGBM scores: ')\n",
    "\n",
    "print('Train error: ')\n",
    "y_log_pred_train = lgbm.predict(X_train)\n",
    "y_preds_train = np.exp(y_log_pred_train)\n",
    "\n",
    "mae = mean_absolute_error(y_train, y_preds_train)\n",
    "print(\"Mean absolute error: %0.3f\" % mae)\n",
    "\n",
    "print('Test error: ')\n",
    "\n",
    "y_log_pred_valid = lgbm.predict(X_valid)\n",
    "y_preds_valid = np.exp(y_log_pred_valid)\n",
    "\n",
    "mae = mean_absolute_error(y_valid, y_preds_valid)\n",
    "print(\"Mean absolute error: %0.3f\" % mae)\n"
   ]
  },
  {
   "cell_type": "markdown",
   "metadata": {},
   "source": [
    "### Ensembling of lgbm, catboost, xgboost"
   ]
  },
  {
   "cell_type": "code",
   "execution_count": 6,
   "metadata": {},
   "outputs": [],
   "source": [
    "from xgboost import XGBRegressor\n",
    "from catboost import CatBoostRegressor\n",
    "\n",
    "xgbr = XGBRegressor(objective = 'reg:linear', random_state = 2020)\n",
    "xgbr.fit(X_train, y_train)\n",
    "\n",
    "catb = CatBoostRegressor(objective = 'MAE', random_seed = 2020)\n",
    "catb.fit(X_train, y_train)\n",
    "\n",
    "lgbm = LGBMRegressor(objective = 'mae', random_state = 2020)\n",
    "lgbm.fit(X_train, y_train)\n",
    "\n",
    "y_pred_xg = xgbr.predict(X_valid)\n",
    "y_pred_lg = lgbm.predict(X_valid)\n",
    "y_pred_cat = catb.predict(X_valid)\n",
    "\n",
    "print(time.time() - t0)\n"
   ]
  },
  {
   "cell_type": "code",
   "execution_count": 57,
   "metadata": {},
   "outputs": [
    {
     "data": {
      "text/plain": [
       "(9898,)"
      ]
     },
     "execution_count": 57,
     "metadata": {},
     "output_type": "execute_result"
    }
   ],
   "source": [
    "y_preds = pd.DataFrame({'xg' : y_pred_xg,\n",
    "                        'lg' : y_pred_lg,\n",
    "                        'cat' : y_pred_cat})\n",
    "\n",
    "y_preds_valid = np.max(y_preds, axis = 1)\n",
    "\n",
    "y_preds_valid.shape"
   ]
  },
  {
   "cell_type": "code",
   "execution_count": 59,
   "metadata": {},
   "outputs": [
    {
     "name": "stderr",
     "output_type": "stream",
     "text": [
      "C:\\Users\\saura\\.virtualenvs\\capstone_machine_learning-a37y-TX3\\lib\\site-packages\\numpy\\lib\\histograms.py:839: RuntimeWarning: invalid value encountered in greater_equal\n",
      "  keep = (tmp_a >= first_edge)\n",
      "C:\\Users\\saura\\.virtualenvs\\capstone_machine_learning-a37y-TX3\\lib\\site-packages\\numpy\\lib\\histograms.py:840: RuntimeWarning: invalid value encountered in less_equal\n",
      "  keep &= (tmp_a <= last_edge)\n"
     ]
    },
    {
     "data": {
      "image/png": "[encoded data removed]",
      "text/plain": [
       "<Figure size 432x288 with 1 Axes>"
      ]
     },
     "metadata": {
      "needs_background": "light"
     },
     "output_type": "display_data"
    }
   ],
   "source": [
    "plt.hist(y_valid - y_preds_valid, bins = 100)\n",
    "plt.show()"
   ]
  },
  {
   "cell_type": "code",
   "execution_count": 60,
   "metadata": {},
   "outputs": [
    {
     "name": "stdout",
     "output_type": "stream",
     "text": [
      "Mean absolute error: 45.330\n"
     ]
    }
   ],
   "source": [
    "mae = mean_absolute_error(y_valid, y_preds_valid)\n",
    "print(\"Mean absolute error: %0.3f\" % mae)\n"
   ]
  },
  {
   "cell_type": "markdown",
   "metadata": {},
   "source": [
    "## Running LGBM with best hyper parameters"
   ]
  },
  {
   "cell_type": "code",
   "execution_count": 7,
   "metadata": {},
   "outputs": [
    {
     "name": "stdout",
     "output_type": "stream",
     "text": [
      "LGBM scores: \n",
      "Train error: \n",
      "Root mean squared error: 29.118\n",
      "Test error: \n",
      "Root mean squared error: 97.060\n"
     ]
    }
   ],
   "source": [
    "lgbm = LGBMRegressor(learning_rate = 0.19981387712135354 , max_dept = 105.0, num_leaves = 300, random_state = 2020)\n",
    "\n",
    "lgbm.fit(X_train, y_train)\n",
    "\n",
    "print('LGBM scores: ')\n",
    "\n",
    "print('Train error: ')\n",
    "show_scores(lgbm, X_train, y_train)\n",
    "\n",
    "print('Test error: ')\n",
    "show_scores(lgbm, X_valid, y_valid)"
   ]
  },
  {
   "cell_type": "code",
   "execution_count": 9,
   "metadata": {},
   "outputs": [
    {
     "name": "stdout",
     "output_type": "stream",
     "text": [
      "Train error: \n",
      "Mean absolute error: 14.442\n",
      "Test error: \n",
      "Mean absolute error: 40.864\n"
     ]
    }
   ],
   "source": [
    "print('Train error: ')\n",
    "show_scores(lgbm, X_train, y_train, 'mae')\n",
    "\n",
    "print('Test error: ')\n",
    "show_scores(lgbm, X_valid, y_valid, 'mae')"
   ]
  },
  {
   "cell_type": "code",
   "execution_count": 15,
   "metadata": {},
   "outputs": [],
   "source": [
    "temp_train = pd.concat([X_train, y_train], axis = 1)\n",
    "temp_valid = pd.concat([X_valid, y_valid], axis = 1) "
   ]
  },
  {
   "cell_type": "code",
   "execution_count": 17,
   "metadata": {},
   "outputs": [
    {
     "data": {
      "text/plain": [
       "(9898, 633)"
      ]
     },
     "execution_count": 17,
     "metadata": {},
     "output_type": "execute_result"
    }
   ],
   "source": [
    "temp_valid.shape"
   ]
  },
  {
   "cell_type": "code",
   "execution_count": 18,
   "metadata": {},
   "outputs": [],
   "source": [
    "compression_opts = dict(method='zip',archive_name='train_data.csv')  \n",
    "temp_train.to_csv(\"train_data.zip\", index = False, compression=compression_opts)\n",
    "\n",
    "compression_opts = dict(method='zip',archive_name='valid_data.csv')  \n",
    "temp_valid.to_csv(\"valid_data.zip\", index = False, compression=compression_opts)\n"
   ]
  },
  {
   "cell_type": "code",
   "execution_count": null,
   "metadata": {},
   "outputs": [],
   "source": []
  }
 ],
 "metadata": {
  "kernelspec": {
   "display_name": "capstone_machine_learning",
   "language": "python",
   "name": "capstone_machine_learning"
  },
  "language_info": {
   "codemirror_mode": {
    "name": "ipython",
    "version": 3
   },
   "file_extension": ".py",
   "mimetype": "text/x-python",
   "name": "python",
   "nbconvert_exporter": "python",
   "pygments_lexer": "ipython3",
   "version": "3.7.3"
  }
 },
 "nbformat": 4,
 "nbformat_minor": 4
}
