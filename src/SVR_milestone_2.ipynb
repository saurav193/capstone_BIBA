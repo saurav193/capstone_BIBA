{
 "cells": [
  {
   "cell_type": "markdown",
   "metadata": {},
   "source": [
    "# SVR model"
   ]
  },
  {
   "cell_type": "markdown",
   "metadata": {},
   "source": [
    "## Import libraries and download the data"
   ]
  },
  {
   "cell_type": "code",
   "execution_count": 24,
   "metadata": {},
   "outputs": [],
   "source": [
    "#Download libraries\n",
    "import re\n",
    "#from collections import defaultdict\n",
    "import pandas as pd\n",
    "#import numpy as np\n",
    "#from sklearn.decomposition import PCA\n",
    "from sklearn.svm import SVR\n",
    "from sklearn.model_selection import RandomizedSearchCV\n",
    "from sklearn.model_selection import train_test_split\n",
    "#from sklearn.preprocessing import OneHotEncoder\n",
    "import time\n",
    "from catboost import CatBoostRegressor\n",
    "from sklearn.preprocessing import StandardScaler\n",
    "from drop import drop_columns\n",
    "from PCA_data import *\n",
    "from imputer import *\n",
    "from drop import *\n",
    "from feature_eng import *\n",
    "from sklearn import metrics\n",
    "\n",
    "from preprocessing import *"
   ]
  },
  {
   "cell_type": "code",
   "execution_count": 2,
   "metadata": {},
   "outputs": [
    {
     "data": {
      "text/html": [
       "<div>\n",
       "<style scoped>\n",
       "    .dataframe tbody tr th:only-of-type {\n",
       "        vertical-align: middle;\n",
       "    }\n",
       "\n",
       "    .dataframe tbody tr th {\n",
       "        vertical-align: top;\n",
       "    }\n",
       "\n",
       "    .dataframe thead th {\n",
       "        text-align: right;\n",
       "    }\n",
       "</style>\n",
       "<table border=\"1\" class=\"dataframe\">\n",
       "  <thead>\n",
       "    <tr style=\"text-align: right;\">\n",
       "      <th></th>\n",
       "      <th>external_id</th>\n",
       "      <th>month</th>\n",
       "      <th>year</th>\n",
       "      <th>monthly_number_of_sessions</th>\n",
       "      <th>monthly_unique_sessions</th>\n",
       "      <th>monthly_repeated_sessions</th>\n",
       "      <th>monthly_avg_length_of_session</th>\n",
       "      <th>monthly_avg_light_activity</th>\n",
       "      <th>monthly_avg_moderate_activity</th>\n",
       "      <th>monthly_avg_vigorous_activity</th>\n",
       "      <th>...</th>\n",
       "      <th>avg_wind_9_10</th>\n",
       "      <th>avg_wind_10_11</th>\n",
       "      <th>avg_wind_11_12</th>\n",
       "      <th>avg_wind_12_above</th>\n",
       "      <th>perfect_days</th>\n",
       "      <th>unacast_session_count</th>\n",
       "      <th>hpi</th>\n",
       "      <th>state_and_local_amount_per_capita</th>\n",
       "      <th>state_amount_per_capita</th>\n",
       "      <th>local_amount_per_capita</th>\n",
       "    </tr>\n",
       "  </thead>\n",
       "  <tbody>\n",
       "    <tr>\n",
       "      <th>0</th>\n",
       "      <td>1804425</td>\n",
       "      <td>8</td>\n",
       "      <td>2018</td>\n",
       "      <td>0</td>\n",
       "      <td>0</td>\n",
       "      <td>0</td>\n",
       "      <td>0.0</td>\n",
       "      <td>0.0</td>\n",
       "      <td>0.0</td>\n",
       "      <td>0.0</td>\n",
       "      <td>...</td>\n",
       "      <td>0.0</td>\n",
       "      <td>0.0</td>\n",
       "      <td>0.0</td>\n",
       "      <td>0.0</td>\n",
       "      <td>0.0</td>\n",
       "      <td>90.0</td>\n",
       "      <td>244.20</td>\n",
       "      <td>0.157475</td>\n",
       "      <td>0.009783</td>\n",
       "      <td>0.147692</td>\n",
       "    </tr>\n",
       "    <tr>\n",
       "      <th>1</th>\n",
       "      <td>1812706</td>\n",
       "      <td>2</td>\n",
       "      <td>2019</td>\n",
       "      <td>0</td>\n",
       "      <td>0</td>\n",
       "      <td>0</td>\n",
       "      <td>0.0</td>\n",
       "      <td>0.0</td>\n",
       "      <td>0.0</td>\n",
       "      <td>0.0</td>\n",
       "      <td>...</td>\n",
       "      <td>0.0</td>\n",
       "      <td>0.0</td>\n",
       "      <td>0.0</td>\n",
       "      <td>0.0</td>\n",
       "      <td>4.0</td>\n",
       "      <td>27.0</td>\n",
       "      <td>258.95</td>\n",
       "      <td>0.157475</td>\n",
       "      <td>0.009783</td>\n",
       "      <td>0.147692</td>\n",
       "    </tr>\n",
       "    <tr>\n",
       "      <th>2</th>\n",
       "      <td>1812706</td>\n",
       "      <td>3</td>\n",
       "      <td>2019</td>\n",
       "      <td>0</td>\n",
       "      <td>0</td>\n",
       "      <td>0</td>\n",
       "      <td>0.0</td>\n",
       "      <td>0.0</td>\n",
       "      <td>0.0</td>\n",
       "      <td>0.0</td>\n",
       "      <td>...</td>\n",
       "      <td>0.0</td>\n",
       "      <td>0.0</td>\n",
       "      <td>0.0</td>\n",
       "      <td>0.0</td>\n",
       "      <td>4.0</td>\n",
       "      <td>27.0</td>\n",
       "      <td>258.95</td>\n",
       "      <td>0.157475</td>\n",
       "      <td>0.009783</td>\n",
       "      <td>0.147692</td>\n",
       "    </tr>\n",
       "    <tr>\n",
       "      <th>3</th>\n",
       "      <td>1812706</td>\n",
       "      <td>11</td>\n",
       "      <td>2018</td>\n",
       "      <td>0</td>\n",
       "      <td>0</td>\n",
       "      <td>0</td>\n",
       "      <td>0.0</td>\n",
       "      <td>0.0</td>\n",
       "      <td>0.0</td>\n",
       "      <td>0.0</td>\n",
       "      <td>...</td>\n",
       "      <td>0.0</td>\n",
       "      <td>0.0</td>\n",
       "      <td>0.0</td>\n",
       "      <td>0.0</td>\n",
       "      <td>3.0</td>\n",
       "      <td>24.0</td>\n",
       "      <td>258.95</td>\n",
       "      <td>0.157475</td>\n",
       "      <td>0.009783</td>\n",
       "      <td>0.147692</td>\n",
       "    </tr>\n",
       "    <tr>\n",
       "      <th>4</th>\n",
       "      <td>1812706</td>\n",
       "      <td>9</td>\n",
       "      <td>2018</td>\n",
       "      <td>0</td>\n",
       "      <td>0</td>\n",
       "      <td>0</td>\n",
       "      <td>0.0</td>\n",
       "      <td>0.0</td>\n",
       "      <td>0.0</td>\n",
       "      <td>0.0</td>\n",
       "      <td>...</td>\n",
       "      <td>0.0</td>\n",
       "      <td>0.0</td>\n",
       "      <td>0.0</td>\n",
       "      <td>0.0</td>\n",
       "      <td>0.0</td>\n",
       "      <td>12.0</td>\n",
       "      <td>258.95</td>\n",
       "      <td>0.157475</td>\n",
       "      <td>0.009783</td>\n",
       "      <td>0.147692</td>\n",
       "    </tr>\n",
       "  </tbody>\n",
       "</table>\n",
       "<p>5 rows × 861 columns</p>\n",
       "</div>"
      ],
      "text/plain": [
       "  external_id  month  year  monthly_number_of_sessions  \\\n",
       "0     1804425      8  2018                           0   \n",
       "1     1812706      2  2019                           0   \n",
       "2     1812706      3  2019                           0   \n",
       "3     1812706     11  2018                           0   \n",
       "4     1812706      9  2018                           0   \n",
       "\n",
       "   monthly_unique_sessions  monthly_repeated_sessions  \\\n",
       "0                        0                          0   \n",
       "1                        0                          0   \n",
       "2                        0                          0   \n",
       "3                        0                          0   \n",
       "4                        0                          0   \n",
       "\n",
       "   monthly_avg_length_of_session  monthly_avg_light_activity  \\\n",
       "0                            0.0                         0.0   \n",
       "1                            0.0                         0.0   \n",
       "2                            0.0                         0.0   \n",
       "3                            0.0                         0.0   \n",
       "4                            0.0                         0.0   \n",
       "\n",
       "   monthly_avg_moderate_activity  monthly_avg_vigorous_activity  ...  \\\n",
       "0                            0.0                            0.0  ...   \n",
       "1                            0.0                            0.0  ...   \n",
       "2                            0.0                            0.0  ...   \n",
       "3                            0.0                            0.0  ...   \n",
       "4                            0.0                            0.0  ...   \n",
       "\n",
       "   avg_wind_9_10  avg_wind_10_11  avg_wind_11_12  avg_wind_12_above  \\\n",
       "0            0.0             0.0             0.0                0.0   \n",
       "1            0.0             0.0             0.0                0.0   \n",
       "2            0.0             0.0             0.0                0.0   \n",
       "3            0.0             0.0             0.0                0.0   \n",
       "4            0.0             0.0             0.0                0.0   \n",
       "\n",
       "   perfect_days  unacast_session_count     hpi  \\\n",
       "0           0.0                   90.0  244.20   \n",
       "1           4.0                   27.0  258.95   \n",
       "2           4.0                   27.0  258.95   \n",
       "3           3.0                   24.0  258.95   \n",
       "4           0.0                   12.0  258.95   \n",
       "\n",
       "   state_and_local_amount_per_capita  state_amount_per_capita  \\\n",
       "0                           0.157475                 0.009783   \n",
       "1                           0.157475                 0.009783   \n",
       "2                           0.157475                 0.009783   \n",
       "3                           0.157475                 0.009783   \n",
       "4                           0.157475                 0.009783   \n",
       "\n",
       "   local_amount_per_capita  \n",
       "0                 0.147692  \n",
       "1                 0.147692  \n",
       "2                 0.147692  \n",
       "3                 0.147692  \n",
       "4                 0.147692  \n",
       "\n",
       "[5 rows x 861 columns]"
      ]
     },
     "execution_count": 2,
     "metadata": {},
     "output_type": "execute_result"
    }
   ],
   "source": [
    "#Download the data\n",
    "df = pd.read_csv('../data/train_data.zip')\n",
    "df.head()"
   ]
  },
  {
   "cell_type": "code",
   "execution_count": 3,
   "metadata": {},
   "outputs": [],
   "source": [
    "# drop rows missing target variable\n",
    "df = drop_missing_unacast(df)\n",
    "# create X and y\n",
    "X = df.drop('unacast_session_count', axis=1)\n",
    "y = df.loc[:, 'unacast_session_count']\n",
    "# split the data\n",
    "X_train, X_valid, y_train, y_valid = train_test_split(X, y, \n",
    "                                                    test_size=0.2,\n",
    "                                                      random_state=2020)\n",
    "# impute NaN values\n",
    "result = impute_data(X_train, X_valid)\n",
    "X_train = result[0]\n",
    "X_valid = result[1] \n",
    "# perform feature eng\n",
    "X_train = comb_cols(X_train)\n",
    "X_valid = comb_cols(X_valid)\n",
    "# perform dropping\n",
    "X_train = drop_columns(X_train)\n",
    "X_valid = drop_columns(X_valid)\n",
    "\n",
    "# perform OHE (climate, density_class, income_class)\n",
    "X_train_valid = clean_categorical(X_train, X_valid)\n",
    "X_train = X_train_valid[0]\n",
    "X_valid = X_train_valid[1]"
   ]
  },
  {
   "cell_type": "code",
   "execution_count": 4,
   "metadata": {},
   "outputs": [
    {
     "data": {
      "text/html": [
       "<div>\n",
       "<style scoped>\n",
       "    .dataframe tbody tr th:only-of-type {\n",
       "        vertical-align: middle;\n",
       "    }\n",
       "\n",
       "    .dataframe tbody tr th {\n",
       "        vertical-align: top;\n",
       "    }\n",
       "\n",
       "    .dataframe thead th {\n",
       "        text-align: right;\n",
       "    }\n",
       "</style>\n",
       "<table border=\"1\" class=\"dataframe\">\n",
       "  <thead>\n",
       "    <tr style=\"text-align: right;\">\n",
       "      <th></th>\n",
       "      <th>month</th>\n",
       "      <th>year</th>\n",
       "      <th>monthly_number_of_sessions</th>\n",
       "      <th>monthly_unique_sessions</th>\n",
       "      <th>monthly_repeated_sessions</th>\n",
       "      <th>monthly_avg_length_of_session</th>\n",
       "      <th>monthly_avg_light_activity</th>\n",
       "      <th>monthly_avg_moderate_activity</th>\n",
       "      <th>monthly_avg_vigorous_activity</th>\n",
       "      <th>monthly_count_ramp</th>\n",
       "      <th>...</th>\n",
       "      <th>avg_fertility_rate</th>\n",
       "      <th>HI</th>\n",
       "      <th>LI</th>\n",
       "      <th>MI</th>\n",
       "      <th>HD</th>\n",
       "      <th>LD</th>\n",
       "      <th>MD</th>\n",
       "      <th>A</th>\n",
       "      <th>C</th>\n",
       "      <th>D</th>\n",
       "    </tr>\n",
       "  </thead>\n",
       "  <tbody>\n",
       "    <tr>\n",
       "      <th>0</th>\n",
       "      <td>5</td>\n",
       "      <td>2018</td>\n",
       "      <td>0</td>\n",
       "      <td>0</td>\n",
       "      <td>0</td>\n",
       "      <td>0.000000e+00</td>\n",
       "      <td>0.000000</td>\n",
       "      <td>0.000000</td>\n",
       "      <td>0.000000</td>\n",
       "      <td>0</td>\n",
       "      <td>...</td>\n",
       "      <td>63.906875</td>\n",
       "      <td>0</td>\n",
       "      <td>1</td>\n",
       "      <td>0</td>\n",
       "      <td>0</td>\n",
       "      <td>1</td>\n",
       "      <td>0</td>\n",
       "      <td>0</td>\n",
       "      <td>1</td>\n",
       "      <td>0</td>\n",
       "    </tr>\n",
       "    <tr>\n",
       "      <th>1</th>\n",
       "      <td>4</td>\n",
       "      <td>2019</td>\n",
       "      <td>0</td>\n",
       "      <td>0</td>\n",
       "      <td>0</td>\n",
       "      <td>0.000000e+00</td>\n",
       "      <td>0.000000</td>\n",
       "      <td>0.000000</td>\n",
       "      <td>0.000000</td>\n",
       "      <td>0</td>\n",
       "      <td>...</td>\n",
       "      <td>61.173125</td>\n",
       "      <td>1</td>\n",
       "      <td>0</td>\n",
       "      <td>0</td>\n",
       "      <td>0</td>\n",
       "      <td>0</td>\n",
       "      <td>1</td>\n",
       "      <td>0</td>\n",
       "      <td>0</td>\n",
       "      <td>1</td>\n",
       "    </tr>\n",
       "    <tr>\n",
       "      <th>2</th>\n",
       "      <td>6</td>\n",
       "      <td>2018</td>\n",
       "      <td>0</td>\n",
       "      <td>0</td>\n",
       "      <td>0</td>\n",
       "      <td>0.000000e+00</td>\n",
       "      <td>0.000000</td>\n",
       "      <td>0.000000</td>\n",
       "      <td>0.000000</td>\n",
       "      <td>0</td>\n",
       "      <td>...</td>\n",
       "      <td>65.725000</td>\n",
       "      <td>0</td>\n",
       "      <td>1</td>\n",
       "      <td>0</td>\n",
       "      <td>0</td>\n",
       "      <td>1</td>\n",
       "      <td>0</td>\n",
       "      <td>0</td>\n",
       "      <td>0</td>\n",
       "      <td>1</td>\n",
       "    </tr>\n",
       "    <tr>\n",
       "      <th>3</th>\n",
       "      <td>9</td>\n",
       "      <td>2019</td>\n",
       "      <td>0</td>\n",
       "      <td>0</td>\n",
       "      <td>0</td>\n",
       "      <td>0.000000e+00</td>\n",
       "      <td>0.000000</td>\n",
       "      <td>0.000000</td>\n",
       "      <td>0.000000</td>\n",
       "      <td>0</td>\n",
       "      <td>...</td>\n",
       "      <td>65.127500</td>\n",
       "      <td>1</td>\n",
       "      <td>0</td>\n",
       "      <td>0</td>\n",
       "      <td>1</td>\n",
       "      <td>0</td>\n",
       "      <td>0</td>\n",
       "      <td>0</td>\n",
       "      <td>0</td>\n",
       "      <td>1</td>\n",
       "    </tr>\n",
       "    <tr>\n",
       "      <th>4</th>\n",
       "      <td>7</td>\n",
       "      <td>2019</td>\n",
       "      <td>176</td>\n",
       "      <td>16</td>\n",
       "      <td>160</td>\n",
       "      <td>1.540398e+06</td>\n",
       "      <td>438295.454545</td>\n",
       "      <td>156642.045455</td>\n",
       "      <td>56107.954545</td>\n",
       "      <td>0</td>\n",
       "      <td>...</td>\n",
       "      <td>58.470000</td>\n",
       "      <td>1</td>\n",
       "      <td>0</td>\n",
       "      <td>0</td>\n",
       "      <td>0</td>\n",
       "      <td>0</td>\n",
       "      <td>1</td>\n",
       "      <td>0</td>\n",
       "      <td>0</td>\n",
       "      <td>1</td>\n",
       "    </tr>\n",
       "  </tbody>\n",
       "</table>\n",
       "<p>5 rows × 632 columns</p>\n",
       "</div>"
      ],
      "text/plain": [
       "   month  year  monthly_number_of_sessions  monthly_unique_sessions  \\\n",
       "0      5  2018                           0                        0   \n",
       "1      4  2019                           0                        0   \n",
       "2      6  2018                           0                        0   \n",
       "3      9  2019                           0                        0   \n",
       "4      7  2019                         176                       16   \n",
       "\n",
       "   monthly_repeated_sessions  monthly_avg_length_of_session  \\\n",
       "0                          0                   0.000000e+00   \n",
       "1                          0                   0.000000e+00   \n",
       "2                          0                   0.000000e+00   \n",
       "3                          0                   0.000000e+00   \n",
       "4                        160                   1.540398e+06   \n",
       "\n",
       "   monthly_avg_light_activity  monthly_avg_moderate_activity  \\\n",
       "0                    0.000000                       0.000000   \n",
       "1                    0.000000                       0.000000   \n",
       "2                    0.000000                       0.000000   \n",
       "3                    0.000000                       0.000000   \n",
       "4               438295.454545                  156642.045455   \n",
       "\n",
       "   monthly_avg_vigorous_activity  monthly_count_ramp  ...  avg_fertility_rate  \\\n",
       "0                       0.000000                   0  ...           63.906875   \n",
       "1                       0.000000                   0  ...           61.173125   \n",
       "2                       0.000000                   0  ...           65.725000   \n",
       "3                       0.000000                   0  ...           65.127500   \n",
       "4                   56107.954545                   0  ...           58.470000   \n",
       "\n",
       "   HI  LI  MI  HD  LD  MD  A  C  D  \n",
       "0   0   1   0   0   1   0  0  1  0  \n",
       "1   1   0   0   0   0   1  0  0  1  \n",
       "2   0   1   0   0   1   0  0  0  1  \n",
       "3   1   0   0   1   0   0  0  0  1  \n",
       "4   1   0   0   0   0   1  0  0  1  \n",
       "\n",
       "[5 rows x 632 columns]"
      ]
     },
     "execution_count": 4,
     "metadata": {},
     "output_type": "execute_result"
    }
   ],
   "source": [
    "X_train.head()"
   ]
  },
  {
   "cell_type": "markdown",
   "metadata": {},
   "source": [
    "# SVR Model"
   ]
  },
  {
   "cell_type": "markdown",
   "metadata": {},
   "source": [
    "## With preprocessed data"
   ]
  },
  {
   "cell_type": "code",
   "execution_count": 5,
   "metadata": {},
   "outputs": [],
   "source": [
    "#Fit basic SVR with default values\n",
    "t0 = time.time()\n",
    "svr_init = SVR()\n",
    "svr_init.fit(X_train, y_train.to_numpy().ravel())\n",
    "t1 = time.time()"
   ]
  },
  {
   "cell_type": "code",
   "execution_count": 6,
   "metadata": {},
   "outputs": [
    {
     "name": "stdout",
     "output_type": "stream",
     "text": [
      "Training time :  2193.06933259964\n"
     ]
    }
   ],
   "source": [
    "svr_init_train_time = t1 - t0\n",
    "print('Training time : ', svr_init_train_time)"
   ]
  },
  {
   "cell_type": "code",
   "execution_count": 9,
   "metadata": {},
   "outputs": [
    {
     "name": "stdout",
     "output_type": "stream",
     "text": [
      "Initial modeling, train RMSE: 278.6726219728049\n",
      "Initial modeling, train MAE: 100.61073462141532\n"
     ]
    }
   ],
   "source": [
    "#Find the train RMSE and MAE\n",
    "svr_init_train_RMSE = np.sqrt(metrics.mean_squared_error(y_train, svr_init.predict(X_train)))\n",
    "print('Initial modeling, train RMSE:', svr_init_train_RMSE)\n",
    "svr_init_train_MAE = metrics.mean_absolute_error(y_train, svr_init.predict(X_train))\n",
    "print('Initial modeling, train MAE:', svr_init_train_MAE)"
   ]
  },
  {
   "cell_type": "code",
   "execution_count": 10,
   "metadata": {},
   "outputs": [
    {
     "name": "stdout",
     "output_type": "stream",
     "text": [
      "Prediction time :  7037.7495658397675\n",
      "Initial modeling, validation RMSE: 274.4847653875946\n",
      "Initial modeling, validation MAE: 99.31935905709184\n"
     ]
    }
   ],
   "source": [
    "#Find the validation and validation RMSE and MAE\n",
    "t2 = time.time()\n",
    "svr_init_valid_RMSE = np.sqrt(metrics.mean_squared_error(y_valid, svr_init.predict(X_valid)))\n",
    "t3 = time.time()\n",
    "svr_init_predict_time = t3 - t2\n",
    "print('Prediction time : ', svr_init_predict_time)\n",
    "print('Initial modeling, validation RMSE:', svr_init_valid_RMSE)\n",
    "svr_init_valid_MAE = metrics.mean_absolute_error(y_valid, svr_init.predict(X_valid))\n",
    "print('Initial modeling, validation MAE:', svr_init_valid_MAE)"
   ]
  },
  {
   "cell_type": "code",
   "execution_count": 11,
   "metadata": {},
   "outputs": [],
   "source": [
    "results = {'model':['SVR preprocessed train', 'SVR preprocessed train', 'SVR preprocessed validation', 'SVR preprocessed validation'], 'error_type':['RMSE', 'MAE', 'RMSE', 'MAE'], \n",
    "           'score':[svr_init_train_RMSE, svr_init_train_MAE, svr_init_valid_RMSE, svr_init_valid_MAE]}"
   ]
  },
  {
   "cell_type": "code",
   "execution_count": 12,
   "metadata": {},
   "outputs": [],
   "source": [
    "results_df = pd.DataFrame(results)"
   ]
  },
  {
   "cell_type": "code",
   "execution_count": 13,
   "metadata": {},
   "outputs": [],
   "source": [
    "results_df.to_csv('../results/SVR_milestone_2')"
   ]
  },
  {
   "cell_type": "markdown",
   "metadata": {},
   "source": [
    "## Catboost"
   ]
  },
  {
   "cell_type": "markdown",
   "metadata": {},
   "source": [
    "### Raw data"
   ]
  },
  {
   "cell_type": "markdown",
   "metadata": {},
   "source": [
    "### RMSE"
   ]
  },
  {
   "cell_type": "code",
   "execution_count": 14,
   "metadata": {},
   "outputs": [],
   "source": [
    "results_df = pd.read_csv('../results/SVR_milestone_2')"
   ]
  },
  {
   "cell_type": "code",
   "execution_count": 15,
   "metadata": {},
   "outputs": [],
   "source": [
    "# Initialize CatBoostRegressor\n",
    "cat_init_raw_RMSE = CatBoostRegressor(iterations=100, learning_rate=1, depth=10, verbose=False, loss_function='RMSE')\n",
    "# Fit model\n",
    "t_cat0 = time.time()\n",
    "cat_init_raw_RMSE.fit(X_train, y_train.to_numpy().ravel())\n",
    "t_cat1 = time.time()"
   ]
  },
  {
   "cell_type": "code",
   "execution_count": 16,
   "metadata": {},
   "outputs": [
    {
     "name": "stdout",
     "output_type": "stream",
     "text": [
      "Training time :  26.87070608139038\n"
     ]
    }
   ],
   "source": [
    "cat_init_train_time = t_cat1 - t_cat0\n",
    "print('Training time : ', cat_init_train_time)"
   ]
  },
  {
   "cell_type": "code",
   "execution_count": 17,
   "metadata": {},
   "outputs": [
    {
     "name": "stdout",
     "output_type": "stream",
     "text": [
      "Catboost Initial modeling, train RMSE: 37.583964092111806\n",
      "Catboost Initial modeling, validation RMSE: 105.14414932123618\n"
     ]
    }
   ],
   "source": [
    "#Find the train and validation RMSE\n",
    "cat_init_train_RMSE = np.sqrt(metrics.mean_squared_error(y_train, cat_init_raw_RMSE.predict(X_train)))\n",
    "print('Catboost Initial modeling, train RMSE:', cat_init_train_RMSE)\n",
    "cat_init_valid_RMSE = np.sqrt(metrics.mean_squared_error(y_valid, cat_init_raw_RMSE.predict(X_valid)))\n",
    "print('Catboost Initial modeling, validation RMSE:', cat_init_valid_RMSE)"
   ]
  },
  {
   "cell_type": "markdown",
   "metadata": {},
   "source": [
    "#### MAE"
   ]
  },
  {
   "cell_type": "code",
   "execution_count": 18,
   "metadata": {},
   "outputs": [],
   "source": [
    "# Initialize CatBoostRegressor\n",
    "cat_init_raw_MAE = CatBoostRegressor(iterations=100, learning_rate=1, depth=10, verbose=False, loss_function='MAE')\n",
    "# Fit model\n",
    "t_cat2 = time.time()\n",
    "cat_init_raw_MAE.fit(X_train, y_train.to_numpy().ravel())\n",
    "t_cat3 = time.time()"
   ]
  },
  {
   "cell_type": "code",
   "execution_count": 19,
   "metadata": {},
   "outputs": [
    {
     "name": "stdout",
     "output_type": "stream",
     "text": [
      "Training time :  27.09802269935608\n"
     ]
    }
   ],
   "source": [
    "cat_init_train_time_MAE = t_cat3 - t_cat2\n",
    "print('Training time : ', cat_init_train_time_MAE)"
   ]
  },
  {
   "cell_type": "code",
   "execution_count": 20,
   "metadata": {},
   "outputs": [
    {
     "name": "stdout",
     "output_type": "stream",
     "text": [
      "Catboost Initial modeling, train MAE: 28.965350625464993\n",
      "Catboost Initial modeling, validation MAE: 56.69589533776316\n"
     ]
    }
   ],
   "source": [
    "#Find the train and validation MAE\n",
    "cat_init_train_MAE = metrics.mean_absolute_error(y_train, cat_init_raw_MAE.predict(X_train))\n",
    "print('Catboost Initial modeling, train MAE:', cat_init_train_MAE)\n",
    "cat_init_valid_MAE = metrics.mean_absolute_error(y_valid, cat_init_raw_MAE.predict(X_valid))\n",
    "print('Catboost Initial modeling, validation MAE:', cat_init_valid_MAE)"
   ]
  },
  {
   "cell_type": "code",
   "execution_count": 21,
   "metadata": {},
   "outputs": [
    {
     "data": {
      "text/html": [
       "<div>\n",
       "<style scoped>\n",
       "    .dataframe tbody tr th:only-of-type {\n",
       "        vertical-align: middle;\n",
       "    }\n",
       "\n",
       "    .dataframe tbody tr th {\n",
       "        vertical-align: top;\n",
       "    }\n",
       "\n",
       "    .dataframe thead th {\n",
       "        text-align: right;\n",
       "    }\n",
       "</style>\n",
       "<table border=\"1\" class=\"dataframe\">\n",
       "  <thead>\n",
       "    <tr style=\"text-align: right;\">\n",
       "      <th></th>\n",
       "      <th>Unnamed: 0</th>\n",
       "      <th>model</th>\n",
       "      <th>error_type</th>\n",
       "      <th>score</th>\n",
       "    </tr>\n",
       "  </thead>\n",
       "  <tbody>\n",
       "    <tr>\n",
       "      <th>0</th>\n",
       "      <td>0.0</td>\n",
       "      <td>SVR preprocessed train</td>\n",
       "      <td>RMSE</td>\n",
       "      <td>278.672622</td>\n",
       "    </tr>\n",
       "    <tr>\n",
       "      <th>1</th>\n",
       "      <td>1.0</td>\n",
       "      <td>SVR preprocessed train</td>\n",
       "      <td>MAE</td>\n",
       "      <td>100.610735</td>\n",
       "    </tr>\n",
       "    <tr>\n",
       "      <th>2</th>\n",
       "      <td>2.0</td>\n",
       "      <td>SVR preprocessed validation</td>\n",
       "      <td>RMSE</td>\n",
       "      <td>274.484765</td>\n",
       "    </tr>\n",
       "    <tr>\n",
       "      <th>3</th>\n",
       "      <td>3.0</td>\n",
       "      <td>SVR preprocessed validation</td>\n",
       "      <td>MAE</td>\n",
       "      <td>99.319359</td>\n",
       "    </tr>\n",
       "    <tr>\n",
       "      <th>4</th>\n",
       "      <td>NaN</td>\n",
       "      <td>catboost preprocessed train</td>\n",
       "      <td>RMSE</td>\n",
       "      <td>37.583964</td>\n",
       "    </tr>\n",
       "    <tr>\n",
       "      <th>5</th>\n",
       "      <td>NaN</td>\n",
       "      <td>catboost preprocessed train</td>\n",
       "      <td>MAE</td>\n",
       "      <td>28.965351</td>\n",
       "    </tr>\n",
       "    <tr>\n",
       "      <th>6</th>\n",
       "      <td>NaN</td>\n",
       "      <td>catboost preprocessed validation</td>\n",
       "      <td>RMSE</td>\n",
       "      <td>105.144149</td>\n",
       "    </tr>\n",
       "    <tr>\n",
       "      <th>7</th>\n",
       "      <td>NaN</td>\n",
       "      <td>catboost preprocessed validation</td>\n",
       "      <td>RMSE</td>\n",
       "      <td>105.144149</td>\n",
       "    </tr>\n",
       "  </tbody>\n",
       "</table>\n",
       "</div>"
      ],
      "text/plain": [
       "   Unnamed: 0                             model error_type       score\n",
       "0         0.0            SVR preprocessed train       RMSE  278.672622\n",
       "1         1.0            SVR preprocessed train        MAE  100.610735\n",
       "2         2.0       SVR preprocessed validation       RMSE  274.484765\n",
       "3         3.0       SVR preprocessed validation        MAE   99.319359\n",
       "4         NaN       catboost preprocessed train       RMSE   37.583964\n",
       "5         NaN       catboost preprocessed train        MAE   28.965351\n",
       "6         NaN  catboost preprocessed validation       RMSE  105.144149\n",
       "7         NaN  catboost preprocessed validation       RMSE  105.144149"
      ]
     },
     "execution_count": 21,
     "metadata": {},
     "output_type": "execute_result"
    }
   ],
   "source": [
    "results_df = results_df.append({'model':'catboost preprocessed train', 'error_type':'RMSE', 'score':cat_init_train_RMSE}, \n",
    "                               ignore_index=True)\n",
    "results_df = results_df.append({'model':'catboost preprocessed train', 'error_type':'MAE', 'score':cat_init_train_MAE}, \n",
    "                               ignore_index=True)\n",
    "results_df = results_df.append({'model':'catboost preprocessed validation', 'error_type':'RMSE', 'score':cat_init_valid_RMSE}, \n",
    "                               ignore_index=True)\n",
    "results_df = results_df.append({'model':'catboost preprocessed validation', 'error_type':'MAE', 'score':cat_init_valid_RMSE}, \n",
    "                               ignore_index=True)\n",
    "results_df"
   ]
  },
  {
   "cell_type": "code",
   "execution_count": 22,
   "metadata": {},
   "outputs": [],
   "source": [
    "results_df.to_csv('../results/SVR_milestone_2')"
   ]
  },
  {
   "cell_type": "markdown",
   "metadata": {},
   "source": [
    "## Hyperparameters tuning : Random search"
   ]
  },
  {
   "cell_type": "markdown",
   "metadata": {},
   "source": [
    "### RMSE"
   ]
  },
  {
   "cell_type": "code",
   "execution_count": 25,
   "metadata": {},
   "outputs": [
    {
     "name": "stdout",
     "output_type": "stream",
     "text": [
      "Fitting 5 folds for each of 30 candidates, totalling 150 fits\n"
     ]
    },
    {
     "name": "stderr",
     "output_type": "stream",
     "text": [
      "[Parallel(n_jobs=-1)]: Using backend LokyBackend with 8 concurrent workers.\n",
      "[Parallel(n_jobs=-1)]: Done   2 tasks      | elapsed:   57.7s\n",
      "[Parallel(n_jobs=-1)]: Done   9 tasks      | elapsed:  5.3min\n",
      "[Parallel(n_jobs=-1)]: Done  16 tasks      | elapsed: 10.2min\n",
      "[Parallel(n_jobs=-1)]: Done  25 tasks      | elapsed: 50.6min\n",
      "[Parallel(n_jobs=-1)]: Done  34 tasks      | elapsed: 70.2min\n",
      "[Parallel(n_jobs=-1)]: Done  45 tasks      | elapsed: 83.6min\n",
      "[Parallel(n_jobs=-1)]: Done  56 tasks      | elapsed: 94.0min\n",
      "[Parallel(n_jobs=-1)]: Done  69 tasks      | elapsed: 110.3min\n",
      "[Parallel(n_jobs=-1)]: Done  82 tasks      | elapsed: 115.5min\n",
      "[Parallel(n_jobs=-1)]: Done  97 tasks      | elapsed: 124.1min\n",
      "[Parallel(n_jobs=-1)]: Done 112 tasks      | elapsed: 137.1min\n",
      "[Parallel(n_jobs=-1)]: Done 129 tasks      | elapsed: 141.9min\n",
      "[Parallel(n_jobs=-1)]: Done 150 out of 150 | elapsed: 144.9min finished\n",
      "/home/ubuntu/.local/share/virtualenvs/capstone_machine_learning-9cUIoDBU/lib/python3.7/site-packages/sklearn/model_selection/_search.py:849: FutureWarning: The parameter 'iid' is deprecated in 0.22 and will be removed in 0.24.\n",
      "  \"removed in 0.24.\", FutureWarning\n"
     ]
    }
   ],
   "source": [
    "t_cat4 = time.time()\n",
    "cat_tunned_RMSE = CatBoostRegressor(verbose=False, loss_function='RMSE')\n",
    "parameters = {'iterations':[i for i in range(1,300,10)], \n",
    "              'learning_rate':np.logspace(-4,0,40), \n",
    "              'depth':[i for i in range(1,12,1)], \n",
    "              'bagging_temperature':[i for i in range(2,11)]}\n",
    "catboost_opt_RMSE = RandomizedSearchCV(cat_tunned_RMSE, parameters, cv=5, iid=False, n_iter=30, n_jobs=-1, verbose=10)\n",
    "catboost_opt_RMSE.fit(X_train, y_train.to_numpy().ravel())\n",
    "t_cat5 = time.time()"
   ]
  },
  {
   "cell_type": "code",
   "execution_count": 27,
   "metadata": {},
   "outputs": [
    {
     "name": "stdout",
     "output_type": "stream",
     "text": [
      "running time optimisation :  8750.836293935776\n",
      "The best parameter combination is {'learning_rate': 0.38881551803080855, 'iterations': 241, 'depth': 9, 'bagging_temperature': 4}.\n"
     ]
    }
   ],
   "source": [
    "print('running time optimisation : ', t_cat5 - t_cat4)\n",
    "print('The best parameter combination is {}.'.format(catboost_opt_RMSE.best_params_))"
   ]
  },
  {
   "cell_type": "code",
   "execution_count": 28,
   "metadata": {},
   "outputs": [
    {
     "name": "stdout",
     "output_type": "stream",
     "text": [
      "Catboost tuned, train RMSE: 39.16138879609356\n",
      "Catboost tuned, validation RMSE: 101.22886847723292\n"
     ]
    }
   ],
   "source": [
    "#Find the train and validation RMSE\n",
    "cat_tuned_train_RMSE = np.sqrt(metrics.mean_squared_error(y_train, catboost_opt_RMSE.predict(X_train)))\n",
    "print('Catboost tuned, train RMSE:', cat_tuned_train_RMSE)\n",
    "cat_tuned_valid_RMSE = np.sqrt(metrics.mean_squared_error(y_valid, catboost_opt_RMSE.predict(X_valid)))\n",
    "print('Catboost tuned, validation RMSE:', cat_tuned_valid_RMSE)"
   ]
  },
  {
   "cell_type": "markdown",
   "metadata": {},
   "source": [
    "### MAE"
   ]
  },
  {
   "cell_type": "code",
   "execution_count": 29,
   "metadata": {},
   "outputs": [
    {
     "name": "stdout",
     "output_type": "stream",
     "text": [
      "Fitting 5 folds for each of 30 candidates, totalling 150 fits\n"
     ]
    },
    {
     "name": "stderr",
     "output_type": "stream",
     "text": [
      "[Parallel(n_jobs=-1)]: Using backend LokyBackend with 8 concurrent workers.\n",
      "[Parallel(n_jobs=-1)]: Done   2 tasks      | elapsed:  2.0min\n",
      "[Parallel(n_jobs=-1)]: Done   9 tasks      | elapsed:  2.3min\n",
      "[Parallel(n_jobs=-1)]: Done  16 tasks      | elapsed:  4.8min\n",
      "[Parallel(n_jobs=-1)]: Done  25 tasks      | elapsed: 12.2min\n",
      "[Parallel(n_jobs=-1)]: Done  34 tasks      | elapsed: 15.5min\n",
      "[Parallel(n_jobs=-1)]: Done  45 tasks      | elapsed: 17.6min\n",
      "[Parallel(n_jobs=-1)]: Done  56 tasks      | elapsed: 18.5min\n",
      "[Parallel(n_jobs=-1)]: Done  69 tasks      | elapsed: 19.0min\n",
      "[Parallel(n_jobs=-1)]: Done  82 tasks      | elapsed: 23.8min\n",
      "[Parallel(n_jobs=-1)]: Done  97 tasks      | elapsed: 25.0min\n",
      "[Parallel(n_jobs=-1)]: Done 112 tasks      | elapsed: 32.2min\n",
      "[Parallel(n_jobs=-1)]: Done 129 tasks      | elapsed: 43.6min\n",
      "[Parallel(n_jobs=-1)]: Done 150 out of 150 | elapsed: 79.0min finished\n",
      "/home/ubuntu/.local/share/virtualenvs/capstone_machine_learning-9cUIoDBU/lib/python3.7/site-packages/sklearn/model_selection/_search.py:849: FutureWarning: The parameter 'iid' is deprecated in 0.22 and will be removed in 0.24.\n",
      "  \"removed in 0.24.\", FutureWarning\n"
     ]
    }
   ],
   "source": [
    "t_cat6 = time.time()\n",
    "cat_tunned_MAE = CatBoostRegressor(verbose=False, loss_function='MAE')\n",
    "parameters = {'iterations':[i for i in range(1,300,10)], \n",
    "              'learning_rate':np.logspace(-4,0,40), \n",
    "              'depth':[i for i in range(1,12,1)], \n",
    "              'bagging_temperature':[i for i in range(2,11)]}\n",
    "catboost_opt_MAE = RandomizedSearchCV(cat_tunned_MAE, parameters, cv=5, iid=False, n_iter=30, n_jobs=-1, verbose=10)\n",
    "catboost_opt_MAE.fit(X_train, y_train.to_numpy().ravel())\n",
    "t_cat7 = time.time()"
   ]
  },
  {
   "cell_type": "code",
   "execution_count": 30,
   "metadata": {},
   "outputs": [
    {
     "name": "stdout",
     "output_type": "stream",
     "text": [
      "running time optimisation :  -4932.689977407455\n",
      "The best parameter combination is {'learning_rate': 0.30702906297578497, 'iterations': 81, 'depth': 11, 'bagging_temperature': 8}.\n"
     ]
    }
   ],
   "source": [
    "print('running time optimisation : ', t_cat6 - t_cat7)\n",
    "print('The best parameter combination is {}.'.format(catboost_opt_MAE.best_params_))"
   ]
  },
  {
   "cell_type": "code",
   "execution_count": 31,
   "metadata": {},
   "outputs": [
    {
     "name": "stdout",
     "output_type": "stream",
     "text": [
      "Catboost tuned, train MAE: 30.60980854921523\n",
      "Catboost tuned, validation MAE: 45.33389033213189\n"
     ]
    }
   ],
   "source": [
    "#Find the train and validation MAE\n",
    "cat_tuned_train_MAE = metrics.mean_absolute_error(y_train, catboost_opt_MAE.predict(X_train))\n",
    "print('Catboost tuned, train MAE:', cat_tuned_train_MAE)\n",
    "cat_tuned_valid_MAE = metrics.mean_absolute_error(y_valid, catboost_opt_MAE.predict(X_valid))\n",
    "print('Catboost tuned, validation MAE:', cat_tuned_valid_MAE)"
   ]
  },
  {
   "cell_type": "code",
   "execution_count": 32,
   "metadata": {},
   "outputs": [
    {
     "data": {
      "text/html": [
       "<div>\n",
       "<style scoped>\n",
       "    .dataframe tbody tr th:only-of-type {\n",
       "        vertical-align: middle;\n",
       "    }\n",
       "\n",
       "    .dataframe tbody tr th {\n",
       "        vertical-align: top;\n",
       "    }\n",
       "\n",
       "    .dataframe thead th {\n",
       "        text-align: right;\n",
       "    }\n",
       "</style>\n",
       "<table border=\"1\" class=\"dataframe\">\n",
       "  <thead>\n",
       "    <tr style=\"text-align: right;\">\n",
       "      <th></th>\n",
       "      <th>Unnamed: 0</th>\n",
       "      <th>model</th>\n",
       "      <th>error_type</th>\n",
       "      <th>score</th>\n",
       "    </tr>\n",
       "  </thead>\n",
       "  <tbody>\n",
       "    <tr>\n",
       "      <th>0</th>\n",
       "      <td>0.0</td>\n",
       "      <td>SVR preprocessed train</td>\n",
       "      <td>RMSE</td>\n",
       "      <td>278.672622</td>\n",
       "    </tr>\n",
       "    <tr>\n",
       "      <th>1</th>\n",
       "      <td>1.0</td>\n",
       "      <td>SVR preprocessed train</td>\n",
       "      <td>MAE</td>\n",
       "      <td>100.610735</td>\n",
       "    </tr>\n",
       "    <tr>\n",
       "      <th>2</th>\n",
       "      <td>2.0</td>\n",
       "      <td>SVR preprocessed validation</td>\n",
       "      <td>RMSE</td>\n",
       "      <td>274.484765</td>\n",
       "    </tr>\n",
       "    <tr>\n",
       "      <th>3</th>\n",
       "      <td>3.0</td>\n",
       "      <td>SVR preprocessed validation</td>\n",
       "      <td>MAE</td>\n",
       "      <td>99.319359</td>\n",
       "    </tr>\n",
       "    <tr>\n",
       "      <th>4</th>\n",
       "      <td>NaN</td>\n",
       "      <td>catboost preprocessed train</td>\n",
       "      <td>RMSE</td>\n",
       "      <td>37.583964</td>\n",
       "    </tr>\n",
       "    <tr>\n",
       "      <th>5</th>\n",
       "      <td>NaN</td>\n",
       "      <td>catboost preprocessed train</td>\n",
       "      <td>MAE</td>\n",
       "      <td>28.965351</td>\n",
       "    </tr>\n",
       "    <tr>\n",
       "      <th>6</th>\n",
       "      <td>NaN</td>\n",
       "      <td>catboost preprocessed validation</td>\n",
       "      <td>RMSE</td>\n",
       "      <td>105.144149</td>\n",
       "    </tr>\n",
       "    <tr>\n",
       "      <th>7</th>\n",
       "      <td>NaN</td>\n",
       "      <td>catboost preprocessed validation</td>\n",
       "      <td>RMSE</td>\n",
       "      <td>105.144149</td>\n",
       "    </tr>\n",
       "    <tr>\n",
       "      <th>8</th>\n",
       "      <td>NaN</td>\n",
       "      <td>catboost preprocessed tuned train</td>\n",
       "      <td>RMSE</td>\n",
       "      <td>39.161389</td>\n",
       "    </tr>\n",
       "    <tr>\n",
       "      <th>9</th>\n",
       "      <td>NaN</td>\n",
       "      <td>catboost preprocessed tuned train</td>\n",
       "      <td>MAE</td>\n",
       "      <td>30.609809</td>\n",
       "    </tr>\n",
       "    <tr>\n",
       "      <th>10</th>\n",
       "      <td>NaN</td>\n",
       "      <td>catboost preprocessed tuned validation</td>\n",
       "      <td>RMSE</td>\n",
       "      <td>101.228868</td>\n",
       "    </tr>\n",
       "    <tr>\n",
       "      <th>11</th>\n",
       "      <td>NaN</td>\n",
       "      <td>catboost preprocessed tuned validation</td>\n",
       "      <td>MAE</td>\n",
       "      <td>45.333890</td>\n",
       "    </tr>\n",
       "  </tbody>\n",
       "</table>\n",
       "</div>"
      ],
      "text/plain": [
       "    Unnamed: 0                                   model error_type       score\n",
       "0          0.0                  SVR preprocessed train       RMSE  278.672622\n",
       "1          1.0                  SVR preprocessed train        MAE  100.610735\n",
       "2          2.0             SVR preprocessed validation       RMSE  274.484765\n",
       "3          3.0             SVR preprocessed validation        MAE   99.319359\n",
       "4          NaN             catboost preprocessed train       RMSE   37.583964\n",
       "5          NaN             catboost preprocessed train        MAE   28.965351\n",
       "6          NaN        catboost preprocessed validation       RMSE  105.144149\n",
       "7          NaN        catboost preprocessed validation       RMSE  105.144149\n",
       "8          NaN       catboost preprocessed tuned train       RMSE   39.161389\n",
       "9          NaN       catboost preprocessed tuned train        MAE   30.609809\n",
       "10         NaN  catboost preprocessed tuned validation       RMSE  101.228868\n",
       "11         NaN  catboost preprocessed tuned validation        MAE   45.333890"
      ]
     },
     "execution_count": 32,
     "metadata": {},
     "output_type": "execute_result"
    }
   ],
   "source": [
    "results_df = results_df.append({'model':'catboost preprocessed tuned train', 'error_type':'RMSE', 'score':cat_tuned_train_RMSE}, \n",
    "                               ignore_index=True)\n",
    "results_df = results_df.append({'model':'catboost preprocessed tuned train', 'error_type':'MAE', 'score':cat_tuned_train_MAE}, \n",
    "                               ignore_index=True)\n",
    "results_df = results_df.append({'model':'catboost preprocessed tuned validation', 'error_type':'RMSE', 'score':cat_tuned_valid_RMSE}, \n",
    "                               ignore_index=True)\n",
    "results_df = results_df.append({'model':'catboost preprocessed tuned validation', 'error_type':'MAE', 'score':cat_tuned_valid_MAE}, \n",
    "                               ignore_index=True)\n",
    "results_df"
   ]
  },
  {
   "cell_type": "code",
   "execution_count": 33,
   "metadata": {},
   "outputs": [],
   "source": [
    "results_df.to_csv('../results/SVR_milestone_2')"
   ]
  },
  {
   "cell_type": "code",
   "execution_count": null,
   "metadata": {},
   "outputs": [],
   "source": []
  }
 ],
 "metadata": {
  "kernelspec": {
   "display_name": "capstone_machine_learning",
   "language": "python",
   "name": "capstone_machine_learning"
  },
  "language_info": {
   "codemirror_mode": {
    "name": "ipython",
    "version": 3
   },
   "file_extension": ".py",
   "mimetype": "text/x-python",
   "name": "python",
   "nbconvert_exporter": "python",
   "pygments_lexer": "ipython3",
   "version": "3.7.6"
  }
 },
 "nbformat": 4,
 "nbformat_minor": 4
}
