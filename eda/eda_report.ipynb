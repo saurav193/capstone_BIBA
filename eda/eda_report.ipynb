{
 "cells": [
  {
   "cell_type": "code",
   "execution_count": 2,
   "metadata": {},
   "outputs": [],
   "source": [
    "import pandas as pd\n",
    "import altair as alt"
   ]
  },
  {
   "cell_type": "code",
   "execution_count": 3,
   "metadata": {},
   "outputs": [],
   "source": [
    "df = pd.read_csv('../data/train_data.zip')"
   ]
  },
  {
   "cell_type": "code",
   "execution_count": 4,
   "metadata": {},
   "outputs": [
    {
     "data": {
      "text/html": [
       "<div>\n",
       "<style scoped>\n",
       "    .dataframe tbody tr th:only-of-type {\n",
       "        vertical-align: middle;\n",
       "    }\n",
       "\n",
       "    .dataframe tbody tr th {\n",
       "        vertical-align: top;\n",
       "    }\n",
       "\n",
       "    .dataframe thead th {\n",
       "        text-align: right;\n",
       "    }\n",
       "</style>\n",
       "<table border=\"1\" class=\"dataframe\">\n",
       "  <thead>\n",
       "    <tr style=\"text-align: right;\">\n",
       "      <th></th>\n",
       "      <th>external_id</th>\n",
       "      <th>month</th>\n",
       "      <th>year</th>\n",
       "      <th>monthly_number_of_sessions</th>\n",
       "      <th>monthly_unique_sessions</th>\n",
       "      <th>monthly_repeated_sessions</th>\n",
       "      <th>monthly_avg_length_of_session</th>\n",
       "      <th>monthly_avg_light_activity</th>\n",
       "      <th>monthly_avg_moderate_activity</th>\n",
       "      <th>monthly_avg_vigorous_activity</th>\n",
       "      <th>...</th>\n",
       "      <th>avg_wind_9_10</th>\n",
       "      <th>avg_wind_10_11</th>\n",
       "      <th>avg_wind_11_12</th>\n",
       "      <th>avg_wind_12_above</th>\n",
       "      <th>perfect_days</th>\n",
       "      <th>unacast_session_count</th>\n",
       "      <th>hpi</th>\n",
       "      <th>state_and_local_amount_per_capita</th>\n",
       "      <th>state_amount_per_capita</th>\n",
       "      <th>local_amount_per_capita</th>\n",
       "    </tr>\n",
       "  </thead>\n",
       "  <tbody>\n",
       "    <tr>\n",
       "      <th>0</th>\n",
       "      <td>1900203</td>\n",
       "      <td>3</td>\n",
       "      <td>2019</td>\n",
       "      <td>0</td>\n",
       "      <td>0</td>\n",
       "      <td>0</td>\n",
       "      <td>0.0</td>\n",
       "      <td>0.0</td>\n",
       "      <td>0.0</td>\n",
       "      <td>0.0</td>\n",
       "      <td>...</td>\n",
       "      <td>0.0</td>\n",
       "      <td>0.0</td>\n",
       "      <td>0.0</td>\n",
       "      <td>0.0</td>\n",
       "      <td>0.0</td>\n",
       "      <td>78.0</td>\n",
       "      <td>323.61</td>\n",
       "      <td>0.132207</td>\n",
       "      <td>0.018519</td>\n",
       "      <td>0.113688</td>\n",
       "    </tr>\n",
       "    <tr>\n",
       "      <th>1</th>\n",
       "      <td>1900203</td>\n",
       "      <td>6</td>\n",
       "      <td>2018</td>\n",
       "      <td>0</td>\n",
       "      <td>0</td>\n",
       "      <td>0</td>\n",
       "      <td>0.0</td>\n",
       "      <td>0.0</td>\n",
       "      <td>0.0</td>\n",
       "      <td>0.0</td>\n",
       "      <td>...</td>\n",
       "      <td>0.0</td>\n",
       "      <td>0.0</td>\n",
       "      <td>0.0</td>\n",
       "      <td>0.0</td>\n",
       "      <td>4.0</td>\n",
       "      <td>111.0</td>\n",
       "      <td>323.61</td>\n",
       "      <td>0.132207</td>\n",
       "      <td>0.018519</td>\n",
       "      <td>0.113688</td>\n",
       "    </tr>\n",
       "    <tr>\n",
       "      <th>2</th>\n",
       "      <td>1900203</td>\n",
       "      <td>8</td>\n",
       "      <td>2018</td>\n",
       "      <td>0</td>\n",
       "      <td>0</td>\n",
       "      <td>0</td>\n",
       "      <td>0.0</td>\n",
       "      <td>0.0</td>\n",
       "      <td>0.0</td>\n",
       "      <td>0.0</td>\n",
       "      <td>...</td>\n",
       "      <td>0.0</td>\n",
       "      <td>0.0</td>\n",
       "      <td>0.0</td>\n",
       "      <td>0.0</td>\n",
       "      <td>2.0</td>\n",
       "      <td>110.0</td>\n",
       "      <td>323.61</td>\n",
       "      <td>0.132207</td>\n",
       "      <td>0.018519</td>\n",
       "      <td>0.113688</td>\n",
       "    </tr>\n",
       "    <tr>\n",
       "      <th>3</th>\n",
       "      <td>MR00101775</td>\n",
       "      <td>1</td>\n",
       "      <td>2019</td>\n",
       "      <td>0</td>\n",
       "      <td>0</td>\n",
       "      <td>0</td>\n",
       "      <td>0.0</td>\n",
       "      <td>0.0</td>\n",
       "      <td>0.0</td>\n",
       "      <td>0.0</td>\n",
       "      <td>...</td>\n",
       "      <td>0.0</td>\n",
       "      <td>0.0</td>\n",
       "      <td>0.0</td>\n",
       "      <td>0.0</td>\n",
       "      <td>0.0</td>\n",
       "      <td>10.0</td>\n",
       "      <td>110.38</td>\n",
       "      <td>0.076247</td>\n",
       "      <td>0.011966</td>\n",
       "      <td>0.064281</td>\n",
       "    </tr>\n",
       "    <tr>\n",
       "      <th>4</th>\n",
       "      <td>MR00101775</td>\n",
       "      <td>8</td>\n",
       "      <td>2019</td>\n",
       "      <td>0</td>\n",
       "      <td>0</td>\n",
       "      <td>0</td>\n",
       "      <td>0.0</td>\n",
       "      <td>0.0</td>\n",
       "      <td>0.0</td>\n",
       "      <td>0.0</td>\n",
       "      <td>...</td>\n",
       "      <td>0.0</td>\n",
       "      <td>0.0</td>\n",
       "      <td>0.0</td>\n",
       "      <td>0.0</td>\n",
       "      <td>0.0</td>\n",
       "      <td>11.0</td>\n",
       "      <td>110.38</td>\n",
       "      <td>0.076247</td>\n",
       "      <td>0.011966</td>\n",
       "      <td>0.064281</td>\n",
       "    </tr>\n",
       "  </tbody>\n",
       "</table>\n",
       "<p>5 rows × 861 columns</p>\n",
       "</div>"
      ],
      "text/plain": [
       "  external_id  month  year  monthly_number_of_sessions  \\\n",
       "0     1900203      3  2019                           0   \n",
       "1     1900203      6  2018                           0   \n",
       "2     1900203      8  2018                           0   \n",
       "3  MR00101775      1  2019                           0   \n",
       "4  MR00101775      8  2019                           0   \n",
       "\n",
       "   monthly_unique_sessions  monthly_repeated_sessions  \\\n",
       "0                        0                          0   \n",
       "1                        0                          0   \n",
       "2                        0                          0   \n",
       "3                        0                          0   \n",
       "4                        0                          0   \n",
       "\n",
       "   monthly_avg_length_of_session  monthly_avg_light_activity  \\\n",
       "0                            0.0                         0.0   \n",
       "1                            0.0                         0.0   \n",
       "2                            0.0                         0.0   \n",
       "3                            0.0                         0.0   \n",
       "4                            0.0                         0.0   \n",
       "\n",
       "   monthly_avg_moderate_activity  monthly_avg_vigorous_activity  ...  \\\n",
       "0                            0.0                            0.0  ...   \n",
       "1                            0.0                            0.0  ...   \n",
       "2                            0.0                            0.0  ...   \n",
       "3                            0.0                            0.0  ...   \n",
       "4                            0.0                            0.0  ...   \n",
       "\n",
       "   avg_wind_9_10  avg_wind_10_11  avg_wind_11_12  avg_wind_12_above  \\\n",
       "0            0.0             0.0             0.0                0.0   \n",
       "1            0.0             0.0             0.0                0.0   \n",
       "2            0.0             0.0             0.0                0.0   \n",
       "3            0.0             0.0             0.0                0.0   \n",
       "4            0.0             0.0             0.0                0.0   \n",
       "\n",
       "   perfect_days  unacast_session_count     hpi  \\\n",
       "0           0.0                   78.0  323.61   \n",
       "1           4.0                  111.0  323.61   \n",
       "2           2.0                  110.0  323.61   \n",
       "3           0.0                   10.0  110.38   \n",
       "4           0.0                   11.0  110.38   \n",
       "\n",
       "   state_and_local_amount_per_capita  state_amount_per_capita  \\\n",
       "0                           0.132207                 0.018519   \n",
       "1                           0.132207                 0.018519   \n",
       "2                           0.132207                 0.018519   \n",
       "3                           0.076247                 0.011966   \n",
       "4                           0.076247                 0.011966   \n",
       "\n",
       "   local_amount_per_capita  \n",
       "0                 0.113688  \n",
       "1                 0.113688  \n",
       "2                 0.113688  \n",
       "3                 0.064281  \n",
       "4                 0.064281  \n",
       "\n",
       "[5 rows x 861 columns]"
      ]
     },
     "execution_count": 4,
     "metadata": {},
     "output_type": "execute_result"
    }
   ],
   "source": [
    "df.head()"
   ]
  },
  {
   "cell_type": "code",
   "execution_count": 5,
   "metadata": {},
   "outputs": [],
   "source": [
    "# Calculate percentage of missing values\n",
    "missing = df.isna()\n",
    "num_missing = missing.sum().sort_values(ascending=False)\n",
    "prop_missing = num_missing / df.shape[0]\n",
    "df_prop_missing = prop_missing.to_frame().reset_index()\n",
    "df_prop_missing = df_prop_missing.rename(columns={'index':'col_name', 0:'prop'})"
   ]
  },
  {
   "cell_type": "code",
   "execution_count": 6,
   "metadata": {},
   "outputs": [
    {
     "data": {
      "text/plain": [
       "662"
      ]
     },
     "execution_count": 6,
     "metadata": {},
     "output_type": "execute_result"
    }
   ],
   "source": [
    "df_20 = df_prop_missing.query('prop < 0.2')\n",
    "df_20.shape[0]"
   ]
  },
  {
   "cell_type": "code",
   "execution_count": 7,
   "metadata": {},
   "outputs": [
    {
     "data": {
      "text/plain": [
       "19"
      ]
     },
     "execution_count": 7,
     "metadata": {},
     "output_type": "execute_result"
    }
   ],
   "source": [
    "df_20_40 = df_prop_missing.query('0.2 <= prop < 0.4')\n",
    "df_20_40.shape[0]"
   ]
  },
  {
   "cell_type": "code",
   "execution_count": 8,
   "metadata": {},
   "outputs": [
    {
     "data": {
      "text/plain": [
       "31"
      ]
     },
     "execution_count": 8,
     "metadata": {},
     "output_type": "execute_result"
    }
   ],
   "source": [
    "df_40_60 = df_prop_missing.query('0.4 <= prop < 0.6')\n",
    "df_40_60.shape[0]"
   ]
  },
  {
   "cell_type": "code",
   "execution_count": 9,
   "metadata": {},
   "outputs": [
    {
     "data": {
      "text/plain": [
       "37"
      ]
     },
     "execution_count": 9,
     "metadata": {},
     "output_type": "execute_result"
    }
   ],
   "source": [
    "df_60_80 = df_prop_missing.query('0.6 <= prop < 0.8')\n",
    "df_60_80.shape[0]"
   ]
  },
  {
   "cell_type": "code",
   "execution_count": 10,
   "metadata": {},
   "outputs": [
    {
     "data": {
      "text/plain": [
       "112"
      ]
     },
     "execution_count": 10,
     "metadata": {},
     "output_type": "execute_result"
    }
   ],
   "source": [
    "df_80_100 = df_prop_missing.query('0.8 <= prop')\n",
    "df_80_100.shape[0]"
   ]
  },
  {
   "cell_type": "code",
   "execution_count": 13,
   "metadata": {},
   "outputs": [
    {
     "data": {
      "text/plain": [
       "[662, 19, 31, 37, 112]"
      ]
     },
     "execution_count": 13,
     "metadata": {},
     "output_type": "execute_result"
    }
   ],
   "source": [
    "nan_rate = (df.isna().sum(axis=0)/df.shape[0]).to_frame().rename(columns={0: \"Nan_rate\"})\n",
    "vals = [0.2,0.4,0.6,0.8,1]\n",
    "count_list = [(nan_rate < 0.2).sum()[0]]\n",
    "for i in range(len(vals)-1):\n",
    "    a = ((nan_rate > vals[i]) * (nan_rate <= vals[i+1])).sum()\n",
    "    count_list.append(a[0])\n",
    "    \n",
    "count_list"
   ]
  },
  {
   "cell_type": "code",
   "execution_count": 15,
   "metadata": {},
   "outputs": [
    {
     "name": "stdout",
     "output_type": "stream",
     "text": [
      "[662, 19, 31, 37, 112] 861\n"
     ]
    }
   ],
   "source": [
    "# Check that counts add up to 861\n",
    "print(count_list, sum(count_list))"
   ]
  },
  {
   "cell_type": "code",
   "execution_count": 16,
   "metadata": {},
   "outputs": [
    {
     "data": {
      "text/html": [
       "\n",
       "<div id=\"altair-viz-0eca1b9202f5411aa3cce852ff5d8aea\"></div>\n",
       "<script type=\"text/javascript\">\n",
       "  (function(spec, embedOpt){\n",
       "    let outputDiv = document.currentScript.previousElementSibling;\n",
       "    if (outputDiv.id !== \"altair-viz-0eca1b9202f5411aa3cce852ff5d8aea\") {\n",
       "      outputDiv = document.getElementById(\"altair-viz-0eca1b9202f5411aa3cce852ff5d8aea\");\n",
       "    }\n",
       "    const paths = {\n",
       "      \"vega\": \"https://cdn.jsdelivr.net/npm//vega@5?noext\",\n",
       "      \"vega-lib\": \"https://cdn.jsdelivr.net/npm//vega-lib?noext\",\n",
       "      \"vega-lite\": \"https://cdn.jsdelivr.net/npm//vega-lite@4.8.1?noext\",\n",
       "      \"vega-embed\": \"https://cdn.jsdelivr.net/npm//vega-embed@6?noext\",\n",
       "    };\n",
       "\n",
       "    function loadScript(lib) {\n",
       "      return new Promise(function(resolve, reject) {\n",
       "        var s = document.createElement('script');\n",
       "        s.src = paths[lib];\n",
       "        s.async = true;\n",
       "        s.onload = () => resolve(paths[lib]);\n",
       "        s.onerror = () => reject(`Error loading script: ${paths[lib]}`);\n",
       "        document.getElementsByTagName(\"head\")[0].appendChild(s);\n",
       "      });\n",
       "    }\n",
       "\n",
       "    function showError(err) {\n",
       "      outputDiv.innerHTML = `<div class=\"error\" style=\"color:red;\">${err}</div>`;\n",
       "      throw err;\n",
       "    }\n",
       "\n",
       "    function displayChart(vegaEmbed) {\n",
       "      vegaEmbed(outputDiv, spec, embedOpt)\n",
       "        .catch(err => showError(`Javascript Error: ${err.message}<br>This usually means there's a typo in your chart specification. See the javascript console for the full traceback.`));\n",
       "    }\n",
       "\n",
       "    if(typeof define === \"function\" && define.amd) {\n",
       "      requirejs.config({paths});\n",
       "      require([\"vega-embed\"], displayChart, err => showError(`Error loading script: ${err.message}`));\n",
       "    } else if (typeof vegaEmbed === \"function\") {\n",
       "      displayChart(vegaEmbed);\n",
       "    } else {\n",
       "      loadScript(\"vega\")\n",
       "        .then(() => loadScript(\"vega-lite\"))\n",
       "        .then(() => loadScript(\"vega-embed\"))\n",
       "        .catch(showError)\n",
       "        .then(() => displayChart(vegaEmbed));\n",
       "    }\n",
       "  })({\"config\": {\"view\": {\"continuousWidth\": 400, \"continuousHeight\": 300}}, \"data\": {\"name\": \"data-2abd6c9549fe23ea465384426ec4fa84\"}, \"mark\": \"bar\", \"encoding\": {\"x\": {\"type\": \"quantitative\", \"bin\": {\"maxbins\": 10}, \"field\": \"Nan_rate\", \"title\": \"% NaN in column\"}, \"y\": {\"type\": \"quantitative\", \"aggregate\": \"count\", \"title\": \"Count\"}}, \"title\": \"Number of columns by percentage of missing values\", \"$schema\": \"https://vega.github.io/schema/vega-lite/v4.8.1.json\", \"datasets\": {\"data-2abd6c9549fe23ea465384426ec4fa84\": [{\"Nan_rate\": 0.0}, {\"Nan_rate\": 0.0}, {\"Nan_rate\": 0.0}, {\"Nan_rate\": 0.0}, {\"Nan_rate\": 0.0}, {\"Nan_rate\": 0.0}, {\"Nan_rate\": 0.0}, {\"Nan_rate\": 0.0}, {\"Nan_rate\": 0.0}, {\"Nan_rate\": 0.0}, {\"Nan_rate\": 0.0}, {\"Nan_rate\": 0.0}, {\"Nan_rate\": 0.0}, {\"Nan_rate\": 0.0}, {\"Nan_rate\": 0.0}, {\"Nan_rate\": 0.0}, {\"Nan_rate\": 0.0}, {\"Nan_rate\": 0.0}, {\"Nan_rate\": 0.0}, {\"Nan_rate\": 0.0}, {\"Nan_rate\": 0.0}, {\"Nan_rate\": 0.0}, {\"Nan_rate\": 0.0}, {\"Nan_rate\": 0.0}, {\"Nan_rate\": 0.0}, {\"Nan_rate\": 0.0}, {\"Nan_rate\": 0.0}, {\"Nan_rate\": 0.0}, {\"Nan_rate\": 0.0}, {\"Nan_rate\": 0.0}, {\"Nan_rate\": 0.0}, {\"Nan_rate\": 0.0}, {\"Nan_rate\": 0.0}, {\"Nan_rate\": 0.0}, {\"Nan_rate\": 0.0}, {\"Nan_rate\": 0.0}, {\"Nan_rate\": 0.0}, {\"Nan_rate\": 0.0}, {\"Nan_rate\": 0.0}, {\"Nan_rate\": 0.0}, {\"Nan_rate\": 0.0}, {\"Nan_rate\": 0.0}, {\"Nan_rate\": 0.0}, {\"Nan_rate\": 0.0}, {\"Nan_rate\": 0.0}, {\"Nan_rate\": 0.0}, {\"Nan_rate\": 0.0}, {\"Nan_rate\": 0.0}, {\"Nan_rate\": 0.0}, {\"Nan_rate\": 0.0}, {\"Nan_rate\": 0.0}, {\"Nan_rate\": 0.0}, {\"Nan_rate\": 0.0}, {\"Nan_rate\": 0.0}, {\"Nan_rate\": 0.0}, {\"Nan_rate\": 0.0}, {\"Nan_rate\": 0.0}, {\"Nan_rate\": 0.0}, {\"Nan_rate\": 0.0}, {\"Nan_rate\": 0.0}, {\"Nan_rate\": 0.0}, {\"Nan_rate\": 0.0}, {\"Nan_rate\": 0.0}, {\"Nan_rate\": 0.0}, {\"Nan_rate\": 0.0}, {\"Nan_rate\": 0.0}, {\"Nan_rate\": 0.0}, {\"Nan_rate\": 0.0}, {\"Nan_rate\": 0.0}, {\"Nan_rate\": 0.0}, {\"Nan_rate\": 0.0}, {\"Nan_rate\": 0.0}, {\"Nan_rate\": 0.0}, {\"Nan_rate\": 0.0}, {\"Nan_rate\": 0.0}, {\"Nan_rate\": 0.0}, {\"Nan_rate\": 0.0}, {\"Nan_rate\": 0.0}, {\"Nan_rate\": 0.0}, {\"Nan_rate\": 0.0}, {\"Nan_rate\": 0.0}, {\"Nan_rate\": 0.0}, {\"Nan_rate\": 0.0}, {\"Nan_rate\": 0.0}, {\"Nan_rate\": 0.0}, {\"Nan_rate\": 0.0}, {\"Nan_rate\": 0.0}, {\"Nan_rate\": 0.0}, {\"Nan_rate\": 0.0}, {\"Nan_rate\": 0.0}, {\"Nan_rate\": 0.0}, {\"Nan_rate\": 0.0}, {\"Nan_rate\": 0.0}, {\"Nan_rate\": 0.0}, {\"Nan_rate\": 0.0}, {\"Nan_rate\": 0.904269752593775}, {\"Nan_rate\": 0.904269752593775}, {\"Nan_rate\": 0.0}, {\"Nan_rate\": 0.9729050279329609}, {\"Nan_rate\": 0.9729050279329609}, {\"Nan_rate\": 0.9729050279329609}, {\"Nan_rate\": 0.9729050279329609}, {\"Nan_rate\": 0.9729050279329609}, {\"Nan_rate\": 0.9729050279329609}, {\"Nan_rate\": 0.9729050279329609}, {\"Nan_rate\": 0.9729050279329609}, {\"Nan_rate\": 0.9729050279329609}, {\"Nan_rate\": 0.9729050279329609}, {\"Nan_rate\": 0.9729050279329609}, {\"Nan_rate\": 0.9729050279329609}, {\"Nan_rate\": 0.9729050279329609}, {\"Nan_rate\": 0.9729050279329609}, {\"Nan_rate\": 0.9729050279329609}, {\"Nan_rate\": 0.9729050279329609}, {\"Nan_rate\": 0.9729050279329609}, {\"Nan_rate\": 0.9729050279329609}, {\"Nan_rate\": 0.9729050279329609}, {\"Nan_rate\": 0.9729050279329609}, {\"Nan_rate\": 0.9729050279329609}, {\"Nan_rate\": 0.9729050279329609}, {\"Nan_rate\": 0.9729050279329609}, {\"Nan_rate\": 0.9729050279329609}, {\"Nan_rate\": 0.9729050279329609}, {\"Nan_rate\": 0.9729050279329609}, {\"Nan_rate\": 0.9729050279329609}, {\"Nan_rate\": 0.9729050279329609}, {\"Nan_rate\": 0.9729050279329609}, {\"Nan_rate\": 0.9729050279329609}, {\"Nan_rate\": 0.9729050279329609}, {\"Nan_rate\": 0.9729050279329609}, {\"Nan_rate\": 0.9729050279329609}, {\"Nan_rate\": 0.0}, {\"Nan_rate\": 0.0}, {\"Nan_rate\": 0.0}, {\"Nan_rate\": 0.0}, {\"Nan_rate\": 0.0}, {\"Nan_rate\": 0.0}, {\"Nan_rate\": 0.0}, {\"Nan_rate\": 0.0}, {\"Nan_rate\": 0.0}, {\"Nan_rate\": 0.0}, {\"Nan_rate\": 0.0}, {\"Nan_rate\": 0.0}, {\"Nan_rate\": 0.0}, {\"Nan_rate\": 0.0}, {\"Nan_rate\": 0.0}, {\"Nan_rate\": 0.0}, {\"Nan_rate\": 0.0}, {\"Nan_rate\": 0.0}, {\"Nan_rate\": 0.0}, {\"Nan_rate\": 0.0}, {\"Nan_rate\": 0.0}, {\"Nan_rate\": 0.0}, {\"Nan_rate\": 0.0}, {\"Nan_rate\": 0.0}, {\"Nan_rate\": 0.0}, {\"Nan_rate\": 0.0}, {\"Nan_rate\": 0.0}, {\"Nan_rate\": 0.0}, {\"Nan_rate\": 0.0}, {\"Nan_rate\": 0.0}, {\"Nan_rate\": 0.0}, {\"Nan_rate\": 0.0}, {\"Nan_rate\": 0.0}, {\"Nan_rate\": 0.0}, {\"Nan_rate\": 0.0}, {\"Nan_rate\": 0.0}, {\"Nan_rate\": 0.0}, {\"Nan_rate\": 0.0}, {\"Nan_rate\": 0.0}, {\"Nan_rate\": 0.0}, {\"Nan_rate\": 0.0}, {\"Nan_rate\": 0.0}, {\"Nan_rate\": 0.0}, {\"Nan_rate\": 0.0}, {\"Nan_rate\": 0.0}, {\"Nan_rate\": 0.0}, {\"Nan_rate\": 0.0}, {\"Nan_rate\": 0.0}, {\"Nan_rate\": 0.0}, {\"Nan_rate\": 0.0}, {\"Nan_rate\": 0.0}, {\"Nan_rate\": 0.0}, {\"Nan_rate\": 0.0}, {\"Nan_rate\": 0.0}, {\"Nan_rate\": 0.0}, {\"Nan_rate\": 0.0}, {\"Nan_rate\": 0.0}, {\"Nan_rate\": 0.0}, {\"Nan_rate\": 0.0}, {\"Nan_rate\": 0.0}, {\"Nan_rate\": 0.0}, {\"Nan_rate\": 0.0}, {\"Nan_rate\": 0.0}, {\"Nan_rate\": 0.0}, {\"Nan_rate\": 0.0}, {\"Nan_rate\": 0.0}, {\"Nan_rate\": 0.0}, {\"Nan_rate\": 0.0}, {\"Nan_rate\": 0.0}, {\"Nan_rate\": 0.0}, {\"Nan_rate\": 0.0}, {\"Nan_rate\": 0.0}, {\"Nan_rate\": 0.0}, {\"Nan_rate\": 0.0}, {\"Nan_rate\": 0.0}, {\"Nan_rate\": 0.0}, {\"Nan_rate\": 0.0}, {\"Nan_rate\": 0.0}, {\"Nan_rate\": 0.0}, {\"Nan_rate\": 0.0}, {\"Nan_rate\": 0.0}, {\"Nan_rate\": 0.0}, {\"Nan_rate\": 0.0}, {\"Nan_rate\": 0.0}, {\"Nan_rate\": 0.0}, {\"Nan_rate\": 0.0}, {\"Nan_rate\": 0.0}, {\"Nan_rate\": 0.0}, {\"Nan_rate\": 0.0}, {\"Nan_rate\": 0.0}, {\"Nan_rate\": 0.0}, {\"Nan_rate\": 0.0}, {\"Nan_rate\": 0.0}, {\"Nan_rate\": 0.0}, {\"Nan_rate\": 0.0}, {\"Nan_rate\": 0.0}, {\"Nan_rate\": 0.0}, {\"Nan_rate\": 0.0}, {\"Nan_rate\": 0.0}, {\"Nan_rate\": 0.0}, {\"Nan_rate\": 0.0}, {\"Nan_rate\": 0.0}, {\"Nan_rate\": 0.0}, {\"Nan_rate\": 0.0}, {\"Nan_rate\": 0.0}, {\"Nan_rate\": 0.0}, {\"Nan_rate\": 0.0}, {\"Nan_rate\": 0.0}, {\"Nan_rate\": 0.0}, {\"Nan_rate\": 0.0}, {\"Nan_rate\": 0.0}, {\"Nan_rate\": 0.0}, {\"Nan_rate\": 0.0}, {\"Nan_rate\": 0.0}, {\"Nan_rate\": 0.0}, {\"Nan_rate\": 0.0}, {\"Nan_rate\": 0.0}, {\"Nan_rate\": 0.0}, {\"Nan_rate\": 0.0}, {\"Nan_rate\": 0.0}, {\"Nan_rate\": 0.0}, {\"Nan_rate\": 0.0}, {\"Nan_rate\": 0.0}, {\"Nan_rate\": 0.0}, {\"Nan_rate\": 0.0}, {\"Nan_rate\": 0.0}, {\"Nan_rate\": 0.0}, {\"Nan_rate\": 0.0}, {\"Nan_rate\": 0.0}, {\"Nan_rate\": 0.0}, {\"Nan_rate\": 0.0}, {\"Nan_rate\": 0.0}, {\"Nan_rate\": 0.0}, {\"Nan_rate\": 0.0}, {\"Nan_rate\": 0.0}, {\"Nan_rate\": 0.0}, {\"Nan_rate\": 0.0}, {\"Nan_rate\": 0.0}, {\"Nan_rate\": 0.0}, {\"Nan_rate\": 0.0}, {\"Nan_rate\": 0.0}, {\"Nan_rate\": 0.0}, {\"Nan_rate\": 0.0}, {\"Nan_rate\": 0.0}, {\"Nan_rate\": 0.0}, {\"Nan_rate\": 0.0}, {\"Nan_rate\": 0.0}, {\"Nan_rate\": 0.0}, {\"Nan_rate\": 0.0}, {\"Nan_rate\": 0.0}, {\"Nan_rate\": 0.0}, {\"Nan_rate\": 0.0}, {\"Nan_rate\": 0.0}, {\"Nan_rate\": 0.0}, {\"Nan_rate\": 0.0}, {\"Nan_rate\": 0.0}, {\"Nan_rate\": 0.0}, {\"Nan_rate\": 0.0}, {\"Nan_rate\": 0.0}, {\"Nan_rate\": 0.0}, {\"Nan_rate\": 0.0}, {\"Nan_rate\": 0.0}, {\"Nan_rate\": 0.0}, {\"Nan_rate\": 0.0}, {\"Nan_rate\": 0.0}, {\"Nan_rate\": 0.0}, {\"Nan_rate\": 0.0}, {\"Nan_rate\": 0.0}, {\"Nan_rate\": 0.0}, {\"Nan_rate\": 0.0}, {\"Nan_rate\": 0.0}, {\"Nan_rate\": 0.0}, {\"Nan_rate\": 0.0}, {\"Nan_rate\": 0.0}, {\"Nan_rate\": 0.0}, {\"Nan_rate\": 0.0}, {\"Nan_rate\": 0.0}, {\"Nan_rate\": 0.0}, {\"Nan_rate\": 0.0}, {\"Nan_rate\": 0.0}, {\"Nan_rate\": 0.0}, {\"Nan_rate\": 0.0}, {\"Nan_rate\": 0.0}, {\"Nan_rate\": 0.0}, {\"Nan_rate\": 0.0}, {\"Nan_rate\": 0.0}, {\"Nan_rate\": 0.0}, {\"Nan_rate\": 0.0}, {\"Nan_rate\": 0.0}, {\"Nan_rate\": 0.0}, {\"Nan_rate\": 0.0}, {\"Nan_rate\": 0.0}, {\"Nan_rate\": 0.0}, {\"Nan_rate\": 0.0}, {\"Nan_rate\": 0.0}, {\"Nan_rate\": 0.0}, {\"Nan_rate\": 0.0}, {\"Nan_rate\": 0.0}, {\"Nan_rate\": 0.0}, {\"Nan_rate\": 0.0}, {\"Nan_rate\": 0.0}, {\"Nan_rate\": 0.0}, {\"Nan_rate\": 0.0}, {\"Nan_rate\": 0.0}, {\"Nan_rate\": 0.0}, {\"Nan_rate\": 0.0}, {\"Nan_rate\": 0.0}, {\"Nan_rate\": 0.0}, {\"Nan_rate\": 0.0}, {\"Nan_rate\": 0.0}, {\"Nan_rate\": 0.0}, {\"Nan_rate\": 0.0}, {\"Nan_rate\": 0.0}, {\"Nan_rate\": 0.0}, {\"Nan_rate\": 0.0}, {\"Nan_rate\": 0.0}, {\"Nan_rate\": 0.0}, {\"Nan_rate\": 0.0}, {\"Nan_rate\": 0.0}, {\"Nan_rate\": 0.0}, {\"Nan_rate\": 0.0}, {\"Nan_rate\": 0.0}, {\"Nan_rate\": 0.0}, {\"Nan_rate\": 0.0}, {\"Nan_rate\": 0.0}, {\"Nan_rate\": 0.0}, {\"Nan_rate\": 0.0}, {\"Nan_rate\": 0.0}, {\"Nan_rate\": 0.0}, {\"Nan_rate\": 0.0}, {\"Nan_rate\": 0.0}, {\"Nan_rate\": 0.0}, {\"Nan_rate\": 0.0}, {\"Nan_rate\": 0.0}, {\"Nan_rate\": 0.0}, {\"Nan_rate\": 0.0}, {\"Nan_rate\": 0.0}, {\"Nan_rate\": 0.0}, {\"Nan_rate\": 0.0}, {\"Nan_rate\": 0.0}, {\"Nan_rate\": 0.0}, {\"Nan_rate\": 0.0}, {\"Nan_rate\": 0.0}, {\"Nan_rate\": 0.0}, {\"Nan_rate\": 0.0}, {\"Nan_rate\": 0.0}, {\"Nan_rate\": 0.0}, {\"Nan_rate\": 0.0}, {\"Nan_rate\": 0.0}, {\"Nan_rate\": 0.0}, {\"Nan_rate\": 0.0}, {\"Nan_rate\": 0.0}, {\"Nan_rate\": 0.0}, {\"Nan_rate\": 0.0}, {\"Nan_rate\": 0.0}, {\"Nan_rate\": 0.0}, {\"Nan_rate\": 0.0}, {\"Nan_rate\": 0.0}, {\"Nan_rate\": 0.0}, {\"Nan_rate\": 0.0}, {\"Nan_rate\": 0.0}, {\"Nan_rate\": 0.0}, {\"Nan_rate\": 0.0}, {\"Nan_rate\": 0.0}, {\"Nan_rate\": 0.0}, {\"Nan_rate\": 0.0}, {\"Nan_rate\": 0.0}, {\"Nan_rate\": 0.0}, {\"Nan_rate\": 0.0}, {\"Nan_rate\": 0.0}, {\"Nan_rate\": 0.0}, {\"Nan_rate\": 0.0}, {\"Nan_rate\": 0.0}, {\"Nan_rate\": 0.0}, {\"Nan_rate\": 0.0}, {\"Nan_rate\": 0.0}, {\"Nan_rate\": 0.0}, {\"Nan_rate\": 0.0}, {\"Nan_rate\": 0.0}, {\"Nan_rate\": 0.0}, {\"Nan_rate\": 0.0}, {\"Nan_rate\": 0.0}, {\"Nan_rate\": 0.0}, {\"Nan_rate\": 0.0}, {\"Nan_rate\": 0.0}, {\"Nan_rate\": 0.0}, {\"Nan_rate\": 0.0}, {\"Nan_rate\": 0.0}, {\"Nan_rate\": 0.0}, {\"Nan_rate\": 0.0}, {\"Nan_rate\": 0.0}, {\"Nan_rate\": 0.0}, {\"Nan_rate\": 0.0}, {\"Nan_rate\": 0.0}, {\"Nan_rate\": 0.0}, {\"Nan_rate\": 0.0}, {\"Nan_rate\": 0.0}, {\"Nan_rate\": 0.0}, {\"Nan_rate\": 0.0}, {\"Nan_rate\": 0.0}, {\"Nan_rate\": 0.0}, {\"Nan_rate\": 0.0}, {\"Nan_rate\": 0.0}, {\"Nan_rate\": 0.0}, {\"Nan_rate\": 0.0}, {\"Nan_rate\": 0.0}, {\"Nan_rate\": 0.0}, {\"Nan_rate\": 0.0}, {\"Nan_rate\": 0.0}, {\"Nan_rate\": 0.0}, {\"Nan_rate\": 0.0}, {\"Nan_rate\": 0.0}, {\"Nan_rate\": 0.0}, {\"Nan_rate\": 0.0}, {\"Nan_rate\": 0.0}, {\"Nan_rate\": 0.0}, {\"Nan_rate\": 0.0}, {\"Nan_rate\": 0.0}, {\"Nan_rate\": 0.0}, {\"Nan_rate\": 0.0}, {\"Nan_rate\": 0.0}, {\"Nan_rate\": 0.0}, {\"Nan_rate\": 0.0}, {\"Nan_rate\": 0.0}, {\"Nan_rate\": 0.0}, {\"Nan_rate\": 0.0}, {\"Nan_rate\": 0.0}, {\"Nan_rate\": 0.0}, {\"Nan_rate\": 0.0}, {\"Nan_rate\": 0.0}, {\"Nan_rate\": 0.0}, {\"Nan_rate\": 0.0}, {\"Nan_rate\": 0.0}, {\"Nan_rate\": 0.0}, {\"Nan_rate\": 0.0}, {\"Nan_rate\": 0.0}, {\"Nan_rate\": 0.0}, {\"Nan_rate\": 0.0}, {\"Nan_rate\": 0.0}, {\"Nan_rate\": 0.0}, {\"Nan_rate\": 0.0}, {\"Nan_rate\": 0.0}, {\"Nan_rate\": 0.0}, {\"Nan_rate\": 0.0}, {\"Nan_rate\": 0.0}, {\"Nan_rate\": 0.0}, {\"Nan_rate\": 0.0}, {\"Nan_rate\": 0.0}, {\"Nan_rate\": 0.0}, {\"Nan_rate\": 0.0}, {\"Nan_rate\": 0.0}, {\"Nan_rate\": 0.0}, {\"Nan_rate\": 0.0}, {\"Nan_rate\": 0.0}, {\"Nan_rate\": 0.0}, {\"Nan_rate\": 0.0}, {\"Nan_rate\": 0.0}, {\"Nan_rate\": 0.0}, {\"Nan_rate\": 0.0}, {\"Nan_rate\": 0.0}, {\"Nan_rate\": 0.0}, {\"Nan_rate\": 0.0}, {\"Nan_rate\": 0.0}, {\"Nan_rate\": 0.0}, {\"Nan_rate\": 0.0}, {\"Nan_rate\": 0.0}, {\"Nan_rate\": 0.0}, {\"Nan_rate\": 0.05626496408619314}, {\"Nan_rate\": 0.0}, {\"Nan_rate\": 0.0}, {\"Nan_rate\": 0.0}, {\"Nan_rate\": 0.0}, {\"Nan_rate\": 0.0}, {\"Nan_rate\": 0.34916201117318435}, {\"Nan_rate\": 0.34916201117318435}, {\"Nan_rate\": 0.0}, {\"Nan_rate\": 0.0}, {\"Nan_rate\": 0.0}, {\"Nan_rate\": 0.0}, {\"Nan_rate\": 0.0}, {\"Nan_rate\": 0.0}, {\"Nan_rate\": 0.0}, {\"Nan_rate\": 0.0}, {\"Nan_rate\": 0.0}, {\"Nan_rate\": 0.0}, {\"Nan_rate\": 0.0}, {\"Nan_rate\": 0.0}, {\"Nan_rate\": 0.0}, {\"Nan_rate\": 0.0}, {\"Nan_rate\": 0.0}, {\"Nan_rate\": 0.0}, {\"Nan_rate\": 0.0}, {\"Nan_rate\": 0.0}, {\"Nan_rate\": 0.0}, {\"Nan_rate\": 0.0}, {\"Nan_rate\": 0.0}, {\"Nan_rate\": 0.0}, {\"Nan_rate\": 0.0}, {\"Nan_rate\": 0.0}, {\"Nan_rate\": 0.0}, {\"Nan_rate\": 0.0}, {\"Nan_rate\": 0.0}, {\"Nan_rate\": 0.0}, {\"Nan_rate\": 0.0}, {\"Nan_rate\": 0.0}, {\"Nan_rate\": 0.0}, {\"Nan_rate\": 0.0}, {\"Nan_rate\": 0.0}, {\"Nan_rate\": 0.0}, {\"Nan_rate\": 0.0}, {\"Nan_rate\": 0.0}, {\"Nan_rate\": 0.0}, {\"Nan_rate\": 0.0}, {\"Nan_rate\": 0.0}, {\"Nan_rate\": 0.07861133280127694}, {\"Nan_rate\": 0.07861133280127694}, {\"Nan_rate\": 0.07861133280127694}, {\"Nan_rate\": 0.07861133280127694}, {\"Nan_rate\": 0.07861133280127694}, {\"Nan_rate\": 0.07861133280127694}, {\"Nan_rate\": 0.07861133280127694}, {\"Nan_rate\": 0.07861133280127694}, {\"Nan_rate\": 0.09297685554668794}, {\"Nan_rate\": 0.8228252194732641}, {\"Nan_rate\": 0.09616919393455706}, {\"Nan_rate\": 0.09417398244213887}, {\"Nan_rate\": 0.09417398244213887}, {\"Nan_rate\": 0.09417398244213887}, {\"Nan_rate\": 0.09417398244213887}, {\"Nan_rate\": 0.09417398244213887}, {\"Nan_rate\": 0.09417398244213887}, {\"Nan_rate\": 0.09417398244213887}, {\"Nan_rate\": 0.09417398244213887}, {\"Nan_rate\": 0.09417398244213887}, {\"Nan_rate\": 0.09417398244213887}, {\"Nan_rate\": 1.0}, {\"Nan_rate\": 1.0}, {\"Nan_rate\": 1.0}, {\"Nan_rate\": 1.0}, {\"Nan_rate\": 0.09417398244213887}, {\"Nan_rate\": 0.09417398244213887}, {\"Nan_rate\": 1.0}, {\"Nan_rate\": 1.0}, {\"Nan_rate\": 0.09417398244213887}, {\"Nan_rate\": 0.09417398244213887}, {\"Nan_rate\": 0.09417398244213887}, {\"Nan_rate\": 0.09417398244213887}, {\"Nan_rate\": 0.10694333599361533}, {\"Nan_rate\": 0.5295291300877893}, {\"Nan_rate\": 0.9393455706304868}, {\"Nan_rate\": 0.9932162809257782}, {\"Nan_rate\": 0.9992019154030327}, {\"Nan_rate\": 0.09417398244213887}, {\"Nan_rate\": 0.09417398244213887}, {\"Nan_rate\": 0.09417398244213887}, {\"Nan_rate\": 0.09417398244213887}, {\"Nan_rate\": 0.10694333599361533}, {\"Nan_rate\": 0.5295291300877893}, {\"Nan_rate\": 0.9393455706304868}, {\"Nan_rate\": 0.9932162809257782}, {\"Nan_rate\": 0.9992019154030327}, {\"Nan_rate\": 0.09417398244213887}, {\"Nan_rate\": 0.09417398244213887}, {\"Nan_rate\": 0.09417398244213887}, {\"Nan_rate\": 0.09417398244213887}, {\"Nan_rate\": 0.09417398244213887}, {\"Nan_rate\": 0.09417398244213887}, {\"Nan_rate\": 0.09417398244213887}, {\"Nan_rate\": 0.09417398244213887}, {\"Nan_rate\": 0.09417398244213887}, {\"Nan_rate\": 0.09417398244213887}, {\"Nan_rate\": 1.0}, {\"Nan_rate\": 1.0}, {\"Nan_rate\": 1.0}, {\"Nan_rate\": 1.0}, {\"Nan_rate\": 0.09417398244213887}, {\"Nan_rate\": 0.09417398244213887}, {\"Nan_rate\": 1.0}, {\"Nan_rate\": 1.0}, {\"Nan_rate\": 0.09417398244213887}, {\"Nan_rate\": 0.09417398244213887}, {\"Nan_rate\": 0.09417398244213887}, {\"Nan_rate\": 0.09417398244213887}, {\"Nan_rate\": 0.10694333599361533}, {\"Nan_rate\": 0.4852354349561053}, {\"Nan_rate\": 0.9078212290502793}, {\"Nan_rate\": 0.9876296887470072}, {\"Nan_rate\": 0.9956105347166799}, {\"Nan_rate\": 0.09417398244213887}, {\"Nan_rate\": 0.09417398244213887}, {\"Nan_rate\": 0.09417398244213887}, {\"Nan_rate\": 0.09417398244213887}, {\"Nan_rate\": 0.10694333599361533}, {\"Nan_rate\": 0.4852354349561053}, {\"Nan_rate\": 0.9078212290502793}, {\"Nan_rate\": 0.9876296887470072}, {\"Nan_rate\": 0.9956105347166799}, {\"Nan_rate\": 0.09577015163607343}, {\"Nan_rate\": 0.09577015163607343}, {\"Nan_rate\": 0.09577015163607343}, {\"Nan_rate\": 0.09577015163607343}, {\"Nan_rate\": 0.09577015163607343}, {\"Nan_rate\": 0.09577015163607343}, {\"Nan_rate\": 0.09577015163607343}, {\"Nan_rate\": 0.09577015163607343}, {\"Nan_rate\": 0.09577015163607343}, {\"Nan_rate\": 0.09577015163607343}, {\"Nan_rate\": 1.0}, {\"Nan_rate\": 1.0}, {\"Nan_rate\": 1.0}, {\"Nan_rate\": 1.0}, {\"Nan_rate\": 0.09577015163607343}, {\"Nan_rate\": 0.09577015163607343}, {\"Nan_rate\": 1.0}, {\"Nan_rate\": 1.0}, {\"Nan_rate\": 0.09577015163607343}, {\"Nan_rate\": 0.09577015163607343}, {\"Nan_rate\": 0.09616919393455706}, {\"Nan_rate\": 0.09616919393455706}, {\"Nan_rate\": 0.11612130885873903}, {\"Nan_rate\": 0.6252992817238627}, {\"Nan_rate\": 0.9592976855546688}, {\"Nan_rate\": 0.9980047885075818}, {\"Nan_rate\": 0.09577015163607343}, {\"Nan_rate\": 0.09577015163607343}, {\"Nan_rate\": 0.09616919393455706}, {\"Nan_rate\": 0.09616919393455706}, {\"Nan_rate\": 0.11612130885873903}, {\"Nan_rate\": 0.6252992817238627}, {\"Nan_rate\": 0.9592976855546688}, {\"Nan_rate\": 0.9980047885075818}, {\"Nan_rate\": 0.0003990422984836393}, {\"Nan_rate\": 0.0003990422984836393}, {\"Nan_rate\": 0.0003990422984836393}, {\"Nan_rate\": 0.0003990422984836393}, {\"Nan_rate\": 0.0003990422984836393}, {\"Nan_rate\": 0.0003990422984836393}, {\"Nan_rate\": 0.0003990422984836393}, {\"Nan_rate\": 0.0003990422984836393}, {\"Nan_rate\": 0.0003990422984836393}, {\"Nan_rate\": 0.0003990422984836393}, {\"Nan_rate\": 0.0}, {\"Nan_rate\": 0.35514764565043894}, {\"Nan_rate\": 0.35514764565043894}, {\"Nan_rate\": 0.35514764565043894}, {\"Nan_rate\": 0.35514764565043894}, {\"Nan_rate\": 0.35514764565043894}, {\"Nan_rate\": 0.35514764565043894}, {\"Nan_rate\": 0.35514764565043894}, {\"Nan_rate\": 0.35514764565043894}, {\"Nan_rate\": 0.35514764565043894}, {\"Nan_rate\": 0.35514764565043894}, {\"Nan_rate\": 0.35514764565043894}, {\"Nan_rate\": 0.35514764565043894}, {\"Nan_rate\": 0.35514764565043894}, {\"Nan_rate\": 0.9704708699122107}, {\"Nan_rate\": 0.984437350359138}, {\"Nan_rate\": 0.9928172386272945}, {\"Nan_rate\": 0.994413407821229}, {\"Nan_rate\": 0.9952114924181963}, {\"Nan_rate\": 0.990023942537909}, {\"Nan_rate\": 0.961292897047087}, {\"Nan_rate\": 0.8834796488427773}, {\"Nan_rate\": 0.7873104549082203}, {\"Nan_rate\": 0.6895450917797287}, {\"Nan_rate\": 0.6145251396648045}, {\"Nan_rate\": 0.6033519553072626}, {\"Nan_rate\": 0.6153232242617718}, {\"Nan_rate\": 0.6025538707102953}, {\"Nan_rate\": 0.5869912210694334}, {\"Nan_rate\": 0.5702314445331205}, {\"Nan_rate\": 0.5682362330407024}, {\"Nan_rate\": 0.5770151636073424}, {\"Nan_rate\": 0.5702314445331205}, {\"Nan_rate\": 0.611731843575419}, {\"Nan_rate\": 0.7039106145251397}, {\"Nan_rate\": 0.8411811652035116}, {\"Nan_rate\": 0.9010375099760575}, {\"Nan_rate\": 0.951316839584996}, {\"Nan_rate\": 0.5522745411013568}, {\"Nan_rate\": 0.5426975259377494}, {\"Nan_rate\": 0.5506783719074222}, {\"Nan_rate\": 0.5426975259377494}, {\"Nan_rate\": 0.5430965682362331}, {\"Nan_rate\": 0.5211492418196328}, {\"Nan_rate\": 0.5199521149241819}, {\"Nan_rate\": 0.990023942537909}, {\"Nan_rate\": 0.6492418196328811}, {\"Nan_rate\": 0.43415802075019955}, {\"Nan_rate\": 0.7426177174780527}, {\"Nan_rate\": 0.9964086193136472}, {\"Nan_rate\": 0.62609736632083}, {\"Nan_rate\": 0.8036711891460495}, {\"Nan_rate\": 0.7043096568236233}, {\"Nan_rate\": 0.6739824421388667}, {\"Nan_rate\": 0.4034317637669593}, {\"Nan_rate\": 0.9952114924181963}, {\"Nan_rate\": 0.9936153232242618}, {\"Nan_rate\": 0.9956105347166799}, {\"Nan_rate\": 0.9980047885075818}, {\"Nan_rate\": 0.9968076616121309}, {\"Nan_rate\": 0.9940143655227454}, {\"Nan_rate\": 0.9952114924181963}, {\"Nan_rate\": 0.9976057462090981}, {\"Nan_rate\": 0.9972067039106145}, {\"Nan_rate\": 0.9948124501197126}, {\"Nan_rate\": 0.9976057462090981}, {\"Nan_rate\": 0.9936153232242618}, {\"Nan_rate\": 0.9964086193136472}, {\"Nan_rate\": 0.984437350359138}, {\"Nan_rate\": 0.9908220271348763}, {\"Nan_rate\": 0.9948124501197126}, {\"Nan_rate\": 0.9940143655227454}, {\"Nan_rate\": 0.9988028731045491}, {\"Nan_rate\": 0.4616919393455706}, {\"Nan_rate\": 0.7266560255387071}, {\"Nan_rate\": 0.9988028731045491}, {\"Nan_rate\": 0.9960095770151636}, {\"Nan_rate\": 0.994413407821229}, {\"Nan_rate\": 0.7186751795690344}, {\"Nan_rate\": 0.6376695929768555}, {\"Nan_rate\": 0.7881085395051876}, {\"Nan_rate\": 0.40582601755786113}, {\"Nan_rate\": 0.5830007980845969}, {\"Nan_rate\": 0.9988028731045491}, {\"Nan_rate\": 0.9964086193136472}, {\"Nan_rate\": 0.4461292897047087}, {\"Nan_rate\": 0.7893056664006385}, {\"Nan_rate\": 0.9992019154030327}, {\"Nan_rate\": 0.7314445331205107}, {\"Nan_rate\": 0.4644852354349561}, {\"Nan_rate\": 0.9976057462090981}, {\"Nan_rate\": 0.6492418196328811}, {\"Nan_rate\": 0.6536312849162011}, {\"Nan_rate\": 0.6021548284118117}, {\"Nan_rate\": 0.6041500399042299}, {\"Nan_rate\": 0.6508379888268156}, {\"Nan_rate\": 0.6436552274541102}, {\"Nan_rate\": 0.6049481245011972}, {\"Nan_rate\": 0.6512370311252993}, {\"Nan_rate\": 0.6572226656025538}, {\"Nan_rate\": 0.6420590582601756}, {\"Nan_rate\": 0.8312051077414206}, {\"Nan_rate\": 0.7110933758978452}, {\"Nan_rate\": 0.6065442936951316}, {\"Nan_rate\": 0.5403032721468476}, {\"Nan_rate\": 0.5115722266560255}, {\"Nan_rate\": 0.5706304868316041}, {\"Nan_rate\": 0.819632881085395}, {\"Nan_rate\": 0.8363926576217079}, {\"Nan_rate\": 0.578611332801277}, {\"Nan_rate\": 0.5111731843575419}, {\"Nan_rate\": 0.5287310454908221}, {\"Nan_rate\": 0.5566640063846767}, {\"Nan_rate\": 0.6743814844373504}, {\"Nan_rate\": 0.6249002394253791}, {\"Nan_rate\": 0.6955307262569832}, {\"Nan_rate\": 0.7118914604948124}, {\"Nan_rate\": 0.35514764565043894}, {\"Nan_rate\": 0.35514764565043894}, {\"Nan_rate\": 0.35514764565043894}, {\"Nan_rate\": 0.35514764565043894}, {\"Nan_rate\": 0.0007980845969672786}, {\"Nan_rate\": 0.0007980845969672786}, {\"Nan_rate\": 0.0007980845969672786}, {\"Nan_rate\": 0.0007980845969672786}, {\"Nan_rate\": 0.0007980845969672786}, {\"Nan_rate\": 0.0007980845969672786}, {\"Nan_rate\": 0.0913806863527534}, {\"Nan_rate\": 0.0007980845969672786}, {\"Nan_rate\": 0.008778930566640064}, {\"Nan_rate\": 0.014365522745411013}, {\"Nan_rate\": 0.01157222665602554}, {\"Nan_rate\": 0.0}, {\"Nan_rate\": 0.0}, {\"Nan_rate\": 0.40263367916999204}, {\"Nan_rate\": 1.995211492418196e-05}, {\"Nan_rate\": 1.995211492418196e-05}, {\"Nan_rate\": 1.995211492418196e-05}, {\"Nan_rate\": 1.995211492418196e-05}, {\"Nan_rate\": 1.995211492418196e-05}, {\"Nan_rate\": 1.995211492418196e-05}, {\"Nan_rate\": 1.995211492418196e-05}, {\"Nan_rate\": 1.995211492418196e-05}, {\"Nan_rate\": 1.995211492418196e-05}, {\"Nan_rate\": 1.995211492418196e-05}, {\"Nan_rate\": 1.995211492418196e-05}, {\"Nan_rate\": 1.995211492418196e-05}, {\"Nan_rate\": 1.995211492418196e-05}, {\"Nan_rate\": 1.995211492418196e-05}, {\"Nan_rate\": 1.995211492418196e-05}, {\"Nan_rate\": 1.995211492418196e-05}, {\"Nan_rate\": 1.995211492418196e-05}, {\"Nan_rate\": 1.995211492418196e-05}, {\"Nan_rate\": 1.995211492418196e-05}, {\"Nan_rate\": 1.995211492418196e-05}, {\"Nan_rate\": 1.995211492418196e-05}, {\"Nan_rate\": 1.995211492418196e-05}, {\"Nan_rate\": 1.995211492418196e-05}, {\"Nan_rate\": 1.995211492418196e-05}, {\"Nan_rate\": 1.995211492418196e-05}, {\"Nan_rate\": 1.995211492418196e-05}, {\"Nan_rate\": 1.995211492418196e-05}, {\"Nan_rate\": 1.995211492418196e-05}, {\"Nan_rate\": 1.995211492418196e-05}, {\"Nan_rate\": 1.995211492418196e-05}, {\"Nan_rate\": 1.995211492418196e-05}, {\"Nan_rate\": 1.995211492418196e-05}, {\"Nan_rate\": 1.995211492418196e-05}, {\"Nan_rate\": 1.995211492418196e-05}, {\"Nan_rate\": 1.995211492418196e-05}, {\"Nan_rate\": 1.995211492418196e-05}, {\"Nan_rate\": 1.995211492418196e-05}, {\"Nan_rate\": 1.995211492418196e-05}, {\"Nan_rate\": 1.995211492418196e-05}, {\"Nan_rate\": 1.995211492418196e-05}, {\"Nan_rate\": 1.995211492418196e-05}, {\"Nan_rate\": 1.995211492418196e-05}, {\"Nan_rate\": 1.995211492418196e-05}, {\"Nan_rate\": 1.995211492418196e-05}, {\"Nan_rate\": 1.995211492418196e-05}, {\"Nan_rate\": 1.995211492418196e-05}, {\"Nan_rate\": 1.995211492418196e-05}, {\"Nan_rate\": 1.995211492418196e-05}, {\"Nan_rate\": 0.07863128491620111}, {\"Nan_rate\": 0.012310454908220272}, {\"Nan_rate\": 0.0}, {\"Nan_rate\": 0.0}, {\"Nan_rate\": 0.0}, {\"Nan_rate\": 0.0}]}}, {\"mode\": \"vega-lite\"});\n",
       "</script>"
      ],
      "text/plain": [
       "alt.Chart(...)"
      ]
     },
     "execution_count": 16,
     "metadata": {},
     "output_type": "execute_result"
    }
   ],
   "source": [
    "# Plot histogram binned by 10%\n",
    "alt.Chart(nan_rate).mark_bar().encode(\n",
    "    alt.X(\"Nan_rate:Q\", bin=alt.Bin(maxbins=10),title=\"% NaN in column\"),\n",
    "    y=alt.Y('count()', title=\"Count\")).properties(\n",
    "    title='Number of columns by percentage of missing values'\n",
    ")"
   ]
  },
  {
   "cell_type": "code",
   "execution_count": 17,
   "metadata": {},
   "outputs": [
    {
     "data": {
      "text/html": [
       "\n",
       "<div id=\"altair-viz-be7e2fc59ab04dde81e8130cc7634dd3\"></div>\n",
       "<script type=\"text/javascript\">\n",
       "  (function(spec, embedOpt){\n",
       "    let outputDiv = document.currentScript.previousElementSibling;\n",
       "    if (outputDiv.id !== \"altair-viz-be7e2fc59ab04dde81e8130cc7634dd3\") {\n",
       "      outputDiv = document.getElementById(\"altair-viz-be7e2fc59ab04dde81e8130cc7634dd3\");\n",
       "    }\n",
       "    const paths = {\n",
       "      \"vega\": \"https://cdn.jsdelivr.net/npm//vega@5?noext\",\n",
       "      \"vega-lib\": \"https://cdn.jsdelivr.net/npm//vega-lib?noext\",\n",
       "      \"vega-lite\": \"https://cdn.jsdelivr.net/npm//vega-lite@4.8.1?noext\",\n",
       "      \"vega-embed\": \"https://cdn.jsdelivr.net/npm//vega-embed@6?noext\",\n",
       "    };\n",
       "\n",
       "    function loadScript(lib) {\n",
       "      return new Promise(function(resolve, reject) {\n",
       "        var s = document.createElement('script');\n",
       "        s.src = paths[lib];\n",
       "        s.async = true;\n",
       "        s.onload = () => resolve(paths[lib]);\n",
       "        s.onerror = () => reject(`Error loading script: ${paths[lib]}`);\n",
       "        document.getElementsByTagName(\"head\")[0].appendChild(s);\n",
       "      });\n",
       "    }\n",
       "\n",
       "    function showError(err) {\n",
       "      outputDiv.innerHTML = `<div class=\"error\" style=\"color:red;\">${err}</div>`;\n",
       "      throw err;\n",
       "    }\n",
       "\n",
       "    function displayChart(vegaEmbed) {\n",
       "      vegaEmbed(outputDiv, spec, embedOpt)\n",
       "        .catch(err => showError(`Javascript Error: ${err.message}<br>This usually means there's a typo in your chart specification. See the javascript console for the full traceback.`));\n",
       "    }\n",
       "\n",
       "    if(typeof define === \"function\" && define.amd) {\n",
       "      requirejs.config({paths});\n",
       "      require([\"vega-embed\"], displayChart, err => showError(`Error loading script: ${err.message}`));\n",
       "    } else if (typeof vegaEmbed === \"function\") {\n",
       "      displayChart(vegaEmbed);\n",
       "    } else {\n",
       "      loadScript(\"vega\")\n",
       "        .then(() => loadScript(\"vega-lite\"))\n",
       "        .then(() => loadScript(\"vega-embed\"))\n",
       "        .catch(showError)\n",
       "        .then(() => displayChart(vegaEmbed));\n",
       "    }\n",
       "  })({\"config\": {\"view\": {\"continuousWidth\": 400, \"continuousHeight\": 300}}, \"data\": {\"name\": \"data-2abd6c9549fe23ea465384426ec4fa84\"}, \"mark\": \"bar\", \"encoding\": {\"x\": {\"type\": \"quantitative\", \"bin\": {\"maxbins\": 5}, \"field\": \"Nan_rate\", \"title\": \"% NaN in column\"}, \"y\": {\"type\": \"quantitative\", \"aggregate\": \"count\", \"title\": \"Count\"}}, \"title\": \"Number of columns by percentage of missing values\", \"$schema\": \"https://vega.github.io/schema/vega-lite/v4.8.1.json\", \"datasets\": {\"data-2abd6c9549fe23ea465384426ec4fa84\": [{\"Nan_rate\": 0.0}, {\"Nan_rate\": 0.0}, {\"Nan_rate\": 0.0}, {\"Nan_rate\": 0.0}, {\"Nan_rate\": 0.0}, {\"Nan_rate\": 0.0}, {\"Nan_rate\": 0.0}, {\"Nan_rate\": 0.0}, {\"Nan_rate\": 0.0}, {\"Nan_rate\": 0.0}, {\"Nan_rate\": 0.0}, {\"Nan_rate\": 0.0}, {\"Nan_rate\": 0.0}, {\"Nan_rate\": 0.0}, {\"Nan_rate\": 0.0}, {\"Nan_rate\": 0.0}, {\"Nan_rate\": 0.0}, {\"Nan_rate\": 0.0}, {\"Nan_rate\": 0.0}, {\"Nan_rate\": 0.0}, {\"Nan_rate\": 0.0}, {\"Nan_rate\": 0.0}, {\"Nan_rate\": 0.0}, {\"Nan_rate\": 0.0}, {\"Nan_rate\": 0.0}, {\"Nan_rate\": 0.0}, {\"Nan_rate\": 0.0}, {\"Nan_rate\": 0.0}, {\"Nan_rate\": 0.0}, {\"Nan_rate\": 0.0}, {\"Nan_rate\": 0.0}, {\"Nan_rate\": 0.0}, {\"Nan_rate\": 0.0}, {\"Nan_rate\": 0.0}, {\"Nan_rate\": 0.0}, {\"Nan_rate\": 0.0}, {\"Nan_rate\": 0.0}, {\"Nan_rate\": 0.0}, {\"Nan_rate\": 0.0}, {\"Nan_rate\": 0.0}, {\"Nan_rate\": 0.0}, {\"Nan_rate\": 0.0}, {\"Nan_rate\": 0.0}, {\"Nan_rate\": 0.0}, {\"Nan_rate\": 0.0}, {\"Nan_rate\": 0.0}, {\"Nan_rate\": 0.0}, {\"Nan_rate\": 0.0}, {\"Nan_rate\": 0.0}, {\"Nan_rate\": 0.0}, {\"Nan_rate\": 0.0}, {\"Nan_rate\": 0.0}, {\"Nan_rate\": 0.0}, {\"Nan_rate\": 0.0}, {\"Nan_rate\": 0.0}, {\"Nan_rate\": 0.0}, {\"Nan_rate\": 0.0}, {\"Nan_rate\": 0.0}, {\"Nan_rate\": 0.0}, {\"Nan_rate\": 0.0}, {\"Nan_rate\": 0.0}, {\"Nan_rate\": 0.0}, {\"Nan_rate\": 0.0}, {\"Nan_rate\": 0.0}, {\"Nan_rate\": 0.0}, {\"Nan_rate\": 0.0}, {\"Nan_rate\": 0.0}, {\"Nan_rate\": 0.0}, {\"Nan_rate\": 0.0}, {\"Nan_rate\": 0.0}, {\"Nan_rate\": 0.0}, {\"Nan_rate\": 0.0}, {\"Nan_rate\": 0.0}, {\"Nan_rate\": 0.0}, {\"Nan_rate\": 0.0}, {\"Nan_rate\": 0.0}, {\"Nan_rate\": 0.0}, {\"Nan_rate\": 0.0}, {\"Nan_rate\": 0.0}, {\"Nan_rate\": 0.0}, {\"Nan_rate\": 0.0}, {\"Nan_rate\": 0.0}, {\"Nan_rate\": 0.0}, {\"Nan_rate\": 0.0}, {\"Nan_rate\": 0.0}, {\"Nan_rate\": 0.0}, {\"Nan_rate\": 0.0}, {\"Nan_rate\": 0.0}, {\"Nan_rate\": 0.0}, {\"Nan_rate\": 0.0}, {\"Nan_rate\": 0.0}, {\"Nan_rate\": 0.0}, {\"Nan_rate\": 0.0}, {\"Nan_rate\": 0.0}, {\"Nan_rate\": 0.0}, {\"Nan_rate\": 0.904269752593775}, {\"Nan_rate\": 0.904269752593775}, {\"Nan_rate\": 0.0}, {\"Nan_rate\": 0.9729050279329609}, {\"Nan_rate\": 0.9729050279329609}, {\"Nan_rate\": 0.9729050279329609}, {\"Nan_rate\": 0.9729050279329609}, {\"Nan_rate\": 0.9729050279329609}, {\"Nan_rate\": 0.9729050279329609}, {\"Nan_rate\": 0.9729050279329609}, {\"Nan_rate\": 0.9729050279329609}, {\"Nan_rate\": 0.9729050279329609}, {\"Nan_rate\": 0.9729050279329609}, {\"Nan_rate\": 0.9729050279329609}, {\"Nan_rate\": 0.9729050279329609}, {\"Nan_rate\": 0.9729050279329609}, {\"Nan_rate\": 0.9729050279329609}, {\"Nan_rate\": 0.9729050279329609}, {\"Nan_rate\": 0.9729050279329609}, {\"Nan_rate\": 0.9729050279329609}, {\"Nan_rate\": 0.9729050279329609}, {\"Nan_rate\": 0.9729050279329609}, {\"Nan_rate\": 0.9729050279329609}, {\"Nan_rate\": 0.9729050279329609}, {\"Nan_rate\": 0.9729050279329609}, {\"Nan_rate\": 0.9729050279329609}, {\"Nan_rate\": 0.9729050279329609}, {\"Nan_rate\": 0.9729050279329609}, {\"Nan_rate\": 0.9729050279329609}, {\"Nan_rate\": 0.9729050279329609}, {\"Nan_rate\": 0.9729050279329609}, {\"Nan_rate\": 0.9729050279329609}, {\"Nan_rate\": 0.9729050279329609}, {\"Nan_rate\": 0.9729050279329609}, {\"Nan_rate\": 0.9729050279329609}, {\"Nan_rate\": 0.9729050279329609}, {\"Nan_rate\": 0.0}, {\"Nan_rate\": 0.0}, {\"Nan_rate\": 0.0}, {\"Nan_rate\": 0.0}, {\"Nan_rate\": 0.0}, {\"Nan_rate\": 0.0}, {\"Nan_rate\": 0.0}, {\"Nan_rate\": 0.0}, {\"Nan_rate\": 0.0}, {\"Nan_rate\": 0.0}, {\"Nan_rate\": 0.0}, {\"Nan_rate\": 0.0}, {\"Nan_rate\": 0.0}, {\"Nan_rate\": 0.0}, {\"Nan_rate\": 0.0}, {\"Nan_rate\": 0.0}, {\"Nan_rate\": 0.0}, {\"Nan_rate\": 0.0}, {\"Nan_rate\": 0.0}, {\"Nan_rate\": 0.0}, {\"Nan_rate\": 0.0}, {\"Nan_rate\": 0.0}, {\"Nan_rate\": 0.0}, {\"Nan_rate\": 0.0}, {\"Nan_rate\": 0.0}, {\"Nan_rate\": 0.0}, {\"Nan_rate\": 0.0}, {\"Nan_rate\": 0.0}, {\"Nan_rate\": 0.0}, {\"Nan_rate\": 0.0}, {\"Nan_rate\": 0.0}, {\"Nan_rate\": 0.0}, {\"Nan_rate\": 0.0}, {\"Nan_rate\": 0.0}, {\"Nan_rate\": 0.0}, {\"Nan_rate\": 0.0}, {\"Nan_rate\": 0.0}, {\"Nan_rate\": 0.0}, {\"Nan_rate\": 0.0}, {\"Nan_rate\": 0.0}, {\"Nan_rate\": 0.0}, {\"Nan_rate\": 0.0}, {\"Nan_rate\": 0.0}, {\"Nan_rate\": 0.0}, {\"Nan_rate\": 0.0}, {\"Nan_rate\": 0.0}, {\"Nan_rate\": 0.0}, {\"Nan_rate\": 0.0}, {\"Nan_rate\": 0.0}, {\"Nan_rate\": 0.0}, {\"Nan_rate\": 0.0}, {\"Nan_rate\": 0.0}, {\"Nan_rate\": 0.0}, {\"Nan_rate\": 0.0}, {\"Nan_rate\": 0.0}, {\"Nan_rate\": 0.0}, {\"Nan_rate\": 0.0}, {\"Nan_rate\": 0.0}, {\"Nan_rate\": 0.0}, {\"Nan_rate\": 0.0}, {\"Nan_rate\": 0.0}, {\"Nan_rate\": 0.0}, {\"Nan_rate\": 0.0}, {\"Nan_rate\": 0.0}, {\"Nan_rate\": 0.0}, {\"Nan_rate\": 0.0}, {\"Nan_rate\": 0.0}, {\"Nan_rate\": 0.0}, {\"Nan_rate\": 0.0}, {\"Nan_rate\": 0.0}, {\"Nan_rate\": 0.0}, {\"Nan_rate\": 0.0}, {\"Nan_rate\": 0.0}, {\"Nan_rate\": 0.0}, {\"Nan_rate\": 0.0}, {\"Nan_rate\": 0.0}, {\"Nan_rate\": 0.0}, {\"Nan_rate\": 0.0}, {\"Nan_rate\": 0.0}, {\"Nan_rate\": 0.0}, {\"Nan_rate\": 0.0}, {\"Nan_rate\": 0.0}, {\"Nan_rate\": 0.0}, {\"Nan_rate\": 0.0}, {\"Nan_rate\": 0.0}, {\"Nan_rate\": 0.0}, {\"Nan_rate\": 0.0}, {\"Nan_rate\": 0.0}, {\"Nan_rate\": 0.0}, {\"Nan_rate\": 0.0}, {\"Nan_rate\": 0.0}, {\"Nan_rate\": 0.0}, {\"Nan_rate\": 0.0}, {\"Nan_rate\": 0.0}, {\"Nan_rate\": 0.0}, {\"Nan_rate\": 0.0}, {\"Nan_rate\": 0.0}, {\"Nan_rate\": 0.0}, {\"Nan_rate\": 0.0}, {\"Nan_rate\": 0.0}, {\"Nan_rate\": 0.0}, {\"Nan_rate\": 0.0}, {\"Nan_rate\": 0.0}, {\"Nan_rate\": 0.0}, {\"Nan_rate\": 0.0}, {\"Nan_rate\": 0.0}, {\"Nan_rate\": 0.0}, {\"Nan_rate\": 0.0}, {\"Nan_rate\": 0.0}, {\"Nan_rate\": 0.0}, {\"Nan_rate\": 0.0}, {\"Nan_rate\": 0.0}, {\"Nan_rate\": 0.0}, {\"Nan_rate\": 0.0}, {\"Nan_rate\": 0.0}, {\"Nan_rate\": 0.0}, {\"Nan_rate\": 0.0}, {\"Nan_rate\": 0.0}, {\"Nan_rate\": 0.0}, {\"Nan_rate\": 0.0}, {\"Nan_rate\": 0.0}, {\"Nan_rate\": 0.0}, {\"Nan_rate\": 0.0}, {\"Nan_rate\": 0.0}, {\"Nan_rate\": 0.0}, {\"Nan_rate\": 0.0}, {\"Nan_rate\": 0.0}, {\"Nan_rate\": 0.0}, {\"Nan_rate\": 0.0}, {\"Nan_rate\": 0.0}, {\"Nan_rate\": 0.0}, {\"Nan_rate\": 0.0}, {\"Nan_rate\": 0.0}, {\"Nan_rate\": 0.0}, {\"Nan_rate\": 0.0}, {\"Nan_rate\": 0.0}, {\"Nan_rate\": 0.0}, {\"Nan_rate\": 0.0}, {\"Nan_rate\": 0.0}, {\"Nan_rate\": 0.0}, {\"Nan_rate\": 0.0}, {\"Nan_rate\": 0.0}, {\"Nan_rate\": 0.0}, {\"Nan_rate\": 0.0}, {\"Nan_rate\": 0.0}, {\"Nan_rate\": 0.0}, {\"Nan_rate\": 0.0}, {\"Nan_rate\": 0.0}, {\"Nan_rate\": 0.0}, {\"Nan_rate\": 0.0}, {\"Nan_rate\": 0.0}, {\"Nan_rate\": 0.0}, {\"Nan_rate\": 0.0}, {\"Nan_rate\": 0.0}, {\"Nan_rate\": 0.0}, {\"Nan_rate\": 0.0}, {\"Nan_rate\": 0.0}, {\"Nan_rate\": 0.0}, {\"Nan_rate\": 0.0}, {\"Nan_rate\": 0.0}, {\"Nan_rate\": 0.0}, {\"Nan_rate\": 0.0}, {\"Nan_rate\": 0.0}, {\"Nan_rate\": 0.0}, {\"Nan_rate\": 0.0}, {\"Nan_rate\": 0.0}, {\"Nan_rate\": 0.0}, {\"Nan_rate\": 0.0}, {\"Nan_rate\": 0.0}, {\"Nan_rate\": 0.0}, {\"Nan_rate\": 0.0}, {\"Nan_rate\": 0.0}, {\"Nan_rate\": 0.0}, {\"Nan_rate\": 0.0}, {\"Nan_rate\": 0.0}, {\"Nan_rate\": 0.0}, {\"Nan_rate\": 0.0}, {\"Nan_rate\": 0.0}, {\"Nan_rate\": 0.0}, {\"Nan_rate\": 0.0}, {\"Nan_rate\": 0.0}, {\"Nan_rate\": 0.0}, {\"Nan_rate\": 0.0}, {\"Nan_rate\": 0.0}, {\"Nan_rate\": 0.0}, {\"Nan_rate\": 0.0}, {\"Nan_rate\": 0.0}, {\"Nan_rate\": 0.0}, {\"Nan_rate\": 0.0}, {\"Nan_rate\": 0.0}, {\"Nan_rate\": 0.0}, {\"Nan_rate\": 0.0}, {\"Nan_rate\": 0.0}, {\"Nan_rate\": 0.0}, {\"Nan_rate\": 0.0}, {\"Nan_rate\": 0.0}, {\"Nan_rate\": 0.0}, {\"Nan_rate\": 0.0}, {\"Nan_rate\": 0.0}, {\"Nan_rate\": 0.0}, {\"Nan_rate\": 0.0}, {\"Nan_rate\": 0.0}, {\"Nan_rate\": 0.0}, {\"Nan_rate\": 0.0}, {\"Nan_rate\": 0.0}, {\"Nan_rate\": 0.0}, {\"Nan_rate\": 0.0}, {\"Nan_rate\": 0.0}, {\"Nan_rate\": 0.0}, {\"Nan_rate\": 0.0}, {\"Nan_rate\": 0.0}, {\"Nan_rate\": 0.0}, {\"Nan_rate\": 0.0}, {\"Nan_rate\": 0.0}, {\"Nan_rate\": 0.0}, {\"Nan_rate\": 0.0}, {\"Nan_rate\": 0.0}, {\"Nan_rate\": 0.0}, {\"Nan_rate\": 0.0}, {\"Nan_rate\": 0.0}, {\"Nan_rate\": 0.0}, {\"Nan_rate\": 0.0}, {\"Nan_rate\": 0.0}, {\"Nan_rate\": 0.0}, {\"Nan_rate\": 0.0}, {\"Nan_rate\": 0.0}, {\"Nan_rate\": 0.0}, {\"Nan_rate\": 0.0}, {\"Nan_rate\": 0.0}, {\"Nan_rate\": 0.0}, {\"Nan_rate\": 0.0}, {\"Nan_rate\": 0.0}, {\"Nan_rate\": 0.0}, {\"Nan_rate\": 0.0}, {\"Nan_rate\": 0.0}, {\"Nan_rate\": 0.0}, {\"Nan_rate\": 0.0}, {\"Nan_rate\": 0.0}, {\"Nan_rate\": 0.0}, {\"Nan_rate\": 0.0}, {\"Nan_rate\": 0.0}, {\"Nan_rate\": 0.0}, {\"Nan_rate\": 0.0}, {\"Nan_rate\": 0.0}, {\"Nan_rate\": 0.0}, {\"Nan_rate\": 0.0}, {\"Nan_rate\": 0.0}, {\"Nan_rate\": 0.0}, {\"Nan_rate\": 0.0}, {\"Nan_rate\": 0.0}, {\"Nan_rate\": 0.0}, {\"Nan_rate\": 0.0}, {\"Nan_rate\": 0.0}, {\"Nan_rate\": 0.0}, {\"Nan_rate\": 0.0}, {\"Nan_rate\": 0.0}, {\"Nan_rate\": 0.0}, {\"Nan_rate\": 0.0}, {\"Nan_rate\": 0.0}, {\"Nan_rate\": 0.0}, {\"Nan_rate\": 0.0}, {\"Nan_rate\": 0.0}, {\"Nan_rate\": 0.0}, {\"Nan_rate\": 0.0}, {\"Nan_rate\": 0.0}, {\"Nan_rate\": 0.0}, {\"Nan_rate\": 0.0}, {\"Nan_rate\": 0.0}, {\"Nan_rate\": 0.0}, {\"Nan_rate\": 0.0}, {\"Nan_rate\": 0.0}, {\"Nan_rate\": 0.0}, {\"Nan_rate\": 0.0}, {\"Nan_rate\": 0.0}, {\"Nan_rate\": 0.0}, {\"Nan_rate\": 0.0}, {\"Nan_rate\": 0.0}, {\"Nan_rate\": 0.0}, {\"Nan_rate\": 0.0}, {\"Nan_rate\": 0.0}, {\"Nan_rate\": 0.0}, {\"Nan_rate\": 0.0}, {\"Nan_rate\": 0.0}, {\"Nan_rate\": 0.0}, {\"Nan_rate\": 0.0}, {\"Nan_rate\": 0.0}, {\"Nan_rate\": 0.0}, {\"Nan_rate\": 0.0}, {\"Nan_rate\": 0.0}, {\"Nan_rate\": 0.0}, {\"Nan_rate\": 0.0}, {\"Nan_rate\": 0.0}, {\"Nan_rate\": 0.0}, {\"Nan_rate\": 0.0}, {\"Nan_rate\": 0.0}, {\"Nan_rate\": 0.0}, {\"Nan_rate\": 0.0}, {\"Nan_rate\": 0.0}, {\"Nan_rate\": 0.0}, {\"Nan_rate\": 0.0}, {\"Nan_rate\": 0.0}, {\"Nan_rate\": 0.0}, {\"Nan_rate\": 0.0}, {\"Nan_rate\": 0.0}, {\"Nan_rate\": 0.0}, {\"Nan_rate\": 0.0}, {\"Nan_rate\": 0.0}, {\"Nan_rate\": 0.0}, {\"Nan_rate\": 0.0}, {\"Nan_rate\": 0.0}, {\"Nan_rate\": 0.0}, {\"Nan_rate\": 0.0}, {\"Nan_rate\": 0.0}, {\"Nan_rate\": 0.0}, {\"Nan_rate\": 0.0}, {\"Nan_rate\": 0.0}, {\"Nan_rate\": 0.0}, {\"Nan_rate\": 0.0}, {\"Nan_rate\": 0.0}, {\"Nan_rate\": 0.0}, {\"Nan_rate\": 0.0}, {\"Nan_rate\": 0.0}, {\"Nan_rate\": 0.0}, {\"Nan_rate\": 0.0}, {\"Nan_rate\": 0.0}, {\"Nan_rate\": 0.0}, {\"Nan_rate\": 0.0}, {\"Nan_rate\": 0.0}, {\"Nan_rate\": 0.0}, {\"Nan_rate\": 0.0}, {\"Nan_rate\": 0.0}, {\"Nan_rate\": 0.0}, {\"Nan_rate\": 0.0}, {\"Nan_rate\": 0.0}, {\"Nan_rate\": 0.0}, {\"Nan_rate\": 0.0}, {\"Nan_rate\": 0.0}, {\"Nan_rate\": 0.0}, {\"Nan_rate\": 0.0}, {\"Nan_rate\": 0.0}, {\"Nan_rate\": 0.0}, {\"Nan_rate\": 0.0}, {\"Nan_rate\": 0.0}, {\"Nan_rate\": 0.0}, {\"Nan_rate\": 0.0}, {\"Nan_rate\": 0.0}, {\"Nan_rate\": 0.0}, {\"Nan_rate\": 0.0}, {\"Nan_rate\": 0.0}, {\"Nan_rate\": 0.0}, {\"Nan_rate\": 0.0}, {\"Nan_rate\": 0.0}, {\"Nan_rate\": 0.0}, {\"Nan_rate\": 0.0}, {\"Nan_rate\": 0.0}, {\"Nan_rate\": 0.0}, {\"Nan_rate\": 0.0}, {\"Nan_rate\": 0.0}, {\"Nan_rate\": 0.0}, {\"Nan_rate\": 0.0}, {\"Nan_rate\": 0.0}, {\"Nan_rate\": 0.0}, {\"Nan_rate\": 0.0}, {\"Nan_rate\": 0.0}, {\"Nan_rate\": 0.0}, {\"Nan_rate\": 0.0}, {\"Nan_rate\": 0.0}, {\"Nan_rate\": 0.05626496408619314}, {\"Nan_rate\": 0.0}, {\"Nan_rate\": 0.0}, {\"Nan_rate\": 0.0}, {\"Nan_rate\": 0.0}, {\"Nan_rate\": 0.0}, {\"Nan_rate\": 0.34916201117318435}, {\"Nan_rate\": 0.34916201117318435}, {\"Nan_rate\": 0.0}, {\"Nan_rate\": 0.0}, {\"Nan_rate\": 0.0}, {\"Nan_rate\": 0.0}, {\"Nan_rate\": 0.0}, {\"Nan_rate\": 0.0}, {\"Nan_rate\": 0.0}, {\"Nan_rate\": 0.0}, {\"Nan_rate\": 0.0}, {\"Nan_rate\": 0.0}, {\"Nan_rate\": 0.0}, {\"Nan_rate\": 0.0}, {\"Nan_rate\": 0.0}, {\"Nan_rate\": 0.0}, {\"Nan_rate\": 0.0}, {\"Nan_rate\": 0.0}, {\"Nan_rate\": 0.0}, {\"Nan_rate\": 0.0}, {\"Nan_rate\": 0.0}, {\"Nan_rate\": 0.0}, {\"Nan_rate\": 0.0}, {\"Nan_rate\": 0.0}, {\"Nan_rate\": 0.0}, {\"Nan_rate\": 0.0}, {\"Nan_rate\": 0.0}, {\"Nan_rate\": 0.0}, {\"Nan_rate\": 0.0}, {\"Nan_rate\": 0.0}, {\"Nan_rate\": 0.0}, {\"Nan_rate\": 0.0}, {\"Nan_rate\": 0.0}, {\"Nan_rate\": 0.0}, {\"Nan_rate\": 0.0}, {\"Nan_rate\": 0.0}, {\"Nan_rate\": 0.0}, {\"Nan_rate\": 0.0}, {\"Nan_rate\": 0.0}, {\"Nan_rate\": 0.0}, {\"Nan_rate\": 0.0}, {\"Nan_rate\": 0.07861133280127694}, {\"Nan_rate\": 0.07861133280127694}, {\"Nan_rate\": 0.07861133280127694}, {\"Nan_rate\": 0.07861133280127694}, {\"Nan_rate\": 0.07861133280127694}, {\"Nan_rate\": 0.07861133280127694}, {\"Nan_rate\": 0.07861133280127694}, {\"Nan_rate\": 0.07861133280127694}, {\"Nan_rate\": 0.09297685554668794}, {\"Nan_rate\": 0.8228252194732641}, {\"Nan_rate\": 0.09616919393455706}, {\"Nan_rate\": 0.09417398244213887}, {\"Nan_rate\": 0.09417398244213887}, {\"Nan_rate\": 0.09417398244213887}, {\"Nan_rate\": 0.09417398244213887}, {\"Nan_rate\": 0.09417398244213887}, {\"Nan_rate\": 0.09417398244213887}, {\"Nan_rate\": 0.09417398244213887}, {\"Nan_rate\": 0.09417398244213887}, {\"Nan_rate\": 0.09417398244213887}, {\"Nan_rate\": 0.09417398244213887}, {\"Nan_rate\": 1.0}, {\"Nan_rate\": 1.0}, {\"Nan_rate\": 1.0}, {\"Nan_rate\": 1.0}, {\"Nan_rate\": 0.09417398244213887}, {\"Nan_rate\": 0.09417398244213887}, {\"Nan_rate\": 1.0}, {\"Nan_rate\": 1.0}, {\"Nan_rate\": 0.09417398244213887}, {\"Nan_rate\": 0.09417398244213887}, {\"Nan_rate\": 0.09417398244213887}, {\"Nan_rate\": 0.09417398244213887}, {\"Nan_rate\": 0.10694333599361533}, {\"Nan_rate\": 0.5295291300877893}, {\"Nan_rate\": 0.9393455706304868}, {\"Nan_rate\": 0.9932162809257782}, {\"Nan_rate\": 0.9992019154030327}, {\"Nan_rate\": 0.09417398244213887}, {\"Nan_rate\": 0.09417398244213887}, {\"Nan_rate\": 0.09417398244213887}, {\"Nan_rate\": 0.09417398244213887}, {\"Nan_rate\": 0.10694333599361533}, {\"Nan_rate\": 0.5295291300877893}, {\"Nan_rate\": 0.9393455706304868}, {\"Nan_rate\": 0.9932162809257782}, {\"Nan_rate\": 0.9992019154030327}, {\"Nan_rate\": 0.09417398244213887}, {\"Nan_rate\": 0.09417398244213887}, {\"Nan_rate\": 0.09417398244213887}, {\"Nan_rate\": 0.09417398244213887}, {\"Nan_rate\": 0.09417398244213887}, {\"Nan_rate\": 0.09417398244213887}, {\"Nan_rate\": 0.09417398244213887}, {\"Nan_rate\": 0.09417398244213887}, {\"Nan_rate\": 0.09417398244213887}, {\"Nan_rate\": 0.09417398244213887}, {\"Nan_rate\": 1.0}, {\"Nan_rate\": 1.0}, {\"Nan_rate\": 1.0}, {\"Nan_rate\": 1.0}, {\"Nan_rate\": 0.09417398244213887}, {\"Nan_rate\": 0.09417398244213887}, {\"Nan_rate\": 1.0}, {\"Nan_rate\": 1.0}, {\"Nan_rate\": 0.09417398244213887}, {\"Nan_rate\": 0.09417398244213887}, {\"Nan_rate\": 0.09417398244213887}, {\"Nan_rate\": 0.09417398244213887}, {\"Nan_rate\": 0.10694333599361533}, {\"Nan_rate\": 0.4852354349561053}, {\"Nan_rate\": 0.9078212290502793}, {\"Nan_rate\": 0.9876296887470072}, {\"Nan_rate\": 0.9956105347166799}, {\"Nan_rate\": 0.09417398244213887}, {\"Nan_rate\": 0.09417398244213887}, {\"Nan_rate\": 0.09417398244213887}, {\"Nan_rate\": 0.09417398244213887}, {\"Nan_rate\": 0.10694333599361533}, {\"Nan_rate\": 0.4852354349561053}, {\"Nan_rate\": 0.9078212290502793}, {\"Nan_rate\": 0.9876296887470072}, {\"Nan_rate\": 0.9956105347166799}, {\"Nan_rate\": 0.09577015163607343}, {\"Nan_rate\": 0.09577015163607343}, {\"Nan_rate\": 0.09577015163607343}, {\"Nan_rate\": 0.09577015163607343}, {\"Nan_rate\": 0.09577015163607343}, {\"Nan_rate\": 0.09577015163607343}, {\"Nan_rate\": 0.09577015163607343}, {\"Nan_rate\": 0.09577015163607343}, {\"Nan_rate\": 0.09577015163607343}, {\"Nan_rate\": 0.09577015163607343}, {\"Nan_rate\": 1.0}, {\"Nan_rate\": 1.0}, {\"Nan_rate\": 1.0}, {\"Nan_rate\": 1.0}, {\"Nan_rate\": 0.09577015163607343}, {\"Nan_rate\": 0.09577015163607343}, {\"Nan_rate\": 1.0}, {\"Nan_rate\": 1.0}, {\"Nan_rate\": 0.09577015163607343}, {\"Nan_rate\": 0.09577015163607343}, {\"Nan_rate\": 0.09616919393455706}, {\"Nan_rate\": 0.09616919393455706}, {\"Nan_rate\": 0.11612130885873903}, {\"Nan_rate\": 0.6252992817238627}, {\"Nan_rate\": 0.9592976855546688}, {\"Nan_rate\": 0.9980047885075818}, {\"Nan_rate\": 0.09577015163607343}, {\"Nan_rate\": 0.09577015163607343}, {\"Nan_rate\": 0.09616919393455706}, {\"Nan_rate\": 0.09616919393455706}, {\"Nan_rate\": 0.11612130885873903}, {\"Nan_rate\": 0.6252992817238627}, {\"Nan_rate\": 0.9592976855546688}, {\"Nan_rate\": 0.9980047885075818}, {\"Nan_rate\": 0.0003990422984836393}, {\"Nan_rate\": 0.0003990422984836393}, {\"Nan_rate\": 0.0003990422984836393}, {\"Nan_rate\": 0.0003990422984836393}, {\"Nan_rate\": 0.0003990422984836393}, {\"Nan_rate\": 0.0003990422984836393}, {\"Nan_rate\": 0.0003990422984836393}, {\"Nan_rate\": 0.0003990422984836393}, {\"Nan_rate\": 0.0003990422984836393}, {\"Nan_rate\": 0.0003990422984836393}, {\"Nan_rate\": 0.0}, {\"Nan_rate\": 0.35514764565043894}, {\"Nan_rate\": 0.35514764565043894}, {\"Nan_rate\": 0.35514764565043894}, {\"Nan_rate\": 0.35514764565043894}, {\"Nan_rate\": 0.35514764565043894}, {\"Nan_rate\": 0.35514764565043894}, {\"Nan_rate\": 0.35514764565043894}, {\"Nan_rate\": 0.35514764565043894}, {\"Nan_rate\": 0.35514764565043894}, {\"Nan_rate\": 0.35514764565043894}, {\"Nan_rate\": 0.35514764565043894}, {\"Nan_rate\": 0.35514764565043894}, {\"Nan_rate\": 0.35514764565043894}, {\"Nan_rate\": 0.9704708699122107}, {\"Nan_rate\": 0.984437350359138}, {\"Nan_rate\": 0.9928172386272945}, {\"Nan_rate\": 0.994413407821229}, {\"Nan_rate\": 0.9952114924181963}, {\"Nan_rate\": 0.990023942537909}, {\"Nan_rate\": 0.961292897047087}, {\"Nan_rate\": 0.8834796488427773}, {\"Nan_rate\": 0.7873104549082203}, {\"Nan_rate\": 0.6895450917797287}, {\"Nan_rate\": 0.6145251396648045}, {\"Nan_rate\": 0.6033519553072626}, {\"Nan_rate\": 0.6153232242617718}, {\"Nan_rate\": 0.6025538707102953}, {\"Nan_rate\": 0.5869912210694334}, {\"Nan_rate\": 0.5702314445331205}, {\"Nan_rate\": 0.5682362330407024}, {\"Nan_rate\": 0.5770151636073424}, {\"Nan_rate\": 0.5702314445331205}, {\"Nan_rate\": 0.611731843575419}, {\"Nan_rate\": 0.7039106145251397}, {\"Nan_rate\": 0.8411811652035116}, {\"Nan_rate\": 0.9010375099760575}, {\"Nan_rate\": 0.951316839584996}, {\"Nan_rate\": 0.5522745411013568}, {\"Nan_rate\": 0.5426975259377494}, {\"Nan_rate\": 0.5506783719074222}, {\"Nan_rate\": 0.5426975259377494}, {\"Nan_rate\": 0.5430965682362331}, {\"Nan_rate\": 0.5211492418196328}, {\"Nan_rate\": 0.5199521149241819}, {\"Nan_rate\": 0.990023942537909}, {\"Nan_rate\": 0.6492418196328811}, {\"Nan_rate\": 0.43415802075019955}, {\"Nan_rate\": 0.7426177174780527}, {\"Nan_rate\": 0.9964086193136472}, {\"Nan_rate\": 0.62609736632083}, {\"Nan_rate\": 0.8036711891460495}, {\"Nan_rate\": 0.7043096568236233}, {\"Nan_rate\": 0.6739824421388667}, {\"Nan_rate\": 0.4034317637669593}, {\"Nan_rate\": 0.9952114924181963}, {\"Nan_rate\": 0.9936153232242618}, {\"Nan_rate\": 0.9956105347166799}, {\"Nan_rate\": 0.9980047885075818}, {\"Nan_rate\": 0.9968076616121309}, {\"Nan_rate\": 0.9940143655227454}, {\"Nan_rate\": 0.9952114924181963}, {\"Nan_rate\": 0.9976057462090981}, {\"Nan_rate\": 0.9972067039106145}, {\"Nan_rate\": 0.9948124501197126}, {\"Nan_rate\": 0.9976057462090981}, {\"Nan_rate\": 0.9936153232242618}, {\"Nan_rate\": 0.9964086193136472}, {\"Nan_rate\": 0.984437350359138}, {\"Nan_rate\": 0.9908220271348763}, {\"Nan_rate\": 0.9948124501197126}, {\"Nan_rate\": 0.9940143655227454}, {\"Nan_rate\": 0.9988028731045491}, {\"Nan_rate\": 0.4616919393455706}, {\"Nan_rate\": 0.7266560255387071}, {\"Nan_rate\": 0.9988028731045491}, {\"Nan_rate\": 0.9960095770151636}, {\"Nan_rate\": 0.994413407821229}, {\"Nan_rate\": 0.7186751795690344}, {\"Nan_rate\": 0.6376695929768555}, {\"Nan_rate\": 0.7881085395051876}, {\"Nan_rate\": 0.40582601755786113}, {\"Nan_rate\": 0.5830007980845969}, {\"Nan_rate\": 0.9988028731045491}, {\"Nan_rate\": 0.9964086193136472}, {\"Nan_rate\": 0.4461292897047087}, {\"Nan_rate\": 0.7893056664006385}, {\"Nan_rate\": 0.9992019154030327}, {\"Nan_rate\": 0.7314445331205107}, {\"Nan_rate\": 0.4644852354349561}, {\"Nan_rate\": 0.9976057462090981}, {\"Nan_rate\": 0.6492418196328811}, {\"Nan_rate\": 0.6536312849162011}, {\"Nan_rate\": 0.6021548284118117}, {\"Nan_rate\": 0.6041500399042299}, {\"Nan_rate\": 0.6508379888268156}, {\"Nan_rate\": 0.6436552274541102}, {\"Nan_rate\": 0.6049481245011972}, {\"Nan_rate\": 0.6512370311252993}, {\"Nan_rate\": 0.6572226656025538}, {\"Nan_rate\": 0.6420590582601756}, {\"Nan_rate\": 0.8312051077414206}, {\"Nan_rate\": 0.7110933758978452}, {\"Nan_rate\": 0.6065442936951316}, {\"Nan_rate\": 0.5403032721468476}, {\"Nan_rate\": 0.5115722266560255}, {\"Nan_rate\": 0.5706304868316041}, {\"Nan_rate\": 0.819632881085395}, {\"Nan_rate\": 0.8363926576217079}, {\"Nan_rate\": 0.578611332801277}, {\"Nan_rate\": 0.5111731843575419}, {\"Nan_rate\": 0.5287310454908221}, {\"Nan_rate\": 0.5566640063846767}, {\"Nan_rate\": 0.6743814844373504}, {\"Nan_rate\": 0.6249002394253791}, {\"Nan_rate\": 0.6955307262569832}, {\"Nan_rate\": 0.7118914604948124}, {\"Nan_rate\": 0.35514764565043894}, {\"Nan_rate\": 0.35514764565043894}, {\"Nan_rate\": 0.35514764565043894}, {\"Nan_rate\": 0.35514764565043894}, {\"Nan_rate\": 0.0007980845969672786}, {\"Nan_rate\": 0.0007980845969672786}, {\"Nan_rate\": 0.0007980845969672786}, {\"Nan_rate\": 0.0007980845969672786}, {\"Nan_rate\": 0.0007980845969672786}, {\"Nan_rate\": 0.0007980845969672786}, {\"Nan_rate\": 0.0913806863527534}, {\"Nan_rate\": 0.0007980845969672786}, {\"Nan_rate\": 0.008778930566640064}, {\"Nan_rate\": 0.014365522745411013}, {\"Nan_rate\": 0.01157222665602554}, {\"Nan_rate\": 0.0}, {\"Nan_rate\": 0.0}, {\"Nan_rate\": 0.40263367916999204}, {\"Nan_rate\": 1.995211492418196e-05}, {\"Nan_rate\": 1.995211492418196e-05}, {\"Nan_rate\": 1.995211492418196e-05}, {\"Nan_rate\": 1.995211492418196e-05}, {\"Nan_rate\": 1.995211492418196e-05}, {\"Nan_rate\": 1.995211492418196e-05}, {\"Nan_rate\": 1.995211492418196e-05}, {\"Nan_rate\": 1.995211492418196e-05}, {\"Nan_rate\": 1.995211492418196e-05}, {\"Nan_rate\": 1.995211492418196e-05}, {\"Nan_rate\": 1.995211492418196e-05}, {\"Nan_rate\": 1.995211492418196e-05}, {\"Nan_rate\": 1.995211492418196e-05}, {\"Nan_rate\": 1.995211492418196e-05}, {\"Nan_rate\": 1.995211492418196e-05}, {\"Nan_rate\": 1.995211492418196e-05}, {\"Nan_rate\": 1.995211492418196e-05}, {\"Nan_rate\": 1.995211492418196e-05}, {\"Nan_rate\": 1.995211492418196e-05}, {\"Nan_rate\": 1.995211492418196e-05}, {\"Nan_rate\": 1.995211492418196e-05}, {\"Nan_rate\": 1.995211492418196e-05}, {\"Nan_rate\": 1.995211492418196e-05}, {\"Nan_rate\": 1.995211492418196e-05}, {\"Nan_rate\": 1.995211492418196e-05}, {\"Nan_rate\": 1.995211492418196e-05}, {\"Nan_rate\": 1.995211492418196e-05}, {\"Nan_rate\": 1.995211492418196e-05}, {\"Nan_rate\": 1.995211492418196e-05}, {\"Nan_rate\": 1.995211492418196e-05}, {\"Nan_rate\": 1.995211492418196e-05}, {\"Nan_rate\": 1.995211492418196e-05}, {\"Nan_rate\": 1.995211492418196e-05}, {\"Nan_rate\": 1.995211492418196e-05}, {\"Nan_rate\": 1.995211492418196e-05}, {\"Nan_rate\": 1.995211492418196e-05}, {\"Nan_rate\": 1.995211492418196e-05}, {\"Nan_rate\": 1.995211492418196e-05}, {\"Nan_rate\": 1.995211492418196e-05}, {\"Nan_rate\": 1.995211492418196e-05}, {\"Nan_rate\": 1.995211492418196e-05}, {\"Nan_rate\": 1.995211492418196e-05}, {\"Nan_rate\": 1.995211492418196e-05}, {\"Nan_rate\": 1.995211492418196e-05}, {\"Nan_rate\": 1.995211492418196e-05}, {\"Nan_rate\": 1.995211492418196e-05}, {\"Nan_rate\": 1.995211492418196e-05}, {\"Nan_rate\": 1.995211492418196e-05}, {\"Nan_rate\": 0.07863128491620111}, {\"Nan_rate\": 0.012310454908220272}, {\"Nan_rate\": 0.0}, {\"Nan_rate\": 0.0}, {\"Nan_rate\": 0.0}, {\"Nan_rate\": 0.0}]}}, {\"mode\": \"vega-lite\"});\n",
       "</script>"
      ],
      "text/plain": [
       "alt.Chart(...)"
      ]
     },
     "execution_count": 17,
     "metadata": {},
     "output_type": "execute_result"
    }
   ],
   "source": [
    "# Plot histogram binned by 20%\n",
    "alt.Chart(nan_rate).mark_bar().encode(\n",
    "    alt.X(\"Nan_rate:Q\", bin=alt.Bin(maxbins=5),title=\"% NaN in column\"),\n",
    "    y=alt.Y('count()', title=\"Count\")).properties(\n",
    "    title='Number of columns by percentage of missing values'\n",
    ")"
   ]
  }
 ],
 "metadata": {
  "kernelspec": {
   "display_name": "Python 3",
   "language": "python",
   "name": "python3"
  },
  "language_info": {
   "codemirror_mode": {
    "name": "ipython",
    "version": 3
   },
   "file_extension": ".py",
   "mimetype": "text/x-python",
   "name": "python",
   "nbconvert_exporter": "python",
   "pygments_lexer": "ipython3",
   "version": "3.7.6"
  }
 },
 "nbformat": 4,
 "nbformat_minor": 4
}
